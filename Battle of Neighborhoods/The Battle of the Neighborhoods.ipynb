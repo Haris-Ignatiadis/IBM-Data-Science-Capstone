{
 "cells": [
  {
   "cell_type": "markdown",
   "metadata": {},
   "source": [
    "# The Battle of Neighborhood: Japan Hostels"
   ]
  },
  {
   "cell_type": "markdown",
   "metadata": {},
   "source": [
    "### Table of Content:  \n",
    "1. [Introduction/Business Understanding](#1.-Introduction/Business-Understanding)\n",
    "2. [Analytic Approach](#2.-Analytic-Approach)\n",
    "3. [Data Requirements](#3.-Data-Requirements)\n",
    "4. [Data Preparation/Pre-processing](#4.-Data-Preparation/Pre-processing)\n",
    "5. [Analysis](#5.-Analysis)\n",
    "6. [Conclusion](#6.-Conclusion)"
   ]
  },
  {
   "cell_type": "markdown",
   "metadata": {},
   "source": [
    "<img src=\"images/tokyo.jpg\" width=\"65%\"/>"
   ]
  },
  {
   "cell_type": "markdown",
   "metadata": {},
   "source": [
    "## 1. Introduction/Business Understanding"
   ]
  },
  {
   "cell_type": "markdown",
   "metadata": {},
   "source": [
    "#### 1.1 Background"
   ]
  },
  {
   "cell_type": "markdown",
   "metadata": {},
   "source": [
    "Working as a Lead Engineer is quite tiring especially before releases and higher management meetings. Thankfully, I've developed a hobby which let's me unwind and at the same time helps me build a global perspective. As someone who loves travelling, finding ways to save money and travel low-cost is essential. There's little to save while booking flights and I'd rather pay more to traveling comfortably on a 16Hr flight than try to save and wear myself down even before the trip begins! But we can always save a few bucks on accomodation.\n",
    "\n",
    "A hostel is a low-budget accommodation shared among travelers. Staying at hostels is an extremely affordable option for travelers. Not only that, It also gives you a chance to expereince which you would never at a hotel. I've found that experiencing hostel life one of the best ways to travel the world on a budget and here’s why:\n",
    "1. You'll save a lot of money trust me.\n",
    "2. Meet other like-minded travellers and make new friends around the world!\n",
    "3. Most hostels organize lot of social activites"
   ]
  },
  {
   "cell_type": "markdown",
   "metadata": {},
   "source": [
    "#### 1.2 Problem Description:"
   ]
  },
  {
   "cell_type": "markdown",
   "metadata": {},
   "source": [
    "Hostel accomodation is a booming industry with the latest rise in tourism worldwide, especially in Asia. Over 20% of the total tourists worldwide are aged between 19-25. And around 80% of them prefer to spend less on accomodation by opting for hostels. This means the demand for hostels is only going to grow further and more people would want to get their legs in the game. \n",
    "- How should a new business person decide where to build for a hostel?\n",
    "- What factors should he look at before investing?\n",
    "- Which neighborhood venues affect a user's rating for *location* of hostel?\n",
    "\n",
    "At the same time, it is difficult for a travellers, especially first-timers, to select a hostel from among many options. Hostel reviews are subjective and differ from person-to-person and one cannot solely depend on them to make a decision. It is especially important to consider other aspects like price and neighborhood, which can greatly influence one's experience of the city/country.\n",
    "I will try to answer the following questions \n",
    "- How does price vary with location?\n",
    "- Where are the <i>'value of money'</i> hostels located?\n",
    "- How does proximity to transportation affect hostel rating?\n",
    "- Which hostels are most secure and where are they located?\n",
    "- Suggest similar hostel but which cheaper price\n",
    "\n",
    "For this project, we will be looking at hostels in Japan"
   ]
  },
  {
   "cell_type": "markdown",
   "metadata": {},
   "source": [
    "#### 1.3 Target Audience"
   ]
  },
  {
   "cell_type": "markdown",
   "metadata": {},
   "source": [
    "<<*Change this section if models change*>>\n",
    "\n",
    "This project will serve two groups of audience:\n",
    "1. **Travellers:** Help them make an informed decision while choosing a hostel by providing an in-depth analysis of hostels and their neighborhood.\n",
    "2. **Business Person:** Provide useful information and models which can help them where to open their first/next hostel and how much should they charge."
   ]
  },
  {
   "cell_type": "markdown",
   "metadata": {},
   "source": [
    "## 2. Analytic Approach\n",
    "I will be taking two approaches in the project."
   ]
  },
  {
   "cell_type": "markdown",
   "metadata": {},
   "source": [
    "Firstly, I will use *exploratory data analysis(EDA)* to uncover hidden properties of data and provide useful insights to the reader, both future traveller and investor.\n",
    "\n",
    "Secondly, I will use *prescriptive analytics* to help a business person decide a location for new hostel and predict how much should be starting price at the hostel. I will use *clustering* (KMeans) and *regression (Decision Tree Regression)*\n",
    "\n",
    "<<*Change this section if models change*>>"
   ]
  },
  {
   "cell_type": "markdown",
   "metadata": {},
   "source": [
    "## 3. Data Requirements"
   ]
  },
  {
   "cell_type": "markdown",
   "metadata": {},
   "source": [
    "> Change if data sources change"
   ]
  },
  {
   "cell_type": "markdown",
   "metadata": {},
   "source": [
    "One city will be analysed in this project : **Tokyo**."
   ]
  },
  {
   "cell_type": "markdown",
   "metadata": {},
   "source": [
    "Following are the datasets used in the project along with the reasons for choosing them:\n",
    "\n",
    "**1. [Japan Hostel Dataset](https://www.kaggle.com/koki25ando/hostel-world-dataset)**: This dataset was web scraped from Hostelworld by Koki Ando and is available on Kaggle. This is the core dataset with which I'll work.\n",
    "\n",
    "**2. [Foursquare API](https://developer.foursquare.com/docs/api)**: This API will help me get the venues around the hostel which I will use for EDA and clustering.\n",
    "\n",
    "**3. [Tokyo Land Price](https://utinokati.com/en/details/land-market-value/area/Tokyo/)**: I will scrape this website to get land prices of various neighborhoods in Tokyo."
   ]
  },
  {
   "cell_type": "markdown",
   "metadata": {},
   "source": [
    "*__Note:__ Since there is a quota limit on Foursquare, I'll be downloading the data and storing it locally as csv for future use. So we do not have to pull same data again when we restart the data.*"
   ]
  },
  {
   "cell_type": "markdown",
   "metadata": {},
   "source": [
    "Firstly, I will use the list of hostels from *Hostel dataset* and use *Foursquare API* to get venues around the Hostel. I will then use EDA to explore the neighborhood and how it affects the price of the hostel. I will also use the combined dataset to cluster similar hostels as per pricing and neighborhood. \n",
    "\n",
    "Second, I will combine the above data with the land price for the area in which the Hostel is situated and them develop clustering and regression models to predict where a new hostel should be opened and how much should it be priced at."
   ]
  },
  {
   "cell_type": "markdown",
   "metadata": {},
   "source": [
    " ## 4. Data Preparation/Pre-processing"
   ]
  },
  {
   "cell_type": "markdown",
   "metadata": {},
   "source": [
    "Let's import all the dependencies before we begin. If we need more, we will add them at a later point. I'll first add whatever I can think of."
   ]
  },
  {
   "cell_type": "code",
   "execution_count": 661,
   "metadata": {},
   "outputs": [],
   "source": [
    "import pandas as pd\n",
    "import numpy as np\n",
    "import matplotlib.pyplot as plt\n",
    "import seaborn as sns\n",
    "import folium\n",
    "import requests\n",
    "import json\n",
    "from bs4 import BeautifulSoup\n",
    "import matplotlib.cm as cm\n",
    "import matplotlib.colors as colors\n",
    "from geopy import OpenCage\n",
    "from sklearn.cluster import KMeans\n",
    "\n",
    "%matplotlib inline"
   ]
  },
  {
   "cell_type": "markdown",
   "metadata": {},
   "source": [
    "#### 4.1. Hostel Dataset:"
   ]
  },
  {
   "cell_type": "markdown",
   "metadata": {},
   "source": [
    "Let's first deal with hostels datsaet. I will read the first dataset into a dataframe. For ease of access, I've already downloaded the dataset as csv from Kaggle. You can access the same [here](https://www.kaggle.com/koki25ando/hostel-world-dataset)."
   ]
  },
  {
   "cell_type": "code",
   "execution_count": 7,
   "metadata": {},
   "outputs": [
    {
     "data": {
      "text/html": [
       "<div>\n",
       "<style scoped>\n",
       "    .dataframe tbody tr th:only-of-type {\n",
       "        vertical-align: middle;\n",
       "    }\n",
       "\n",
       "    .dataframe tbody tr th {\n",
       "        vertical-align: top;\n",
       "    }\n",
       "\n",
       "    .dataframe thead th {\n",
       "        text-align: right;\n",
       "    }\n",
       "</style>\n",
       "<table border=\"1\" class=\"dataframe\">\n",
       "  <thead>\n",
       "    <tr style=\"text-align: right;\">\n",
       "      <th></th>\n",
       "      <th>Unnamed: 0</th>\n",
       "      <th>hostel.name</th>\n",
       "      <th>City</th>\n",
       "      <th>price.from</th>\n",
       "      <th>Distance</th>\n",
       "      <th>summary.score</th>\n",
       "      <th>rating.band</th>\n",
       "      <th>atmosphere</th>\n",
       "      <th>cleanliness</th>\n",
       "      <th>facilities</th>\n",
       "      <th>location.y</th>\n",
       "      <th>security</th>\n",
       "      <th>staff</th>\n",
       "      <th>valueformoney</th>\n",
       "      <th>lon</th>\n",
       "      <th>lat</th>\n",
       "    </tr>\n",
       "  </thead>\n",
       "  <tbody>\n",
       "    <tr>\n",
       "      <th>0</th>\n",
       "      <td>1</td>\n",
       "      <td>\"Bike &amp; Bed\" CharinCo Hostel</td>\n",
       "      <td>Osaka</td>\n",
       "      <td>3300</td>\n",
       "      <td>2.9km from city centre</td>\n",
       "      <td>9.2</td>\n",
       "      <td>Superb</td>\n",
       "      <td>8.9</td>\n",
       "      <td>9.4</td>\n",
       "      <td>9.3</td>\n",
       "      <td>8.9</td>\n",
       "      <td>9.0</td>\n",
       "      <td>9.4</td>\n",
       "      <td>9.4</td>\n",
       "      <td>135.513767</td>\n",
       "      <td>34.682678</td>\n",
       "    </tr>\n",
       "    <tr>\n",
       "      <th>1</th>\n",
       "      <td>2</td>\n",
       "      <td>&amp; And Hostel</td>\n",
       "      <td>Fukuoka-City</td>\n",
       "      <td>2600</td>\n",
       "      <td>0.7km from city centre</td>\n",
       "      <td>9.5</td>\n",
       "      <td>Superb</td>\n",
       "      <td>9.4</td>\n",
       "      <td>9.7</td>\n",
       "      <td>9.5</td>\n",
       "      <td>9.7</td>\n",
       "      <td>9.2</td>\n",
       "      <td>9.7</td>\n",
       "      <td>9.5</td>\n",
       "      <td>NaN</td>\n",
       "      <td>NaN</td>\n",
       "    </tr>\n",
       "    <tr>\n",
       "      <th>2</th>\n",
       "      <td>3</td>\n",
       "      <td>&amp;And Hostel Akihabara</td>\n",
       "      <td>Tokyo</td>\n",
       "      <td>3600</td>\n",
       "      <td>7.8km from city centre</td>\n",
       "      <td>8.7</td>\n",
       "      <td>Fabulous</td>\n",
       "      <td>8.0</td>\n",
       "      <td>7.0</td>\n",
       "      <td>9.0</td>\n",
       "      <td>8.0</td>\n",
       "      <td>10.0</td>\n",
       "      <td>10.0</td>\n",
       "      <td>9.0</td>\n",
       "      <td>139.777472</td>\n",
       "      <td>35.697447</td>\n",
       "    </tr>\n",
       "    <tr>\n",
       "      <th>3</th>\n",
       "      <td>4</td>\n",
       "      <td>&amp;And Hostel Ueno</td>\n",
       "      <td>Tokyo</td>\n",
       "      <td>2600</td>\n",
       "      <td>8.7km from city centre</td>\n",
       "      <td>7.4</td>\n",
       "      <td>Very Good</td>\n",
       "      <td>8.0</td>\n",
       "      <td>7.5</td>\n",
       "      <td>7.5</td>\n",
       "      <td>7.5</td>\n",
       "      <td>7.0</td>\n",
       "      <td>8.0</td>\n",
       "      <td>6.5</td>\n",
       "      <td>139.783667</td>\n",
       "      <td>35.712716</td>\n",
       "    </tr>\n",
       "    <tr>\n",
       "      <th>4</th>\n",
       "      <td>5</td>\n",
       "      <td>&amp;And Hostel-Asakusa North-</td>\n",
       "      <td>Tokyo</td>\n",
       "      <td>1500</td>\n",
       "      <td>10.5km from city centre</td>\n",
       "      <td>9.4</td>\n",
       "      <td>Superb</td>\n",
       "      <td>9.5</td>\n",
       "      <td>9.5</td>\n",
       "      <td>9.0</td>\n",
       "      <td>9.0</td>\n",
       "      <td>9.5</td>\n",
       "      <td>10.0</td>\n",
       "      <td>9.5</td>\n",
       "      <td>139.798371</td>\n",
       "      <td>35.727898</td>\n",
       "    </tr>\n",
       "  </tbody>\n",
       "</table>\n",
       "</div>"
      ],
      "text/plain": [
       "   Unnamed: 0                   hostel.name          City  price.from  \\\n",
       "0           1  \"Bike & Bed\" CharinCo Hostel         Osaka        3300   \n",
       "1           2                  & And Hostel  Fukuoka-City        2600   \n",
       "2           3         &And Hostel Akihabara         Tokyo        3600   \n",
       "3           4              &And Hostel Ueno         Tokyo        2600   \n",
       "4           5    &And Hostel-Asakusa North-         Tokyo        1500   \n",
       "\n",
       "                  Distance  summary.score rating.band  atmosphere  \\\n",
       "0   2.9km from city centre            9.2      Superb         8.9   \n",
       "1   0.7km from city centre            9.5      Superb         9.4   \n",
       "2   7.8km from city centre            8.7    Fabulous         8.0   \n",
       "3   8.7km from city centre            7.4   Very Good         8.0   \n",
       "4  10.5km from city centre            9.4      Superb         9.5   \n",
       "\n",
       "   cleanliness  facilities  location.y  security  staff  valueformoney  \\\n",
       "0          9.4         9.3         8.9       9.0    9.4            9.4   \n",
       "1          9.7         9.5         9.7       9.2    9.7            9.5   \n",
       "2          7.0         9.0         8.0      10.0   10.0            9.0   \n",
       "3          7.5         7.5         7.5       7.0    8.0            6.5   \n",
       "4          9.5         9.0         9.0       9.5   10.0            9.5   \n",
       "\n",
       "          lon        lat  \n",
       "0  135.513767  34.682678  \n",
       "1         NaN        NaN  \n",
       "2  139.777472  35.697447  \n",
       "3  139.783667  35.712716  \n",
       "4  139.798371  35.727898  "
      ]
     },
     "execution_count": 7,
     "metadata": {},
     "output_type": "execute_result"
    }
   ],
   "source": [
    "hostel_df = pd.read_csv('data/Hostel.csv')\n",
    "hostel_df.head()"
   ]
  },
  {
   "cell_type": "markdown",
   "metadata": {},
   "source": [
    "We will drop the 1st column and rename other columns to make them more readable."
   ]
  },
  {
   "cell_type": "code",
   "execution_count": 8,
   "metadata": {},
   "outputs": [],
   "source": [
    "columns = ['Name', 'City', 'StartPrice', 'DistanceFromCityCentre', 'OverallScore', \n",
    "           'RatingCategory', 'Atmosphere', 'Cleanliness', 'Facilities', 'Location', \n",
    "           'Security', 'Staff', 'ValueForMoney', 'Longitude', 'Latitude']"
   ]
  },
  {
   "cell_type": "code",
   "execution_count": 9,
   "metadata": {},
   "outputs": [
    {
     "data": {
      "text/html": [
       "<div>\n",
       "<style scoped>\n",
       "    .dataframe tbody tr th:only-of-type {\n",
       "        vertical-align: middle;\n",
       "    }\n",
       "\n",
       "    .dataframe tbody tr th {\n",
       "        vertical-align: top;\n",
       "    }\n",
       "\n",
       "    .dataframe thead th {\n",
       "        text-align: right;\n",
       "    }\n",
       "</style>\n",
       "<table border=\"1\" class=\"dataframe\">\n",
       "  <thead>\n",
       "    <tr style=\"text-align: right;\">\n",
       "      <th></th>\n",
       "      <th>Name</th>\n",
       "      <th>City</th>\n",
       "      <th>StartPrice</th>\n",
       "      <th>DistanceFromCityCentre</th>\n",
       "      <th>OverallScore</th>\n",
       "      <th>RatingCategory</th>\n",
       "      <th>Atmosphere</th>\n",
       "      <th>Cleanliness</th>\n",
       "      <th>Facilities</th>\n",
       "      <th>Location</th>\n",
       "      <th>Security</th>\n",
       "      <th>Staff</th>\n",
       "      <th>ValueForMoney</th>\n",
       "      <th>Longitude</th>\n",
       "      <th>Latitude</th>\n",
       "    </tr>\n",
       "  </thead>\n",
       "  <tbody>\n",
       "    <tr>\n",
       "      <th>0</th>\n",
       "      <td>\"Bike &amp; Bed\" CharinCo Hostel</td>\n",
       "      <td>Osaka</td>\n",
       "      <td>3300</td>\n",
       "      <td>2.9km from city centre</td>\n",
       "      <td>9.2</td>\n",
       "      <td>Superb</td>\n",
       "      <td>8.9</td>\n",
       "      <td>9.4</td>\n",
       "      <td>9.3</td>\n",
       "      <td>8.9</td>\n",
       "      <td>9.0</td>\n",
       "      <td>9.4</td>\n",
       "      <td>9.4</td>\n",
       "      <td>135.513767</td>\n",
       "      <td>34.682678</td>\n",
       "    </tr>\n",
       "    <tr>\n",
       "      <th>1</th>\n",
       "      <td>&amp; And Hostel</td>\n",
       "      <td>Fukuoka-City</td>\n",
       "      <td>2600</td>\n",
       "      <td>0.7km from city centre</td>\n",
       "      <td>9.5</td>\n",
       "      <td>Superb</td>\n",
       "      <td>9.4</td>\n",
       "      <td>9.7</td>\n",
       "      <td>9.5</td>\n",
       "      <td>9.7</td>\n",
       "      <td>9.2</td>\n",
       "      <td>9.7</td>\n",
       "      <td>9.5</td>\n",
       "      <td>NaN</td>\n",
       "      <td>NaN</td>\n",
       "    </tr>\n",
       "    <tr>\n",
       "      <th>2</th>\n",
       "      <td>&amp;And Hostel Akihabara</td>\n",
       "      <td>Tokyo</td>\n",
       "      <td>3600</td>\n",
       "      <td>7.8km from city centre</td>\n",
       "      <td>8.7</td>\n",
       "      <td>Fabulous</td>\n",
       "      <td>8.0</td>\n",
       "      <td>7.0</td>\n",
       "      <td>9.0</td>\n",
       "      <td>8.0</td>\n",
       "      <td>10.0</td>\n",
       "      <td>10.0</td>\n",
       "      <td>9.0</td>\n",
       "      <td>139.777472</td>\n",
       "      <td>35.697447</td>\n",
       "    </tr>\n",
       "    <tr>\n",
       "      <th>3</th>\n",
       "      <td>&amp;And Hostel Ueno</td>\n",
       "      <td>Tokyo</td>\n",
       "      <td>2600</td>\n",
       "      <td>8.7km from city centre</td>\n",
       "      <td>7.4</td>\n",
       "      <td>Very Good</td>\n",
       "      <td>8.0</td>\n",
       "      <td>7.5</td>\n",
       "      <td>7.5</td>\n",
       "      <td>7.5</td>\n",
       "      <td>7.0</td>\n",
       "      <td>8.0</td>\n",
       "      <td>6.5</td>\n",
       "      <td>139.783667</td>\n",
       "      <td>35.712716</td>\n",
       "    </tr>\n",
       "    <tr>\n",
       "      <th>4</th>\n",
       "      <td>&amp;And Hostel-Asakusa North-</td>\n",
       "      <td>Tokyo</td>\n",
       "      <td>1500</td>\n",
       "      <td>10.5km from city centre</td>\n",
       "      <td>9.4</td>\n",
       "      <td>Superb</td>\n",
       "      <td>9.5</td>\n",
       "      <td>9.5</td>\n",
       "      <td>9.0</td>\n",
       "      <td>9.0</td>\n",
       "      <td>9.5</td>\n",
       "      <td>10.0</td>\n",
       "      <td>9.5</td>\n",
       "      <td>139.798371</td>\n",
       "      <td>35.727898</td>\n",
       "    </tr>\n",
       "  </tbody>\n",
       "</table>\n",
       "</div>"
      ],
      "text/plain": [
       "                           Name          City  StartPrice  \\\n",
       "0  \"Bike & Bed\" CharinCo Hostel         Osaka        3300   \n",
       "1                  & And Hostel  Fukuoka-City        2600   \n",
       "2         &And Hostel Akihabara         Tokyo        3600   \n",
       "3              &And Hostel Ueno         Tokyo        2600   \n",
       "4    &And Hostel-Asakusa North-         Tokyo        1500   \n",
       "\n",
       "    DistanceFromCityCentre  OverallScore RatingCategory  Atmosphere  \\\n",
       "0   2.9km from city centre           9.2         Superb         8.9   \n",
       "1   0.7km from city centre           9.5         Superb         9.4   \n",
       "2   7.8km from city centre           8.7       Fabulous         8.0   \n",
       "3   8.7km from city centre           7.4      Very Good         8.0   \n",
       "4  10.5km from city centre           9.4         Superb         9.5   \n",
       "\n",
       "   Cleanliness  Facilities  Location  Security  Staff  ValueForMoney  \\\n",
       "0          9.4         9.3       8.9       9.0    9.4            9.4   \n",
       "1          9.7         9.5       9.7       9.2    9.7            9.5   \n",
       "2          7.0         9.0       8.0      10.0   10.0            9.0   \n",
       "3          7.5         7.5       7.5       7.0    8.0            6.5   \n",
       "4          9.5         9.0       9.0       9.5   10.0            9.5   \n",
       "\n",
       "    Longitude   Latitude  \n",
       "0  135.513767  34.682678  \n",
       "1         NaN        NaN  \n",
       "2  139.777472  35.697447  \n",
       "3  139.783667  35.712716  \n",
       "4  139.798371  35.727898  "
      ]
     },
     "execution_count": 9,
     "metadata": {},
     "output_type": "execute_result"
    }
   ],
   "source": [
    "hostel_df.drop(['Unnamed: 0'], axis=1, inplace=True)\n",
    "hostel_df.columns = columns\n",
    "hostel_df.head()"
   ]
  },
  {
   "cell_type": "code",
   "execution_count": 10,
   "metadata": {},
   "outputs": [
    {
     "name": "stdout",
     "output_type": "stream",
     "text": [
      "Number of Hostels:  342\n"
     ]
    }
   ],
   "source": [
    "print(\"Number of Hostels: \", hostel_df.shape[0])"
   ]
  },
  {
   "cell_type": "markdown",
   "metadata": {},
   "source": [
    "Let's check if any hostels are missing location data since that is essential for our analysis."
   ]
  },
  {
   "cell_type": "code",
   "execution_count": 18,
   "metadata": {},
   "outputs": [
    {
     "name": "stdout",
     "output_type": "stream",
     "text": [
      "Num of hostels with missing Longitude:  44\n"
     ]
    }
   ],
   "source": [
    "print(\"Num of hostels with missing Longitude: \", hostel_df.Longitude.isna().sum())"
   ]
  },
  {
   "cell_type": "code",
   "execution_count": 19,
   "metadata": {},
   "outputs": [
    {
     "name": "stdout",
     "output_type": "stream",
     "text": [
      "Num of hostels with missing Latitude:  44\n"
     ]
    }
   ],
   "source": [
    "print(\"Num of hostels with missing Latitude: \", hostel_df.Latitude.isna().sum())"
   ]
  },
  {
   "cell_type": "code",
   "execution_count": 21,
   "metadata": {},
   "outputs": [
    {
     "data": {
      "text/plain": [
       "(298, 15)"
      ]
     },
     "execution_count": 21,
     "metadata": {},
     "output_type": "execute_result"
    }
   ],
   "source": [
    "# Remove hostels with missing latitude and longitude \n",
    "hostel_df = hostel_df[hostel_df.Longitude.isna() == False]\n",
    "hostel_df = hostel_df[hostel_df.Latitude.isna() == False]\n",
    "hostel_df.shape"
   ]
  },
  {
   "cell_type": "markdown",
   "metadata": {},
   "source": [
    "If we see the DistanceFromCityCentre column, we see that it has distance as well as text, let's remove the unwanted text."
   ]
  },
  {
   "cell_type": "code",
   "execution_count": 30,
   "metadata": {},
   "outputs": [
    {
     "data": {
      "text/html": [
       "<div>\n",
       "<style scoped>\n",
       "    .dataframe tbody tr th:only-of-type {\n",
       "        vertical-align: middle;\n",
       "    }\n",
       "\n",
       "    .dataframe tbody tr th {\n",
       "        vertical-align: top;\n",
       "    }\n",
       "\n",
       "    .dataframe thead th {\n",
       "        text-align: right;\n",
       "    }\n",
       "</style>\n",
       "<table border=\"1\" class=\"dataframe\">\n",
       "  <thead>\n",
       "    <tr style=\"text-align: right;\">\n",
       "      <th></th>\n",
       "      <th>Name</th>\n",
       "      <th>City</th>\n",
       "      <th>StartPrice</th>\n",
       "      <th>DistanceFromCityCentre</th>\n",
       "      <th>OverallScore</th>\n",
       "      <th>RatingCategory</th>\n",
       "      <th>Atmosphere</th>\n",
       "      <th>Cleanliness</th>\n",
       "      <th>Facilities</th>\n",
       "      <th>Location</th>\n",
       "      <th>Security</th>\n",
       "      <th>Staff</th>\n",
       "      <th>ValueForMoney</th>\n",
       "      <th>Longitude</th>\n",
       "      <th>Latitude</th>\n",
       "    </tr>\n",
       "  </thead>\n",
       "  <tbody>\n",
       "    <tr>\n",
       "      <th>0</th>\n",
       "      <td>\"Bike &amp; Bed\" CharinCo Hostel</td>\n",
       "      <td>Osaka</td>\n",
       "      <td>3300</td>\n",
       "      <td>2.9</td>\n",
       "      <td>9.2</td>\n",
       "      <td>Superb</td>\n",
       "      <td>8.9</td>\n",
       "      <td>9.4</td>\n",
       "      <td>9.3</td>\n",
       "      <td>8.9</td>\n",
       "      <td>9.0</td>\n",
       "      <td>9.4</td>\n",
       "      <td>9.4</td>\n",
       "      <td>135.513767</td>\n",
       "      <td>34.682678</td>\n",
       "    </tr>\n",
       "    <tr>\n",
       "      <th>2</th>\n",
       "      <td>&amp;And Hostel Akihabara</td>\n",
       "      <td>Tokyo</td>\n",
       "      <td>3600</td>\n",
       "      <td>7.8</td>\n",
       "      <td>8.7</td>\n",
       "      <td>Fabulous</td>\n",
       "      <td>8.0</td>\n",
       "      <td>7.0</td>\n",
       "      <td>9.0</td>\n",
       "      <td>8.0</td>\n",
       "      <td>10.0</td>\n",
       "      <td>10.0</td>\n",
       "      <td>9.0</td>\n",
       "      <td>139.777472</td>\n",
       "      <td>35.697447</td>\n",
       "    </tr>\n",
       "    <tr>\n",
       "      <th>3</th>\n",
       "      <td>&amp;And Hostel Ueno</td>\n",
       "      <td>Tokyo</td>\n",
       "      <td>2600</td>\n",
       "      <td>8.7</td>\n",
       "      <td>7.4</td>\n",
       "      <td>Very Good</td>\n",
       "      <td>8.0</td>\n",
       "      <td>7.5</td>\n",
       "      <td>7.5</td>\n",
       "      <td>7.5</td>\n",
       "      <td>7.0</td>\n",
       "      <td>8.0</td>\n",
       "      <td>6.5</td>\n",
       "      <td>139.783667</td>\n",
       "      <td>35.712716</td>\n",
       "    </tr>\n",
       "    <tr>\n",
       "      <th>4</th>\n",
       "      <td>&amp;And Hostel-Asakusa North-</td>\n",
       "      <td>Tokyo</td>\n",
       "      <td>1500</td>\n",
       "      <td>10.5</td>\n",
       "      <td>9.4</td>\n",
       "      <td>Superb</td>\n",
       "      <td>9.5</td>\n",
       "      <td>9.5</td>\n",
       "      <td>9.0</td>\n",
       "      <td>9.0</td>\n",
       "      <td>9.5</td>\n",
       "      <td>10.0</td>\n",
       "      <td>9.5</td>\n",
       "      <td>139.798371</td>\n",
       "      <td>35.727898</td>\n",
       "    </tr>\n",
       "    <tr>\n",
       "      <th>5</th>\n",
       "      <td>1night1980hostel Tokyo</td>\n",
       "      <td>Tokyo</td>\n",
       "      <td>2100</td>\n",
       "      <td>9.4</td>\n",
       "      <td>7.0</td>\n",
       "      <td>Very Good</td>\n",
       "      <td>5.5</td>\n",
       "      <td>8.0</td>\n",
       "      <td>6.0</td>\n",
       "      <td>6.0</td>\n",
       "      <td>8.5</td>\n",
       "      <td>8.5</td>\n",
       "      <td>6.5</td>\n",
       "      <td>139.786950</td>\n",
       "      <td>35.724384</td>\n",
       "    </tr>\n",
       "  </tbody>\n",
       "</table>\n",
       "</div>"
      ],
      "text/plain": [
       "                           Name   City  StartPrice DistanceFromCityCentre  \\\n",
       "0  \"Bike & Bed\" CharinCo Hostel  Osaka        3300                    2.9   \n",
       "2         &And Hostel Akihabara  Tokyo        3600                    7.8   \n",
       "3              &And Hostel Ueno  Tokyo        2600                    8.7   \n",
       "4    &And Hostel-Asakusa North-  Tokyo        1500                   10.5   \n",
       "5        1night1980hostel Tokyo  Tokyo        2100                    9.4   \n",
       "\n",
       "   OverallScore RatingCategory  Atmosphere  Cleanliness  Facilities  Location  \\\n",
       "0           9.2         Superb         8.9          9.4         9.3       8.9   \n",
       "2           8.7       Fabulous         8.0          7.0         9.0       8.0   \n",
       "3           7.4      Very Good         8.0          7.5         7.5       7.5   \n",
       "4           9.4         Superb         9.5          9.5         9.0       9.0   \n",
       "5           7.0      Very Good         5.5          8.0         6.0       6.0   \n",
       "\n",
       "   Security  Staff  ValueForMoney   Longitude   Latitude  \n",
       "0       9.0    9.4            9.4  135.513767  34.682678  \n",
       "2      10.0   10.0            9.0  139.777472  35.697447  \n",
       "3       7.0    8.0            6.5  139.783667  35.712716  \n",
       "4       9.5   10.0            9.5  139.798371  35.727898  \n",
       "5       8.5    8.5            6.5  139.786950  35.724384  "
      ]
     },
     "execution_count": 30,
     "metadata": {},
     "output_type": "execute_result"
    }
   ],
   "source": [
    "hostel_df.DistanceFromCityCentre = hostel_df.DistanceFromCityCentre.replace(r'[^\\d\\.]+', '', regex=True)\n",
    "hostel_df.head()"
   ]
  },
  {
   "cell_type": "markdown",
   "metadata": {},
   "source": [
    "Let's do a final check if any more values are missing and what we want to do about them"
   ]
  },
  {
   "cell_type": "code",
   "execution_count": 31,
   "metadata": {},
   "outputs": [
    {
     "data": {
      "text/plain": [
       "Name                      298\n",
       "City                      298\n",
       "StartPrice                298\n",
       "DistanceFromCityCentre    298\n",
       "OverallScore              298\n",
       "RatingCategory            298\n",
       "Atmosphere                298\n",
       "Cleanliness               298\n",
       "Facilities                298\n",
       "Location                  298\n",
       "Security                  298\n",
       "Staff                     298\n",
       "ValueForMoney             298\n",
       "Longitude                 298\n",
       "Latitude                  298\n",
       "dtype: int64"
      ]
     },
     "execution_count": 31,
     "metadata": {},
     "output_type": "execute_result"
    }
   ],
   "source": [
    "hostel_df.count()"
   ]
  },
  {
   "cell_type": "markdown",
   "metadata": {},
   "source": [
    "<br>Noice! No more missing values.  \n",
    "Let's check the if the datatype of each column in proper"
   ]
  },
  {
   "cell_type": "code",
   "execution_count": 32,
   "metadata": {},
   "outputs": [
    {
     "data": {
      "text/plain": [
       "Name                       object\n",
       "City                       object\n",
       "StartPrice                  int64\n",
       "DistanceFromCityCentre     object\n",
       "OverallScore              float64\n",
       "RatingCategory             object\n",
       "Atmosphere                float64\n",
       "Cleanliness               float64\n",
       "Facilities                float64\n",
       "Location                  float64\n",
       "Security                  float64\n",
       "Staff                     float64\n",
       "ValueForMoney             float64\n",
       "Longitude                 float64\n",
       "Latitude                  float64\n",
       "dtype: object"
      ]
     },
     "execution_count": 32,
     "metadata": {},
     "output_type": "execute_result"
    }
   ],
   "source": [
    "hostel_df.dtypes"
   ]
  },
  {
   "cell_type": "code",
   "execution_count": 33,
   "metadata": {},
   "outputs": [
    {
     "data": {
      "text/plain": [
       "Name                       object\n",
       "City                       object\n",
       "StartPrice                  int64\n",
       "DistanceFromCityCentre    float64\n",
       "OverallScore              float64\n",
       "RatingCategory             object\n",
       "Atmosphere                float64\n",
       "Cleanliness               float64\n",
       "Facilities                float64\n",
       "Location                  float64\n",
       "Security                  float64\n",
       "Staff                     float64\n",
       "ValueForMoney             float64\n",
       "Longitude                 float64\n",
       "Latitude                  float64\n",
       "dtype: object"
      ]
     },
     "execution_count": 33,
     "metadata": {},
     "output_type": "execute_result"
    }
   ],
   "source": [
    "# Convert DistanceFromCityCentre to float64\n",
    "hostel_df.DistanceFromCityCentre = hostel_df.DistanceFromCityCentre.astype('float')\n",
    "hostel_df.dtypes"
   ]
  },
  {
   "cell_type": "code",
   "execution_count": 35,
   "metadata": {},
   "outputs": [
    {
     "data": {
      "text/html": [
       "<div>\n",
       "<style scoped>\n",
       "    .dataframe tbody tr th:only-of-type {\n",
       "        vertical-align: middle;\n",
       "    }\n",
       "\n",
       "    .dataframe tbody tr th {\n",
       "        vertical-align: top;\n",
       "    }\n",
       "\n",
       "    .dataframe thead th {\n",
       "        text-align: right;\n",
       "    }\n",
       "</style>\n",
       "<table border=\"1\" class=\"dataframe\">\n",
       "  <thead>\n",
       "    <tr style=\"text-align: right;\">\n",
       "      <th></th>\n",
       "      <th>Name</th>\n",
       "      <th>City</th>\n",
       "      <th>StartPrice</th>\n",
       "      <th>DistanceFromCityCentre</th>\n",
       "      <th>OverallScore</th>\n",
       "      <th>RatingCategory</th>\n",
       "      <th>Atmosphere</th>\n",
       "      <th>Cleanliness</th>\n",
       "      <th>Facilities</th>\n",
       "      <th>Location</th>\n",
       "      <th>Security</th>\n",
       "      <th>Staff</th>\n",
       "      <th>ValueForMoney</th>\n",
       "      <th>Longitude</th>\n",
       "      <th>Latitude</th>\n",
       "    </tr>\n",
       "  </thead>\n",
       "  <tbody>\n",
       "    <tr>\n",
       "      <th>0</th>\n",
       "      <td>\"Bike &amp; Bed\" CharinCo Hostel</td>\n",
       "      <td>Osaka</td>\n",
       "      <td>3300</td>\n",
       "      <td>2.9</td>\n",
       "      <td>9.2</td>\n",
       "      <td>Superb</td>\n",
       "      <td>8.9</td>\n",
       "      <td>9.4</td>\n",
       "      <td>9.3</td>\n",
       "      <td>8.9</td>\n",
       "      <td>9.0</td>\n",
       "      <td>9.4</td>\n",
       "      <td>9.4</td>\n",
       "      <td>135.513767</td>\n",
       "      <td>34.682678</td>\n",
       "    </tr>\n",
       "    <tr>\n",
       "      <th>2</th>\n",
       "      <td>&amp;And Hostel Akihabara</td>\n",
       "      <td>Tokyo</td>\n",
       "      <td>3600</td>\n",
       "      <td>7.8</td>\n",
       "      <td>8.7</td>\n",
       "      <td>Fabulous</td>\n",
       "      <td>8.0</td>\n",
       "      <td>7.0</td>\n",
       "      <td>9.0</td>\n",
       "      <td>8.0</td>\n",
       "      <td>10.0</td>\n",
       "      <td>10.0</td>\n",
       "      <td>9.0</td>\n",
       "      <td>139.777472</td>\n",
       "      <td>35.697447</td>\n",
       "    </tr>\n",
       "    <tr>\n",
       "      <th>3</th>\n",
       "      <td>&amp;And Hostel Ueno</td>\n",
       "      <td>Tokyo</td>\n",
       "      <td>2600</td>\n",
       "      <td>8.7</td>\n",
       "      <td>7.4</td>\n",
       "      <td>Very Good</td>\n",
       "      <td>8.0</td>\n",
       "      <td>7.5</td>\n",
       "      <td>7.5</td>\n",
       "      <td>7.5</td>\n",
       "      <td>7.0</td>\n",
       "      <td>8.0</td>\n",
       "      <td>6.5</td>\n",
       "      <td>139.783667</td>\n",
       "      <td>35.712716</td>\n",
       "    </tr>\n",
       "    <tr>\n",
       "      <th>4</th>\n",
       "      <td>&amp;And Hostel-Asakusa North-</td>\n",
       "      <td>Tokyo</td>\n",
       "      <td>1500</td>\n",
       "      <td>10.5</td>\n",
       "      <td>9.4</td>\n",
       "      <td>Superb</td>\n",
       "      <td>9.5</td>\n",
       "      <td>9.5</td>\n",
       "      <td>9.0</td>\n",
       "      <td>9.0</td>\n",
       "      <td>9.5</td>\n",
       "      <td>10.0</td>\n",
       "      <td>9.5</td>\n",
       "      <td>139.798371</td>\n",
       "      <td>35.727898</td>\n",
       "    </tr>\n",
       "    <tr>\n",
       "      <th>5</th>\n",
       "      <td>1night1980hostel Tokyo</td>\n",
       "      <td>Tokyo</td>\n",
       "      <td>2100</td>\n",
       "      <td>9.4</td>\n",
       "      <td>7.0</td>\n",
       "      <td>Very Good</td>\n",
       "      <td>5.5</td>\n",
       "      <td>8.0</td>\n",
       "      <td>6.0</td>\n",
       "      <td>6.0</td>\n",
       "      <td>8.5</td>\n",
       "      <td>8.5</td>\n",
       "      <td>6.5</td>\n",
       "      <td>139.786950</td>\n",
       "      <td>35.724384</td>\n",
       "    </tr>\n",
       "  </tbody>\n",
       "</table>\n",
       "</div>"
      ],
      "text/plain": [
       "                           Name   City  StartPrice  DistanceFromCityCentre  \\\n",
       "0  \"Bike & Bed\" CharinCo Hostel  Osaka        3300                     2.9   \n",
       "2         &And Hostel Akihabara  Tokyo        3600                     7.8   \n",
       "3              &And Hostel Ueno  Tokyo        2600                     8.7   \n",
       "4    &And Hostel-Asakusa North-  Tokyo        1500                    10.5   \n",
       "5        1night1980hostel Tokyo  Tokyo        2100                     9.4   \n",
       "\n",
       "   OverallScore RatingCategory  Atmosphere  Cleanliness  Facilities  Location  \\\n",
       "0           9.2         Superb         8.9          9.4         9.3       8.9   \n",
       "2           8.7       Fabulous         8.0          7.0         9.0       8.0   \n",
       "3           7.4      Very Good         8.0          7.5         7.5       7.5   \n",
       "4           9.4         Superb         9.5          9.5         9.0       9.0   \n",
       "5           7.0      Very Good         5.5          8.0         6.0       6.0   \n",
       "\n",
       "   Security  Staff  ValueForMoney   Longitude   Latitude  \n",
       "0       9.0    9.4            9.4  135.513767  34.682678  \n",
       "2      10.0   10.0            9.0  139.777472  35.697447  \n",
       "3       7.0    8.0            6.5  139.783667  35.712716  \n",
       "4       9.5   10.0            9.5  139.798371  35.727898  \n",
       "5       8.5    8.5            6.5  139.786950  35.724384  "
      ]
     },
     "execution_count": 35,
     "metadata": {},
     "output_type": "execute_result"
    }
   ],
   "source": [
    "hostel_df.head()"
   ]
  },
  {
   "cell_type": "markdown",
   "metadata": {},
   "source": [
    "Let's create a new dataframe for tokyo hostels."
   ]
  },
  {
   "cell_type": "code",
   "execution_count": 702,
   "metadata": {},
   "outputs": [],
   "source": [
    "tokyo_hostels_df = hostel_df[hostel_df.City == \"Tokyo\"]"
   ]
  },
  {
   "cell_type": "markdown",
   "metadata": {},
   "source": [
    "<br>Everything looks good here. Let's move on to fetch neighborhood data using Foursquare API."
   ]
  },
  {
   "cell_type": "markdown",
   "metadata": {},
   "source": [
    "#### 4.2 Neighborhood Data(Foursquare):"
   ]
  },
  {
   "cell_type": "code",
   "execution_count": 98,
   "metadata": {},
   "outputs": [],
   "source": [
    "search_url = 'https://api.foursquare.com/v2/venues/search'\n",
    "explore_url = 'https://api.foursquare.com/v2/venues/explore'"
   ]
  },
  {
   "cell_type": "markdown",
   "metadata": {},
   "source": [
    "I've stored my foursqaure credentials in a file which I am reading below"
   ]
  },
  {
   "cell_type": "code",
   "execution_count": 99,
   "metadata": {},
   "outputs": [],
   "source": [
    "with open(\"data/creds.json\", 'r') as f:\n",
    "    creds = json.load(f)\n",
    "CLIENT_ID = creds['id'] # your Foursquare ID\n",
    "CLIENT_SECRET = creds['secret'] # your Foursquare Secret\n",
    "VERSION = '20180605' # Foursquare API version"
   ]
  },
  {
   "cell_type": "code",
   "execution_count": 100,
   "metadata": {},
   "outputs": [
    {
     "data": {
      "text/plain": [
       "'\"Bike & Bed\" CharinCo Hostel'"
      ]
     },
     "execution_count": 100,
     "metadata": {},
     "output_type": "execute_result"
    }
   ],
   "source": [
    "sample_hotel = hostel_df.loc[0]\n",
    "sample_hotel.Name"
   ]
  },
  {
   "cell_type": "code",
   "execution_count": 66,
   "metadata": {},
   "outputs": [],
   "source": [
    "params = dict(\n",
    "  client_id=CLIENT_ID,\n",
    "  client_secret=CLIENT_SECRET,\n",
    "  v=VERSION,\n",
    "  ll=f\"{sample_hotel.Latitude}, {sample_hotel.Longitude}\",\n",
    "  radius=500,\n",
    "  limit=100,\n",
    "  sortByPopularity=1\n",
    ")"
   ]
  },
  {
   "cell_type": "code",
   "execution_count": 108,
   "metadata": {},
   "outputs": [],
   "source": [
    "def get_recommended_venues(name, lattitude, longitude, limit=100, radius=500):\n",
    "    venues = []\n",
    "    params = dict(\n",
    "        client_id=CLIENT_ID,\n",
    "        client_secret=CLIENT_SECRET,\n",
    "        v=VERSION,\n",
    "        ll=f\"{lattitude}, {longitude}\",\n",
    "        radius=radius,\n",
    "        limit=limit,\n",
    "        sortByPopularity=1\n",
    "    )\n",
    "    data = requests.get(explore_url, params=params).json()['response']['groups'][0]['items']\n",
    "    for v in data:\n",
    "        v = v['venue']\n",
    "        primary_cat = \"\"\n",
    "        for c in v['categories']:\n",
    "            if(c['primary']):\n",
    "                primary_cat=c['name']\n",
    "        venues.append({\n",
    "            'HostelName':name, \n",
    "            'VenueName': v['name'], \n",
    "            'Category': primary_cat, \n",
    "            'VenueLatitue': v['location']['lat'], \n",
    "            'VenueLongtitude': v['location']['lng']\n",
    "        })\n",
    "    return venues"
   ]
  },
  {
   "cell_type": "code",
   "execution_count": 114,
   "metadata": {},
   "outputs": [],
   "source": [
    "venue_list = []"
   ]
  },
  {
   "cell_type": "code",
   "execution_count": 115,
   "metadata": {
    "collapsed": true,
    "jupyter": {
     "outputs_hidden": true
    }
   },
   "outputs": [
    {
     "name": "stdout",
     "output_type": "stream",
     "text": [
      "70\n",
      "170\n",
      "252\n",
      "288\n",
      "319\n",
      "382\n",
      "456\n",
      "488\n",
      "528\n",
      "628\n",
      "701\n",
      "758\n",
      "844\n",
      "868\n",
      "902\n",
      "962\n",
      "1062\n",
      "1162\n",
      "1262\n",
      "1358\n",
      "1458\n",
      "1531\n",
      "1584\n",
      "1664\n",
      "1761\n",
      "1795\n",
      "1843\n",
      "1912\n",
      "1926\n",
      "1978\n",
      "2000\n",
      "2100\n",
      "2200\n",
      "2300\n",
      "2400\n",
      "2500\n",
      "2600\n",
      "2700\n",
      "2743\n",
      "2843\n",
      "2943\n",
      "3043\n",
      "3143\n",
      "3167\n",
      "3267\n",
      "3367\n",
      "3467\n",
      "3521\n",
      "3566\n",
      "3666\n",
      "3733\n",
      "3816\n",
      "3860\n",
      "3904\n",
      "4004\n",
      "4034\n",
      "4066\n",
      "4166\n",
      "4190\n",
      "4290\n",
      "4364\n",
      "4442\n",
      "4507\n",
      "4551\n",
      "4623\n",
      "4654\n",
      "4754\n",
      "4830\n",
      "4906\n",
      "5006\n",
      "5032\n",
      "5056\n",
      "5156\n",
      "5207\n",
      "5254\n",
      "5301\n",
      "5381\n",
      "5439\n",
      "5539\n",
      "5573\n",
      "5589\n",
      "5614\n",
      "5638\n",
      "5672\n",
      "5727\n",
      "5764\n",
      "5800\n",
      "5900\n",
      "5930\n",
      "5939\n",
      "5983\n",
      "6083\n",
      "6131\n",
      "6158\n",
      "6200\n",
      "6221\n",
      "6272\n",
      "6318\n",
      "6342\n",
      "6442\n",
      "6465\n",
      "6499\n",
      "6553\n",
      "6653\n",
      "6753\n",
      "6819\n",
      "6877\n",
      "6923\n",
      "6965\n",
      "7037\n",
      "7092\n",
      "7125\n",
      "7173\n",
      "7212\n",
      "7278\n",
      "7378\n",
      "7454\n",
      "7554\n",
      "7622\n",
      "7722\n",
      "7764\n",
      "7809\n",
      "7861\n",
      "7861\n",
      "7883\n",
      "7926\n",
      "7994\n",
      "8017\n",
      "8073\n",
      "8103\n",
      "8130\n",
      "8183\n",
      "8229\n",
      "8329\n",
      "8429\n",
      "8491\n",
      "8536\n",
      "8557\n",
      "8657\n",
      "8725\n",
      "8805\n",
      "8905\n",
      "8960\n",
      "9058\n",
      "9119\n",
      "9215\n",
      "9261\n",
      "9361\n",
      "9457\n",
      "9518\n",
      "9556\n",
      "9611\n",
      "9640\n",
      "9740\n",
      "9798\n",
      "9898\n",
      "9998\n",
      "10089\n",
      "10143\n",
      "10183\n",
      "10236\n",
      "10323\n",
      "10344\n",
      "10351\n",
      "10451\n",
      "10534\n",
      "10565\n",
      "10665\n",
      "10710\n",
      "10762\n",
      "10850\n",
      "10950\n",
      "11050\n",
      "11150\n",
      "11246\n",
      "11346\n",
      "11446\n",
      "11546\n",
      "11622\n",
      "11693\n",
      "11737\n",
      "11824\n",
      "11851\n",
      "11903\n",
      "11998\n",
      "12047\n",
      "12094\n",
      "12103\n",
      "12108\n",
      "12185\n",
      "12231\n",
      "12331\n",
      "12359\n",
      "12394\n",
      "12426\n",
      "12433\n",
      "12507\n",
      "12602\n",
      "12631\n",
      "12731\n",
      "12742\n",
      "12803\n",
      "12832\n",
      "12896\n",
      "12941\n",
      "13005\n",
      "13056\n",
      "13142\n",
      "13242\n",
      "13274\n",
      "13321\n",
      "13325\n",
      "13425\n",
      "13525\n",
      "13553\n",
      "13613\n",
      "13662\n",
      "13709\n",
      "13766\n",
      "13835\n",
      "13935\n",
      "13995\n",
      "13999\n",
      "14057\n",
      "14079\n",
      "14147\n",
      "14244\n",
      "14288\n",
      "14351\n",
      "14418\n",
      "14466\n",
      "14552\n",
      "14652\n",
      "14752\n",
      "14834\n",
      "14934\n",
      "15034\n",
      "15086\n",
      "15186\n",
      "15208\n",
      "15222\n",
      "15322\n",
      "15422\n",
      "15475\n",
      "15527\n"
     ]
    },
    {
     "ename": "KeyError",
     "evalue": "'groups'",
     "output_type": "error",
     "traceback": [
      "\u001b[0;31m---------------------------------------------------------------------------\u001b[0m",
      "\u001b[0;31mKeyError\u001b[0m                                  Traceback (most recent call last)",
      "\u001b[0;32m<ipython-input-115-5b35155e3d8b>\u001b[0m in \u001b[0;36m<module>\u001b[0;34m\u001b[0m\n\u001b[1;32m      1\u001b[0m \u001b[0;32mfor\u001b[0m \u001b[0mname\u001b[0m\u001b[0;34m,\u001b[0m \u001b[0mlat\u001b[0m\u001b[0;34m,\u001b[0m \u001b[0mlong\u001b[0m \u001b[0;32min\u001b[0m \u001b[0mzip\u001b[0m\u001b[0;34m(\u001b[0m\u001b[0mhostel_df\u001b[0m\u001b[0;34m.\u001b[0m\u001b[0mName\u001b[0m\u001b[0;34m,\u001b[0m \u001b[0mhostel_df\u001b[0m\u001b[0;34m.\u001b[0m\u001b[0mLatitude\u001b[0m\u001b[0;34m,\u001b[0m \u001b[0mhostel_df\u001b[0m\u001b[0;34m.\u001b[0m\u001b[0mLongitude\u001b[0m\u001b[0;34m)\u001b[0m\u001b[0;34m:\u001b[0m\u001b[0;34m\u001b[0m\u001b[0;34m\u001b[0m\u001b[0m\n\u001b[0;32m----> 2\u001b[0;31m     \u001b[0mvenue_list\u001b[0m\u001b[0;34m.\u001b[0m\u001b[0mextend\u001b[0m\u001b[0;34m(\u001b[0m\u001b[0mget_recommended_venues\u001b[0m\u001b[0;34m(\u001b[0m\u001b[0mname\u001b[0m\u001b[0;34m,\u001b[0m \u001b[0mlat\u001b[0m\u001b[0;34m,\u001b[0m \u001b[0mlong\u001b[0m\u001b[0;34m)\u001b[0m\u001b[0;34m)\u001b[0m\u001b[0;34m\u001b[0m\u001b[0;34m\u001b[0m\u001b[0m\n\u001b[0m\u001b[1;32m      3\u001b[0m     \u001b[0mi\u001b[0m \u001b[0;34m=\u001b[0m \u001b[0mlen\u001b[0m\u001b[0;34m(\u001b[0m\u001b[0mvenue_list\u001b[0m\u001b[0;34m)\u001b[0m\u001b[0;34m\u001b[0m\u001b[0;34m\u001b[0m\u001b[0m\n\u001b[1;32m      4\u001b[0m     \u001b[0mprint\u001b[0m\u001b[0;34m(\u001b[0m\u001b[0mi\u001b[0m\u001b[0;34m)\u001b[0m\u001b[0;34m\u001b[0m\u001b[0;34m\u001b[0m\u001b[0m\n",
      "\u001b[0;32m<ipython-input-108-6a7c4155e7e6>\u001b[0m in \u001b[0;36mget_recommended_venues\u001b[0;34m(name, lattitude, longitude, limit, radius)\u001b[0m\n\u001b[1;32m     10\u001b[0m         \u001b[0msortByPopularity\u001b[0m\u001b[0;34m=\u001b[0m\u001b[0;36m1\u001b[0m\u001b[0;34m\u001b[0m\u001b[0;34m\u001b[0m\u001b[0m\n\u001b[1;32m     11\u001b[0m     )\n\u001b[0;32m---> 12\u001b[0;31m     \u001b[0mdata\u001b[0m \u001b[0;34m=\u001b[0m \u001b[0mrequests\u001b[0m\u001b[0;34m.\u001b[0m\u001b[0mget\u001b[0m\u001b[0;34m(\u001b[0m\u001b[0mexplore_url\u001b[0m\u001b[0;34m,\u001b[0m \u001b[0mparams\u001b[0m\u001b[0;34m=\u001b[0m\u001b[0mparams\u001b[0m\u001b[0;34m)\u001b[0m\u001b[0;34m.\u001b[0m\u001b[0mjson\u001b[0m\u001b[0;34m(\u001b[0m\u001b[0;34m)\u001b[0m\u001b[0;34m[\u001b[0m\u001b[0;34m'response'\u001b[0m\u001b[0;34m]\u001b[0m\u001b[0;34m[\u001b[0m\u001b[0;34m'groups'\u001b[0m\u001b[0;34m]\u001b[0m\u001b[0;34m[\u001b[0m\u001b[0;36m0\u001b[0m\u001b[0;34m]\u001b[0m\u001b[0;34m[\u001b[0m\u001b[0;34m'items'\u001b[0m\u001b[0;34m]\u001b[0m\u001b[0;34m\u001b[0m\u001b[0;34m\u001b[0m\u001b[0m\n\u001b[0m\u001b[1;32m     13\u001b[0m     \u001b[0;32mfor\u001b[0m \u001b[0mv\u001b[0m \u001b[0;32min\u001b[0m \u001b[0mdata\u001b[0m\u001b[0;34m:\u001b[0m\u001b[0;34m\u001b[0m\u001b[0;34m\u001b[0m\u001b[0m\n\u001b[1;32m     14\u001b[0m         \u001b[0mv\u001b[0m \u001b[0;34m=\u001b[0m \u001b[0mv\u001b[0m\u001b[0;34m[\u001b[0m\u001b[0;34m'venue'\u001b[0m\u001b[0;34m]\u001b[0m\u001b[0;34m\u001b[0m\u001b[0;34m\u001b[0m\u001b[0m\n",
      "\u001b[0;31mKeyError\u001b[0m: 'groups'"
     ]
    }
   ],
   "source": [
    "for name, lat, long in zip(hostel_df.Name, hostel_df.Latitude, hostel_df.Longitude):\n",
    "    venue_list.extend(get_recommended_venues(name, lat, long))\n",
    "    i = len(venue_list)\n",
    "    print(i)"
   ]
  },
  {
   "cell_type": "code",
   "execution_count": 118,
   "metadata": {},
   "outputs": [
    {
     "data": {
      "text/html": [
       "<div>\n",
       "<style scoped>\n",
       "    .dataframe tbody tr th:only-of-type {\n",
       "        vertical-align: middle;\n",
       "    }\n",
       "\n",
       "    .dataframe tbody tr th {\n",
       "        vertical-align: top;\n",
       "    }\n",
       "\n",
       "    .dataframe thead th {\n",
       "        text-align: right;\n",
       "    }\n",
       "</style>\n",
       "<table border=\"1\" class=\"dataframe\">\n",
       "  <thead>\n",
       "    <tr style=\"text-align: right;\">\n",
       "      <th></th>\n",
       "      <th>HostelName</th>\n",
       "      <th>VenueName</th>\n",
       "      <th>Category</th>\n",
       "      <th>VenueLatitude</th>\n",
       "      <th>VenueLongitude</th>\n",
       "    </tr>\n",
       "  </thead>\n",
       "  <tbody>\n",
       "    <tr>\n",
       "      <th>0</th>\n",
       "      <td>\"Bike &amp; Bed\" CharinCo Hostel</td>\n",
       "      <td>Lawson (ローソン S OSL谷町四丁目駅北店)</td>\n",
       "      <td>Convenience Store</td>\n",
       "      <td>34.683282</td>\n",
       "      <td>135.517281</td>\n",
       "    </tr>\n",
       "    <tr>\n",
       "      <th>1</th>\n",
       "      <td>\"Bike &amp; Bed\" CharinCo Hostel</td>\n",
       "      <td>モナコ</td>\n",
       "      <td>Café</td>\n",
       "      <td>34.683210</td>\n",
       "      <td>135.517309</td>\n",
       "    </tr>\n",
       "    <tr>\n",
       "      <th>2</th>\n",
       "      <td>\"Bike &amp; Bed\" CharinCo Hostel</td>\n",
       "      <td>7-Eleven (セブンイレブン 大阪谷町3丁目店)</td>\n",
       "      <td>Convenience Store</td>\n",
       "      <td>34.683509</td>\n",
       "      <td>135.517793</td>\n",
       "    </tr>\n",
       "    <tr>\n",
       "      <th>3</th>\n",
       "      <td>\"Bike &amp; Bed\" CharinCo Hostel</td>\n",
       "      <td>McDonald's (マクドナルド 地下鉄谷町四丁目店)</td>\n",
       "      <td>Fast Food Restaurant</td>\n",
       "      <td>34.683109</td>\n",
       "      <td>135.517443</td>\n",
       "    </tr>\n",
       "    <tr>\n",
       "      <th>4</th>\n",
       "      <td>\"Bike &amp; Bed\" CharinCo Hostel</td>\n",
       "      <td>City Plaza Osaka (シティプラザ大阪)</td>\n",
       "      <td>Hotel</td>\n",
       "      <td>34.684020</td>\n",
       "      <td>135.510206</td>\n",
       "    </tr>\n",
       "  </tbody>\n",
       "</table>\n",
       "</div>"
      ],
      "text/plain": [
       "                     HostelName                      VenueName  \\\n",
       "0  \"Bike & Bed\" CharinCo Hostel    Lawson (ローソン S OSL谷町四丁目駅北店)   \n",
       "1  \"Bike & Bed\" CharinCo Hostel                            モナコ   \n",
       "2  \"Bike & Bed\" CharinCo Hostel    7-Eleven (セブンイレブン 大阪谷町3丁目店)   \n",
       "3  \"Bike & Bed\" CharinCo Hostel  McDonald's (マクドナルド 地下鉄谷町四丁目店)   \n",
       "4  \"Bike & Bed\" CharinCo Hostel    City Plaza Osaka (シティプラザ大阪)   \n",
       "\n",
       "               Category  VenueLatitude  VenueLongitude  \n",
       "0     Convenience Store      34.683282      135.517281  \n",
       "1                  Café      34.683210      135.517309  \n",
       "2     Convenience Store      34.683509      135.517793  \n",
       "3  Fast Food Restaurant      34.683109      135.517443  \n",
       "4                 Hotel      34.684020      135.510206  "
      ]
     },
     "execution_count": 118,
     "metadata": {},
     "output_type": "execute_result"
    }
   ],
   "source": [
    "venues_df = pd.DataFrame(venue_list)\n",
    "venues_df = venues_df.rename(columns={'VenueLatitue': 'VenueLatitude', 'VenueLongtitude': 'VenueLongitude'})\n",
    "venues_df.head()"
   ]
  },
  {
   "cell_type": "markdown",
   "metadata": {},
   "source": [
    "Let's create a new dataframe for venues for hostels in tokyo."
   ]
  },
  {
   "cell_type": "code",
   "execution_count": 704,
   "metadata": {},
   "outputs": [],
   "source": [
    "tokyo_venues_df = venues_df[venues_df.HostelName.isin(tokyo_hostels_df.Name)]"
   ]
  },
  {
   "cell_type": "code",
   "execution_count": 708,
   "metadata": {},
   "outputs": [
    {
     "data": {
      "text/html": [
       "<div>\n",
       "<style scoped>\n",
       "    .dataframe tbody tr th:only-of-type {\n",
       "        vertical-align: middle;\n",
       "    }\n",
       "\n",
       "    .dataframe tbody tr th {\n",
       "        vertical-align: top;\n",
       "    }\n",
       "\n",
       "    .dataframe thead th {\n",
       "        text-align: right;\n",
       "    }\n",
       "</style>\n",
       "<table border=\"1\" class=\"dataframe\">\n",
       "  <thead>\n",
       "    <tr style=\"text-align: right;\">\n",
       "      <th></th>\n",
       "      <th>HostelName</th>\n",
       "      <th>VenueName</th>\n",
       "      <th>Category</th>\n",
       "      <th>VenueLatitude</th>\n",
       "      <th>VenueLongitude</th>\n",
       "    </tr>\n",
       "  </thead>\n",
       "  <tbody>\n",
       "    <tr>\n",
       "      <th>70</th>\n",
       "      <td>&amp;And Hostel Akihabara</td>\n",
       "      <td>Akihabara Station (秋葉原駅)</td>\n",
       "      <td>Train Station</td>\n",
       "      <td>35.698357</td>\n",
       "      <td>139.773120</td>\n",
       "    </tr>\n",
       "    <tr>\n",
       "      <th>71</th>\n",
       "      <td>&amp;And Hostel Akihabara</td>\n",
       "      <td>Yodobashi-Akiba (ヨドバシカメラ マルチメディアAkiba)</td>\n",
       "      <td>Electronics Store</td>\n",
       "      <td>35.698713</td>\n",
       "      <td>139.774761</td>\n",
       "    </tr>\n",
       "    <tr>\n",
       "      <th>72</th>\n",
       "      <td>&amp;And Hostel Akihabara</td>\n",
       "      <td>THE IDOLM@STER Official Shop (アイドルマスター オフィシャルシ...</td>\n",
       "      <td>Toy / Game Store</td>\n",
       "      <td>35.698364</td>\n",
       "      <td>139.772298</td>\n",
       "    </tr>\n",
       "    <tr>\n",
       "      <th>73</th>\n",
       "      <td>&amp;And Hostel Akihabara</td>\n",
       "      <td>JR Sōbu Line Akihabara Station (JR 総武線 秋葉原駅)</td>\n",
       "      <td>Train Station</td>\n",
       "      <td>35.698358</td>\n",
       "      <td>139.773288</td>\n",
       "    </tr>\n",
       "    <tr>\n",
       "      <th>74</th>\n",
       "      <td>&amp;And Hostel Akihabara</td>\n",
       "      <td>Akihabara Electric Town Exit (秋葉原駅 電気街口)</td>\n",
       "      <td>Train Station</td>\n",
       "      <td>35.698818</td>\n",
       "      <td>139.772570</td>\n",
       "    </tr>\n",
       "  </tbody>\n",
       "</table>\n",
       "</div>"
      ],
      "text/plain": [
       "               HostelName                                          VenueName  \\\n",
       "70  &And Hostel Akihabara                           Akihabara Station (秋葉原駅)   \n",
       "71  &And Hostel Akihabara             Yodobashi-Akiba (ヨドバシカメラ マルチメディアAkiba)   \n",
       "72  &And Hostel Akihabara  THE IDOLM@STER Official Shop (アイドルマスター オフィシャルシ...   \n",
       "73  &And Hostel Akihabara       JR Sōbu Line Akihabara Station (JR 総武線 秋葉原駅)   \n",
       "74  &And Hostel Akihabara           Akihabara Electric Town Exit (秋葉原駅 電気街口)   \n",
       "\n",
       "             Category  VenueLatitude  VenueLongitude  \n",
       "70      Train Station      35.698357      139.773120  \n",
       "71  Electronics Store      35.698713      139.774761  \n",
       "72   Toy / Game Store      35.698364      139.772298  \n",
       "73      Train Station      35.698358      139.773288  \n",
       "74      Train Station      35.698818      139.772570  "
      ]
     },
     "execution_count": 708,
     "metadata": {},
     "output_type": "execute_result"
    }
   ],
   "source": [
    "tokyo_venues_df.head()"
   ]
  },
  {
   "cell_type": "code",
   "execution_count": 707,
   "metadata": {},
   "outputs": [
    {
     "data": {
      "text/plain": [
       "(6626, 5)"
      ]
     },
     "execution_count": 707,
     "metadata": {},
     "output_type": "execute_result"
    }
   ],
   "source": [
    "tokyo_venues_df.shape"
   ]
  },
  {
   "cell_type": "markdown",
   "metadata": {},
   "source": [
    "#### 4.3 Land Price Data(Foursquare):"
   ]
  },
  {
   "cell_type": "markdown",
   "metadata": {},
   "source": [
    "I will scrape the following URL to get land prices in tokyo - https://utinokati.com/en/details/land-market-value/area/Tokyo/"
   ]
  },
  {
   "cell_type": "code",
   "execution_count": 146,
   "metadata": {},
   "outputs": [],
   "source": [
    "land_price_url = 'https://utinokati.com/en/details/land-market-value/area/Tokyo/'\n",
    "\n",
    "data = BeautifulSoup(requests.get(land_price_url).content)"
   ]
  },
  {
   "cell_type": "code",
   "execution_count": 163,
   "metadata": {},
   "outputs": [],
   "source": [
    "price_df = pd.read_html(data.find('table', {'class':'table-condensed'}).prettify())[0]"
   ]
  },
  {
   "cell_type": "code",
   "execution_count": 164,
   "metadata": {},
   "outputs": [],
   "source": [
    "price_df.drop(['#', 'Average Trading Price'], axis=1, inplace=True)\n",
    "price_df.rename(columns={'Average Unit Price': 'PricePerSqMeter'}, inplace=True)\n",
    "price_df.PricePerSqMeter = price_df.PricePerSqMeter.apply(lambda x: x.strip(' JPY/sq.m').replace(',', '')).astype(int)"
   ]
  },
  {
   "cell_type": "code",
   "execution_count": 165,
   "metadata": {},
   "outputs": [
    {
     "data": {
      "text/html": [
       "<div>\n",
       "<style scoped>\n",
       "    .dataframe tbody tr th:only-of-type {\n",
       "        vertical-align: middle;\n",
       "    }\n",
       "\n",
       "    .dataframe tbody tr th {\n",
       "        vertical-align: top;\n",
       "    }\n",
       "\n",
       "    .dataframe thead th {\n",
       "        text-align: right;\n",
       "    }\n",
       "</style>\n",
       "<table border=\"1\" class=\"dataframe\">\n",
       "  <thead>\n",
       "    <tr style=\"text-align: right;\">\n",
       "      <th></th>\n",
       "      <th>Area</th>\n",
       "      <th>PricePerSqMeter</th>\n",
       "    </tr>\n",
       "  </thead>\n",
       "  <tbody>\n",
       "    <tr>\n",
       "      <th>0</th>\n",
       "      <td>Chiyoda-Ku</td>\n",
       "      <td>1890610</td>\n",
       "    </tr>\n",
       "    <tr>\n",
       "      <th>1</th>\n",
       "      <td>Chuo-Ku</td>\n",
       "      <td>3178147</td>\n",
       "    </tr>\n",
       "    <tr>\n",
       "      <th>2</th>\n",
       "      <td>Minato-Ku</td>\n",
       "      <td>2339310</td>\n",
       "    </tr>\n",
       "    <tr>\n",
       "      <th>3</th>\n",
       "      <td>Shinjuku-Ku</td>\n",
       "      <td>930080</td>\n",
       "    </tr>\n",
       "    <tr>\n",
       "      <th>4</th>\n",
       "      <td>Bunkyo-Ku</td>\n",
       "      <td>966787</td>\n",
       "    </tr>\n",
       "  </tbody>\n",
       "</table>\n",
       "</div>"
      ],
      "text/plain": [
       "          Area  PricePerSqMeter\n",
       "0   Chiyoda-Ku          1890610\n",
       "1      Chuo-Ku          3178147\n",
       "2    Minato-Ku          2339310\n",
       "3  Shinjuku-Ku           930080\n",
       "4    Bunkyo-Ku           966787"
      ]
     },
     "execution_count": 165,
     "metadata": {},
     "output_type": "execute_result"
    }
   ],
   "source": [
    "price_df.head()"
   ]
  },
  {
   "cell_type": "markdown",
   "metadata": {},
   "source": [
    "#### 4.4 Persist all datasets for later use"
   ]
  },
  {
   "cell_type": "code",
   "execution_count": 709,
   "metadata": {},
   "outputs": [],
   "source": [
    "hostel_df.to_csv('data/hostels_cleaned.csv')\n",
    "venues_df.to_csv('data/hostel_venues.csv')\n",
    "price_df.to_csv('data/tokyo_land_prices.csv')\n",
    "tokyo_hostels_df.to_csv('data/tokyo_hostels.csv')\n",
    "tokyo_venues_df.to_csv('data/tokyo_hostels_venues.csv')"
   ]
  },
  {
   "cell_type": "code",
   "execution_count": 286,
   "metadata": {},
   "outputs": [
    {
     "data": {
      "text/plain": [
       "Name                      \"Bike & Bed\" CharinCo Hostel\n",
       "City                                             Osaka\n",
       "StartPrice                                        3300\n",
       "DistanceFromCityCentre                             2.9\n",
       "OverallScore                                       9.2\n",
       "RatingCategory                                  Superb\n",
       "Atmosphere                                         8.9\n",
       "Cleanliness                                        9.4\n",
       "Facilities                                         9.3\n",
       "Location                                           8.9\n",
       "Security                                             9\n",
       "Staff                                              9.4\n",
       "ValueForMoney                                      9.4\n",
       "Longitude                                      135.514\n",
       "Latitude                                       34.6827\n",
       "Name: 0, dtype: object"
      ]
     },
     "execution_count": 286,
     "metadata": {},
     "output_type": "execute_result"
    }
   ],
   "source": [
    "temp = hostel_df.iloc[0]\n",
    "temp"
   ]
  },
  {
   "cell_type": "code",
   "execution_count": 287,
   "metadata": {},
   "outputs": [],
   "source": [
    "geo = OpenCage(api_key=\"28b371af498445e8842797870bb8dbbb\")"
   ]
  },
  {
   "cell_type": "code",
   "execution_count": 288,
   "metadata": {},
   "outputs": [
    {
     "name": "stderr",
     "output_type": "stream",
     "text": [
      "/opt/miniconda3/lib/python3.7/site-packages/ipykernel_launcher.py:1: DeprecationWarning: OpenCage.reverse: default value for `exactly_one` argument will become True in geopy 2.0. Specify `exactly_one=False` as the argument explicitly to get rid of this warning.\n",
      "  \"\"\"Entry point for launching an IPython kernel.\n"
     ]
    }
   ],
   "source": [
    "cities = []\n",
    "suburbs = []\n",
    "for lat, long in zip(hostel_df.Latitude, hostel_df.Longitude):\n",
    "    loc = geo.reverse(query=[lat, long], language='en')\n",
    "    cities.append(loc[0].raw['components']['city'])\n",
    "    suburbs.append(loc[0].raw['components']['suburb'])"
   ]
  },
  {
   "cell_type": "code",
   "execution_count": 289,
   "metadata": {},
   "outputs": [
    {
     "data": {
      "text/plain": [
       "{'ISO_3166-1_alpha-2': 'JP',\n",
       " 'ISO_3166-1_alpha-3': 'JPN',\n",
       " '_type': 'building',\n",
       " 'building': '大阪内本町ビル',\n",
       " 'city': 'Osaka',\n",
       " 'continent': 'Asia',\n",
       " 'country': 'Japan',\n",
       " 'country_code': 'jp',\n",
       " 'neighbourhood': '高津二丁目',\n",
       " 'postcode': '540-0026',\n",
       " 'road': '鎗屋町筋',\n",
       " 'state': 'Osaka Prefecture',\n",
       " 'suburb': 'Chuo'}"
      ]
     },
     "execution_count": 289,
     "metadata": {},
     "output_type": "execute_result"
    }
   ],
   "source": [
    "loc[0].raw['components']"
   ]
  },
  {
   "cell_type": "markdown",
   "metadata": {},
   "source": [
    "## 5. Analysis"
   ]
  },
  {
   "cell_type": "markdown",
   "metadata": {},
   "source": [
    "### 5.1 Exploratory Data Analysis\n",
    "Using EDA, we will try to answer the following questions:\n",
    "- How does price vary with location?\n",
    "- Which hostels are most secure and where are they located?\n",
    "- Where are the <i>'value of money'</i> hostels located?\n",
    "- How does proximity to transportation affect hostel rating?"
   ]
  },
  {
   "cell_type": "markdown",
   "metadata": {},
   "source": [
    "Let's first start by analyzing which cities are covered in our dataset"
   ]
  },
  {
   "cell_type": "code",
   "execution_count": 710,
   "metadata": {},
   "outputs": [
    {
     "data": {
      "text/plain": [
       "Tokyo           116\n",
       "Osaka            89\n",
       "Kyoto            66\n",
       "Fukuoka-City     14\n",
       "Hiroshima        13\n",
       "Name: City, dtype: int64"
      ]
     },
     "execution_count": 710,
     "metadata": {},
     "output_type": "execute_result"
    }
   ],
   "source": [
    "hostel_df.City.value_counts()"
   ]
  },
  {
   "cell_type": "code",
   "execution_count": 711,
   "metadata": {},
   "outputs": [
    {
     "data": {
      "image/png": "[encoded data removed]",
      "text/plain": [
       "<Figure size 864x432 with 1 Axes>"
      ]
     },
     "metadata": {
      "needs_background": "light"
     },
     "output_type": "display_data"
    }
   ],
   "source": [
    "plt.figure(figsize=(12, 6))\n",
    "ax = hostel_df.City.value_counts().plot(kind=\"barh\", color=\"#BC002D\", fontsize=12)\n",
    "ax.set_title(\"Hostel Count (Japan)\", fontsize=16)\n",
    "ax.set_xlabel(\"# of hostels\", fontsize=12)\n",
    "\n",
    "for p in ax.patches:\n",
    "    ax.annotate(str(p.get_width()), (p.get_width() + 0.5, p.get_y() + 0.2))"
   ]
  },
  {
   "cell_type": "markdown",
   "metadata": {},
   "source": [
    "<br>Tokyo has the most number of hostels which is understandable since it is once of the largest cities of the world and hence might attract a lot of visitors through its airport"
   ]
  },
  {
   "cell_type": "markdown",
   "metadata": {},
   "source": [
    "<br>Going ahead, our focus will only be tokyo hostels"
   ]
  },
  {
   "cell_type": "code",
   "execution_count": 712,
   "metadata": {},
   "outputs": [
    {
     "data": {
      "text/html": [
       "<div>\n",
       "<style scoped>\n",
       "    .dataframe tbody tr th:only-of-type {\n",
       "        vertical-align: middle;\n",
       "    }\n",
       "\n",
       "    .dataframe tbody tr th {\n",
       "        vertical-align: top;\n",
       "    }\n",
       "\n",
       "    .dataframe thead th {\n",
       "        text-align: right;\n",
       "    }\n",
       "</style>\n",
       "<table border=\"1\" class=\"dataframe\">\n",
       "  <thead>\n",
       "    <tr style=\"text-align: right;\">\n",
       "      <th></th>\n",
       "      <th>Name</th>\n",
       "      <th>City</th>\n",
       "      <th>StartPrice</th>\n",
       "      <th>DistanceFromCityCentre</th>\n",
       "      <th>OverallScore</th>\n",
       "      <th>RatingCategory</th>\n",
       "      <th>Atmosphere</th>\n",
       "      <th>Cleanliness</th>\n",
       "      <th>Facilities</th>\n",
       "      <th>Location</th>\n",
       "      <th>Security</th>\n",
       "      <th>Staff</th>\n",
       "      <th>ValueForMoney</th>\n",
       "      <th>Longitude</th>\n",
       "      <th>Latitude</th>\n",
       "    </tr>\n",
       "  </thead>\n",
       "  <tbody>\n",
       "    <tr>\n",
       "      <th>2</th>\n",
       "      <td>&amp;And Hostel Akihabara</td>\n",
       "      <td>Tokyo</td>\n",
       "      <td>3600</td>\n",
       "      <td>7.8</td>\n",
       "      <td>8.7</td>\n",
       "      <td>Fabulous</td>\n",
       "      <td>8.0</td>\n",
       "      <td>7.0</td>\n",
       "      <td>9.0</td>\n",
       "      <td>8.0</td>\n",
       "      <td>10.0</td>\n",
       "      <td>10.0</td>\n",
       "      <td>9.0</td>\n",
       "      <td>139.777472</td>\n",
       "      <td>35.697447</td>\n",
       "    </tr>\n",
       "    <tr>\n",
       "      <th>3</th>\n",
       "      <td>&amp;And Hostel Ueno</td>\n",
       "      <td>Tokyo</td>\n",
       "      <td>2600</td>\n",
       "      <td>8.7</td>\n",
       "      <td>7.4</td>\n",
       "      <td>Very Good</td>\n",
       "      <td>8.0</td>\n",
       "      <td>7.5</td>\n",
       "      <td>7.5</td>\n",
       "      <td>7.5</td>\n",
       "      <td>7.0</td>\n",
       "      <td>8.0</td>\n",
       "      <td>6.5</td>\n",
       "      <td>139.783667</td>\n",
       "      <td>35.712716</td>\n",
       "    </tr>\n",
       "    <tr>\n",
       "      <th>4</th>\n",
       "      <td>&amp;And Hostel-Asakusa North-</td>\n",
       "      <td>Tokyo</td>\n",
       "      <td>1500</td>\n",
       "      <td>10.5</td>\n",
       "      <td>9.4</td>\n",
       "      <td>Superb</td>\n",
       "      <td>9.5</td>\n",
       "      <td>9.5</td>\n",
       "      <td>9.0</td>\n",
       "      <td>9.0</td>\n",
       "      <td>9.5</td>\n",
       "      <td>10.0</td>\n",
       "      <td>9.5</td>\n",
       "      <td>139.798371</td>\n",
       "      <td>35.727898</td>\n",
       "    </tr>\n",
       "    <tr>\n",
       "      <th>5</th>\n",
       "      <td>1night1980hostel Tokyo</td>\n",
       "      <td>Tokyo</td>\n",
       "      <td>2100</td>\n",
       "      <td>9.4</td>\n",
       "      <td>7.0</td>\n",
       "      <td>Very Good</td>\n",
       "      <td>5.5</td>\n",
       "      <td>8.0</td>\n",
       "      <td>6.0</td>\n",
       "      <td>6.0</td>\n",
       "      <td>8.5</td>\n",
       "      <td>8.5</td>\n",
       "      <td>6.5</td>\n",
       "      <td>139.786950</td>\n",
       "      <td>35.724384</td>\n",
       "    </tr>\n",
       "    <tr>\n",
       "      <th>6</th>\n",
       "      <td>328 Hostel &amp; Lounge</td>\n",
       "      <td>Tokyo</td>\n",
       "      <td>3300</td>\n",
       "      <td>16.5</td>\n",
       "      <td>9.3</td>\n",
       "      <td>Superb</td>\n",
       "      <td>8.7</td>\n",
       "      <td>9.7</td>\n",
       "      <td>9.3</td>\n",
       "      <td>9.1</td>\n",
       "      <td>9.3</td>\n",
       "      <td>9.7</td>\n",
       "      <td>8.9</td>\n",
       "      <td>139.745467</td>\n",
       "      <td>35.548044</td>\n",
       "    </tr>\n",
       "  </tbody>\n",
       "</table>\n",
       "</div>"
      ],
      "text/plain": [
       "                         Name   City  StartPrice  DistanceFromCityCentre  \\\n",
       "2       &And Hostel Akihabara  Tokyo        3600                     7.8   \n",
       "3            &And Hostel Ueno  Tokyo        2600                     8.7   \n",
       "4  &And Hostel-Asakusa North-  Tokyo        1500                    10.5   \n",
       "5      1night1980hostel Tokyo  Tokyo        2100                     9.4   \n",
       "6         328 Hostel & Lounge  Tokyo        3300                    16.5   \n",
       "\n",
       "   OverallScore RatingCategory  Atmosphere  Cleanliness  Facilities  Location  \\\n",
       "2           8.7       Fabulous         8.0          7.0         9.0       8.0   \n",
       "3           7.4      Very Good         8.0          7.5         7.5       7.5   \n",
       "4           9.4         Superb         9.5          9.5         9.0       9.0   \n",
       "5           7.0      Very Good         5.5          8.0         6.0       6.0   \n",
       "6           9.3         Superb         8.7          9.7         9.3       9.1   \n",
       "\n",
       "   Security  Staff  ValueForMoney   Longitude   Latitude  \n",
       "2      10.0   10.0            9.0  139.777472  35.697447  \n",
       "3       7.0    8.0            6.5  139.783667  35.712716  \n",
       "4       9.5   10.0            9.5  139.798371  35.727898  \n",
       "5       8.5    8.5            6.5  139.786950  35.724384  \n",
       "6       9.3    9.7            8.9  139.745467  35.548044  "
      ]
     },
     "execution_count": 712,
     "metadata": {},
     "output_type": "execute_result"
    }
   ],
   "source": [
    "tokyo_hostels_df = hostel_df[hostel_df.City == \"Tokyo\"]\n",
    "tokyo_hostels_df.head()"
   ]
  },
  {
   "cell_type": "code",
   "execution_count": 713,
   "metadata": {},
   "outputs": [
    {
     "data": {
      "text/plain": [
       "(116, 15)"
      ]
     },
     "execution_count": 713,
     "metadata": {},
     "output_type": "execute_result"
    }
   ],
   "source": [
    "tokyo_hostels_df.shape"
   ]
  },
  {
   "cell_type": "markdown",
   "metadata": {},
   "source": [
    "<br>Let's visualize all these hostels on the map"
   ]
  },
  {
   "cell_type": "code",
   "execution_count": 714,
   "metadata": {},
   "outputs": [
    {
     "data": {
      "text/html": [
       "<div style=\"width:100%;\"><div style=\"position:relative;width:100%;height:0;padding-bottom:60%;\"><iframe src=\"data:text/html;charset=utf-8;base64,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\" style=\"position:absolute;width:100%;height:100%;left:0;top:0;border:none !important;\" allowfullscreen webkitallowfullscreen mozallowfullscreen></iframe></div></div>"
      ],
      "text/plain": [
       "<folium.folium.Map at 0x1a4d0b5690>"
      ]
     },
     "execution_count": 714,
     "metadata": {},
     "output_type": "execute_result"
    }
   ],
   "source": [
    "tokyo_map = folium.Map(location=(35.689487, 139.691711), zoom_start=11)\n",
    "\n",
    "# add markers to map\n",
    "for lat, lng, label in zip(tokyo_hostels_df.Latitude, tokyo_hostels_df.Longitude, tokyo_hostels_df.Name):\n",
    "    label = folium.Popup(label, parse_html=True)\n",
    "    folium.CircleMarker(\n",
    "        [lat, lng],\n",
    "        radius=3,\n",
    "        popup=label,\n",
    "        color='#BC002D',\n",
    "        fill=True,\n",
    "        fill_color='#FFF',\n",
    "        fill_opacity=0.75,\n",
    "        parse_html=False).add_to(tokyo_map)\n",
    "    \n",
    "tokyo_map"
   ]
  },
  {
   "cell_type": "markdown",
   "metadata": {},
   "source": [
    "<br>\n",
    "\n",
    "##### How does price vary with location?\n",
    "As per me, the closer a hostel to the city center, the higher it's price. Let's see if we can prove that using data."
   ]
  },
  {
   "cell_type": "code",
   "execution_count": 715,
   "metadata": {},
   "outputs": [
    {
     "data": {
      "text/plain": [
       "2000       13\n",
       "2500       12\n",
       "2200       10\n",
       "3000        8\n",
       "3300        6\n",
       "2400        6\n",
       "1800        5\n",
       "2600        5\n",
       "2100        5\n",
       "2300        4\n",
       "1600        4\n",
       "3600        4\n",
       "2900        4\n",
       "2700        3\n",
       "3200        3\n",
       "1500        3\n",
       "1900        3\n",
       "3800        2\n",
       "4000        2\n",
       "3700        2\n",
       "4100        2\n",
       "5400        1\n",
       "3400        1\n",
       "5500        1\n",
       "7600        1\n",
       "3500        1\n",
       "6300        1\n",
       "1003200     1\n",
       "5200        1\n",
       "1300        1\n",
       "3900        1\n",
       "Name: StartPrice, dtype: int64"
      ]
     },
     "execution_count": 715,
     "metadata": {},
     "output_type": "execute_result"
    }
   ],
   "source": [
    "tokyo_hostels_df.StartPrice.value_counts()"
   ]
  },
  {
   "cell_type": "markdown",
   "metadata": {},
   "source": [
    "We can see that one hostel has a very high starting price! Can a hostel charge 1003200 Yen? Doesn't seem likely. Hence, we will remove that row from the dataset."
   ]
  },
  {
   "cell_type": "code",
   "execution_count": 716,
   "metadata": {},
   "outputs": [],
   "source": [
    "tokyo_hostels_df = tokyo_hostels_df[tokyo_hostels_df.StartPrice < 1000000]"
   ]
  },
  {
   "cell_type": "code",
   "execution_count": 717,
   "metadata": {},
   "outputs": [
    {
     "data": {
      "image/png": "[encoded data removed]",
      "text/plain": [
       "<Figure size 1080x576 with 1 Axes>"
      ]
     },
     "metadata": {
      "needs_background": "light"
     },
     "output_type": "display_data"
    }
   ],
   "source": [
    "tokyo_hostels_df.plot(x='DistanceFromCityCentre', y='StartPrice', kind='scatter', figsize=(15, 8), color='#BC002D')\n",
    "plt.xlabel(\"Distance from City Center (km)\")\n",
    "plt.ylabel(\"Starting Price\")\n",
    "plt.title(\"Hostel Starting Price w.r.t. proximity to city center\", fontsize=16)\n",
    "plt.show()"
   ]
  },
  {
   "cell_type": "markdown",
   "metadata": {},
   "source": [
    "We cannot see any pattern which can help us verify our assumption. If our assumption was correct, we should be be seeing a curve which decreases as distance increases. However, there is on such curve visible."
   ]
  },
  {
   "cell_type": "markdown",
   "metadata": {},
   "source": [
    "Let's check the correlation score of StartPrice with DistanceFromCityCentre"
   ]
  },
  {
   "cell_type": "code",
   "execution_count": 718,
   "metadata": {},
   "outputs": [
    {
     "data": {
      "text/html": [
       "<div>\n",
       "<style scoped>\n",
       "    .dataframe tbody tr th:only-of-type {\n",
       "        vertical-align: middle;\n",
       "    }\n",
       "\n",
       "    .dataframe tbody tr th {\n",
       "        vertical-align: top;\n",
       "    }\n",
       "\n",
       "    .dataframe thead th {\n",
       "        text-align: right;\n",
       "    }\n",
       "</style>\n",
       "<table border=\"1\" class=\"dataframe\">\n",
       "  <thead>\n",
       "    <tr style=\"text-align: right;\">\n",
       "      <th></th>\n",
       "      <th>StartPrice</th>\n",
       "      <th>DistanceFromCityCentre</th>\n",
       "    </tr>\n",
       "  </thead>\n",
       "  <tbody>\n",
       "    <tr>\n",
       "      <th>StartPrice</th>\n",
       "      <td>1.000000</td>\n",
       "      <td>-0.346481</td>\n",
       "    </tr>\n",
       "    <tr>\n",
       "      <th>DistanceFromCityCentre</th>\n",
       "      <td>-0.346481</td>\n",
       "      <td>1.000000</td>\n",
       "    </tr>\n",
       "  </tbody>\n",
       "</table>\n",
       "</div>"
      ],
      "text/plain": [
       "                        StartPrice  DistanceFromCityCentre\n",
       "StartPrice                1.000000               -0.346481\n",
       "DistanceFromCityCentre   -0.346481                1.000000"
      ]
     },
     "execution_count": 718,
     "metadata": {},
     "output_type": "execute_result"
    }
   ],
   "source": [
    "tokyo_hostels_df[['StartPrice', 'DistanceFromCityCentre']].corr()"
   ]
  },
  {
   "cell_type": "markdown",
   "metadata": {},
   "source": [
    "The correlation coefficient is very less. Hence, we can say that the starting price of hostels does not vary according to its distance from the city center."
   ]
  },
  {
   "cell_type": "markdown",
   "metadata": {},
   "source": [
    "> **The starting price of hostels does not vary much depending on its distance from the city center.**"
   ]
  },
  {
   "cell_type": "markdown",
   "metadata": {},
   "source": [
    "<br>\n",
    "\n",
    "##### Which hostels are most secure and where are they located?\n",
    "I have no idea as to where the most secure hostels are located. Let's find out!"
   ]
  },
  {
   "cell_type": "code",
   "execution_count": 719,
   "metadata": {},
   "outputs": [
    {
     "data": {
      "text/plain": [
       "<matplotlib.axes._subplots.AxesSubplot at 0x1a4e030390>"
      ]
     },
     "execution_count": 719,
     "metadata": {},
     "output_type": "execute_result"
    },
    {
     "data": {
      "image/png": "[encoded data removed]",
      "text/plain": [
       "<Figure size 1080x576 with 1 Axes>"
      ]
     },
     "metadata": {
      "needs_background": "light"
     },
     "output_type": "display_data"
    }
   ],
   "source": [
    "plt.figure(figsize=(15,8))\n",
    "sns.countplot(x=tokyo_hostels_df.Security)"
   ]
  },
  {
   "cell_type": "markdown",
   "metadata": {},
   "source": [
    "As we can see, most hostels are quite secure as rated by users, so that's some great news for travellers. Let's put hostels with security rating 9.5 and above on the map."
   ]
  },
  {
   "cell_type": "code",
   "execution_count": 720,
   "metadata": {},
   "outputs": [],
   "source": [
    "highsec_hostels = tokyo_hostels_df[tokyo_hostels_df.Security >= 9]\n",
    "lowsec_hostels = tokyo_hostels_df[tokyo_hostels_df.Security < 9]\n"
   ]
  },
  {
   "cell_type": "code",
   "execution_count": 721,
   "metadata": {},
   "outputs": [
    {
     "data": {
      "text/html": [
       "<div style=\"width:100%;\"><div style=\"position:relative;width:100%;height:0;padding-bottom:60%;\"><iframe src=\"data:text/html;charset=utf-8;base64,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\" style=\"position:absolute;width:100%;height:100%;left:0;top:0;border:none !important;\" allowfullscreen webkitallowfullscreen mozallowfullscreen></iframe></div></div>"
      ],
      "text/plain": [
       "<folium.folium.Map at 0x1a4ac3af90>"
      ]
     },
     "execution_count": 721,
     "metadata": {},
     "output_type": "execute_result"
    }
   ],
   "source": [
    "tokyo_map = folium.Map(location=(35.689487, 139.691711), zoom_start=11)\n",
    "\n",
    "# add markers to map\n",
    "for lat, lng, label in zip(highsec_hostels.Latitude, highsec_hostels.Longitude, highsec_hostels.Name):\n",
    "    label = folium.Popup(label, parse_html=True)\n",
    "    folium.CircleMarker(\n",
    "        [lat, lng],\n",
    "        radius=3,\n",
    "        popup=label,\n",
    "        color='#33cc33',\n",
    "        fill=True,\n",
    "        fill_color='#FFF',\n",
    "        fill_opacity=0.75,\n",
    "        parse_html=False).add_to(tokyo_map)\n",
    "    \n",
    "# add markers to map\n",
    "for lat, lng, label in zip(lowsec_hostels.Latitude, lowsec_hostels.Longitude, lowsec_hostels.Name):\n",
    "    label = folium.Popup(label, parse_html=True)\n",
    "    folium.CircleMarker(\n",
    "        [lat, lng],\n",
    "        radius=3,\n",
    "        popup=label,\n",
    "        color='#BC002D',\n",
    "        fill=True,\n",
    "        fill_color='#FFF',\n",
    "        fill_opacity=0.75,\n",
    "        parse_html=False).add_to(tokyo_map)\n",
    "    \n",
    "tokyo_map"
   ]
  },
  {
   "cell_type": "markdown",
   "metadata": {},
   "source": [
    "FIND OUT THE AREA USING REVERSE GEOCODING. AND COMMENT WHICH AREA HAS MOST SECURE HOSTELS"
   ]
  },
  {
   "cell_type": "markdown",
   "metadata": {},
   "source": [
    "<br>\n",
    "\n",
    "##### Where are the 'value of money' hostels located?"
   ]
  },
  {
   "cell_type": "code",
   "execution_count": 722,
   "metadata": {},
   "outputs": [
    {
     "data": {
      "image/png": "[encoded data removed]",
      "text/plain": [
       "<Figure size 432x288 with 1 Axes>"
      ]
     },
     "metadata": {
      "needs_background": "light"
     },
     "output_type": "display_data"
    }
   ],
   "source": [
    "tokyo_hostels_df.ValueForMoney.plot(kind=\"hist\")\n",
    "plt.title(\"Value for Money Histogram\")\n",
    "plt.show()"
   ]
  },
  {
   "cell_type": "markdown",
   "metadata": {},
   "source": [
    "Let's place hostels with highest 'value for money' rating"
   ]
  },
  {
   "cell_type": "code",
   "execution_count": 723,
   "metadata": {},
   "outputs": [
    {
     "data": {
      "text/html": [
       "<div style=\"width:100%;\"><div style=\"position:relative;width:100%;height:0;padding-bottom:60%;\"><iframe src=\"data:text/html;charset=utf-8;base64,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\" style=\"position:absolute;width:100%;height:100%;left:0;top:0;border:none !important;\" allowfullscreen webkitallowfullscreen mozallowfullscreen></iframe></div></div>"
      ],
      "text/plain": [
       "<folium.folium.Map at 0x1a4b329850>"
      ]
     },
     "execution_count": 723,
     "metadata": {},
     "output_type": "execute_result"
    }
   ],
   "source": [
    "tokyo_map = folium.Map(location=(35.689487, 139.691711), zoom_start=11)\n",
    "high_vfm = tokyo_hostels_df[tokyo_hostels_df.ValueForMoney == 10]\n",
    "\n",
    "# add markers to map\n",
    "for lat, lng, label in zip(high_vfm.Latitude, high_vfm.Longitude, high_vfm.Name):\n",
    "    label = folium.Popup(label, parse_html=True)\n",
    "    folium.CircleMarker(\n",
    "        [lat, lng],\n",
    "        radius=5,\n",
    "        popup=label,\n",
    "        color='#33cc33',\n",
    "        fill=True,\n",
    "        fill_color='#FFF',\n",
    "        fill_opacity=0.75,\n",
    "        parse_html=False).add_to(tokyo_map)\n",
    "    \n",
    "tokyo_map"
   ]
  },
  {
   "cell_type": "code",
   "execution_count": 724,
   "metadata": {},
   "outputs": [
    {
     "data": {
      "text/plain": [
       "3390.909090909091"
      ]
     },
     "execution_count": 724,
     "metadata": {},
     "output_type": "execute_result"
    }
   ],
   "source": [
    "low_vfm.StartPrice.mean()"
   ]
  },
  {
   "cell_type": "code",
   "execution_count": 725,
   "metadata": {},
   "outputs": [
    {
     "data": {
      "text/plain": [
       "2781.818181818182"
      ]
     },
     "execution_count": 725,
     "metadata": {},
     "output_type": "execute_result"
    }
   ],
   "source": [
    "high_vfm.StartPrice.mean()"
   ]
  },
  {
   "cell_type": "code",
   "execution_count": 726,
   "metadata": {},
   "outputs": [
    {
     "name": "stdout",
     "output_type": "stream",
     "text": [
      "Distance from city center:\n",
      "Low Value for money:  7.76\n",
      "High Value for money:  9.9\n"
     ]
    }
   ],
   "source": [
    "print(\"Distance from city center:\")\n",
    "print(\"Low Value for money: \", round(low_vfm.DistanceFromCityCentre.mean(), 2))\n",
    "print(\"High Value for money: \", round(high_vfm.DistanceFromCityCentre.mean(), 2))"
   ]
  },
  {
   "cell_type": "markdown",
   "metadata": {},
   "source": [
    "> **High value for money hostels are comparatively cheaper and are located away from the city center** "
   ]
  },
  {
   "cell_type": "markdown",
   "metadata": {},
   "source": [
    "CHLOROPLETH HOSTELS AND AREA. SHOW AREA WITH MOST HOSTELS"
   ]
  },
  {
   "cell_type": "markdown",
   "metadata": {},
   "source": [
    "\n",
    "\n",
    "##### Cheap hostels near metro stations?"
   ]
  },
  {
   "cell_type": "markdown",
   "metadata": {},
   "source": [
    "We will remove rows with Empty VenueCategory"
   ]
  },
  {
   "cell_type": "code",
   "execution_count": 729,
   "metadata": {},
   "outputs": [
    {
     "name": "stderr",
     "output_type": "stream",
     "text": [
      "/opt/miniconda3/lib/python3.7/site-packages/pandas/core/generic.py:6786: SettingWithCopyWarning: \n",
      "A value is trying to be set on a copy of a slice from a DataFrame\n",
      "\n",
      "See the caveats in the documentation: http://pandas.pydata.org/pandas-docs/stable/user_guide/indexing.html#returning-a-view-versus-a-copy\n",
      "  self._update_inplace(new_data)\n",
      "/opt/miniconda3/lib/python3.7/site-packages/ipykernel_launcher.py:2: SettingWithCopyWarning: \n",
      "A value is trying to be set on a copy of a slice from a DataFrame\n",
      "\n",
      "See the caveats in the documentation: http://pandas.pydata.org/pandas-docs/stable/user_guide/indexing.html#returning-a-view-versus-a-copy\n",
      "  \n"
     ]
    },
    {
     "data": {
      "text/plain": [
       "(6626, 5)"
      ]
     },
     "execution_count": 729,
     "metadata": {},
     "output_type": "execute_result"
    }
   ],
   "source": [
    "tokyo_venues_df.Category.replace('', np.nan, inplace=True)\n",
    "tokyo_venues_df.dropna(inplace=True)\n",
    "tokyo_venues_df.shape"
   ]
  },
  {
   "cell_type": "markdown",
   "metadata": {},
   "source": [
    "Let's check the frequency of each Venue Category"
   ]
  },
  {
   "cell_type": "code",
   "execution_count": 731,
   "metadata": {},
   "outputs": [
    {
     "data": {
      "text/plain": [
       "Convenience Store      571\n",
       "Ramen Restaurant       371\n",
       "Japanese Restaurant    302\n",
       "Café                   271\n",
       "Sake Bar               271\n",
       "                      ... \n",
       "Burmese Restaurant       1\n",
       "Cocktail Bar             1\n",
       "Food Court               1\n",
       "Used Bookstore           1\n",
       "Monument / Landmark      1\n",
       "Name: Category, Length: 263, dtype: int64"
      ]
     },
     "execution_count": 731,
     "metadata": {},
     "output_type": "execute_result"
    }
   ],
   "source": [
    "tokyo_venues_df.Category.value_counts()"
   ]
  },
  {
   "cell_type": "markdown",
   "metadata": {},
   "source": [
    "<br> Let's check the average number of venues per Hostel"
   ]
  },
  {
   "cell_type": "code",
   "execution_count": 734,
   "metadata": {},
   "outputs": [
    {
     "data": {
      "text/html": [
       "<div>\n",
       "<style scoped>\n",
       "    .dataframe tbody tr th:only-of-type {\n",
       "        vertical-align: middle;\n",
       "    }\n",
       "\n",
       "    .dataframe tbody tr th {\n",
       "        vertical-align: top;\n",
       "    }\n",
       "\n",
       "    .dataframe thead th {\n",
       "        text-align: right;\n",
       "    }\n",
       "</style>\n",
       "<table border=\"1\" class=\"dataframe\">\n",
       "  <thead>\n",
       "    <tr style=\"text-align: right;\">\n",
       "      <th></th>\n",
       "      <th>VenueName</th>\n",
       "      <th>Category</th>\n",
       "      <th>VenueLatitude</th>\n",
       "      <th>VenueLongitude</th>\n",
       "    </tr>\n",
       "    <tr>\n",
       "      <th>HostelName</th>\n",
       "      <th></th>\n",
       "      <th></th>\n",
       "      <th></th>\n",
       "      <th></th>\n",
       "    </tr>\n",
       "  </thead>\n",
       "  <tbody>\n",
       "    <tr>\n",
       "      <th>&amp;And Hostel Akihabara</th>\n",
       "      <td>100</td>\n",
       "      <td>100</td>\n",
       "      <td>100</td>\n",
       "      <td>100</td>\n",
       "    </tr>\n",
       "    <tr>\n",
       "      <th>&amp;And Hostel Ueno</th>\n",
       "      <td>82</td>\n",
       "      <td>82</td>\n",
       "      <td>82</td>\n",
       "      <td>82</td>\n",
       "    </tr>\n",
       "    <tr>\n",
       "      <th>&amp;And Hostel-Asakusa North-</th>\n",
       "      <td>36</td>\n",
       "      <td>36</td>\n",
       "      <td>36</td>\n",
       "      <td>36</td>\n",
       "    </tr>\n",
       "    <tr>\n",
       "      <th>1night1980hostel Tokyo</th>\n",
       "      <td>31</td>\n",
       "      <td>31</td>\n",
       "      <td>31</td>\n",
       "      <td>31</td>\n",
       "    </tr>\n",
       "    <tr>\n",
       "      <th>328 Hostel &amp; Lounge</th>\n",
       "      <td>63</td>\n",
       "      <td>63</td>\n",
       "      <td>63</td>\n",
       "      <td>63</td>\n",
       "    </tr>\n",
       "    <tr>\n",
       "      <th>...</th>\n",
       "      <td>...</td>\n",
       "      <td>...</td>\n",
       "      <td>...</td>\n",
       "      <td>...</td>\n",
       "    </tr>\n",
       "    <tr>\n",
       "      <th>Retrometro Backpackers</th>\n",
       "      <td>100</td>\n",
       "      <td>100</td>\n",
       "      <td>100</td>\n",
       "      <td>100</td>\n",
       "    </tr>\n",
       "    <tr>\n",
       "      <th>Sakura Hostel Asakusa</th>\n",
       "      <td>100</td>\n",
       "      <td>100</td>\n",
       "      <td>100</td>\n",
       "      <td>100</td>\n",
       "    </tr>\n",
       "    <tr>\n",
       "      <th>Sakura Hotel Ikebukuro</th>\n",
       "      <td>100</td>\n",
       "      <td>100</td>\n",
       "      <td>100</td>\n",
       "      <td>100</td>\n",
       "    </tr>\n",
       "    <tr>\n",
       "      <th>Sakura Hotel Nippori</th>\n",
       "      <td>53</td>\n",
       "      <td>53</td>\n",
       "      <td>53</td>\n",
       "      <td>53</td>\n",
       "    </tr>\n",
       "    <tr>\n",
       "      <th>hostel DEN</th>\n",
       "      <td>76</td>\n",
       "      <td>76</td>\n",
       "      <td>76</td>\n",
       "      <td>76</td>\n",
       "    </tr>\n",
       "  </tbody>\n",
       "</table>\n",
       "<p>90 rows × 4 columns</p>\n",
       "</div>"
      ],
      "text/plain": [
       "                            VenueName  Category  VenueLatitude  VenueLongitude\n",
       "HostelName                                                                    \n",
       "&And Hostel Akihabara             100       100            100             100\n",
       "&And Hostel Ueno                   82        82             82              82\n",
       "&And Hostel-Asakusa North-         36        36             36              36\n",
       "1night1980hostel Tokyo             31        31             31              31\n",
       "328 Hostel & Lounge                63        63             63              63\n",
       "...                               ...       ...            ...             ...\n",
       "Retrometro Backpackers            100       100            100             100\n",
       "Sakura Hostel Asakusa             100       100            100             100\n",
       "Sakura Hotel Ikebukuro            100       100            100             100\n",
       "Sakura Hotel Nippori               53        53             53              53\n",
       "hostel DEN                         76        76             76              76\n",
       "\n",
       "[90 rows x 4 columns]"
      ]
     },
     "execution_count": 734,
     "metadata": {},
     "output_type": "execute_result"
    }
   ],
   "source": [
    "tokyo_venues_df.groupby('HostelName').count()"
   ]
  },
  {
   "cell_type": "markdown",
   "metadata": {},
   "source": [
    "Let's extract the hostels which are close to Metro Stations."
   ]
  },
  {
   "cell_type": "code",
   "execution_count": 735,
   "metadata": {},
   "outputs": [
    {
     "data": {
      "text/html": [
       "<div>\n",
       "<style scoped>\n",
       "    .dataframe tbody tr th:only-of-type {\n",
       "        vertical-align: middle;\n",
       "    }\n",
       "\n",
       "    .dataframe tbody tr th {\n",
       "        vertical-align: top;\n",
       "    }\n",
       "\n",
       "    .dataframe thead th {\n",
       "        text-align: right;\n",
       "    }\n",
       "</style>\n",
       "<table border=\"1\" class=\"dataframe\">\n",
       "  <thead>\n",
       "    <tr style=\"text-align: right;\">\n",
       "      <th></th>\n",
       "      <th>HostelName</th>\n",
       "      <th>VenueName</th>\n",
       "      <th>Category</th>\n",
       "      <th>VenueLatitude</th>\n",
       "      <th>VenueLongitude</th>\n",
       "    </tr>\n",
       "  </thead>\n",
       "  <tbody>\n",
       "    <tr>\n",
       "      <th>70</th>\n",
       "      <td>&amp;And Hostel Akihabara</td>\n",
       "      <td>Akihabara Station (秋葉原駅)</td>\n",
       "      <td>Train Station</td>\n",
       "      <td>35.698357</td>\n",
       "      <td>139.773120</td>\n",
       "    </tr>\n",
       "    <tr>\n",
       "      <th>73</th>\n",
       "      <td>&amp;And Hostel Akihabara</td>\n",
       "      <td>JR Sōbu Line Akihabara Station (JR 総武線 秋葉原駅)</td>\n",
       "      <td>Train Station</td>\n",
       "      <td>35.698358</td>\n",
       "      <td>139.773288</td>\n",
       "    </tr>\n",
       "    <tr>\n",
       "      <th>74</th>\n",
       "      <td>&amp;And Hostel Akihabara</td>\n",
       "      <td>Akihabara Electric Town Exit (秋葉原駅 電気街口)</td>\n",
       "      <td>Train Station</td>\n",
       "      <td>35.698818</td>\n",
       "      <td>139.772570</td>\n",
       "    </tr>\n",
       "    <tr>\n",
       "      <th>170</th>\n",
       "      <td>&amp;And Hostel Ueno</td>\n",
       "      <td>Iriya Entrance (JR上野駅 入谷口)</td>\n",
       "      <td>Train Station</td>\n",
       "      <td>35.714337</td>\n",
       "      <td>139.778622</td>\n",
       "    </tr>\n",
       "    <tr>\n",
       "      <th>358</th>\n",
       "      <td>328 Hostel &amp; Lounge</td>\n",
       "      <td>ホテル JAL CITY バス乗り場</td>\n",
       "      <td>Bus Station</td>\n",
       "      <td>35.551771</td>\n",
       "      <td>139.748390</td>\n",
       "    </tr>\n",
       "    <tr>\n",
       "      <th>729</th>\n",
       "      <td>Anne Hostel Asakusabashi</td>\n",
       "      <td>JR両国駅 西口</td>\n",
       "      <td>Train Station</td>\n",
       "      <td>35.695936</td>\n",
       "      <td>139.792701</td>\n",
       "    </tr>\n",
       "    <tr>\n",
       "      <th>804</th>\n",
       "      <td>Anne Hostel Yokozuna</td>\n",
       "      <td>JR両国駅 西口</td>\n",
       "      <td>Train Station</td>\n",
       "      <td>35.695936</td>\n",
       "      <td>139.792701</td>\n",
       "    </tr>\n",
       "    <tr>\n",
       "      <th>1338</th>\n",
       "      <td>Astro Station</td>\n",
       "      <td>ステーショナリーと印刷のお店 CHIKUHO</td>\n",
       "      <td>Stationery Store</td>\n",
       "      <td>35.712255</td>\n",
       "      <td>139.704978</td>\n",
       "    </tr>\n",
       "    <tr>\n",
       "      <th>1584</th>\n",
       "      <td>Backpackers Hostel K's House Tokyo</td>\n",
       "      <td>Asakusa Line Kuramae Station (A17) (都営浅草線 蔵前駅)</td>\n",
       "      <td>Metro Station</td>\n",
       "      <td>35.703633</td>\n",
       "      <td>139.791488</td>\n",
       "    </tr>\n",
       "    <tr>\n",
       "      <th>2301</th>\n",
       "      <td>Book And Bed Tokyo Ikebukuro</td>\n",
       "      <td>Loft (池袋ロフト)</td>\n",
       "      <td>Stationery Store</td>\n",
       "      <td>35.728704</td>\n",
       "      <td>139.711455</td>\n",
       "    </tr>\n",
       "    <tr>\n",
       "      <th>2647</th>\n",
       "      <td>Capsule Inn Kinshichou</td>\n",
       "      <td>Loft (錦糸町ロフト)</td>\n",
       "      <td>Stationery Store</td>\n",
       "      <td>35.696419</td>\n",
       "      <td>139.815348</td>\n",
       "    </tr>\n",
       "    <tr>\n",
       "      <th>3850</th>\n",
       "      <td>Edo Tokyo Hostel</td>\n",
       "      <td>都営バス 江戸川高校前</td>\n",
       "      <td>Bus Station</td>\n",
       "      <td>35.710128</td>\n",
       "      <td>139.863264</td>\n",
       "    </tr>\n",
       "    <tr>\n",
       "      <th>3860</th>\n",
       "      <td>Emblem Hostel Nishiarai</td>\n",
       "      <td>Nishiarai Station (TS13) (西新井駅)</td>\n",
       "      <td>Train Station</td>\n",
       "      <td>35.777320</td>\n",
       "      <td>139.790400</td>\n",
       "    </tr>\n",
       "    <tr>\n",
       "      <th>3891</th>\n",
       "      <td>Emblem Hostel Nishiarai</td>\n",
       "      <td>都営バス・東武バス 島根三丁目</td>\n",
       "      <td>Bus Station</td>\n",
       "      <td>35.778506</td>\n",
       "      <td>139.796242</td>\n",
       "    </tr>\n",
       "    <tr>\n",
       "      <th>8690</th>\n",
       "      <td>Hostel＆Café East57 Asakusabashi</td>\n",
       "      <td>JR両国駅 西口</td>\n",
       "      <td>Train Station</td>\n",
       "      <td>35.695936</td>\n",
       "      <td>139.792701</td>\n",
       "    </tr>\n",
       "    <tr>\n",
       "      <th>9457</th>\n",
       "      <td>Ikidane House</td>\n",
       "      <td>Tabata Station (田端駅)</td>\n",
       "      <td>Train Station</td>\n",
       "      <td>35.737648</td>\n",
       "      <td>139.761327</td>\n",
       "    </tr>\n",
       "    <tr>\n",
       "      <th>9459</th>\n",
       "      <td>Ikidane House</td>\n",
       "      <td>JR Yamanote Line Tabata Station (JR山手線 田端駅)</td>\n",
       "      <td>Train Station</td>\n",
       "      <td>35.737674</td>\n",
       "      <td>139.761350</td>\n",
       "    </tr>\n",
       "    <tr>\n",
       "      <th>9463</th>\n",
       "      <td>Ikidane House</td>\n",
       "      <td>東北本線 井堀信号場</td>\n",
       "      <td>Train Station</td>\n",
       "      <td>35.737501</td>\n",
       "      <td>139.765280</td>\n",
       "    </tr>\n",
       "    <tr>\n",
       "      <th>9803</th>\n",
       "      <td>Imano Tokyo Ginza Hostel</td>\n",
       "      <td>K.Itoya</td>\n",
       "      <td>Stationery Store</td>\n",
       "      <td>35.673022</td>\n",
       "      <td>139.767689</td>\n",
       "    </tr>\n",
       "    <tr>\n",
       "      <th>9905</th>\n",
       "      <td>Imano Tokyo Hostel</td>\n",
       "      <td>Sekaido (世界堂)</td>\n",
       "      <td>Stationery Store</td>\n",
       "      <td>35.689938</td>\n",
       "      <td>139.706324</td>\n",
       "    </tr>\n",
       "    <tr>\n",
       "      <th>10348</th>\n",
       "      <td>J's Backpackers</td>\n",
       "      <td>北口</td>\n",
       "      <td>Train Station</td>\n",
       "      <td>35.747522</td>\n",
       "      <td>139.866449</td>\n",
       "    </tr>\n",
       "    <tr>\n",
       "      <th>11588</th>\n",
       "      <td>Khaosan World Ryogoku Hostel</td>\n",
       "      <td>JR両国駅 西口</td>\n",
       "      <td>Train Station</td>\n",
       "      <td>35.695936</td>\n",
       "      <td>139.792701</td>\n",
       "    </tr>\n",
       "    <tr>\n",
       "      <th>12433</th>\n",
       "      <td>MyCUBE by MYSTAYS Asakusa-Kuramae</td>\n",
       "      <td>Asakusa Line Kuramae Station (A17) (都営浅草線 蔵前駅)</td>\n",
       "      <td>Metro Station</td>\n",
       "      <td>35.703633</td>\n",
       "      <td>139.791488</td>\n",
       "    </tr>\n",
       "    <tr>\n",
       "      <th>12742</th>\n",
       "      <td>Nui. Hostel &amp; Bar Lounge</td>\n",
       "      <td>Asakusa Line Kuramae Station (A17) (都営浅草線 蔵前駅)</td>\n",
       "      <td>Metro Station</td>\n",
       "      <td>35.703633</td>\n",
       "      <td>139.791488</td>\n",
       "    </tr>\n",
       "    <tr>\n",
       "      <th>13061</th>\n",
       "      <td>Oakhostel Sakura</td>\n",
       "      <td>Asakusa Line Oshiage Station (A20) (都営浅草線 押上駅)</td>\n",
       "      <td>Metro Station</td>\n",
       "      <td>35.711709</td>\n",
       "      <td>139.814437</td>\n",
       "    </tr>\n",
       "  </tbody>\n",
       "</table>\n",
       "</div>"
      ],
      "text/plain": [
       "                               HostelName  \\\n",
       "70                  &And Hostel Akihabara   \n",
       "73                  &And Hostel Akihabara   \n",
       "74                  &And Hostel Akihabara   \n",
       "170                      &And Hostel Ueno   \n",
       "358                   328 Hostel & Lounge   \n",
       "729              Anne Hostel Asakusabashi   \n",
       "804                  Anne Hostel Yokozuna   \n",
       "1338                        Astro Station   \n",
       "1584   Backpackers Hostel K's House Tokyo   \n",
       "2301         Book And Bed Tokyo Ikebukuro   \n",
       "2647               Capsule Inn Kinshichou   \n",
       "3850                     Edo Tokyo Hostel   \n",
       "3860              Emblem Hostel Nishiarai   \n",
       "3891              Emblem Hostel Nishiarai   \n",
       "8690      Hostel＆Café East57 Asakusabashi   \n",
       "9457                        Ikidane House   \n",
       "9459                        Ikidane House   \n",
       "9463                        Ikidane House   \n",
       "9803             Imano Tokyo Ginza Hostel   \n",
       "9905                   Imano Tokyo Hostel   \n",
       "10348                     J's Backpackers   \n",
       "11588        Khaosan World Ryogoku Hostel   \n",
       "12433   MyCUBE by MYSTAYS Asakusa-Kuramae   \n",
       "12742            Nui. Hostel & Bar Lounge   \n",
       "13061                    Oakhostel Sakura   \n",
       "\n",
       "                                            VenueName          Category  \\\n",
       "70                           Akihabara Station (秋葉原駅)     Train Station   \n",
       "73       JR Sōbu Line Akihabara Station (JR 総武線 秋葉原駅)     Train Station   \n",
       "74           Akihabara Electric Town Exit (秋葉原駅 電気街口)     Train Station   \n",
       "170                        Iriya Entrance (JR上野駅 入谷口)     Train Station   \n",
       "358                                ホテル JAL CITY バス乗り場       Bus Station   \n",
       "729                                          JR両国駅 西口     Train Station   \n",
       "804                                          JR両国駅 西口     Train Station   \n",
       "1338                           ステーショナリーと印刷のお店 CHIKUHO  Stationery Store   \n",
       "1584   Asakusa Line Kuramae Station (A17) (都営浅草線 蔵前駅)     Metro Station   \n",
       "2301                                     Loft (池袋ロフト)  Stationery Store   \n",
       "2647                                    Loft (錦糸町ロフト)  Stationery Store   \n",
       "3850                                      都営バス 江戸川高校前       Bus Station   \n",
       "3860                  Nishiarai Station (TS13) (西新井駅)     Train Station   \n",
       "3891                                  都営バス・東武バス 島根三丁目       Bus Station   \n",
       "8690                                         JR両国駅 西口     Train Station   \n",
       "9457                             Tabata Station (田端駅)     Train Station   \n",
       "9459      JR Yamanote Line Tabata Station (JR山手線 田端駅)     Train Station   \n",
       "9463                                       東北本線 井堀信号場     Train Station   \n",
       "9803                                          K.Itoya  Stationery Store   \n",
       "9905                                    Sekaido (世界堂)  Stationery Store   \n",
       "10348                                              北口     Train Station   \n",
       "11588                                        JR両国駅 西口     Train Station   \n",
       "12433  Asakusa Line Kuramae Station (A17) (都営浅草線 蔵前駅)     Metro Station   \n",
       "12742  Asakusa Line Kuramae Station (A17) (都営浅草線 蔵前駅)     Metro Station   \n",
       "13061  Asakusa Line Oshiage Station (A20) (都営浅草線 押上駅)     Metro Station   \n",
       "\n",
       "       VenueLatitude  VenueLongitude  \n",
       "70         35.698357      139.773120  \n",
       "73         35.698358      139.773288  \n",
       "74         35.698818      139.772570  \n",
       "170        35.714337      139.778622  \n",
       "358        35.551771      139.748390  \n",
       "729        35.695936      139.792701  \n",
       "804        35.695936      139.792701  \n",
       "1338       35.712255      139.704978  \n",
       "1584       35.703633      139.791488  \n",
       "2301       35.728704      139.711455  \n",
       "2647       35.696419      139.815348  \n",
       "3850       35.710128      139.863264  \n",
       "3860       35.777320      139.790400  \n",
       "3891       35.778506      139.796242  \n",
       "8690       35.695936      139.792701  \n",
       "9457       35.737648      139.761327  \n",
       "9459       35.737674      139.761350  \n",
       "9463       35.737501      139.765280  \n",
       "9803       35.673022      139.767689  \n",
       "9905       35.689938      139.706324  \n",
       "10348      35.747522      139.866449  \n",
       "11588      35.695936      139.792701  \n",
       "12433      35.703633      139.791488  \n",
       "12742      35.703633      139.791488  \n",
       "13061      35.711709      139.814437  "
      ]
     },
     "execution_count": 735,
     "metadata": {},
     "output_type": "execute_result"
    }
   ],
   "source": [
    "metro_hostels = tokyo_venues_df[tokyo_venues_df.Category.str.contains('Station')]\n",
    "metro_hostels"
   ]
  },
  {
   "cell_type": "code",
   "execution_count": 736,
   "metadata": {},
   "outputs": [
    {
     "data": {
      "text/plain": [
       "(20, 15)"
      ]
     },
     "execution_count": 736,
     "metadata": {},
     "output_type": "execute_result"
    }
   ],
   "source": [
    "metro_hostels = tokyo_hostels_df[tokyo_hostels_df.Name.isin(metro_hostels.HostelName)]\n",
    "metro_hostels.shape"
   ]
  },
  {
   "cell_type": "code",
   "execution_count": 737,
   "metadata": {},
   "outputs": [
    {
     "data": {
      "text/plain": [
       "Fabulous     10\n",
       "Superb        9\n",
       "Very Good     1\n",
       "Name: RatingCategory, dtype: int64"
      ]
     },
     "execution_count": 737,
     "metadata": {},
     "output_type": "execute_result"
    }
   ],
   "source": [
    "metro_hostels.RatingCategory.value_counts()"
   ]
  },
  {
   "cell_type": "code",
   "execution_count": 738,
   "metadata": {},
   "outputs": [
    {
     "data": {
      "text/plain": [
       "Superb       64\n",
       "Fabulous     38\n",
       "Very Good    11\n",
       "Rating        1\n",
       "Good          1\n",
       "Name: RatingCategory, dtype: int64"
      ]
     },
     "execution_count": 738,
     "metadata": {},
     "output_type": "execute_result"
    }
   ],
   "source": [
    "tokyo_hostels_df.RatingCategory.value_counts()"
   ]
  },
  {
   "cell_type": "code",
   "execution_count": 739,
   "metadata": {},
   "outputs": [
    {
     "name": "stdout",
     "output_type": "stream",
     "text": [
      "Hostels located near a metro/train/bus station:\n",
      "50.0% were rated Fabulous\n"
     ]
    }
   ],
   "source": [
    "print(\"Hostels located near a metro/train/bus station:\")\n",
    "print(f\"{metro_hostels.RatingCategory.value_counts()['Fabulous']/metro_hostels.RatingCategory.value_counts().sum()*100}% were rated Fabulous\")"
   ]
  },
  {
   "cell_type": "code",
   "execution_count": 740,
   "metadata": {},
   "outputs": [
    {
     "name": "stdout",
     "output_type": "stream",
     "text": [
      "In general:\n",
      "33.04347826086956% were rated Fabulous\n"
     ]
    }
   ],
   "source": [
    "print(\"In general:\")\n",
    "print(f\"{tokyo_hostels_df.RatingCategory.value_counts()['Fabulous']/tokyo_hostels_df.RatingCategory.value_counts().sum()*100}% were rated Fabulous\")"
   ]
  },
  {
   "cell_type": "markdown",
   "metadata": {},
   "source": [
    "We can observe above that 50% of the hostels near metro/train/bus stations were rated Fabulous compared to only 33% in general."
   ]
  },
  {
   "cell_type": "markdown",
   "metadata": {},
   "source": [
    "This shows that there is some correlation between the proximity to mode of transportation and the overall rating of the hostel"
   ]
  },
  {
   "cell_type": "markdown",
   "metadata": {},
   "source": [
    "> **The proportion of hostels rated fabulous is more near metro/bus/train stations than in general.**"
   ]
  },
  {
   "cell_type": "markdown",
   "metadata": {},
   "source": [
    "<br>\n",
    "\n",
    "\n",
    "##### Which neighborhood venues affect a user's rating for location of hostel?\n",
    "Let's do a similar analysis for a few categories and see how it affects the user rating. "
   ]
  },
  {
   "cell_type": "markdown",
   "metadata": {},
   "source": [
    "We'll do similar analysis for *Convenience Store*, *Restaurant*, *Bar*, *Shopping Mall* categories"
   ]
  },
  {
   "cell_type": "code",
   "execution_count": 745,
   "metadata": {},
   "outputs": [],
   "source": [
    "hostels_near_store = tokyo_hostels_df[\n",
    "    tokyo_hostels_df.Name.isin(tokyo_venues_df.HostelName[tokyo_venues_df.Category.str.contains('store', case=False)])]"
   ]
  },
  {
   "cell_type": "code",
   "execution_count": 746,
   "metadata": {},
   "outputs": [
    {
     "data": {
      "text/plain": [
       "Superb       51\n",
       "Fabulous     29\n",
       "Very Good     9\n",
       "Name: RatingCategory, dtype: int64"
      ]
     },
     "execution_count": 746,
     "metadata": {},
     "output_type": "execute_result"
    }
   ],
   "source": [
    "hostels_near_store.RatingCategory.value_counts()"
   ]
  },
  {
   "cell_type": "code",
   "execution_count": 747,
   "metadata": {},
   "outputs": [
    {
     "name": "stdout",
     "output_type": "stream",
     "text": [
      "Hostels located near a convenience store:\n",
      "32.58426966292135% were rated Fabulous\n"
     ]
    }
   ],
   "source": [
    "print(\"Hostels located near a convenience store:\")\n",
    "print(f\"{hostels_near_store.RatingCategory.value_counts()['Fabulous']/hostels_near_store.RatingCategory.value_counts().sum()*100}% were rated Fabulous\")"
   ]
  },
  {
   "cell_type": "markdown",
   "metadata": {},
   "source": [
    "> **Travellers do not bother much about proximity to a convenience store doesn't since it doesn't seem to affect overall hostel rating.**"
   ]
  },
  {
   "cell_type": "markdown",
   "metadata": {},
   "source": [
    "Next, we can carry the same analysis for restaurants"
   ]
  },
  {
   "cell_type": "code",
   "execution_count": 748,
   "metadata": {},
   "outputs": [],
   "source": [
    "hostels_near_bar = tokyo_hostels_df[\n",
    "    tokyo_hostels_df.Name.isin(tokyo_venues_df.HostelName[tokyo_venues_df.Category.str.contains('bar', case=False)])]"
   ]
  },
  {
   "cell_type": "code",
   "execution_count": 749,
   "metadata": {},
   "outputs": [
    {
     "data": {
      "text/plain": [
       "Superb       50\n",
       "Fabulous     27\n",
       "Very Good     8\n",
       "Name: RatingCategory, dtype: int64"
      ]
     },
     "execution_count": 749,
     "metadata": {},
     "output_type": "execute_result"
    }
   ],
   "source": [
    "hostels_near_bar.RatingCategory.value_counts()"
   ]
  },
  {
   "cell_type": "code",
   "execution_count": 750,
   "metadata": {},
   "outputs": [
    {
     "name": "stdout",
     "output_type": "stream",
     "text": [
      "Hostels located near a Bar:\n",
      "31.76470588235294% were rated Fabulous\n"
     ]
    }
   ],
   "source": [
    "print(\"Hostels located near a Bar:\")\n",
    "print(f\"{hostels_near_bar.RatingCategory.value_counts()['Fabulous']/hostels_near_bar.RatingCategory.value_counts().sum()*100}% were rated Fabulous\")"
   ]
  },
  {
   "cell_type": "markdown",
   "metadata": {},
   "source": [
    "> **The proportion of hostels rated fabulous is less near a Bar than in general. Travellers seem to avoid hostels near bars**"
   ]
  },
  {
   "cell_type": "markdown",
   "metadata": {},
   "source": [
    "Let's check for public parks"
   ]
  },
  {
   "cell_type": "code",
   "execution_count": 751,
   "metadata": {},
   "outputs": [],
   "source": [
    "hostels_near_mall = tokyo_hostels_df[\n",
    "    tokyo_hostels_df.Name.isin(tokyo_venues_df.HostelName[tokyo_venues_df.Category.str.contains('park', case=False)])]"
   ]
  },
  {
   "cell_type": "code",
   "execution_count": 752,
   "metadata": {},
   "outputs": [
    {
     "data": {
      "text/plain": [
       "Superb       35\n",
       "Fabulous     14\n",
       "Very Good     6\n",
       "Name: RatingCategory, dtype: int64"
      ]
     },
     "execution_count": 752,
     "metadata": {},
     "output_type": "execute_result"
    }
   ],
   "source": [
    "hostels_near_mall.RatingCategory.value_counts()"
   ]
  },
  {
   "cell_type": "code",
   "execution_count": 753,
   "metadata": {},
   "outputs": [
    {
     "name": "stdout",
     "output_type": "stream",
     "text": [
      "Hostels located near a convenience store:\n",
      "25.454545454545453% were rated Fabulous\n"
     ]
    }
   ],
   "source": [
    "print(\"Hostels located near a convenience store:\")\n",
    "print(f\"{hostels_near_mall.RatingCategory.value_counts()['Fabulous']/hostels_near_mall.RatingCategory.value_counts().sum()*100}% were rated Fabulous\")"
   ]
  },
  {
   "cell_type": "markdown",
   "metadata": {},
   "source": [
    "> **Hostels with proximity to a park are quite lowly rated than others. Seems like travellers do not like public parks near hostels.**"
   ]
  },
  {
   "cell_type": "code",
   "execution_count": 754,
   "metadata": {},
   "outputs": [],
   "source": [
    "hostels_near_site = tokyo_hostels_df[\n",
    "    tokyo_hostels_df.Name.isin(tokyo_venues_df.HostelName[tokyo_venues_df.Category.str.contains('Historic Site', case=False)])]"
   ]
  },
  {
   "cell_type": "code",
   "execution_count": 755,
   "metadata": {},
   "outputs": [
    {
     "data": {
      "text/plain": [
       "Fabulous     5\n",
       "Superb       5\n",
       "Very Good    2\n",
       "Name: RatingCategory, dtype: int64"
      ]
     },
     "execution_count": 755,
     "metadata": {},
     "output_type": "execute_result"
    }
   ],
   "source": [
    "hostels_near_site.RatingCategory.value_counts()"
   ]
  },
  {
   "cell_type": "code",
   "execution_count": 756,
   "metadata": {},
   "outputs": [
    {
     "name": "stdout",
     "output_type": "stream",
     "text": [
      "Hostels located near a historic site:\n",
      "41.66666666666667% were rated Fabulous\n"
     ]
    }
   ],
   "source": [
    "print(\"Hostels located near a historic site:\")\n",
    "print(f\"{hostels_near_site.RatingCategory.value_counts()['Fabulous']/hostels_near_site.RatingCategory.value_counts().sum()*100}% were rated Fabulous\")"
   ]
  },
  {
   "cell_type": "markdown",
   "metadata": {},
   "source": [
    "> **The proportion of hostels rated fabulous is more near a historic site than in general.**"
   ]
  },
  {
   "cell_type": "code",
   "execution_count": 757,
   "metadata": {},
   "outputs": [],
   "source": [
    "hostels_near_museum = tokyo_hostels_df[\n",
    "    tokyo_hostels_df.Name.isin(tokyo_venues_df.HostelName[tokyo_venues_df.Category.str.contains('Museum', case=False)])]"
   ]
  },
  {
   "cell_type": "code",
   "execution_count": 758,
   "metadata": {},
   "outputs": [
    {
     "data": {
      "text/plain": [
       "Superb       12\n",
       "Fabulous      6\n",
       "Very Good     3\n",
       "Name: RatingCategory, dtype: int64"
      ]
     },
     "execution_count": 758,
     "metadata": {},
     "output_type": "execute_result"
    }
   ],
   "source": [
    "hostels_near_museum.RatingCategory.value_counts()"
   ]
  },
  {
   "cell_type": "code",
   "execution_count": 759,
   "metadata": {},
   "outputs": [
    {
     "name": "stdout",
     "output_type": "stream",
     "text": [
      "Hostels located near a historic site:\n",
      "28.57142857142857% were rated Fabulous\n"
     ]
    }
   ],
   "source": [
    "print(\"Hostels located near a historic site:\")\n",
    "print(f\"{hostels_near_museum.RatingCategory.value_counts()['Fabulous']/hostels_near_museum.RatingCategory.value_counts().sum()*100}% were rated Fabulous\")"
   ]
  },
  {
   "cell_type": "markdown",
   "metadata": {},
   "source": [
    "> **Proportion of Hostels with proximity to a museum that are lowly rated is quite high than in general.**"
   ]
  },
  {
   "cell_type": "markdown",
   "metadata": {},
   "source": [
    "<br>"
   ]
  },
  {
   "cell_type": "markdown",
   "metadata": {},
   "source": [
    "### 5.2 Clustering"
   ]
  },
  {
   "cell_type": "markdown",
   "metadata": {},
   "source": [
    "Now, we will cluster the hostels twice. Once depending on the different rating parameters and one based on their neighborhood.\n",
    "\n",
    "Consider the following case, that a traveller has selected a hostel, but he finds that it is full! What options does he have? He/She can either go for a hostel which is similar in rating and price to the one he/she has selected. Or he/she can consider hostels which boast similar neighborhood to the selected one.\n",
    "\n",
    "We will help traveller in both cases"
   ]
  },
  {
   "cell_type": "markdown",
   "metadata": {},
   "source": [
    "#### 5.2.1 Clustering based on rating parameters"
   ]
  },
  {
   "cell_type": "code",
   "execution_count": 636,
   "metadata": {},
   "outputs": [],
   "source": [
    "X = tokyo_hostels_df[['StartPrice', 'DistanceFromCityCentre', 'OverallScore', \n",
    "                      'Atmosphere', 'Cleanliness', 'Facilities', 'Location', \n",
    "                      'Security', 'Staff', 'ValueForMoney']]"
   ]
  },
  {
   "cell_type": "code",
   "execution_count": 644,
   "metadata": {},
   "outputs": [],
   "source": [
    "def get_inertia(n_clusters):\n",
    "    km = KMeans(n_clusters=n_clusters, init='k-means++', max_iter=15, random_state=8)\n",
    "    km.fit(X)\n",
    "    return km.inertia_"
   ]
  },
  {
   "cell_type": "code",
   "execution_count": 645,
   "metadata": {},
   "outputs": [],
   "source": [
    "scores = [get_inertia(x) for x in range(2, 21)]"
   ]
  },
  {
   "cell_type": "code",
   "execution_count": 646,
   "metadata": {},
   "outputs": [
    {
     "data": {
      "text/plain": [
       "Text(0, 0.5, 'Error')"
      ]
     },
     "execution_count": 646,
     "metadata": {},
     "output_type": "execute_result"
    },
    {
     "data": {
      "image/png": "[encoded data removed]",
      "text/plain": [
       "<Figure size 720x576 with 1 Axes>"
      ]
     },
     "metadata": {
      "needs_background": "light"
     },
     "output_type": "display_data"
    }
   ],
   "source": [
    "plt.figure(figsize=[10, 8])\n",
    "sns.lineplot(x=range(2, 21), y=scores)\n",
    "plt.title(\"K vs Error\")\n",
    "plt.xticks(range(2, 21))\n",
    "plt.xlabel(\"K\")\n",
    "plt.ylabel(\"Error\")"
   ]
  },
  {
   "cell_type": "markdown",
   "metadata": {},
   "source": [
    "It is evident from the above plot that we have 7 clusters in our data. Let's retrain the model and plot the hostels on the map."
   ]
  },
  {
   "cell_type": "code",
   "execution_count": 647,
   "metadata": {},
   "outputs": [
    {
     "data": {
      "text/plain": [
       "KMeans(algorithm='auto', copy_x=True, init='k-means++', max_iter=300,\n",
       "       n_clusters=7, n_init=10, n_jobs=None, precompute_distances='auto',\n",
       "       random_state=None, tol=0.0001, verbose=0)"
      ]
     },
     "execution_count": 647,
     "metadata": {},
     "output_type": "execute_result"
    }
   ],
   "source": [
    "# train final model with k=9\n",
    "kmeans = KMeans(n_clusters=7)\n",
    "kmeans.fit(X)"
   ]
  },
  {
   "cell_type": "code",
   "execution_count": 653,
   "metadata": {},
   "outputs": [],
   "source": [
    "tokyo_hostels_df['RatingCluster'] = kmeans.labels_"
   ]
  },
  {
   "cell_type": "code",
   "execution_count": 652,
   "metadata": {},
   "outputs": [
    {
     "data": {
      "text/html": [
       "<div style=\"width:100%;\"><div style=\"position:relative;width:100%;height:0;padding-bottom:60%;\"><iframe src=\"data:text/html;charset=utf-8;base64,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\" style=\"position:absolute;width:100%;height:100%;left:0;top:0;border:none !important;\" allowfullscreen webkitallowfullscreen mozallowfullscreen></iframe></div></div>"
      ],
      "text/plain": [
       "<folium.folium.Map at 0x1a5039b790>"
      ]
     },
     "execution_count": 652,
     "metadata": {},
     "output_type": "execute_result"
    }
   ],
   "source": [
    "tokyo_map = folium.Map(location=(35.689487, 139.691711), zoom_start=11)\n",
    "\n",
    "# set color scheme for the clusters\n",
    "x = np.arange(9)\n",
    "ys = [i + x + (i*x)**2 for i in range(9)]\n",
    "colors_array = cm.rainbow(np.linspace(0, 1, len(ys)))\n",
    "rainbow = [colors.rgb2hex(i) for i in colors_array]\n",
    "\n",
    "# add markers to map\n",
    "markers_colors = []\n",
    "for lat, lng, name, cluster in zip(tokyo_hostels_df.Latitude, tokyo_hostels_df.Longitude, tokyo_hostels_df.Name, kmeans.labels_):\n",
    "    label = folium.Popup(str(name) + ' Cluster ' + str(cluster), parse_html=True)\n",
    "    folium.CircleMarker(\n",
    "        [lat, lng],\n",
    "        radius=4,\n",
    "        popup=label,\n",
    "        color=rainbow[cluster-1],\n",
    "        fill=True,\n",
    "        fill_color='#FFF',\n",
    "        fill_opacity=0.75,\n",
    "        parse_html=False).add_to(tokyo_map)\n",
    "    \n",
    "tokyo_map"
   ]
  },
  {
   "cell_type": "markdown",
   "metadata": {},
   "source": [
    "_**Examining Clusters**_"
   ]
  },
  {
   "cell_type": "markdown",
   "metadata": {},
   "source": [
    "Now, we can examine each cluster and determine the discriminating venue categories that distinguish each cluster. But we won't be doing it for all. We'll compare first two clusters for the sake of brevity"
   ]
  },
  {
   "cell_type": "markdown",
   "metadata": {},
   "source": [
    "##### Cluster 0"
   ]
  },
  {
   "cell_type": "code",
   "execution_count": 662,
   "metadata": {},
   "outputs": [
    {
     "data": {
      "text/html": [
       "<div>\n",
       "<style scoped>\n",
       "    .dataframe tbody tr th:only-of-type {\n",
       "        vertical-align: middle;\n",
       "    }\n",
       "\n",
       "    .dataframe tbody tr th {\n",
       "        vertical-align: top;\n",
       "    }\n",
       "\n",
       "    .dataframe thead th {\n",
       "        text-align: right;\n",
       "    }\n",
       "</style>\n",
       "<table border=\"1\" class=\"dataframe\">\n",
       "  <thead>\n",
       "    <tr style=\"text-align: right;\">\n",
       "      <th></th>\n",
       "      <th>StartPrice</th>\n",
       "      <th>DistanceFromCityCentre</th>\n",
       "      <th>OverallScore</th>\n",
       "      <th>Atmosphere</th>\n",
       "      <th>Cleanliness</th>\n",
       "      <th>Facilities</th>\n",
       "      <th>Location</th>\n",
       "      <th>Security</th>\n",
       "      <th>Staff</th>\n",
       "      <th>ValueForMoney</th>\n",
       "      <th>Longitude</th>\n",
       "      <th>Latitude</th>\n",
       "      <th>RatingCluster</th>\n",
       "    </tr>\n",
       "  </thead>\n",
       "  <tbody>\n",
       "    <tr>\n",
       "      <th>count</th>\n",
       "      <td>14.000000</td>\n",
       "      <td>14.000000</td>\n",
       "      <td>14.000000</td>\n",
       "      <td>14.00000</td>\n",
       "      <td>14.000000</td>\n",
       "      <td>14.00000</td>\n",
       "      <td>14.000000</td>\n",
       "      <td>14.000000</td>\n",
       "      <td>14.000000</td>\n",
       "      <td>14.000000</td>\n",
       "      <td>14.000000</td>\n",
       "      <td>14.000000</td>\n",
       "      <td>14.0</td>\n",
       "    </tr>\n",
       "    <tr>\n",
       "      <th>mean</th>\n",
       "      <td>3785.714286</td>\n",
       "      <td>6.664286</td>\n",
       "      <td>8.671429</td>\n",
       "      <td>8.15000</td>\n",
       "      <td>8.921429</td>\n",
       "      <td>8.20000</td>\n",
       "      <td>8.757143</td>\n",
       "      <td>8.664286</td>\n",
       "      <td>9.185714</td>\n",
       "      <td>8.785714</td>\n",
       "      <td>139.745607</td>\n",
       "      <td>35.692388</td>\n",
       "      <td>0.0</td>\n",
       "    </tr>\n",
       "    <tr>\n",
       "      <th>std</th>\n",
       "      <td>203.269972</td>\n",
       "      <td>3.828156</td>\n",
       "      <td>0.722633</td>\n",
       "      <td>1.11338</td>\n",
       "      <td>1.117813</td>\n",
       "      <td>1.03478</td>\n",
       "      <td>0.672211</td>\n",
       "      <td>1.305378</td>\n",
       "      <td>0.758396</td>\n",
       "      <td>0.995264</td>\n",
       "      <td>0.037821</td>\n",
       "      <td>0.044775</td>\n",
       "      <td>0.0</td>\n",
       "    </tr>\n",
       "    <tr>\n",
       "      <th>min</th>\n",
       "      <td>3500.000000</td>\n",
       "      <td>1.400000</td>\n",
       "      <td>6.800000</td>\n",
       "      <td>6.00000</td>\n",
       "      <td>6.700000</td>\n",
       "      <td>6.00000</td>\n",
       "      <td>8.000000</td>\n",
       "      <td>6.000000</td>\n",
       "      <td>7.300000</td>\n",
       "      <td>6.700000</td>\n",
       "      <td>139.693004</td>\n",
       "      <td>35.550492</td>\n",
       "      <td>0.0</td>\n",
       "    </tr>\n",
       "    <tr>\n",
       "      <th>25%</th>\n",
       "      <td>3600.000000</td>\n",
       "      <td>4.250000</td>\n",
       "      <td>8.475000</td>\n",
       "      <td>7.92500</td>\n",
       "      <td>8.100000</td>\n",
       "      <td>8.00000</td>\n",
       "      <td>8.000000</td>\n",
       "      <td>7.775000</td>\n",
       "      <td>8.700000</td>\n",
       "      <td>8.450000</td>\n",
       "      <td>139.704999</td>\n",
       "      <td>35.689835</td>\n",
       "      <td>0.0</td>\n",
       "    </tr>\n",
       "    <tr>\n",
       "      <th>50%</th>\n",
       "      <td>3750.000000</td>\n",
       "      <td>6.750000</td>\n",
       "      <td>8.950000</td>\n",
       "      <td>8.00000</td>\n",
       "      <td>9.300000</td>\n",
       "      <td>8.50000</td>\n",
       "      <td>8.950000</td>\n",
       "      <td>9.050000</td>\n",
       "      <td>9.300000</td>\n",
       "      <td>8.950000</td>\n",
       "      <td>139.748664</td>\n",
       "      <td>35.704967</td>\n",
       "      <td>0.0</td>\n",
       "    </tr>\n",
       "    <tr>\n",
       "      <th>75%</th>\n",
       "      <td>3975.000000</td>\n",
       "      <td>8.850000</td>\n",
       "      <td>9.100000</td>\n",
       "      <td>8.97500</td>\n",
       "      <td>9.700000</td>\n",
       "      <td>9.00000</td>\n",
       "      <td>9.375000</td>\n",
       "      <td>9.600000</td>\n",
       "      <td>9.875000</td>\n",
       "      <td>9.275000</td>\n",
       "      <td>139.777024</td>\n",
       "      <td>35.713089</td>\n",
       "      <td>0.0</td>\n",
       "    </tr>\n",
       "    <tr>\n",
       "      <th>max</th>\n",
       "      <td>4100.000000</td>\n",
       "      <td>16.100000</td>\n",
       "      <td>9.400000</td>\n",
       "      <td>10.00000</td>\n",
       "      <td>10.000000</td>\n",
       "      <td>9.30000</td>\n",
       "      <td>9.700000</td>\n",
       "      <td>10.000000</td>\n",
       "      <td>10.000000</td>\n",
       "      <td>10.000000</td>\n",
       "      <td>139.794981</td>\n",
       "      <td>35.731081</td>\n",
       "      <td>0.0</td>\n",
       "    </tr>\n",
       "  </tbody>\n",
       "</table>\n",
       "</div>"
      ],
      "text/plain": [
       "        StartPrice  DistanceFromCityCentre  OverallScore  Atmosphere  \\\n",
       "count    14.000000               14.000000     14.000000    14.00000   \n",
       "mean   3785.714286                6.664286      8.671429     8.15000   \n",
       "std     203.269972                3.828156      0.722633     1.11338   \n",
       "min    3500.000000                1.400000      6.800000     6.00000   \n",
       "25%    3600.000000                4.250000      8.475000     7.92500   \n",
       "50%    3750.000000                6.750000      8.950000     8.00000   \n",
       "75%    3975.000000                8.850000      9.100000     8.97500   \n",
       "max    4100.000000               16.100000      9.400000    10.00000   \n",
       "\n",
       "       Cleanliness  Facilities   Location   Security      Staff  \\\n",
       "count    14.000000    14.00000  14.000000  14.000000  14.000000   \n",
       "mean      8.921429     8.20000   8.757143   8.664286   9.185714   \n",
       "std       1.117813     1.03478   0.672211   1.305378   0.758396   \n",
       "min       6.700000     6.00000   8.000000   6.000000   7.300000   \n",
       "25%       8.100000     8.00000   8.000000   7.775000   8.700000   \n",
       "50%       9.300000     8.50000   8.950000   9.050000   9.300000   \n",
       "75%       9.700000     9.00000   9.375000   9.600000   9.875000   \n",
       "max      10.000000     9.30000   9.700000  10.000000  10.000000   \n",
       "\n",
       "       ValueForMoney   Longitude   Latitude  RatingCluster  \n",
       "count      14.000000   14.000000  14.000000           14.0  \n",
       "mean        8.785714  139.745607  35.692388            0.0  \n",
       "std         0.995264    0.037821   0.044775            0.0  \n",
       "min         6.700000  139.693004  35.550492            0.0  \n",
       "25%         8.450000  139.704999  35.689835            0.0  \n",
       "50%         8.950000  139.748664  35.704967            0.0  \n",
       "75%         9.275000  139.777024  35.713089            0.0  \n",
       "max        10.000000  139.794981  35.731081            0.0  "
      ]
     },
     "execution_count": 662,
     "metadata": {},
     "output_type": "execute_result"
    }
   ],
   "source": [
    "tokyo_hostels_df[tokyo_hostels_df.RatingCluster == 0].describe()"
   ]
  },
  {
   "cell_type": "markdown",
   "metadata": {},
   "source": [
    "**Traits: High Cost, Within 6km of City center, Slightly low facilities rating**"
   ]
  },
  {
   "cell_type": "markdown",
   "metadata": {},
   "source": [
    "##### Cluster 1"
   ]
  },
  {
   "cell_type": "code",
   "execution_count": 663,
   "metadata": {},
   "outputs": [
    {
     "data": {
      "text/html": [
       "<div>\n",
       "<style scoped>\n",
       "    .dataframe tbody tr th:only-of-type {\n",
       "        vertical-align: middle;\n",
       "    }\n",
       "\n",
       "    .dataframe tbody tr th {\n",
       "        vertical-align: top;\n",
       "    }\n",
       "\n",
       "    .dataframe thead th {\n",
       "        text-align: right;\n",
       "    }\n",
       "</style>\n",
       "<table border=\"1\" class=\"dataframe\">\n",
       "  <thead>\n",
       "    <tr style=\"text-align: right;\">\n",
       "      <th></th>\n",
       "      <th>StartPrice</th>\n",
       "      <th>DistanceFromCityCentre</th>\n",
       "      <th>OverallScore</th>\n",
       "      <th>Atmosphere</th>\n",
       "      <th>Cleanliness</th>\n",
       "      <th>Facilities</th>\n",
       "      <th>Location</th>\n",
       "      <th>Security</th>\n",
       "      <th>Staff</th>\n",
       "      <th>ValueForMoney</th>\n",
       "      <th>Longitude</th>\n",
       "      <th>Latitude</th>\n",
       "      <th>RatingCluster</th>\n",
       "    </tr>\n",
       "  </thead>\n",
       "  <tbody>\n",
       "    <tr>\n",
       "      <th>count</th>\n",
       "      <td>31.000000</td>\n",
       "      <td>31.000000</td>\n",
       "      <td>31.000000</td>\n",
       "      <td>31.000000</td>\n",
       "      <td>31.000000</td>\n",
       "      <td>31.000000</td>\n",
       "      <td>31.000000</td>\n",
       "      <td>31.000000</td>\n",
       "      <td>31.000000</td>\n",
       "      <td>31.000000</td>\n",
       "      <td>31.000000</td>\n",
       "      <td>31.000000</td>\n",
       "      <td>31.0</td>\n",
       "    </tr>\n",
       "    <tr>\n",
       "      <th>mean</th>\n",
       "      <td>2070.967742</td>\n",
       "      <td>8.670968</td>\n",
       "      <td>8.867742</td>\n",
       "      <td>8.235484</td>\n",
       "      <td>9.141935</td>\n",
       "      <td>8.767742</td>\n",
       "      <td>8.538710</td>\n",
       "      <td>9.151613</td>\n",
       "      <td>9.254839</td>\n",
       "      <td>8.961290</td>\n",
       "      <td>139.772538</td>\n",
       "      <td>35.702886</td>\n",
       "      <td>1.0</td>\n",
       "    </tr>\n",
       "    <tr>\n",
       "      <th>std</th>\n",
       "      <td>103.902353</td>\n",
       "      <td>2.939183</td>\n",
       "      <td>0.637384</td>\n",
       "      <td>1.205141</td>\n",
       "      <td>0.841734</td>\n",
       "      <td>0.884830</td>\n",
       "      <td>1.164954</td>\n",
       "      <td>0.622292</td>\n",
       "      <td>0.551264</td>\n",
       "      <td>0.735607</td>\n",
       "      <td>0.034510</td>\n",
       "      <td>0.039464</td>\n",
       "      <td>0.0</td>\n",
       "    </tr>\n",
       "    <tr>\n",
       "      <th>min</th>\n",
       "      <td>1900.000000</td>\n",
       "      <td>1.600000</td>\n",
       "      <td>7.000000</td>\n",
       "      <td>4.000000</td>\n",
       "      <td>6.000000</td>\n",
       "      <td>6.000000</td>\n",
       "      <td>4.000000</td>\n",
       "      <td>7.700000</td>\n",
       "      <td>8.000000</td>\n",
       "      <td>6.500000</td>\n",
       "      <td>139.667695</td>\n",
       "      <td>35.526993</td>\n",
       "      <td>1.0</td>\n",
       "    </tr>\n",
       "    <tr>\n",
       "      <th>25%</th>\n",
       "      <td>2000.000000</td>\n",
       "      <td>8.050000</td>\n",
       "      <td>8.700000</td>\n",
       "      <td>8.000000</td>\n",
       "      <td>8.950000</td>\n",
       "      <td>8.550000</td>\n",
       "      <td>8.500000</td>\n",
       "      <td>8.950000</td>\n",
       "      <td>9.100000</td>\n",
       "      <td>8.800000</td>\n",
       "      <td>139.776794</td>\n",
       "      <td>35.692738</td>\n",
       "      <td>1.0</td>\n",
       "    </tr>\n",
       "    <tr>\n",
       "      <th>50%</th>\n",
       "      <td>2000.000000</td>\n",
       "      <td>8.700000</td>\n",
       "      <td>9.000000</td>\n",
       "      <td>8.400000</td>\n",
       "      <td>9.300000</td>\n",
       "      <td>9.000000</td>\n",
       "      <td>8.900000</td>\n",
       "      <td>9.200000</td>\n",
       "      <td>9.400000</td>\n",
       "      <td>9.100000</td>\n",
       "      <td>139.782843</td>\n",
       "      <td>35.698945</td>\n",
       "      <td>1.0</td>\n",
       "    </tr>\n",
       "    <tr>\n",
       "      <th>75%</th>\n",
       "      <td>2200.000000</td>\n",
       "      <td>9.600000</td>\n",
       "      <td>9.200000</td>\n",
       "      <td>8.800000</td>\n",
       "      <td>9.600000</td>\n",
       "      <td>9.100000</td>\n",
       "      <td>9.100000</td>\n",
       "      <td>9.500000</td>\n",
       "      <td>9.600000</td>\n",
       "      <td>9.250000</td>\n",
       "      <td>139.791735</td>\n",
       "      <td>35.721996</td>\n",
       "      <td>1.0</td>\n",
       "    </tr>\n",
       "    <tr>\n",
       "      <th>max</th>\n",
       "      <td>2200.000000</td>\n",
       "      <td>18.100000</td>\n",
       "      <td>10.000000</td>\n",
       "      <td>10.000000</td>\n",
       "      <td>10.000000</td>\n",
       "      <td>10.000000</td>\n",
       "      <td>10.000000</td>\n",
       "      <td>10.000000</td>\n",
       "      <td>10.000000</td>\n",
       "      <td>10.000000</td>\n",
       "      <td>139.800993</td>\n",
       "      <td>35.778200</td>\n",
       "      <td>1.0</td>\n",
       "    </tr>\n",
       "  </tbody>\n",
       "</table>\n",
       "</div>"
      ],
      "text/plain": [
       "        StartPrice  DistanceFromCityCentre  OverallScore  Atmosphere  \\\n",
       "count    31.000000               31.000000     31.000000   31.000000   \n",
       "mean   2070.967742                8.670968      8.867742    8.235484   \n",
       "std     103.902353                2.939183      0.637384    1.205141   \n",
       "min    1900.000000                1.600000      7.000000    4.000000   \n",
       "25%    2000.000000                8.050000      8.700000    8.000000   \n",
       "50%    2000.000000                8.700000      9.000000    8.400000   \n",
       "75%    2200.000000                9.600000      9.200000    8.800000   \n",
       "max    2200.000000               18.100000     10.000000   10.000000   \n",
       "\n",
       "       Cleanliness  Facilities   Location   Security      Staff  \\\n",
       "count    31.000000   31.000000  31.000000  31.000000  31.000000   \n",
       "mean      9.141935    8.767742   8.538710   9.151613   9.254839   \n",
       "std       0.841734    0.884830   1.164954   0.622292   0.551264   \n",
       "min       6.000000    6.000000   4.000000   7.700000   8.000000   \n",
       "25%       8.950000    8.550000   8.500000   8.950000   9.100000   \n",
       "50%       9.300000    9.000000   8.900000   9.200000   9.400000   \n",
       "75%       9.600000    9.100000   9.100000   9.500000   9.600000   \n",
       "max      10.000000   10.000000  10.000000  10.000000  10.000000   \n",
       "\n",
       "       ValueForMoney   Longitude   Latitude  RatingCluster  \n",
       "count      31.000000   31.000000  31.000000           31.0  \n",
       "mean        8.961290  139.772538  35.702886            1.0  \n",
       "std         0.735607    0.034510   0.039464            0.0  \n",
       "min         6.500000  139.667695  35.526993            1.0  \n",
       "25%         8.800000  139.776794  35.692738            1.0  \n",
       "50%         9.100000  139.782843  35.698945            1.0  \n",
       "75%         9.250000  139.791735  35.721996            1.0  \n",
       "max        10.000000  139.800993  35.778200            1.0  "
      ]
     },
     "execution_count": 663,
     "metadata": {},
     "output_type": "execute_result"
    }
   ],
   "source": [
    "tokyo_hostels_df[tokyo_hostels_df.RatingCluster == 1].describe()"
   ]
  },
  {
   "cell_type": "markdown",
   "metadata": {},
   "source": [
    "**Traits: Low Cost, Within 9km of City center, High staff and cleanliness ratings. Low atmospehere rating**"
   ]
  },
  {
   "cell_type": "markdown",
   "metadata": {},
   "source": [
    "Now suppose that I want to stay at _**Retrometro Backpackers**_. However, when I go to book, it shows that it doesn't have any spots available! Fortunately, I can now use the cluster result to find a hostel similar to Retrometro Backpackers. Let's see what options do I have!"
   ]
  },
  {
   "cell_type": "code",
   "execution_count": 664,
   "metadata": {},
   "outputs": [
    {
     "data": {
      "text/html": [
       "<div>\n",
       "<style scoped>\n",
       "    .dataframe tbody tr th:only-of-type {\n",
       "        vertical-align: middle;\n",
       "    }\n",
       "\n",
       "    .dataframe tbody tr th {\n",
       "        vertical-align: top;\n",
       "    }\n",
       "\n",
       "    .dataframe thead th {\n",
       "        text-align: right;\n",
       "    }\n",
       "</style>\n",
       "<table border=\"1\" class=\"dataframe\">\n",
       "  <thead>\n",
       "    <tr style=\"text-align: right;\">\n",
       "      <th></th>\n",
       "      <th>Name</th>\n",
       "      <th>City</th>\n",
       "      <th>StartPrice</th>\n",
       "      <th>DistanceFromCityCentre</th>\n",
       "      <th>OverallScore</th>\n",
       "      <th>RatingCategory</th>\n",
       "      <th>Atmosphere</th>\n",
       "      <th>Cleanliness</th>\n",
       "      <th>Facilities</th>\n",
       "      <th>Location</th>\n",
       "      <th>Security</th>\n",
       "      <th>Staff</th>\n",
       "      <th>ValueForMoney</th>\n",
       "      <th>Longitude</th>\n",
       "      <th>Latitude</th>\n",
       "      <th>RatingCluster</th>\n",
       "    </tr>\n",
       "  </thead>\n",
       "  <tbody>\n",
       "    <tr>\n",
       "      <th>275</th>\n",
       "      <td>Retrometro Backpackers</td>\n",
       "      <td>Tokyo</td>\n",
       "      <td>3000</td>\n",
       "      <td>9.2</td>\n",
       "      <td>9.4</td>\n",
       "      <td>Superb</td>\n",
       "      <td>9.4</td>\n",
       "      <td>9.4</td>\n",
       "      <td>9.0</td>\n",
       "      <td>9.4</td>\n",
       "      <td>9.5</td>\n",
       "      <td>9.8</td>\n",
       "      <td>9.6</td>\n",
       "      <td>139.789362</td>\n",
       "      <td>35.713157</td>\n",
       "      <td>3</td>\n",
       "    </tr>\n",
       "  </tbody>\n",
       "</table>\n",
       "</div>"
      ],
      "text/plain": [
       "                       Name   City  StartPrice  DistanceFromCityCentre  \\\n",
       "275  Retrometro Backpackers  Tokyo        3000                     9.2   \n",
       "\n",
       "     OverallScore RatingCategory  Atmosphere  Cleanliness  Facilities  \\\n",
       "275           9.4         Superb         9.4          9.4         9.0   \n",
       "\n",
       "     Location  Security  Staff  ValueForMoney   Longitude   Latitude  \\\n",
       "275       9.4       9.5    9.8            9.6  139.789362  35.713157   \n",
       "\n",
       "     RatingCluster  \n",
       "275              3  "
      ]
     },
     "execution_count": 664,
     "metadata": {},
     "output_type": "execute_result"
    }
   ],
   "source": [
    "tokyo_hostels_df[tokyo_hostels_df.Name.str.contains(\"Retrometro\")]"
   ]
  },
  {
   "cell_type": "markdown",
   "metadata": {},
   "source": [
    "Retrometro Backpackers' RatingCluster is 3. Let's see what options do I have!"
   ]
  },
  {
   "cell_type": "code",
   "execution_count": 669,
   "metadata": {},
   "outputs": [
    {
     "data": {
      "text/html": [
       "<div>\n",
       "<style scoped>\n",
       "    .dataframe tbody tr th:only-of-type {\n",
       "        vertical-align: middle;\n",
       "    }\n",
       "\n",
       "    .dataframe tbody tr th {\n",
       "        vertical-align: top;\n",
       "    }\n",
       "\n",
       "    .dataframe thead th {\n",
       "        text-align: right;\n",
       "    }\n",
       "</style>\n",
       "<table border=\"1\" class=\"dataframe\">\n",
       "  <thead>\n",
       "    <tr style=\"text-align: right;\">\n",
       "      <th></th>\n",
       "      <th>Name</th>\n",
       "      <th>City</th>\n",
       "      <th>StartPrice</th>\n",
       "      <th>DistanceFromCityCentre</th>\n",
       "      <th>OverallScore</th>\n",
       "      <th>RatingCategory</th>\n",
       "      <th>Atmosphere</th>\n",
       "      <th>Cleanliness</th>\n",
       "      <th>Facilities</th>\n",
       "      <th>Location</th>\n",
       "      <th>Security</th>\n",
       "      <th>Staff</th>\n",
       "      <th>ValueForMoney</th>\n",
       "      <th>Longitude</th>\n",
       "      <th>Latitude</th>\n",
       "      <th>RatingCluster</th>\n",
       "    </tr>\n",
       "  </thead>\n",
       "  <tbody>\n",
       "    <tr>\n",
       "      <th>132</th>\n",
       "      <td>Hostel bedgasm</td>\n",
       "      <td>Tokyo</td>\n",
       "      <td>2900</td>\n",
       "      <td>9.5</td>\n",
       "      <td>9.6</td>\n",
       "      <td>Superb</td>\n",
       "      <td>9.6</td>\n",
       "      <td>9.8</td>\n",
       "      <td>9.6</td>\n",
       "      <td>9.1</td>\n",
       "      <td>9.5</td>\n",
       "      <td>9.9</td>\n",
       "      <td>9.7</td>\n",
       "      <td>139.789033</td>\n",
       "      <td>35.721350</td>\n",
       "      <td>3</td>\n",
       "    </tr>\n",
       "    <tr>\n",
       "      <th>329</th>\n",
       "      <td>Unplan Kagurazaka</td>\n",
       "      <td>Tokyo</td>\n",
       "      <td>3200</td>\n",
       "      <td>4.0</td>\n",
       "      <td>9.5</td>\n",
       "      <td>Superb</td>\n",
       "      <td>9.2</td>\n",
       "      <td>9.9</td>\n",
       "      <td>9.6</td>\n",
       "      <td>8.8</td>\n",
       "      <td>9.6</td>\n",
       "      <td>9.8</td>\n",
       "      <td>9.6</td>\n",
       "      <td>139.731323</td>\n",
       "      <td>35.705065</td>\n",
       "      <td>3</td>\n",
       "    </tr>\n",
       "    <tr>\n",
       "      <th>275</th>\n",
       "      <td>Retrometro Backpackers</td>\n",
       "      <td>Tokyo</td>\n",
       "      <td>3000</td>\n",
       "      <td>9.2</td>\n",
       "      <td>9.4</td>\n",
       "      <td>Superb</td>\n",
       "      <td>9.4</td>\n",
       "      <td>9.4</td>\n",
       "      <td>9.0</td>\n",
       "      <td>9.4</td>\n",
       "      <td>9.5</td>\n",
       "      <td>9.8</td>\n",
       "      <td>9.6</td>\n",
       "      <td>139.789362</td>\n",
       "      <td>35.713157</td>\n",
       "      <td>3</td>\n",
       "    </tr>\n",
       "    <tr>\n",
       "      <th>227</th>\n",
       "      <td>Lyuro Tokyo Kiyosumi -The Share Hotels-</td>\n",
       "      <td>Tokyo</td>\n",
       "      <td>3200</td>\n",
       "      <td>9.1</td>\n",
       "      <td>9.4</td>\n",
       "      <td>Superb</td>\n",
       "      <td>9.3</td>\n",
       "      <td>10.0</td>\n",
       "      <td>10.0</td>\n",
       "      <td>7.3</td>\n",
       "      <td>10.0</td>\n",
       "      <td>9.3</td>\n",
       "      <td>10.0</td>\n",
       "      <td>139.792066</td>\n",
       "      <td>35.681217</td>\n",
       "      <td>3</td>\n",
       "    </tr>\n",
       "    <tr>\n",
       "      <th>6</th>\n",
       "      <td>328 Hostel &amp; Lounge</td>\n",
       "      <td>Tokyo</td>\n",
       "      <td>3300</td>\n",
       "      <td>16.5</td>\n",
       "      <td>9.3</td>\n",
       "      <td>Superb</td>\n",
       "      <td>8.7</td>\n",
       "      <td>9.7</td>\n",
       "      <td>9.3</td>\n",
       "      <td>9.1</td>\n",
       "      <td>9.3</td>\n",
       "      <td>9.7</td>\n",
       "      <td>8.9</td>\n",
       "      <td>139.745467</td>\n",
       "      <td>35.548044</td>\n",
       "      <td>3</td>\n",
       "    </tr>\n",
       "  </tbody>\n",
       "</table>\n",
       "</div>"
      ],
      "text/plain": [
       "                                        Name   City  StartPrice  \\\n",
       "132                           Hostel bedgasm  Tokyo        2900   \n",
       "329                        Unplan Kagurazaka  Tokyo        3200   \n",
       "275                   Retrometro Backpackers  Tokyo        3000   \n",
       "227  Lyuro Tokyo Kiyosumi -The Share Hotels-  Tokyo        3200   \n",
       "6                        328 Hostel & Lounge  Tokyo        3300   \n",
       "\n",
       "     DistanceFromCityCentre  OverallScore RatingCategory  Atmosphere  \\\n",
       "132                     9.5           9.6         Superb         9.6   \n",
       "329                     4.0           9.5         Superb         9.2   \n",
       "275                     9.2           9.4         Superb         9.4   \n",
       "227                     9.1           9.4         Superb         9.3   \n",
       "6                      16.5           9.3         Superb         8.7   \n",
       "\n",
       "     Cleanliness  Facilities  Location  Security  Staff  ValueForMoney  \\\n",
       "132          9.8         9.6       9.1       9.5    9.9            9.7   \n",
       "329          9.9         9.6       8.8       9.6    9.8            9.6   \n",
       "275          9.4         9.0       9.4       9.5    9.8            9.6   \n",
       "227         10.0        10.0       7.3      10.0    9.3           10.0   \n",
       "6            9.7         9.3       9.1       9.3    9.7            8.9   \n",
       "\n",
       "      Longitude   Latitude  RatingCluster  \n",
       "132  139.789033  35.721350              3  \n",
       "329  139.731323  35.705065              3  \n",
       "275  139.789362  35.713157              3  \n",
       "227  139.792066  35.681217              3  \n",
       "6    139.745467  35.548044              3  "
      ]
     },
     "execution_count": 669,
     "metadata": {},
     "output_type": "execute_result"
    }
   ],
   "source": [
    "tokyo_hostels_df[tokyo_hostels_df.RatingCluster == 3].sort_values(['OverallScore'], ascending=False)[:5]"
   ]
  },
  {
   "cell_type": "markdown",
   "metadata": {},
   "source": [
    "Fortunately I can book a bed at Hostel bedgasm! It is similarly priced and rated as Retrometro Backpackers!"
   ]
  },
  {
   "cell_type": "markdown",
   "metadata": {},
   "source": [
    "We can do the same for the other 5 clusters as well, but we are not doing that now."
   ]
  },
  {
   "cell_type": "markdown",
   "metadata": {},
   "source": [
    "#### 5.2.2 Clustering based on neighborhood"
   ]
  },
  {
   "cell_type": "markdown",
   "metadata": {},
   "source": [
    "Now, we will cluster the same hostels. But this time, we will not use ratings or price instead we will use the neighborhood data and see which hostels have similar surroundings. Some travellers focus more on the location of a place rather than the price or ratings. This can be useful for them."
   ]
  },
  {
   "cell_type": "markdown",
   "metadata": {},
   "source": [
    "We will do one-hot encoding for the Category column to convert them to features"
   ]
  },
  {
   "cell_type": "code",
   "execution_count": 760,
   "metadata": {},
   "outputs": [
    {
     "data": {
      "text/html": [
       "<div>\n",
       "<style scoped>\n",
       "    .dataframe tbody tr th:only-of-type {\n",
       "        vertical-align: middle;\n",
       "    }\n",
       "\n",
       "    .dataframe tbody tr th {\n",
       "        vertical-align: top;\n",
       "    }\n",
       "\n",
       "    .dataframe thead th {\n",
       "        text-align: right;\n",
       "    }\n",
       "</style>\n",
       "<table border=\"1\" class=\"dataframe\">\n",
       "  <thead>\n",
       "    <tr style=\"text-align: right;\">\n",
       "      <th></th>\n",
       "      <th>HostelName</th>\n",
       "      <th>ATM</th>\n",
       "      <th>Accessories Store</th>\n",
       "      <th>Adult Boutique</th>\n",
       "      <th>American Restaurant</th>\n",
       "      <th>Antique Shop</th>\n",
       "      <th>Arcade</th>\n",
       "      <th>Argentinian Restaurant</th>\n",
       "      <th>Art Gallery</th>\n",
       "      <th>Art Museum</th>\n",
       "      <th>...</th>\n",
       "      <th>Vietnamese Restaurant</th>\n",
       "      <th>Wagashi Place</th>\n",
       "      <th>Whisky Bar</th>\n",
       "      <th>Wine Bar</th>\n",
       "      <th>Wings Joint</th>\n",
       "      <th>Women's Store</th>\n",
       "      <th>Yakitori Restaurant</th>\n",
       "      <th>Yoshoku Restaurant</th>\n",
       "      <th>Zoo</th>\n",
       "      <th>Zoo Exhibit</th>\n",
       "    </tr>\n",
       "  </thead>\n",
       "  <tbody>\n",
       "    <tr>\n",
       "      <th>70</th>\n",
       "      <td>&amp;And Hostel Akihabara</td>\n",
       "      <td>0</td>\n",
       "      <td>0</td>\n",
       "      <td>0</td>\n",
       "      <td>0</td>\n",
       "      <td>0</td>\n",
       "      <td>0</td>\n",
       "      <td>0</td>\n",
       "      <td>0</td>\n",
       "      <td>0</td>\n",
       "      <td>...</td>\n",
       "      <td>0</td>\n",
       "      <td>0</td>\n",
       "      <td>0</td>\n",
       "      <td>0</td>\n",
       "      <td>0</td>\n",
       "      <td>0</td>\n",
       "      <td>0</td>\n",
       "      <td>0</td>\n",
       "      <td>0</td>\n",
       "      <td>0</td>\n",
       "    </tr>\n",
       "    <tr>\n",
       "      <th>71</th>\n",
       "      <td>&amp;And Hostel Akihabara</td>\n",
       "      <td>0</td>\n",
       "      <td>0</td>\n",
       "      <td>0</td>\n",
       "      <td>0</td>\n",
       "      <td>0</td>\n",
       "      <td>0</td>\n",
       "      <td>0</td>\n",
       "      <td>0</td>\n",
       "      <td>0</td>\n",
       "      <td>...</td>\n",
       "      <td>0</td>\n",
       "      <td>0</td>\n",
       "      <td>0</td>\n",
       "      <td>0</td>\n",
       "      <td>0</td>\n",
       "      <td>0</td>\n",
       "      <td>0</td>\n",
       "      <td>0</td>\n",
       "      <td>0</td>\n",
       "      <td>0</td>\n",
       "    </tr>\n",
       "    <tr>\n",
       "      <th>72</th>\n",
       "      <td>&amp;And Hostel Akihabara</td>\n",
       "      <td>0</td>\n",
       "      <td>0</td>\n",
       "      <td>0</td>\n",
       "      <td>0</td>\n",
       "      <td>0</td>\n",
       "      <td>0</td>\n",
       "      <td>0</td>\n",
       "      <td>0</td>\n",
       "      <td>0</td>\n",
       "      <td>...</td>\n",
       "      <td>0</td>\n",
       "      <td>0</td>\n",
       "      <td>0</td>\n",
       "      <td>0</td>\n",
       "      <td>0</td>\n",
       "      <td>0</td>\n",
       "      <td>0</td>\n",
       "      <td>0</td>\n",
       "      <td>0</td>\n",
       "      <td>0</td>\n",
       "    </tr>\n",
       "    <tr>\n",
       "      <th>73</th>\n",
       "      <td>&amp;And Hostel Akihabara</td>\n",
       "      <td>0</td>\n",
       "      <td>0</td>\n",
       "      <td>0</td>\n",
       "      <td>0</td>\n",
       "      <td>0</td>\n",
       "      <td>0</td>\n",
       "      <td>0</td>\n",
       "      <td>0</td>\n",
       "      <td>0</td>\n",
       "      <td>...</td>\n",
       "      <td>0</td>\n",
       "      <td>0</td>\n",
       "      <td>0</td>\n",
       "      <td>0</td>\n",
       "      <td>0</td>\n",
       "      <td>0</td>\n",
       "      <td>0</td>\n",
       "      <td>0</td>\n",
       "      <td>0</td>\n",
       "      <td>0</td>\n",
       "    </tr>\n",
       "    <tr>\n",
       "      <th>74</th>\n",
       "      <td>&amp;And Hostel Akihabara</td>\n",
       "      <td>0</td>\n",
       "      <td>0</td>\n",
       "      <td>0</td>\n",
       "      <td>0</td>\n",
       "      <td>0</td>\n",
       "      <td>0</td>\n",
       "      <td>0</td>\n",
       "      <td>0</td>\n",
       "      <td>0</td>\n",
       "      <td>...</td>\n",
       "      <td>0</td>\n",
       "      <td>0</td>\n",
       "      <td>0</td>\n",
       "      <td>0</td>\n",
       "      <td>0</td>\n",
       "      <td>0</td>\n",
       "      <td>0</td>\n",
       "      <td>0</td>\n",
       "      <td>0</td>\n",
       "      <td>0</td>\n",
       "    </tr>\n",
       "  </tbody>\n",
       "</table>\n",
       "<p>5 rows × 264 columns</p>\n",
       "</div>"
      ],
      "text/plain": [
       "               HostelName  ATM  Accessories Store  Adult Boutique  \\\n",
       "70  &And Hostel Akihabara    0                  0               0   \n",
       "71  &And Hostel Akihabara    0                  0               0   \n",
       "72  &And Hostel Akihabara    0                  0               0   \n",
       "73  &And Hostel Akihabara    0                  0               0   \n",
       "74  &And Hostel Akihabara    0                  0               0   \n",
       "\n",
       "    American Restaurant  Antique Shop  Arcade  Argentinian Restaurant  \\\n",
       "70                    0             0       0                       0   \n",
       "71                    0             0       0                       0   \n",
       "72                    0             0       0                       0   \n",
       "73                    0             0       0                       0   \n",
       "74                    0             0       0                       0   \n",
       "\n",
       "    Art Gallery  Art Museum  ...  Vietnamese Restaurant  Wagashi Place  \\\n",
       "70            0           0  ...                      0              0   \n",
       "71            0           0  ...                      0              0   \n",
       "72            0           0  ...                      0              0   \n",
       "73            0           0  ...                      0              0   \n",
       "74            0           0  ...                      0              0   \n",
       "\n",
       "    Whisky Bar  Wine Bar  Wings Joint  Women's Store  Yakitori Restaurant  \\\n",
       "70           0         0            0              0                    0   \n",
       "71           0         0            0              0                    0   \n",
       "72           0         0            0              0                    0   \n",
       "73           0         0            0              0                    0   \n",
       "74           0         0            0              0                    0   \n",
       "\n",
       "    Yoshoku Restaurant  Zoo  Zoo Exhibit  \n",
       "70                   0    0            0  \n",
       "71                   0    0            0  \n",
       "72                   0    0            0  \n",
       "73                   0    0            0  \n",
       "74                   0    0            0  \n",
       "\n",
       "[5 rows x 264 columns]"
      ]
     },
     "execution_count": 760,
     "metadata": {},
     "output_type": "execute_result"
    }
   ],
   "source": [
    "category_1hot = pd.get_dummies(tokyo_venues_df.Category)\n",
    "category_1hot['HostelName'] = tokyo_venues_df.HostelName\n",
    "\n",
    "# move neighborhood column to the first column\n",
    "fixed_columns = [category_1hot.columns[-1]] + list(category_1hot.columns[:-1])\n",
    "category_1hot = category_1hot[fixed_columns]\n",
    "category_1hot.head()"
   ]
  },
  {
   "cell_type": "code",
   "execution_count": 761,
   "metadata": {},
   "outputs": [
    {
     "data": {
      "text/plain": [
       "(6626, 264)"
      ]
     },
     "execution_count": 761,
     "metadata": {},
     "output_type": "execute_result"
    }
   ],
   "source": [
    "category_1hot.shape"
   ]
  },
  {
   "cell_type": "markdown",
   "metadata": {},
   "source": [
    "Next, let's group rows by neighborhood and by taking the mean of the frequency of occurrence of each category."
   ]
  },
  {
   "cell_type": "code",
   "execution_count": 762,
   "metadata": {},
   "outputs": [
    {
     "data": {
      "text/html": [
       "<div>\n",
       "<style scoped>\n",
       "    .dataframe tbody tr th:only-of-type {\n",
       "        vertical-align: middle;\n",
       "    }\n",
       "\n",
       "    .dataframe tbody tr th {\n",
       "        vertical-align: top;\n",
       "    }\n",
       "\n",
       "    .dataframe thead th {\n",
       "        text-align: right;\n",
       "    }\n",
       "</style>\n",
       "<table border=\"1\" class=\"dataframe\">\n",
       "  <thead>\n",
       "    <tr style=\"text-align: right;\">\n",
       "      <th></th>\n",
       "      <th>HostelName</th>\n",
       "      <th>ATM</th>\n",
       "      <th>Accessories Store</th>\n",
       "      <th>Adult Boutique</th>\n",
       "      <th>American Restaurant</th>\n",
       "      <th>Antique Shop</th>\n",
       "      <th>Arcade</th>\n",
       "      <th>Argentinian Restaurant</th>\n",
       "      <th>Art Gallery</th>\n",
       "      <th>Art Museum</th>\n",
       "      <th>...</th>\n",
       "      <th>Vietnamese Restaurant</th>\n",
       "      <th>Wagashi Place</th>\n",
       "      <th>Whisky Bar</th>\n",
       "      <th>Wine Bar</th>\n",
       "      <th>Wings Joint</th>\n",
       "      <th>Women's Store</th>\n",
       "      <th>Yakitori Restaurant</th>\n",
       "      <th>Yoshoku Restaurant</th>\n",
       "      <th>Zoo</th>\n",
       "      <th>Zoo Exhibit</th>\n",
       "    </tr>\n",
       "  </thead>\n",
       "  <tbody>\n",
       "    <tr>\n",
       "      <th>0</th>\n",
       "      <td>&amp;And Hostel Akihabara</td>\n",
       "      <td>0.000000</td>\n",
       "      <td>0.0</td>\n",
       "      <td>0.01</td>\n",
       "      <td>0.000000</td>\n",
       "      <td>0.0</td>\n",
       "      <td>0.01</td>\n",
       "      <td>0.0</td>\n",
       "      <td>0.0</td>\n",
       "      <td>0.0</td>\n",
       "      <td>...</td>\n",
       "      <td>0.0</td>\n",
       "      <td>0.0</td>\n",
       "      <td>0.01</td>\n",
       "      <td>0.01</td>\n",
       "      <td>0.0</td>\n",
       "      <td>0.0</td>\n",
       "      <td>0.0</td>\n",
       "      <td>0.010000</td>\n",
       "      <td>0.0</td>\n",
       "      <td>0.0</td>\n",
       "    </tr>\n",
       "    <tr>\n",
       "      <th>1</th>\n",
       "      <td>&amp;And Hostel Ueno</td>\n",
       "      <td>0.000000</td>\n",
       "      <td>0.0</td>\n",
       "      <td>0.00</td>\n",
       "      <td>0.012195</td>\n",
       "      <td>0.0</td>\n",
       "      <td>0.00</td>\n",
       "      <td>0.0</td>\n",
       "      <td>0.0</td>\n",
       "      <td>0.0</td>\n",
       "      <td>...</td>\n",
       "      <td>0.0</td>\n",
       "      <td>0.0</td>\n",
       "      <td>0.00</td>\n",
       "      <td>0.00</td>\n",
       "      <td>0.0</td>\n",
       "      <td>0.0</td>\n",
       "      <td>0.0</td>\n",
       "      <td>0.012195</td>\n",
       "      <td>0.0</td>\n",
       "      <td>0.0</td>\n",
       "    </tr>\n",
       "    <tr>\n",
       "      <th>2</th>\n",
       "      <td>&amp;And Hostel-Asakusa North-</td>\n",
       "      <td>0.000000</td>\n",
       "      <td>0.0</td>\n",
       "      <td>0.00</td>\n",
       "      <td>0.000000</td>\n",
       "      <td>0.0</td>\n",
       "      <td>0.00</td>\n",
       "      <td>0.0</td>\n",
       "      <td>0.0</td>\n",
       "      <td>0.0</td>\n",
       "      <td>...</td>\n",
       "      <td>0.0</td>\n",
       "      <td>0.0</td>\n",
       "      <td>0.00</td>\n",
       "      <td>0.00</td>\n",
       "      <td>0.0</td>\n",
       "      <td>0.0</td>\n",
       "      <td>0.0</td>\n",
       "      <td>0.000000</td>\n",
       "      <td>0.0</td>\n",
       "      <td>0.0</td>\n",
       "    </tr>\n",
       "    <tr>\n",
       "      <th>3</th>\n",
       "      <td>1night1980hostel Tokyo</td>\n",
       "      <td>0.000000</td>\n",
       "      <td>0.0</td>\n",
       "      <td>0.00</td>\n",
       "      <td>0.000000</td>\n",
       "      <td>0.0</td>\n",
       "      <td>0.00</td>\n",
       "      <td>0.0</td>\n",
       "      <td>0.0</td>\n",
       "      <td>0.0</td>\n",
       "      <td>...</td>\n",
       "      <td>0.0</td>\n",
       "      <td>0.0</td>\n",
       "      <td>0.00</td>\n",
       "      <td>0.00</td>\n",
       "      <td>0.0</td>\n",
       "      <td>0.0</td>\n",
       "      <td>0.0</td>\n",
       "      <td>0.032258</td>\n",
       "      <td>0.0</td>\n",
       "      <td>0.0</td>\n",
       "    </tr>\n",
       "    <tr>\n",
       "      <th>4</th>\n",
       "      <td>328 Hostel &amp; Lounge</td>\n",
       "      <td>0.015873</td>\n",
       "      <td>0.0</td>\n",
       "      <td>0.00</td>\n",
       "      <td>0.000000</td>\n",
       "      <td>0.0</td>\n",
       "      <td>0.00</td>\n",
       "      <td>0.0</td>\n",
       "      <td>0.0</td>\n",
       "      <td>0.0</td>\n",
       "      <td>...</td>\n",
       "      <td>0.0</td>\n",
       "      <td>0.0</td>\n",
       "      <td>0.00</td>\n",
       "      <td>0.00</td>\n",
       "      <td>0.0</td>\n",
       "      <td>0.0</td>\n",
       "      <td>0.0</td>\n",
       "      <td>0.000000</td>\n",
       "      <td>0.0</td>\n",
       "      <td>0.0</td>\n",
       "    </tr>\n",
       "  </tbody>\n",
       "</table>\n",
       "<p>5 rows × 264 columns</p>\n",
       "</div>"
      ],
      "text/plain": [
       "                   HostelName       ATM  Accessories Store  Adult Boutique  \\\n",
       "0       &And Hostel Akihabara  0.000000                0.0            0.01   \n",
       "1            &And Hostel Ueno  0.000000                0.0            0.00   \n",
       "2  &And Hostel-Asakusa North-  0.000000                0.0            0.00   \n",
       "3      1night1980hostel Tokyo  0.000000                0.0            0.00   \n",
       "4         328 Hostel & Lounge  0.015873                0.0            0.00   \n",
       "\n",
       "   American Restaurant  Antique Shop  Arcade  Argentinian Restaurant  \\\n",
       "0             0.000000           0.0    0.01                     0.0   \n",
       "1             0.012195           0.0    0.00                     0.0   \n",
       "2             0.000000           0.0    0.00                     0.0   \n",
       "3             0.000000           0.0    0.00                     0.0   \n",
       "4             0.000000           0.0    0.00                     0.0   \n",
       "\n",
       "   Art Gallery  Art Museum  ...  Vietnamese Restaurant  Wagashi Place  \\\n",
       "0          0.0         0.0  ...                    0.0            0.0   \n",
       "1          0.0         0.0  ...                    0.0            0.0   \n",
       "2          0.0         0.0  ...                    0.0            0.0   \n",
       "3          0.0         0.0  ...                    0.0            0.0   \n",
       "4          0.0         0.0  ...                    0.0            0.0   \n",
       "\n",
       "   Whisky Bar  Wine Bar  Wings Joint  Women's Store  Yakitori Restaurant  \\\n",
       "0        0.01      0.01          0.0            0.0                  0.0   \n",
       "1        0.00      0.00          0.0            0.0                  0.0   \n",
       "2        0.00      0.00          0.0            0.0                  0.0   \n",
       "3        0.00      0.00          0.0            0.0                  0.0   \n",
       "4        0.00      0.00          0.0            0.0                  0.0   \n",
       "\n",
       "   Yoshoku Restaurant  Zoo  Zoo Exhibit  \n",
       "0            0.010000  0.0          0.0  \n",
       "1            0.012195  0.0          0.0  \n",
       "2            0.000000  0.0          0.0  \n",
       "3            0.032258  0.0          0.0  \n",
       "4            0.000000  0.0          0.0  \n",
       "\n",
       "[5 rows x 264 columns]"
      ]
     },
     "execution_count": 762,
     "metadata": {},
     "output_type": "execute_result"
    }
   ],
   "source": [
    "category_1hot = category_1hot.groupby('HostelName').mean().reset_index()\n",
    "category_1hot.head()"
   ]
  },
  {
   "cell_type": "markdown",
   "metadata": {},
   "source": [
    "Let's see few Hostels along with the top 5 most common venues"
   ]
  },
  {
   "cell_type": "code",
   "execution_count": 763,
   "metadata": {},
   "outputs": [
    {
     "name": "stdout",
     "output_type": "stream",
     "text": [
      "---- &And Hostel Akihabara ----\n",
      "                       venue  freq\n",
      "0                   Sake Bar  0.14\n",
      "1           Ramen Restaurant  0.09\n",
      "2                  BBQ Joint  0.04\n",
      "3  Japanese Curry Restaurant  0.04\n",
      "4                        Pub  0.03\n",
      "\n",
      "\n",
      "---- &And Hostel Ueno ----\n",
      "                 venue  freq\n",
      "0    Convenience Store  0.17\n",
      "1     Ramen Restaurant  0.09\n",
      "2  Japanese Restaurant  0.07\n",
      "3                Hotel  0.05\n",
      "4          Coffee Shop  0.05\n",
      "\n",
      "\n",
      "---- &And Hostel-Asakusa North- ----\n",
      "               venue  freq\n",
      "0  Convenience Store  0.22\n",
      "1              Hotel  0.17\n",
      "2           Sake Bar  0.08\n",
      "3             Hostel  0.06\n",
      "4      Grocery Store  0.06\n",
      "\n",
      "\n",
      "---- 1night1980hostel Tokyo ----\n",
      "               venue  freq\n",
      "0  Convenience Store  0.19\n",
      "1      Grocery Store  0.10\n",
      "2           Sake Bar  0.10\n",
      "3             Hostel  0.10\n",
      "4       Intersection  0.06\n",
      "\n",
      "\n",
      "---- 328 Hostel & Lounge ----\n",
      "                 venue  freq\n",
      "0    Convenience Store  0.13\n",
      "1  Japanese Restaurant  0.11\n",
      "2     Ramen Restaurant  0.10\n",
      "3                Hotel  0.08\n",
      "4                 Café  0.06\n",
      "\n",
      "\n"
     ]
    }
   ],
   "source": [
    "num_top_venues = 5\n",
    "\n",
    "for nbrhood in category_1hot.HostelName[:5]:\n",
    "    print(\"---- \"+nbrhood+\" ----\")\n",
    "    temp = category_1hot[category_1hot.HostelName == nbrhood].T.reset_index()\n",
    "    temp.columns = ['venue','freq']\n",
    "    temp = temp.iloc[1:]\n",
    "    temp['freq'] = temp['freq'].astype(float)\n",
    "    temp = temp.round({'freq': 2})\n",
    "    print(temp.sort_values('freq', ascending=False).reset_index(drop=True).head(num_top_venues))\n",
    "    print('\\n')"
   ]
  },
  {
   "cell_type": "markdown",
   "metadata": {},
   "source": [
    "##### Let's put that into a pandas dataframe"
   ]
  },
  {
   "cell_type": "code",
   "execution_count": 764,
   "metadata": {},
   "outputs": [],
   "source": [
    "def return_most_common_venues(row, num_top_venues):\n",
    "    row_categories = row.iloc[1:]\n",
    "    row_categories_sorted = row_categories.sort_values(ascending=False)\n",
    "    \n",
    "    return row_categories_sorted.index.values[0:num_top_venues]"
   ]
  },
  {
   "cell_type": "code",
   "execution_count": 765,
   "metadata": {},
   "outputs": [
    {
     "data": {
      "text/html": [
       "<div>\n",
       "<style scoped>\n",
       "    .dataframe tbody tr th:only-of-type {\n",
       "        vertical-align: middle;\n",
       "    }\n",
       "\n",
       "    .dataframe tbody tr th {\n",
       "        vertical-align: top;\n",
       "    }\n",
       "\n",
       "    .dataframe thead th {\n",
       "        text-align: right;\n",
       "    }\n",
       "</style>\n",
       "<table border=\"1\" class=\"dataframe\">\n",
       "  <thead>\n",
       "    <tr style=\"text-align: right;\">\n",
       "      <th></th>\n",
       "      <th>HostelName</th>\n",
       "      <th>1st Most Common Venue</th>\n",
       "      <th>2nd Most Common Venue</th>\n",
       "      <th>3rd Most Common Venue</th>\n",
       "      <th>4th Most Common Venue</th>\n",
       "      <th>5th Most Common Venue</th>\n",
       "      <th>6th Most Common Venue</th>\n",
       "      <th>7th Most Common Venue</th>\n",
       "      <th>8th Most Common Venue</th>\n",
       "      <th>9th Most Common Venue</th>\n",
       "      <th>10th Most Common Venue</th>\n",
       "    </tr>\n",
       "  </thead>\n",
       "  <tbody>\n",
       "    <tr>\n",
       "      <th>0</th>\n",
       "      <td>&amp;And Hostel Akihabara</td>\n",
       "      <td>Sake Bar</td>\n",
       "      <td>Ramen Restaurant</td>\n",
       "      <td>Japanese Curry Restaurant</td>\n",
       "      <td>BBQ Joint</td>\n",
       "      <td>Train Station</td>\n",
       "      <td>Sushi Restaurant</td>\n",
       "      <td>Dessert Shop</td>\n",
       "      <td>Pub</td>\n",
       "      <td>Café</td>\n",
       "      <td>Chinese Restaurant</td>\n",
       "    </tr>\n",
       "    <tr>\n",
       "      <th>1</th>\n",
       "      <td>&amp;And Hostel Ueno</td>\n",
       "      <td>Convenience Store</td>\n",
       "      <td>Ramen Restaurant</td>\n",
       "      <td>Japanese Restaurant</td>\n",
       "      <td>Coffee Shop</td>\n",
       "      <td>Hotel</td>\n",
       "      <td>Café</td>\n",
       "      <td>Soba Restaurant</td>\n",
       "      <td>Chinese Restaurant</td>\n",
       "      <td>Arts &amp; Crafts Store</td>\n",
       "      <td>Italian Restaurant</td>\n",
       "    </tr>\n",
       "    <tr>\n",
       "      <th>2</th>\n",
       "      <td>&amp;And Hostel-Asakusa North-</td>\n",
       "      <td>Convenience Store</td>\n",
       "      <td>Hotel</td>\n",
       "      <td>Sake Bar</td>\n",
       "      <td>Hostel</td>\n",
       "      <td>Bus Stop</td>\n",
       "      <td>Grocery Store</td>\n",
       "      <td>Coffee Shop</td>\n",
       "      <td>Nabe Restaurant</td>\n",
       "      <td>Tree</td>\n",
       "      <td>Motel</td>\n",
       "    </tr>\n",
       "    <tr>\n",
       "      <th>3</th>\n",
       "      <td>1night1980hostel Tokyo</td>\n",
       "      <td>Convenience Store</td>\n",
       "      <td>Sake Bar</td>\n",
       "      <td>Hostel</td>\n",
       "      <td>Grocery Store</td>\n",
       "      <td>Intersection</td>\n",
       "      <td>Bakery</td>\n",
       "      <td>Restaurant</td>\n",
       "      <td>Deli / Bodega</td>\n",
       "      <td>Donburi Restaurant</td>\n",
       "      <td>Shabu-Shabu Restaurant</td>\n",
       "    </tr>\n",
       "    <tr>\n",
       "      <th>4</th>\n",
       "      <td>328 Hostel &amp; Lounge</td>\n",
       "      <td>Convenience Store</td>\n",
       "      <td>Japanese Restaurant</td>\n",
       "      <td>Ramen Restaurant</td>\n",
       "      <td>Hotel</td>\n",
       "      <td>Café</td>\n",
       "      <td>Bus Stop</td>\n",
       "      <td>Sake Bar</td>\n",
       "      <td>Soba Restaurant</td>\n",
       "      <td>Platform</td>\n",
       "      <td>Outdoor Sculpture</td>\n",
       "    </tr>\n",
       "  </tbody>\n",
       "</table>\n",
       "</div>"
      ],
      "text/plain": [
       "                   HostelName 1st Most Common Venue 2nd Most Common Venue  \\\n",
       "0       &And Hostel Akihabara              Sake Bar      Ramen Restaurant   \n",
       "1            &And Hostel Ueno     Convenience Store      Ramen Restaurant   \n",
       "2  &And Hostel-Asakusa North-     Convenience Store                 Hotel   \n",
       "3      1night1980hostel Tokyo     Convenience Store              Sake Bar   \n",
       "4         328 Hostel & Lounge     Convenience Store   Japanese Restaurant   \n",
       "\n",
       "       3rd Most Common Venue 4th Most Common Venue 5th Most Common Venue  \\\n",
       "0  Japanese Curry Restaurant             BBQ Joint         Train Station   \n",
       "1        Japanese Restaurant           Coffee Shop                 Hotel   \n",
       "2                   Sake Bar                Hostel              Bus Stop   \n",
       "3                     Hostel         Grocery Store          Intersection   \n",
       "4           Ramen Restaurant                 Hotel                  Café   \n",
       "\n",
       "  6th Most Common Venue 7th Most Common Venue 8th Most Common Venue  \\\n",
       "0      Sushi Restaurant          Dessert Shop                   Pub   \n",
       "1                  Café       Soba Restaurant    Chinese Restaurant   \n",
       "2         Grocery Store           Coffee Shop       Nabe Restaurant   \n",
       "3                Bakery            Restaurant         Deli / Bodega   \n",
       "4              Bus Stop              Sake Bar       Soba Restaurant   \n",
       "\n",
       "  9th Most Common Venue  10th Most Common Venue  \n",
       "0                  Café      Chinese Restaurant  \n",
       "1   Arts & Crafts Store      Italian Restaurant  \n",
       "2                  Tree                   Motel  \n",
       "3    Donburi Restaurant  Shabu-Shabu Restaurant  \n",
       "4              Platform       Outdoor Sculpture  "
      ]
     },
     "execution_count": 765,
     "metadata": {},
     "output_type": "execute_result"
    }
   ],
   "source": [
    "indicators = ['st', 'nd', 'rd']\n",
    "num_top_venues = 10\n",
    "\n",
    "# create columns according to number of top venues\n",
    "columns = ['HostelName']\n",
    "for ind in np.arange(num_top_venues):\n",
    "    try:\n",
    "        columns.append('{}{} Most Common Venue'.format(ind+1, indicators[ind]))\n",
    "    except:\n",
    "        columns.append('{}th Most Common Venue'.format(ind+1))\n",
    "\n",
    "# create a new dataframe\n",
    "nbr_venues_sorted_df = pd.DataFrame(columns=columns)\n",
    "nbr_venues_sorted_df['HostelName'] = category_1hot.HostelName\n",
    "\n",
    "for ind in np.arange(category_1hot.shape[0]):\n",
    "    nbr_venues_sorted_df.iloc[ind, 1:] = return_most_common_venues(category_1hot.iloc[ind, :], num_top_venues)\n",
    "\n",
    "nbr_venues_sorted_df.head()"
   ]
  },
  {
   "cell_type": "markdown",
   "metadata": {},
   "source": [
    "#### Clustering Neighborhoods"
   ]
  },
  {
   "cell_type": "markdown",
   "metadata": {},
   "source": [
    "Let's cluster neighborhoods into five types based on venue categories."
   ]
  },
  {
   "cell_type": "code",
   "execution_count": 766,
   "metadata": {},
   "outputs": [
    {
     "data": {
      "text/html": [
       "<div>\n",
       "<style scoped>\n",
       "    .dataframe tbody tr th:only-of-type {\n",
       "        vertical-align: middle;\n",
       "    }\n",
       "\n",
       "    .dataframe tbody tr th {\n",
       "        vertical-align: top;\n",
       "    }\n",
       "\n",
       "    .dataframe thead th {\n",
       "        text-align: right;\n",
       "    }\n",
       "</style>\n",
       "<table border=\"1\" class=\"dataframe\">\n",
       "  <thead>\n",
       "    <tr style=\"text-align: right;\">\n",
       "      <th></th>\n",
       "      <th>ATM</th>\n",
       "      <th>Accessories Store</th>\n",
       "      <th>Adult Boutique</th>\n",
       "      <th>American Restaurant</th>\n",
       "      <th>Antique Shop</th>\n",
       "      <th>Arcade</th>\n",
       "      <th>Argentinian Restaurant</th>\n",
       "      <th>Art Gallery</th>\n",
       "      <th>Art Museum</th>\n",
       "      <th>Arts &amp; Crafts Store</th>\n",
       "      <th>...</th>\n",
       "      <th>Vietnamese Restaurant</th>\n",
       "      <th>Wagashi Place</th>\n",
       "      <th>Whisky Bar</th>\n",
       "      <th>Wine Bar</th>\n",
       "      <th>Wings Joint</th>\n",
       "      <th>Women's Store</th>\n",
       "      <th>Yakitori Restaurant</th>\n",
       "      <th>Yoshoku Restaurant</th>\n",
       "      <th>Zoo</th>\n",
       "      <th>Zoo Exhibit</th>\n",
       "    </tr>\n",
       "  </thead>\n",
       "  <tbody>\n",
       "    <tr>\n",
       "      <th>0</th>\n",
       "      <td>0.000000</td>\n",
       "      <td>0.0</td>\n",
       "      <td>0.01</td>\n",
       "      <td>0.000000</td>\n",
       "      <td>0.0</td>\n",
       "      <td>0.01</td>\n",
       "      <td>0.0</td>\n",
       "      <td>0.0</td>\n",
       "      <td>0.0</td>\n",
       "      <td>0.00000</td>\n",
       "      <td>...</td>\n",
       "      <td>0.0</td>\n",
       "      <td>0.0</td>\n",
       "      <td>0.01</td>\n",
       "      <td>0.01</td>\n",
       "      <td>0.0</td>\n",
       "      <td>0.0</td>\n",
       "      <td>0.0</td>\n",
       "      <td>0.010000</td>\n",
       "      <td>0.0</td>\n",
       "      <td>0.0</td>\n",
       "    </tr>\n",
       "    <tr>\n",
       "      <th>1</th>\n",
       "      <td>0.000000</td>\n",
       "      <td>0.0</td>\n",
       "      <td>0.00</td>\n",
       "      <td>0.012195</td>\n",
       "      <td>0.0</td>\n",
       "      <td>0.00</td>\n",
       "      <td>0.0</td>\n",
       "      <td>0.0</td>\n",
       "      <td>0.0</td>\n",
       "      <td>0.02439</td>\n",
       "      <td>...</td>\n",
       "      <td>0.0</td>\n",
       "      <td>0.0</td>\n",
       "      <td>0.00</td>\n",
       "      <td>0.00</td>\n",
       "      <td>0.0</td>\n",
       "      <td>0.0</td>\n",
       "      <td>0.0</td>\n",
       "      <td>0.012195</td>\n",
       "      <td>0.0</td>\n",
       "      <td>0.0</td>\n",
       "    </tr>\n",
       "    <tr>\n",
       "      <th>2</th>\n",
       "      <td>0.000000</td>\n",
       "      <td>0.0</td>\n",
       "      <td>0.00</td>\n",
       "      <td>0.000000</td>\n",
       "      <td>0.0</td>\n",
       "      <td>0.00</td>\n",
       "      <td>0.0</td>\n",
       "      <td>0.0</td>\n",
       "      <td>0.0</td>\n",
       "      <td>0.00000</td>\n",
       "      <td>...</td>\n",
       "      <td>0.0</td>\n",
       "      <td>0.0</td>\n",
       "      <td>0.00</td>\n",
       "      <td>0.00</td>\n",
       "      <td>0.0</td>\n",
       "      <td>0.0</td>\n",
       "      <td>0.0</td>\n",
       "      <td>0.000000</td>\n",
       "      <td>0.0</td>\n",
       "      <td>0.0</td>\n",
       "    </tr>\n",
       "    <tr>\n",
       "      <th>3</th>\n",
       "      <td>0.000000</td>\n",
       "      <td>0.0</td>\n",
       "      <td>0.00</td>\n",
       "      <td>0.000000</td>\n",
       "      <td>0.0</td>\n",
       "      <td>0.00</td>\n",
       "      <td>0.0</td>\n",
       "      <td>0.0</td>\n",
       "      <td>0.0</td>\n",
       "      <td>0.00000</td>\n",
       "      <td>...</td>\n",
       "      <td>0.0</td>\n",
       "      <td>0.0</td>\n",
       "      <td>0.00</td>\n",
       "      <td>0.00</td>\n",
       "      <td>0.0</td>\n",
       "      <td>0.0</td>\n",
       "      <td>0.0</td>\n",
       "      <td>0.032258</td>\n",
       "      <td>0.0</td>\n",
       "      <td>0.0</td>\n",
       "    </tr>\n",
       "    <tr>\n",
       "      <th>4</th>\n",
       "      <td>0.015873</td>\n",
       "      <td>0.0</td>\n",
       "      <td>0.00</td>\n",
       "      <td>0.000000</td>\n",
       "      <td>0.0</td>\n",
       "      <td>0.00</td>\n",
       "      <td>0.0</td>\n",
       "      <td>0.0</td>\n",
       "      <td>0.0</td>\n",
       "      <td>0.00000</td>\n",
       "      <td>...</td>\n",
       "      <td>0.0</td>\n",
       "      <td>0.0</td>\n",
       "      <td>0.00</td>\n",
       "      <td>0.00</td>\n",
       "      <td>0.0</td>\n",
       "      <td>0.0</td>\n",
       "      <td>0.0</td>\n",
       "      <td>0.000000</td>\n",
       "      <td>0.0</td>\n",
       "      <td>0.0</td>\n",
       "    </tr>\n",
       "  </tbody>\n",
       "</table>\n",
       "<p>5 rows × 263 columns</p>\n",
       "</div>"
      ],
      "text/plain": [
       "        ATM  Accessories Store  Adult Boutique  American Restaurant  \\\n",
       "0  0.000000                0.0            0.01             0.000000   \n",
       "1  0.000000                0.0            0.00             0.012195   \n",
       "2  0.000000                0.0            0.00             0.000000   \n",
       "3  0.000000                0.0            0.00             0.000000   \n",
       "4  0.015873                0.0            0.00             0.000000   \n",
       "\n",
       "   Antique Shop  Arcade  Argentinian Restaurant  Art Gallery  Art Museum  \\\n",
       "0           0.0    0.01                     0.0          0.0         0.0   \n",
       "1           0.0    0.00                     0.0          0.0         0.0   \n",
       "2           0.0    0.00                     0.0          0.0         0.0   \n",
       "3           0.0    0.00                     0.0          0.0         0.0   \n",
       "4           0.0    0.00                     0.0          0.0         0.0   \n",
       "\n",
       "   Arts & Crafts Store  ...  Vietnamese Restaurant  Wagashi Place  Whisky Bar  \\\n",
       "0              0.00000  ...                    0.0            0.0        0.01   \n",
       "1              0.02439  ...                    0.0            0.0        0.00   \n",
       "2              0.00000  ...                    0.0            0.0        0.00   \n",
       "3              0.00000  ...                    0.0            0.0        0.00   \n",
       "4              0.00000  ...                    0.0            0.0        0.00   \n",
       "\n",
       "   Wine Bar  Wings Joint  Women's Store  Yakitori Restaurant  \\\n",
       "0      0.01          0.0            0.0                  0.0   \n",
       "1      0.00          0.0            0.0                  0.0   \n",
       "2      0.00          0.0            0.0                  0.0   \n",
       "3      0.00          0.0            0.0                  0.0   \n",
       "4      0.00          0.0            0.0                  0.0   \n",
       "\n",
       "   Yoshoku Restaurant  Zoo  Zoo Exhibit  \n",
       "0            0.010000  0.0          0.0  \n",
       "1            0.012195  0.0          0.0  \n",
       "2            0.000000  0.0          0.0  \n",
       "3            0.032258  0.0          0.0  \n",
       "4            0.000000  0.0          0.0  \n",
       "\n",
       "[5 rows x 263 columns]"
      ]
     },
     "execution_count": 766,
     "metadata": {},
     "output_type": "execute_result"
    }
   ],
   "source": [
    "kmeans = KMeans(n_clusters=5, init='k-means++', max_iter=15, random_state=8)\n",
    "X = category_1hot.drop(['HostelName'], axis=1)\n",
    "X.head()"
   ]
  },
  {
   "cell_type": "code",
   "execution_count": 767,
   "metadata": {},
   "outputs": [
    {
     "data": {
      "text/plain": [
       "KMeans(algorithm='auto', copy_x=True, init='k-means++', max_iter=15,\n",
       "       n_clusters=5, n_init=10, n_jobs=None, precompute_distances='auto',\n",
       "       random_state=8, tol=0.0001, verbose=0)"
      ]
     },
     "execution_count": 767,
     "metadata": {},
     "output_type": "execute_result"
    }
   ],
   "source": [
    "kmeans.fit(X)"
   ]
  },
  {
   "cell_type": "code",
   "execution_count": 786,
   "metadata": {},
   "outputs": [],
   "source": [
    "nbr_venues_sorted_df['Cluster'] = kmeans.labels_\n",
    "nbr_venues_sorted_df.rename(columns={'HostelName': 'Name'}, inplace=True)"
   ]
  },
  {
   "cell_type": "code",
   "execution_count": 788,
   "metadata": {},
   "outputs": [
    {
     "data": {
      "text/html": [
       "<div>\n",
       "<style scoped>\n",
       "    .dataframe tbody tr th:only-of-type {\n",
       "        vertical-align: middle;\n",
       "    }\n",
       "\n",
       "    .dataframe tbody tr th {\n",
       "        vertical-align: top;\n",
       "    }\n",
       "\n",
       "    .dataframe thead th {\n",
       "        text-align: right;\n",
       "    }\n",
       "</style>\n",
       "<table border=\"1\" class=\"dataframe\">\n",
       "  <thead>\n",
       "    <tr style=\"text-align: right;\">\n",
       "      <th></th>\n",
       "      <th>Name</th>\n",
       "      <th>City</th>\n",
       "      <th>StartPrice</th>\n",
       "      <th>DistanceFromCityCentre</th>\n",
       "      <th>OverallScore</th>\n",
       "      <th>RatingCategory</th>\n",
       "      <th>Atmosphere</th>\n",
       "      <th>Cleanliness</th>\n",
       "      <th>Facilities</th>\n",
       "      <th>Location</th>\n",
       "      <th>...</th>\n",
       "      <th>2nd Most Common Venue</th>\n",
       "      <th>3rd Most Common Venue</th>\n",
       "      <th>4th Most Common Venue</th>\n",
       "      <th>5th Most Common Venue</th>\n",
       "      <th>6th Most Common Venue</th>\n",
       "      <th>7th Most Common Venue</th>\n",
       "      <th>8th Most Common Venue</th>\n",
       "      <th>9th Most Common Venue</th>\n",
       "      <th>10th Most Common Venue</th>\n",
       "      <th>Cluster</th>\n",
       "    </tr>\n",
       "  </thead>\n",
       "  <tbody>\n",
       "    <tr>\n",
       "      <th>0</th>\n",
       "      <td>&amp;And Hostel Akihabara</td>\n",
       "      <td>Tokyo</td>\n",
       "      <td>3600</td>\n",
       "      <td>7.8</td>\n",
       "      <td>8.7</td>\n",
       "      <td>Fabulous</td>\n",
       "      <td>8.0</td>\n",
       "      <td>7.0</td>\n",
       "      <td>9.0</td>\n",
       "      <td>8.0</td>\n",
       "      <td>...</td>\n",
       "      <td>Ramen Restaurant</td>\n",
       "      <td>Japanese Curry Restaurant</td>\n",
       "      <td>BBQ Joint</td>\n",
       "      <td>Train Station</td>\n",
       "      <td>Sushi Restaurant</td>\n",
       "      <td>Dessert Shop</td>\n",
       "      <td>Pub</td>\n",
       "      <td>Café</td>\n",
       "      <td>Chinese Restaurant</td>\n",
       "      <td>0</td>\n",
       "    </tr>\n",
       "    <tr>\n",
       "      <th>1</th>\n",
       "      <td>&amp;And Hostel Ueno</td>\n",
       "      <td>Tokyo</td>\n",
       "      <td>2600</td>\n",
       "      <td>8.7</td>\n",
       "      <td>7.4</td>\n",
       "      <td>Very Good</td>\n",
       "      <td>8.0</td>\n",
       "      <td>7.5</td>\n",
       "      <td>7.5</td>\n",
       "      <td>7.5</td>\n",
       "      <td>...</td>\n",
       "      <td>Ramen Restaurant</td>\n",
       "      <td>Japanese Restaurant</td>\n",
       "      <td>Coffee Shop</td>\n",
       "      <td>Hotel</td>\n",
       "      <td>Café</td>\n",
       "      <td>Soba Restaurant</td>\n",
       "      <td>Chinese Restaurant</td>\n",
       "      <td>Arts &amp; Crafts Store</td>\n",
       "      <td>Italian Restaurant</td>\n",
       "      <td>3</td>\n",
       "    </tr>\n",
       "    <tr>\n",
       "      <th>2</th>\n",
       "      <td>&amp;And Hostel-Asakusa North-</td>\n",
       "      <td>Tokyo</td>\n",
       "      <td>1500</td>\n",
       "      <td>10.5</td>\n",
       "      <td>9.4</td>\n",
       "      <td>Superb</td>\n",
       "      <td>9.5</td>\n",
       "      <td>9.5</td>\n",
       "      <td>9.0</td>\n",
       "      <td>9.0</td>\n",
       "      <td>...</td>\n",
       "      <td>Hotel</td>\n",
       "      <td>Sake Bar</td>\n",
       "      <td>Hostel</td>\n",
       "      <td>Bus Stop</td>\n",
       "      <td>Grocery Store</td>\n",
       "      <td>Coffee Shop</td>\n",
       "      <td>Nabe Restaurant</td>\n",
       "      <td>Tree</td>\n",
       "      <td>Motel</td>\n",
       "      <td>1</td>\n",
       "    </tr>\n",
       "    <tr>\n",
       "      <th>3</th>\n",
       "      <td>1night1980hostel Tokyo</td>\n",
       "      <td>Tokyo</td>\n",
       "      <td>2100</td>\n",
       "      <td>9.4</td>\n",
       "      <td>7.0</td>\n",
       "      <td>Very Good</td>\n",
       "      <td>5.5</td>\n",
       "      <td>8.0</td>\n",
       "      <td>6.0</td>\n",
       "      <td>6.0</td>\n",
       "      <td>...</td>\n",
       "      <td>Sake Bar</td>\n",
       "      <td>Hostel</td>\n",
       "      <td>Grocery Store</td>\n",
       "      <td>Intersection</td>\n",
       "      <td>Bakery</td>\n",
       "      <td>Restaurant</td>\n",
       "      <td>Deli / Bodega</td>\n",
       "      <td>Donburi Restaurant</td>\n",
       "      <td>Shabu-Shabu Restaurant</td>\n",
       "      <td>1</td>\n",
       "    </tr>\n",
       "    <tr>\n",
       "      <th>4</th>\n",
       "      <td>328 Hostel &amp; Lounge</td>\n",
       "      <td>Tokyo</td>\n",
       "      <td>3300</td>\n",
       "      <td>16.5</td>\n",
       "      <td>9.3</td>\n",
       "      <td>Superb</td>\n",
       "      <td>8.7</td>\n",
       "      <td>9.7</td>\n",
       "      <td>9.3</td>\n",
       "      <td>9.1</td>\n",
       "      <td>...</td>\n",
       "      <td>Japanese Restaurant</td>\n",
       "      <td>Ramen Restaurant</td>\n",
       "      <td>Hotel</td>\n",
       "      <td>Café</td>\n",
       "      <td>Bus Stop</td>\n",
       "      <td>Sake Bar</td>\n",
       "      <td>Soba Restaurant</td>\n",
       "      <td>Platform</td>\n",
       "      <td>Outdoor Sculpture</td>\n",
       "      <td>3</td>\n",
       "    </tr>\n",
       "  </tbody>\n",
       "</table>\n",
       "<p>5 rows × 26 columns</p>\n",
       "</div>"
      ],
      "text/plain": [
       "                         Name   City  StartPrice  DistanceFromCityCentre  \\\n",
       "0       &And Hostel Akihabara  Tokyo        3600                     7.8   \n",
       "1            &And Hostel Ueno  Tokyo        2600                     8.7   \n",
       "2  &And Hostel-Asakusa North-  Tokyo        1500                    10.5   \n",
       "3      1night1980hostel Tokyo  Tokyo        2100                     9.4   \n",
       "4         328 Hostel & Lounge  Tokyo        3300                    16.5   \n",
       "\n",
       "   OverallScore RatingCategory  Atmosphere  Cleanliness  Facilities  Location  \\\n",
       "0           8.7       Fabulous         8.0          7.0         9.0       8.0   \n",
       "1           7.4      Very Good         8.0          7.5         7.5       7.5   \n",
       "2           9.4         Superb         9.5          9.5         9.0       9.0   \n",
       "3           7.0      Very Good         5.5          8.0         6.0       6.0   \n",
       "4           9.3         Superb         8.7          9.7         9.3       9.1   \n",
       "\n",
       "   ...  2nd Most Common Venue      3rd Most Common Venue  \\\n",
       "0  ...       Ramen Restaurant  Japanese Curry Restaurant   \n",
       "1  ...       Ramen Restaurant        Japanese Restaurant   \n",
       "2  ...                  Hotel                   Sake Bar   \n",
       "3  ...               Sake Bar                     Hostel   \n",
       "4  ...    Japanese Restaurant           Ramen Restaurant   \n",
       "\n",
       "   4th Most Common Venue  5th Most Common Venue  6th Most Common Venue  \\\n",
       "0              BBQ Joint          Train Station       Sushi Restaurant   \n",
       "1            Coffee Shop                  Hotel                   Café   \n",
       "2                 Hostel               Bus Stop          Grocery Store   \n",
       "3          Grocery Store           Intersection                 Bakery   \n",
       "4                  Hotel                   Café               Bus Stop   \n",
       "\n",
       "  7th Most Common Venue 8th Most Common Venue 9th Most Common Venue  \\\n",
       "0          Dessert Shop                   Pub                  Café   \n",
       "1       Soba Restaurant    Chinese Restaurant   Arts & Crafts Store   \n",
       "2           Coffee Shop       Nabe Restaurant                  Tree   \n",
       "3            Restaurant         Deli / Bodega    Donburi Restaurant   \n",
       "4              Sake Bar       Soba Restaurant              Platform   \n",
       "\n",
       "   10th Most Common Venue Cluster  \n",
       "0      Chinese Restaurant       0  \n",
       "1      Italian Restaurant       3  \n",
       "2                   Motel       1  \n",
       "3  Shabu-Shabu Restaurant       1  \n",
       "4       Outdoor Sculpture       3  \n",
       "\n",
       "[5 rows x 26 columns]"
      ]
     },
     "execution_count": 788,
     "metadata": {},
     "output_type": "execute_result"
    }
   ],
   "source": [
    "tokyo_hostels_df_merged = pd.merge(tokyo_hostels_df, nbr_venues_sorted_df, on='Name')\n",
    "tokyo_hostels_df_merged.head()"
   ]
  },
  {
   "cell_type": "markdown",
   "metadata": {},
   "source": [
    "__*Finally, let's visualize the resulting clusters*__"
   ]
  },
  {
   "cell_type": "code",
   "execution_count": 794,
   "metadata": {},
   "outputs": [],
   "source": [
    "# create map\n",
    "tokyo_map = folium.Map(location=(35.689487, 139.691711), zoom_start=11)\n",
    "\n",
    "# set color scheme for the clusters\n",
    "x = np.arange(9)\n",
    "ys = [i + x + (i*x)**2 for i in range(9)]\n",
    "colors_array = cm.rainbow(np.linspace(0, 1, len(ys)))\n",
    "rainbow = [colors.rgb2hex(i) for i in colors_array]\n",
    "\n",
    "# add markers to the map\n",
    "markers_colors = []\n",
    "for lat, lon, poi, cluster in zip(tokyo_hostels_df_merged['Latitude'], tokyo_hostels_df_merged['Longitude'], tokyo_hostels_df_merged['Name'], tokyo_hostels_df_merged['Cluster']):\n",
    "    label = folium.Popup(str(poi) + ' Cluster ' + str(cluster), parse_html=True)\n",
    "    folium.CircleMarker(\n",
    "        [lat, lon],\n",
    "        radius=4,\n",
    "        popup=label,\n",
    "        color=rainbow[cluster-1],\n",
    "        fill=True,\n",
    "        fill_color=rainbow[cluster-1],\n",
    "        fill_opacity=0.7).add_to(tokyo_map)"
   ]
  },
  {
   "cell_type": "code",
   "execution_count": 795,
   "metadata": {},
   "outputs": [
    {
     "data": {
      "text/html": [
       "<div style=\"width:100%;\"><div style=\"position:relative;width:100%;height:0;padding-bottom:60%;\"><iframe src=\"data:text/html;charset=utf-8;base64,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\" style=\"position:absolute;width:100%;height:100%;left:0;top:0;border:none !important;\" allowfullscreen webkitallowfullscreen mozallowfullscreen></iframe></div></div>"
      ],
      "text/plain": [
       "<folium.folium.Map at 0x1a5174c110>"
      ]
     },
     "execution_count": 795,
     "metadata": {},
     "output_type": "execute_result"
    }
   ],
   "source": [
    "tokyo_map"
   ]
  },
  {
   "cell_type": "markdown",
   "metadata": {},
   "source": [
    "##### Examine Clusters"
   ]
  },
  {
   "cell_type": "markdown",
   "metadata": {},
   "source": [
    "Now, we can examine each cluster and determine the discriminating venue categories that distinguish each cluster. Based on the defining categories, we can then assign a name to each cluster."
   ]
  },
  {
   "cell_type": "markdown",
   "metadata": {},
   "source": [
    "**Cluster 0**"
   ]
  },
  {
   "cell_type": "code",
   "execution_count": 800,
   "metadata": {},
   "outputs": [
    {
     "data": {
      "text/html": [
       "<div>\n",
       "<style scoped>\n",
       "    .dataframe tbody tr th:only-of-type {\n",
       "        vertical-align: middle;\n",
       "    }\n",
       "\n",
       "    .dataframe tbody tr th {\n",
       "        vertical-align: top;\n",
       "    }\n",
       "\n",
       "    .dataframe thead th {\n",
       "        text-align: right;\n",
       "    }\n",
       "</style>\n",
       "<table border=\"1\" class=\"dataframe\">\n",
       "  <thead>\n",
       "    <tr style=\"text-align: right;\">\n",
       "      <th></th>\n",
       "      <th>Name</th>\n",
       "      <th>1st Most Common Venue</th>\n",
       "      <th>2nd Most Common Venue</th>\n",
       "      <th>3rd Most Common Venue</th>\n",
       "      <th>4th Most Common Venue</th>\n",
       "      <th>5th Most Common Venue</th>\n",
       "      <th>6th Most Common Venue</th>\n",
       "      <th>7th Most Common Venue</th>\n",
       "      <th>8th Most Common Venue</th>\n",
       "      <th>9th Most Common Venue</th>\n",
       "      <th>10th Most Common Venue</th>\n",
       "      <th>Cluster</th>\n",
       "    </tr>\n",
       "  </thead>\n",
       "  <tbody>\n",
       "    <tr>\n",
       "      <th>0</th>\n",
       "      <td>&amp;And Hostel Akihabara</td>\n",
       "      <td>Sake Bar</td>\n",
       "      <td>Ramen Restaurant</td>\n",
       "      <td>Japanese Curry Restaurant</td>\n",
       "      <td>BBQ Joint</td>\n",
       "      <td>Train Station</td>\n",
       "      <td>Sushi Restaurant</td>\n",
       "      <td>Dessert Shop</td>\n",
       "      <td>Pub</td>\n",
       "      <td>Café</td>\n",
       "      <td>Chinese Restaurant</td>\n",
       "      <td>0</td>\n",
       "    </tr>\n",
       "    <tr>\n",
       "      <th>7</th>\n",
       "      <td>Akihabara Hotel 3000</td>\n",
       "      <td>Sake Bar</td>\n",
       "      <td>Ramen Restaurant</td>\n",
       "      <td>Soba Restaurant</td>\n",
       "      <td>Café</td>\n",
       "      <td>Tonkatsu Restaurant</td>\n",
       "      <td>Japanese Curry Restaurant</td>\n",
       "      <td>Japanese Restaurant</td>\n",
       "      <td>BBQ Joint</td>\n",
       "      <td>Italian Restaurant</td>\n",
       "      <td>Music Store</td>\n",
       "      <td>0</td>\n",
       "    </tr>\n",
       "    <tr>\n",
       "      <th>8</th>\n",
       "      <td>Almond hostel &amp; cafe Shibuya</td>\n",
       "      <td>Italian Restaurant</td>\n",
       "      <td>Café</td>\n",
       "      <td>Bakery</td>\n",
       "      <td>Sake Bar</td>\n",
       "      <td>Japanese Restaurant</td>\n",
       "      <td>Park</td>\n",
       "      <td>Dumpling Restaurant</td>\n",
       "      <td>Coffee Shop</td>\n",
       "      <td>BBQ Joint</td>\n",
       "      <td>Portuguese Restaurant</td>\n",
       "      <td>0</td>\n",
       "    </tr>\n",
       "    <tr>\n",
       "      <th>9</th>\n",
       "      <td>Anne Hostel Asakusabashi</td>\n",
       "      <td>Chinese Restaurant</td>\n",
       "      <td>Yoshoku Restaurant</td>\n",
       "      <td>Convenience Store</td>\n",
       "      <td>Sake Bar</td>\n",
       "      <td>Steakhouse</td>\n",
       "      <td>Bar</td>\n",
       "      <td>Thai Restaurant</td>\n",
       "      <td>Café</td>\n",
       "      <td>Japanese Restaurant</td>\n",
       "      <td>Nabe Restaurant</td>\n",
       "      <td>0</td>\n",
       "    </tr>\n",
       "    <tr>\n",
       "      <th>16</th>\n",
       "      <td>Astro Station</td>\n",
       "      <td>Ramen Restaurant</td>\n",
       "      <td>Japanese Restaurant</td>\n",
       "      <td>Sake Bar</td>\n",
       "      <td>Convenience Store</td>\n",
       "      <td>Music Venue</td>\n",
       "      <td>Café</td>\n",
       "      <td>Chinese Restaurant</td>\n",
       "      <td>Noodle House</td>\n",
       "      <td>Bar</td>\n",
       "      <td>Japanese Curry Restaurant</td>\n",
       "      <td>0</td>\n",
       "    </tr>\n",
       "  </tbody>\n",
       "</table>\n",
       "</div>"
      ],
      "text/plain": [
       "                            Name 1st Most Common Venue 2nd Most Common Venue  \\\n",
       "0          &And Hostel Akihabara              Sake Bar      Ramen Restaurant   \n",
       "7           Akihabara Hotel 3000              Sake Bar      Ramen Restaurant   \n",
       "8   Almond hostel & cafe Shibuya    Italian Restaurant                  Café   \n",
       "9       Anne Hostel Asakusabashi    Chinese Restaurant    Yoshoku Restaurant   \n",
       "16                 Astro Station      Ramen Restaurant   Japanese Restaurant   \n",
       "\n",
       "        3rd Most Common Venue 4th Most Common Venue 5th Most Common Venue  \\\n",
       "0   Japanese Curry Restaurant             BBQ Joint         Train Station   \n",
       "7             Soba Restaurant                  Café   Tonkatsu Restaurant   \n",
       "8                      Bakery              Sake Bar   Japanese Restaurant   \n",
       "9           Convenience Store              Sake Bar            Steakhouse   \n",
       "16                   Sake Bar     Convenience Store           Music Venue   \n",
       "\n",
       "        6th Most Common Venue 7th Most Common Venue 8th Most Common Venue  \\\n",
       "0            Sushi Restaurant          Dessert Shop                   Pub   \n",
       "7   Japanese Curry Restaurant   Japanese Restaurant             BBQ Joint   \n",
       "8                        Park   Dumpling Restaurant           Coffee Shop   \n",
       "9                         Bar       Thai Restaurant                  Café   \n",
       "16                       Café    Chinese Restaurant          Noodle House   \n",
       "\n",
       "   9th Most Common Venue     10th Most Common Venue  Cluster  \n",
       "0                   Café         Chinese Restaurant        0  \n",
       "7     Italian Restaurant                Music Store        0  \n",
       "8              BBQ Joint      Portuguese Restaurant        0  \n",
       "9    Japanese Restaurant            Nabe Restaurant        0  \n",
       "16                   Bar  Japanese Curry Restaurant        0  "
      ]
     },
     "execution_count": 800,
     "metadata": {},
     "output_type": "execute_result"
    }
   ],
   "source": [
    "tokyo_hostels_df_merged.loc[tokyo_hostels_df_merged['Cluster'] == 0, tokyo_hostels_df_merged.columns[[0] + list(range(15, tokyo_hostels_df_merged.shape[1]))]][:5]"
   ]
  },
  {
   "cell_type": "markdown",
   "metadata": {},
   "source": [
    "First Cluster Properties: Restaurants"
   ]
  },
  {
   "cell_type": "code",
   "execution_count": 802,
   "metadata": {},
   "outputs": [
    {
     "data": {
      "text/html": [
       "<div>\n",
       "<style scoped>\n",
       "    .dataframe tbody tr th:only-of-type {\n",
       "        vertical-align: middle;\n",
       "    }\n",
       "\n",
       "    .dataframe tbody tr th {\n",
       "        vertical-align: top;\n",
       "    }\n",
       "\n",
       "    .dataframe thead th {\n",
       "        text-align: right;\n",
       "    }\n",
       "</style>\n",
       "<table border=\"1\" class=\"dataframe\">\n",
       "  <thead>\n",
       "    <tr style=\"text-align: right;\">\n",
       "      <th></th>\n",
       "      <th>Name</th>\n",
       "      <th>1st Most Common Venue</th>\n",
       "      <th>2nd Most Common Venue</th>\n",
       "      <th>3rd Most Common Venue</th>\n",
       "      <th>4th Most Common Venue</th>\n",
       "      <th>5th Most Common Venue</th>\n",
       "      <th>6th Most Common Venue</th>\n",
       "      <th>7th Most Common Venue</th>\n",
       "      <th>8th Most Common Venue</th>\n",
       "      <th>9th Most Common Venue</th>\n",
       "      <th>10th Most Common Venue</th>\n",
       "      <th>Cluster</th>\n",
       "    </tr>\n",
       "  </thead>\n",
       "  <tbody>\n",
       "    <tr>\n",
       "      <th>2</th>\n",
       "      <td>&amp;And Hostel-Asakusa North-</td>\n",
       "      <td>Convenience Store</td>\n",
       "      <td>Hotel</td>\n",
       "      <td>Sake Bar</td>\n",
       "      <td>Hostel</td>\n",
       "      <td>Bus Stop</td>\n",
       "      <td>Grocery Store</td>\n",
       "      <td>Coffee Shop</td>\n",
       "      <td>Nabe Restaurant</td>\n",
       "      <td>Tree</td>\n",
       "      <td>Motel</td>\n",
       "      <td>1</td>\n",
       "    </tr>\n",
       "    <tr>\n",
       "      <th>3</th>\n",
       "      <td>1night1980hostel Tokyo</td>\n",
       "      <td>Convenience Store</td>\n",
       "      <td>Sake Bar</td>\n",
       "      <td>Hostel</td>\n",
       "      <td>Grocery Store</td>\n",
       "      <td>Intersection</td>\n",
       "      <td>Bakery</td>\n",
       "      <td>Restaurant</td>\n",
       "      <td>Deli / Bodega</td>\n",
       "      <td>Donburi Restaurant</td>\n",
       "      <td>Shabu-Shabu Restaurant</td>\n",
       "      <td>1</td>\n",
       "    </tr>\n",
       "    <tr>\n",
       "      <th>6</th>\n",
       "      <td>Aizuya Inn</td>\n",
       "      <td>Convenience Store</td>\n",
       "      <td>Hotel</td>\n",
       "      <td>Intersection</td>\n",
       "      <td>Park</td>\n",
       "      <td>Bus Stop</td>\n",
       "      <td>Grocery Store</td>\n",
       "      <td>Hostel</td>\n",
       "      <td>Sake Bar</td>\n",
       "      <td>Bed &amp; Breakfast</td>\n",
       "      <td>Shopping Mall</td>\n",
       "      <td>1</td>\n",
       "    </tr>\n",
       "    <tr>\n",
       "      <th>18</th>\n",
       "      <td>Beagle Tokyo Hostel &amp; Apartments</td>\n",
       "      <td>Convenience Store</td>\n",
       "      <td>Ramen Restaurant</td>\n",
       "      <td>Hotel</td>\n",
       "      <td>Japanese Restaurant</td>\n",
       "      <td>Park</td>\n",
       "      <td>Donburi Restaurant</td>\n",
       "      <td>Restaurant</td>\n",
       "      <td>Chinese Restaurant</td>\n",
       "      <td>Noodle House</td>\n",
       "      <td>Soba Restaurant</td>\n",
       "      <td>1</td>\n",
       "    </tr>\n",
       "    <tr>\n",
       "      <th>28</th>\n",
       "      <td>Emblem Hostel Nishiarai</td>\n",
       "      <td>Convenience Store</td>\n",
       "      <td>Café</td>\n",
       "      <td>Ramen Restaurant</td>\n",
       "      <td>Discount Store</td>\n",
       "      <td>Noodle House</td>\n",
       "      <td>Fast Food Restaurant</td>\n",
       "      <td>Donburi Restaurant</td>\n",
       "      <td>Bus Station</td>\n",
       "      <td>Bus Stop</td>\n",
       "      <td>Spa</td>\n",
       "      <td>1</td>\n",
       "    </tr>\n",
       "  </tbody>\n",
       "</table>\n",
       "</div>"
      ],
      "text/plain": [
       "                                Name 1st Most Common Venue  \\\n",
       "2         &And Hostel-Asakusa North-     Convenience Store   \n",
       "3             1night1980hostel Tokyo     Convenience Store   \n",
       "6                         Aizuya Inn     Convenience Store   \n",
       "18  Beagle Tokyo Hostel & Apartments     Convenience Store   \n",
       "28           Emblem Hostel Nishiarai     Convenience Store   \n",
       "\n",
       "   2nd Most Common Venue 3rd Most Common Venue 4th Most Common Venue  \\\n",
       "2                  Hotel              Sake Bar                Hostel   \n",
       "3               Sake Bar                Hostel         Grocery Store   \n",
       "6                  Hotel          Intersection                  Park   \n",
       "18      Ramen Restaurant                 Hotel   Japanese Restaurant   \n",
       "28                  Café      Ramen Restaurant        Discount Store   \n",
       "\n",
       "   5th Most Common Venue 6th Most Common Venue 7th Most Common Venue  \\\n",
       "2               Bus Stop         Grocery Store           Coffee Shop   \n",
       "3           Intersection                Bakery            Restaurant   \n",
       "6               Bus Stop         Grocery Store                Hostel   \n",
       "18                  Park    Donburi Restaurant            Restaurant   \n",
       "28          Noodle House  Fast Food Restaurant    Donburi Restaurant   \n",
       "\n",
       "   8th Most Common Venue 9th Most Common Venue  10th Most Common Venue  \\\n",
       "2        Nabe Restaurant                  Tree                   Motel   \n",
       "3          Deli / Bodega    Donburi Restaurant  Shabu-Shabu Restaurant   \n",
       "6               Sake Bar       Bed & Breakfast           Shopping Mall   \n",
       "18    Chinese Restaurant          Noodle House         Soba Restaurant   \n",
       "28           Bus Station              Bus Stop                     Spa   \n",
       "\n",
       "    Cluster  \n",
       "2         1  \n",
       "3         1  \n",
       "6         1  \n",
       "18        1  \n",
       "28        1  "
      ]
     },
     "execution_count": 802,
     "metadata": {},
     "output_type": "execute_result"
    }
   ],
   "source": [
    "tokyo_hostels_df_merged.loc[tokyo_hostels_df_merged['Cluster'] == 1, tokyo_hostels_df_merged.columns[[0] + list(range(15, tokyo_hostels_df_merged.shape[1]))]][:5]"
   ]
  },
  {
   "cell_type": "markdown",
   "metadata": {},
   "source": [
    "First Cluster Properties: Restaurants"
   ]
  },
  {
   "cell_type": "markdown",
   "metadata": {},
   "source": [
    "PREDICT START PRICE BASED ON CLUSTER AND NEIGHBORHOOD"
   ]
  },
  {
   "cell_type": "markdown",
   "metadata": {},
   "source": [
    "## 6. Conclusion"
   ]
  },
  {
   "cell_type": "code",
   "execution_count": null,
   "metadata": {},
   "outputs": [],
   "source": []
  },
  {
   "cell_type": "code",
   "execution_count": null,
   "metadata": {},
   "outputs": [],
   "source": []
  }
 ],
 "metadata": {
  "kernelspec": {
   "display_name": "Python 3",
   "language": "python",
   "name": "python3"
  },
  "language_info": {
   "codemirror_mode": {
    "name": "ipython",
    "version": 3
   },
   "file_extension": ".py",
   "mimetype": "text/x-python",
   "name": "python",
   "nbconvert_exporter": "python",
   "pygments_lexer": "ipython3",
   "version": "3.7.4"
  }
 },
 "nbformat": 4,
 "nbformat_minor": 4
}
