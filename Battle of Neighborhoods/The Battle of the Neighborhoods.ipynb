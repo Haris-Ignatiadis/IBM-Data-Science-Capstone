{
 "cells": [
  {
   "cell_type": "markdown",
   "metadata": {},
   "source": [
    "# The Battle of Neighborhood: Japan Hostels"
   ]
  },
  {
   "cell_type": "markdown",
   "metadata": {},
   "source": [
    "### Table of Content:  \n",
    "1. [Introduction/Business Understanding](#1.-Introduction/Business-Understanding)\n",
    "2. [Analytic Approach](#2.-Analytic-Approach)\n",
    "3. [Data Requirements](#3.-Data-Requirements)\n",
    "4. [Data Preparation/Pre-processing](#4.-Data-Preparation/Pre-processing)\n",
    "5. [Analysis](#5.-Analysis)\n",
    "6. [Conclusion](#6.-Conclusion)"
   ]
  },
  {
   "cell_type": "markdown",
   "metadata": {},
   "source": [
    "<img src=\"images/tokyo.jpg\" width=\"65%\"/>"
   ]
  },
  {
   "cell_type": "markdown",
   "metadata": {},
   "source": [
    "## 1. Introduction/Business Understanding"
   ]
  },
  {
   "cell_type": "markdown",
   "metadata": {},
   "source": [
    "#### 1.1 Background"
   ]
  },
  {
   "cell_type": "markdown",
   "metadata": {},
   "source": [
    "Working as a Lead Engineer is quite tiring especially before releases and higher management meetings. Thankfully, I've developed a hobby which let's me unwind and at the same time helps me build a global perspective. As someone who loves travelling, finding ways to save money and travel low-cost is essential. There's little to save while booking flights and I'd rather pay more to traveling comfortably on a 16Hr flight than try to save and wear myself down even before the trip begins! But we can always save a few bucks on accomodation.\n",
    "\n",
    "A hostel is a low-budget accommodation shared among travelers. Staying at hostels is an extremely affordable option for travelers. Not only that, It also gives you a chance to expereince which you would never at a hotel. I've found that experiencing hostel life one of the best ways to travel the world on a budget and here’s why:\n",
    "1. You'll save a lot of money trust me.\n",
    "2. Meet other like-minded travellers and make new friends around the world!\n",
    "3. Most hostels organize lot of social activites"
   ]
  },
  {
   "cell_type": "markdown",
   "metadata": {},
   "source": [
    "#### 1.2 Problem Description:"
   ]
  },
  {
   "cell_type": "markdown",
   "metadata": {},
   "source": [
    "Hostel accomodation is a booming industry with the latest rise in tourism worldwide, especially in Asia. Over 20% of the total tourists worldwide are aged between 19-25. And around 80% of them prefer to spend less on accomodation by opting for hostels. This means the demand for hostels is only going to grow further and more people would want to get their legs in the game. \n",
    "- How should a new business person decide where to build for a hostel?\n",
    "- What factors should he look at before investing?\n",
    "- Which neighborhood venues affect a user's rating for *location* of hostel?\n",
    "\n",
    "At the same time, it is difficult for a travellers, especially first-timers, to select a hostel from among many options. Hostel reviews are subjective and differ from person-to-person and one cannot solely depend on them to make a decision. It is especially important to consider other aspects like price and neighborhood, which can greatly influence one's experience of the city/country.\n",
    "I will try to answer the following questions \n",
    "- How does price vary with location?\n",
    "- Where are the <i>'value of money'</i> hostels located?\n",
    "- How does proximity to transportation affect hostel rating?\n",
    "- Which hostels are most secure and where are they located?\n",
    "- Suggest similar hostel but which cheaper price\n",
    "\n",
    "For this project, we will be looking at hostels in Japan"
   ]
  },
  {
   "cell_type": "markdown",
   "metadata": {},
   "source": [
    "#### 1.3 Target Audience"
   ]
  },
  {
   "cell_type": "markdown",
   "metadata": {},
   "source": [
    "<<*Change this section if models change*>>\n",
    "\n",
    "This project will serve two groups of audience:\n",
    "1. **Travellers:** Help them make an informed decision while choosing a hostel by providing an in-depth analysis of hostels and their neighborhood.\n",
    "2. **Business Person:** Provide useful information and models which can help them where to open their first/next hostel and how much should they charge."
   ]
  },
  {
   "cell_type": "markdown",
   "metadata": {},
   "source": [
    "## 2. Analytic Approach\n",
    "I will be taking two approaches in the project."
   ]
  },
  {
   "cell_type": "markdown",
   "metadata": {},
   "source": [
    "Firstly, I will use *exploratory data analysis(EDA)* to uncover hidden properties of data and provide useful insights to the reader, both future traveller and investor.\n",
    "\n",
    "Secondly, I will use *prescriptive analytics* to help a business person decide a location for new hostel and predict how much should be starting price at the hostel. I will use *clustering* (KMeans) and *regression (Decision Tree Regression)*\n",
    "\n",
    "<<*Change this section if models change*>>"
   ]
  },
  {
   "cell_type": "markdown",
   "metadata": {},
   "source": [
    "## 3. Data Requirements"
   ]
  },
  {
   "cell_type": "markdown",
   "metadata": {},
   "source": [
    "> Change if data sources change"
   ]
  },
  {
   "cell_type": "markdown",
   "metadata": {},
   "source": [
    "One city will be analysed in this project : **Tokyo**."
   ]
  },
  {
   "cell_type": "markdown",
   "metadata": {},
   "source": [
    "Following are the datasets used in the project along with the reasons for choosing them:\n",
    "\n",
    "**1. [Japan Hostel Dataset](https://www.kaggle.com/koki25ando/hostel-world-dataset)**: This dataset was web scraped from Hostelworld by Koki Ando and is available on Kaggle. This is the core dataset with which I'll work.\n",
    "\n",
    "**2. [Foursquare API](https://developer.foursquare.com/docs/api)**: This API will help me get the venues around the hostel which I will use for EDA and clustering.\n",
    "\n",
    "**3. [Tokyo Land Price](https://utinokati.com/en/details/land-market-value/area/Tokyo/)**: I will scrape this website to get land prices of various neighborhoods in Tokyo."
   ]
  },
  {
   "cell_type": "markdown",
   "metadata": {},
   "source": [
    "*__Note:__ Since there is a quota limit on Foursquare, I'll be downloading the data and storing it locally as csv for future use. So we do not have to pull same data again when we restart the data.*"
   ]
  },
  {
   "cell_type": "markdown",
   "metadata": {},
   "source": [
    "Firstly, I will use the list of hostels from *Hostel dataset* and use *Foursquare API* to get venues around the Hostel. I will then use EDA to explore the neighborhood and how it affects the price of the hostel. I will also use the combined dataset to cluster similar hostels as per pricing and neighborhood. \n",
    "\n",
    "Second, I will combine the above data with the land price for the area in which the Hostel is situated and them develop clustering and regression models to predict where a new hostel should be opened and how much should it be priced at."
   ]
  },
  {
   "cell_type": "markdown",
   "metadata": {},
   "source": [
    " ## 4. Data Preparation/Pre-processing"
   ]
  },
  {
   "cell_type": "markdown",
   "metadata": {},
   "source": [
    "Let's import all the dependencies before we begin. If we need more, we will add them at a later point. I'll first add whatever I can think of."
   ]
  },
  {
   "cell_type": "code",
   "execution_count": 639,
   "metadata": {},
   "outputs": [],
   "source": [
    "import pandas as pd\n",
    "import numpy as np\n",
    "import matplotlib.pyplot as plt\n",
    "import seaborn as sns\n",
    "import folium\n",
    "import requests\n",
    "import json\n",
    "from bs4 import BeautifulSoup\n",
    "import matplotlib.cm as cm\n",
    "import matplotlib.colors as colors\n",
    "from geopy import OpenCage\n",
    "from sklearn.cluster import KMeans\n",
    "\n",
    "%matplotlib inline"
   ]
  },
  {
   "cell_type": "markdown",
   "metadata": {},
   "source": [
    "#### 4.1. Hostel Dataset:"
   ]
  },
  {
   "cell_type": "markdown",
   "metadata": {},
   "source": [
    "Let's first deal with hostels datsaet. I will read the first dataset into a dataframe. For ease of access, I've already downloaded the dataset as csv from Kaggle. You can access the same [here](https://www.kaggle.com/koki25ando/hostel-world-dataset)."
   ]
  },
  {
   "cell_type": "code",
   "execution_count": 7,
   "metadata": {},
   "outputs": [
    {
     "data": {
      "text/html": [
       "<div>\n",
       "<style scoped>\n",
       "    .dataframe tbody tr th:only-of-type {\n",
       "        vertical-align: middle;\n",
       "    }\n",
       "\n",
       "    .dataframe tbody tr th {\n",
       "        vertical-align: top;\n",
       "    }\n",
       "\n",
       "    .dataframe thead th {\n",
       "        text-align: right;\n",
       "    }\n",
       "</style>\n",
       "<table border=\"1\" class=\"dataframe\">\n",
       "  <thead>\n",
       "    <tr style=\"text-align: right;\">\n",
       "      <th></th>\n",
       "      <th>Unnamed: 0</th>\n",
       "      <th>hostel.name</th>\n",
       "      <th>City</th>\n",
       "      <th>price.from</th>\n",
       "      <th>Distance</th>\n",
       "      <th>summary.score</th>\n",
       "      <th>rating.band</th>\n",
       "      <th>atmosphere</th>\n",
       "      <th>cleanliness</th>\n",
       "      <th>facilities</th>\n",
       "      <th>location.y</th>\n",
       "      <th>security</th>\n",
       "      <th>staff</th>\n",
       "      <th>valueformoney</th>\n",
       "      <th>lon</th>\n",
       "      <th>lat</th>\n",
       "    </tr>\n",
       "  </thead>\n",
       "  <tbody>\n",
       "    <tr>\n",
       "      <th>0</th>\n",
       "      <td>1</td>\n",
       "      <td>\"Bike &amp; Bed\" CharinCo Hostel</td>\n",
       "      <td>Osaka</td>\n",
       "      <td>3300</td>\n",
       "      <td>2.9km from city centre</td>\n",
       "      <td>9.2</td>\n",
       "      <td>Superb</td>\n",
       "      <td>8.9</td>\n",
       "      <td>9.4</td>\n",
       "      <td>9.3</td>\n",
       "      <td>8.9</td>\n",
       "      <td>9.0</td>\n",
       "      <td>9.4</td>\n",
       "      <td>9.4</td>\n",
       "      <td>135.513767</td>\n",
       "      <td>34.682678</td>\n",
       "    </tr>\n",
       "    <tr>\n",
       "      <th>1</th>\n",
       "      <td>2</td>\n",
       "      <td>&amp; And Hostel</td>\n",
       "      <td>Fukuoka-City</td>\n",
       "      <td>2600</td>\n",
       "      <td>0.7km from city centre</td>\n",
       "      <td>9.5</td>\n",
       "      <td>Superb</td>\n",
       "      <td>9.4</td>\n",
       "      <td>9.7</td>\n",
       "      <td>9.5</td>\n",
       "      <td>9.7</td>\n",
       "      <td>9.2</td>\n",
       "      <td>9.7</td>\n",
       "      <td>9.5</td>\n",
       "      <td>NaN</td>\n",
       "      <td>NaN</td>\n",
       "    </tr>\n",
       "    <tr>\n",
       "      <th>2</th>\n",
       "      <td>3</td>\n",
       "      <td>&amp;And Hostel Akihabara</td>\n",
       "      <td>Tokyo</td>\n",
       "      <td>3600</td>\n",
       "      <td>7.8km from city centre</td>\n",
       "      <td>8.7</td>\n",
       "      <td>Fabulous</td>\n",
       "      <td>8.0</td>\n",
       "      <td>7.0</td>\n",
       "      <td>9.0</td>\n",
       "      <td>8.0</td>\n",
       "      <td>10.0</td>\n",
       "      <td>10.0</td>\n",
       "      <td>9.0</td>\n",
       "      <td>139.777472</td>\n",
       "      <td>35.697447</td>\n",
       "    </tr>\n",
       "    <tr>\n",
       "      <th>3</th>\n",
       "      <td>4</td>\n",
       "      <td>&amp;And Hostel Ueno</td>\n",
       "      <td>Tokyo</td>\n",
       "      <td>2600</td>\n",
       "      <td>8.7km from city centre</td>\n",
       "      <td>7.4</td>\n",
       "      <td>Very Good</td>\n",
       "      <td>8.0</td>\n",
       "      <td>7.5</td>\n",
       "      <td>7.5</td>\n",
       "      <td>7.5</td>\n",
       "      <td>7.0</td>\n",
       "      <td>8.0</td>\n",
       "      <td>6.5</td>\n",
       "      <td>139.783667</td>\n",
       "      <td>35.712716</td>\n",
       "    </tr>\n",
       "    <tr>\n",
       "      <th>4</th>\n",
       "      <td>5</td>\n",
       "      <td>&amp;And Hostel-Asakusa North-</td>\n",
       "      <td>Tokyo</td>\n",
       "      <td>1500</td>\n",
       "      <td>10.5km from city centre</td>\n",
       "      <td>9.4</td>\n",
       "      <td>Superb</td>\n",
       "      <td>9.5</td>\n",
       "      <td>9.5</td>\n",
       "      <td>9.0</td>\n",
       "      <td>9.0</td>\n",
       "      <td>9.5</td>\n",
       "      <td>10.0</td>\n",
       "      <td>9.5</td>\n",
       "      <td>139.798371</td>\n",
       "      <td>35.727898</td>\n",
       "    </tr>\n",
       "  </tbody>\n",
       "</table>\n",
       "</div>"
      ],
      "text/plain": [
       "   Unnamed: 0                   hostel.name          City  price.from  \\\n",
       "0           1  \"Bike & Bed\" CharinCo Hostel         Osaka        3300   \n",
       "1           2                  & And Hostel  Fukuoka-City        2600   \n",
       "2           3         &And Hostel Akihabara         Tokyo        3600   \n",
       "3           4              &And Hostel Ueno         Tokyo        2600   \n",
       "4           5    &And Hostel-Asakusa North-         Tokyo        1500   \n",
       "\n",
       "                  Distance  summary.score rating.band  atmosphere  \\\n",
       "0   2.9km from city centre            9.2      Superb         8.9   \n",
       "1   0.7km from city centre            9.5      Superb         9.4   \n",
       "2   7.8km from city centre            8.7    Fabulous         8.0   \n",
       "3   8.7km from city centre            7.4   Very Good         8.0   \n",
       "4  10.5km from city centre            9.4      Superb         9.5   \n",
       "\n",
       "   cleanliness  facilities  location.y  security  staff  valueformoney  \\\n",
       "0          9.4         9.3         8.9       9.0    9.4            9.4   \n",
       "1          9.7         9.5         9.7       9.2    9.7            9.5   \n",
       "2          7.0         9.0         8.0      10.0   10.0            9.0   \n",
       "3          7.5         7.5         7.5       7.0    8.0            6.5   \n",
       "4          9.5         9.0         9.0       9.5   10.0            9.5   \n",
       "\n",
       "          lon        lat  \n",
       "0  135.513767  34.682678  \n",
       "1         NaN        NaN  \n",
       "2  139.777472  35.697447  \n",
       "3  139.783667  35.712716  \n",
       "4  139.798371  35.727898  "
      ]
     },
     "execution_count": 7,
     "metadata": {},
     "output_type": "execute_result"
    }
   ],
   "source": [
    "hostel_df = pd.read_csv('data/Hostel.csv')\n",
    "hostel_df.head()"
   ]
  },
  {
   "cell_type": "markdown",
   "metadata": {},
   "source": [
    "We will drop the 1st column and rename other columns to make them more readable."
   ]
  },
  {
   "cell_type": "code",
   "execution_count": 8,
   "metadata": {},
   "outputs": [],
   "source": [
    "columns = ['Name', 'City', 'StartPrice', 'DistanceFromCityCentre', 'OverallScore', \n",
    "           'RatingCategory', 'Atmosphere', 'Cleanliness', 'Facilities', 'Location', \n",
    "           'Security', 'Staff', 'ValueForMoney', 'Longitude', 'Latitude']"
   ]
  },
  {
   "cell_type": "code",
   "execution_count": 9,
   "metadata": {},
   "outputs": [
    {
     "data": {
      "text/html": [
       "<div>\n",
       "<style scoped>\n",
       "    .dataframe tbody tr th:only-of-type {\n",
       "        vertical-align: middle;\n",
       "    }\n",
       "\n",
       "    .dataframe tbody tr th {\n",
       "        vertical-align: top;\n",
       "    }\n",
       "\n",
       "    .dataframe thead th {\n",
       "        text-align: right;\n",
       "    }\n",
       "</style>\n",
       "<table border=\"1\" class=\"dataframe\">\n",
       "  <thead>\n",
       "    <tr style=\"text-align: right;\">\n",
       "      <th></th>\n",
       "      <th>Name</th>\n",
       "      <th>City</th>\n",
       "      <th>StartPrice</th>\n",
       "      <th>DistanceFromCityCentre</th>\n",
       "      <th>OverallScore</th>\n",
       "      <th>RatingCategory</th>\n",
       "      <th>Atmosphere</th>\n",
       "      <th>Cleanliness</th>\n",
       "      <th>Facilities</th>\n",
       "      <th>Location</th>\n",
       "      <th>Security</th>\n",
       "      <th>Staff</th>\n",
       "      <th>ValueForMoney</th>\n",
       "      <th>Longitude</th>\n",
       "      <th>Latitude</th>\n",
       "    </tr>\n",
       "  </thead>\n",
       "  <tbody>\n",
       "    <tr>\n",
       "      <th>0</th>\n",
       "      <td>\"Bike &amp; Bed\" CharinCo Hostel</td>\n",
       "      <td>Osaka</td>\n",
       "      <td>3300</td>\n",
       "      <td>2.9km from city centre</td>\n",
       "      <td>9.2</td>\n",
       "      <td>Superb</td>\n",
       "      <td>8.9</td>\n",
       "      <td>9.4</td>\n",
       "      <td>9.3</td>\n",
       "      <td>8.9</td>\n",
       "      <td>9.0</td>\n",
       "      <td>9.4</td>\n",
       "      <td>9.4</td>\n",
       "      <td>135.513767</td>\n",
       "      <td>34.682678</td>\n",
       "    </tr>\n",
       "    <tr>\n",
       "      <th>1</th>\n",
       "      <td>&amp; And Hostel</td>\n",
       "      <td>Fukuoka-City</td>\n",
       "      <td>2600</td>\n",
       "      <td>0.7km from city centre</td>\n",
       "      <td>9.5</td>\n",
       "      <td>Superb</td>\n",
       "      <td>9.4</td>\n",
       "      <td>9.7</td>\n",
       "      <td>9.5</td>\n",
       "      <td>9.7</td>\n",
       "      <td>9.2</td>\n",
       "      <td>9.7</td>\n",
       "      <td>9.5</td>\n",
       "      <td>NaN</td>\n",
       "      <td>NaN</td>\n",
       "    </tr>\n",
       "    <tr>\n",
       "      <th>2</th>\n",
       "      <td>&amp;And Hostel Akihabara</td>\n",
       "      <td>Tokyo</td>\n",
       "      <td>3600</td>\n",
       "      <td>7.8km from city centre</td>\n",
       "      <td>8.7</td>\n",
       "      <td>Fabulous</td>\n",
       "      <td>8.0</td>\n",
       "      <td>7.0</td>\n",
       "      <td>9.0</td>\n",
       "      <td>8.0</td>\n",
       "      <td>10.0</td>\n",
       "      <td>10.0</td>\n",
       "      <td>9.0</td>\n",
       "      <td>139.777472</td>\n",
       "      <td>35.697447</td>\n",
       "    </tr>\n",
       "    <tr>\n",
       "      <th>3</th>\n",
       "      <td>&amp;And Hostel Ueno</td>\n",
       "      <td>Tokyo</td>\n",
       "      <td>2600</td>\n",
       "      <td>8.7km from city centre</td>\n",
       "      <td>7.4</td>\n",
       "      <td>Very Good</td>\n",
       "      <td>8.0</td>\n",
       "      <td>7.5</td>\n",
       "      <td>7.5</td>\n",
       "      <td>7.5</td>\n",
       "      <td>7.0</td>\n",
       "      <td>8.0</td>\n",
       "      <td>6.5</td>\n",
       "      <td>139.783667</td>\n",
       "      <td>35.712716</td>\n",
       "    </tr>\n",
       "    <tr>\n",
       "      <th>4</th>\n",
       "      <td>&amp;And Hostel-Asakusa North-</td>\n",
       "      <td>Tokyo</td>\n",
       "      <td>1500</td>\n",
       "      <td>10.5km from city centre</td>\n",
       "      <td>9.4</td>\n",
       "      <td>Superb</td>\n",
       "      <td>9.5</td>\n",
       "      <td>9.5</td>\n",
       "      <td>9.0</td>\n",
       "      <td>9.0</td>\n",
       "      <td>9.5</td>\n",
       "      <td>10.0</td>\n",
       "      <td>9.5</td>\n",
       "      <td>139.798371</td>\n",
       "      <td>35.727898</td>\n",
       "    </tr>\n",
       "  </tbody>\n",
       "</table>\n",
       "</div>"
      ],
      "text/plain": [
       "                           Name          City  StartPrice  \\\n",
       "0  \"Bike & Bed\" CharinCo Hostel         Osaka        3300   \n",
       "1                  & And Hostel  Fukuoka-City        2600   \n",
       "2         &And Hostel Akihabara         Tokyo        3600   \n",
       "3              &And Hostel Ueno         Tokyo        2600   \n",
       "4    &And Hostel-Asakusa North-         Tokyo        1500   \n",
       "\n",
       "    DistanceFromCityCentre  OverallScore RatingCategory  Atmosphere  \\\n",
       "0   2.9km from city centre           9.2         Superb         8.9   \n",
       "1   0.7km from city centre           9.5         Superb         9.4   \n",
       "2   7.8km from city centre           8.7       Fabulous         8.0   \n",
       "3   8.7km from city centre           7.4      Very Good         8.0   \n",
       "4  10.5km from city centre           9.4         Superb         9.5   \n",
       "\n",
       "   Cleanliness  Facilities  Location  Security  Staff  ValueForMoney  \\\n",
       "0          9.4         9.3       8.9       9.0    9.4            9.4   \n",
       "1          9.7         9.5       9.7       9.2    9.7            9.5   \n",
       "2          7.0         9.0       8.0      10.0   10.0            9.0   \n",
       "3          7.5         7.5       7.5       7.0    8.0            6.5   \n",
       "4          9.5         9.0       9.0       9.5   10.0            9.5   \n",
       "\n",
       "    Longitude   Latitude  \n",
       "0  135.513767  34.682678  \n",
       "1         NaN        NaN  \n",
       "2  139.777472  35.697447  \n",
       "3  139.783667  35.712716  \n",
       "4  139.798371  35.727898  "
      ]
     },
     "execution_count": 9,
     "metadata": {},
     "output_type": "execute_result"
    }
   ],
   "source": [
    "hostel_df.drop(['Unnamed: 0'], axis=1, inplace=True)\n",
    "hostel_df.columns = columns\n",
    "hostel_df.head()"
   ]
  },
  {
   "cell_type": "code",
   "execution_count": 10,
   "metadata": {},
   "outputs": [
    {
     "name": "stdout",
     "output_type": "stream",
     "text": [
      "Number of Hostels:  342\n"
     ]
    }
   ],
   "source": [
    "print(\"Number of Hostels: \", hostel_df.shape[0])"
   ]
  },
  {
   "cell_type": "markdown",
   "metadata": {},
   "source": [
    "Let's check if any hostels are missing location data since that is essential for our analysis."
   ]
  },
  {
   "cell_type": "code",
   "execution_count": 18,
   "metadata": {},
   "outputs": [
    {
     "name": "stdout",
     "output_type": "stream",
     "text": [
      "Num of hostels with missing Longitude:  44\n"
     ]
    }
   ],
   "source": [
    "print(\"Num of hostels with missing Longitude: \", hostel_df.Longitude.isna().sum())"
   ]
  },
  {
   "cell_type": "code",
   "execution_count": 19,
   "metadata": {},
   "outputs": [
    {
     "name": "stdout",
     "output_type": "stream",
     "text": [
      "Num of hostels with missing Latitude:  44\n"
     ]
    }
   ],
   "source": [
    "print(\"Num of hostels with missing Latitude: \", hostel_df.Latitude.isna().sum())"
   ]
  },
  {
   "cell_type": "code",
   "execution_count": 21,
   "metadata": {},
   "outputs": [
    {
     "data": {
      "text/plain": [
       "(298, 15)"
      ]
     },
     "execution_count": 21,
     "metadata": {},
     "output_type": "execute_result"
    }
   ],
   "source": [
    "# Remove hostels with missing latitude and longitude \n",
    "hostel_df = hostel_df[hostel_df.Longitude.isna() == False]\n",
    "hostel_df = hostel_df[hostel_df.Latitude.isna() == False]\n",
    "hostel_df.shape"
   ]
  },
  {
   "cell_type": "markdown",
   "metadata": {},
   "source": [
    "If we see the DistanceFromCityCentre column, we see that it has distance as well as text, let's remove the unwanted text."
   ]
  },
  {
   "cell_type": "code",
   "execution_count": 30,
   "metadata": {},
   "outputs": [
    {
     "data": {
      "text/html": [
       "<div>\n",
       "<style scoped>\n",
       "    .dataframe tbody tr th:only-of-type {\n",
       "        vertical-align: middle;\n",
       "    }\n",
       "\n",
       "    .dataframe tbody tr th {\n",
       "        vertical-align: top;\n",
       "    }\n",
       "\n",
       "    .dataframe thead th {\n",
       "        text-align: right;\n",
       "    }\n",
       "</style>\n",
       "<table border=\"1\" class=\"dataframe\">\n",
       "  <thead>\n",
       "    <tr style=\"text-align: right;\">\n",
       "      <th></th>\n",
       "      <th>Name</th>\n",
       "      <th>City</th>\n",
       "      <th>StartPrice</th>\n",
       "      <th>DistanceFromCityCentre</th>\n",
       "      <th>OverallScore</th>\n",
       "      <th>RatingCategory</th>\n",
       "      <th>Atmosphere</th>\n",
       "      <th>Cleanliness</th>\n",
       "      <th>Facilities</th>\n",
       "      <th>Location</th>\n",
       "      <th>Security</th>\n",
       "      <th>Staff</th>\n",
       "      <th>ValueForMoney</th>\n",
       "      <th>Longitude</th>\n",
       "      <th>Latitude</th>\n",
       "    </tr>\n",
       "  </thead>\n",
       "  <tbody>\n",
       "    <tr>\n",
       "      <th>0</th>\n",
       "      <td>\"Bike &amp; Bed\" CharinCo Hostel</td>\n",
       "      <td>Osaka</td>\n",
       "      <td>3300</td>\n",
       "      <td>2.9</td>\n",
       "      <td>9.2</td>\n",
       "      <td>Superb</td>\n",
       "      <td>8.9</td>\n",
       "      <td>9.4</td>\n",
       "      <td>9.3</td>\n",
       "      <td>8.9</td>\n",
       "      <td>9.0</td>\n",
       "      <td>9.4</td>\n",
       "      <td>9.4</td>\n",
       "      <td>135.513767</td>\n",
       "      <td>34.682678</td>\n",
       "    </tr>\n",
       "    <tr>\n",
       "      <th>2</th>\n",
       "      <td>&amp;And Hostel Akihabara</td>\n",
       "      <td>Tokyo</td>\n",
       "      <td>3600</td>\n",
       "      <td>7.8</td>\n",
       "      <td>8.7</td>\n",
       "      <td>Fabulous</td>\n",
       "      <td>8.0</td>\n",
       "      <td>7.0</td>\n",
       "      <td>9.0</td>\n",
       "      <td>8.0</td>\n",
       "      <td>10.0</td>\n",
       "      <td>10.0</td>\n",
       "      <td>9.0</td>\n",
       "      <td>139.777472</td>\n",
       "      <td>35.697447</td>\n",
       "    </tr>\n",
       "    <tr>\n",
       "      <th>3</th>\n",
       "      <td>&amp;And Hostel Ueno</td>\n",
       "      <td>Tokyo</td>\n",
       "      <td>2600</td>\n",
       "      <td>8.7</td>\n",
       "      <td>7.4</td>\n",
       "      <td>Very Good</td>\n",
       "      <td>8.0</td>\n",
       "      <td>7.5</td>\n",
       "      <td>7.5</td>\n",
       "      <td>7.5</td>\n",
       "      <td>7.0</td>\n",
       "      <td>8.0</td>\n",
       "      <td>6.5</td>\n",
       "      <td>139.783667</td>\n",
       "      <td>35.712716</td>\n",
       "    </tr>\n",
       "    <tr>\n",
       "      <th>4</th>\n",
       "      <td>&amp;And Hostel-Asakusa North-</td>\n",
       "      <td>Tokyo</td>\n",
       "      <td>1500</td>\n",
       "      <td>10.5</td>\n",
       "      <td>9.4</td>\n",
       "      <td>Superb</td>\n",
       "      <td>9.5</td>\n",
       "      <td>9.5</td>\n",
       "      <td>9.0</td>\n",
       "      <td>9.0</td>\n",
       "      <td>9.5</td>\n",
       "      <td>10.0</td>\n",
       "      <td>9.5</td>\n",
       "      <td>139.798371</td>\n",
       "      <td>35.727898</td>\n",
       "    </tr>\n",
       "    <tr>\n",
       "      <th>5</th>\n",
       "      <td>1night1980hostel Tokyo</td>\n",
       "      <td>Tokyo</td>\n",
       "      <td>2100</td>\n",
       "      <td>9.4</td>\n",
       "      <td>7.0</td>\n",
       "      <td>Very Good</td>\n",
       "      <td>5.5</td>\n",
       "      <td>8.0</td>\n",
       "      <td>6.0</td>\n",
       "      <td>6.0</td>\n",
       "      <td>8.5</td>\n",
       "      <td>8.5</td>\n",
       "      <td>6.5</td>\n",
       "      <td>139.786950</td>\n",
       "      <td>35.724384</td>\n",
       "    </tr>\n",
       "  </tbody>\n",
       "</table>\n",
       "</div>"
      ],
      "text/plain": [
       "                           Name   City  StartPrice DistanceFromCityCentre  \\\n",
       "0  \"Bike & Bed\" CharinCo Hostel  Osaka        3300                    2.9   \n",
       "2         &And Hostel Akihabara  Tokyo        3600                    7.8   \n",
       "3              &And Hostel Ueno  Tokyo        2600                    8.7   \n",
       "4    &And Hostel-Asakusa North-  Tokyo        1500                   10.5   \n",
       "5        1night1980hostel Tokyo  Tokyo        2100                    9.4   \n",
       "\n",
       "   OverallScore RatingCategory  Atmosphere  Cleanliness  Facilities  Location  \\\n",
       "0           9.2         Superb         8.9          9.4         9.3       8.9   \n",
       "2           8.7       Fabulous         8.0          7.0         9.0       8.0   \n",
       "3           7.4      Very Good         8.0          7.5         7.5       7.5   \n",
       "4           9.4         Superb         9.5          9.5         9.0       9.0   \n",
       "5           7.0      Very Good         5.5          8.0         6.0       6.0   \n",
       "\n",
       "   Security  Staff  ValueForMoney   Longitude   Latitude  \n",
       "0       9.0    9.4            9.4  135.513767  34.682678  \n",
       "2      10.0   10.0            9.0  139.777472  35.697447  \n",
       "3       7.0    8.0            6.5  139.783667  35.712716  \n",
       "4       9.5   10.0            9.5  139.798371  35.727898  \n",
       "5       8.5    8.5            6.5  139.786950  35.724384  "
      ]
     },
     "execution_count": 30,
     "metadata": {},
     "output_type": "execute_result"
    }
   ],
   "source": [
    "hostel_df.DistanceFromCityCentre = hostel_df.DistanceFromCityCentre.replace(r'[^\\d\\.]+', '', regex=True)\n",
    "hostel_df.head()"
   ]
  },
  {
   "cell_type": "markdown",
   "metadata": {},
   "source": [
    "Let's do a final check if any more values are missing and what we want to do about them"
   ]
  },
  {
   "cell_type": "code",
   "execution_count": 31,
   "metadata": {},
   "outputs": [
    {
     "data": {
      "text/plain": [
       "Name                      298\n",
       "City                      298\n",
       "StartPrice                298\n",
       "DistanceFromCityCentre    298\n",
       "OverallScore              298\n",
       "RatingCategory            298\n",
       "Atmosphere                298\n",
       "Cleanliness               298\n",
       "Facilities                298\n",
       "Location                  298\n",
       "Security                  298\n",
       "Staff                     298\n",
       "ValueForMoney             298\n",
       "Longitude                 298\n",
       "Latitude                  298\n",
       "dtype: int64"
      ]
     },
     "execution_count": 31,
     "metadata": {},
     "output_type": "execute_result"
    }
   ],
   "source": [
    "hostel_df.count()"
   ]
  },
  {
   "cell_type": "markdown",
   "metadata": {},
   "source": [
    "<br>Noice! No more missing values.  \n",
    "Let's check the if the datatype of each column in proper"
   ]
  },
  {
   "cell_type": "code",
   "execution_count": 32,
   "metadata": {},
   "outputs": [
    {
     "data": {
      "text/plain": [
       "Name                       object\n",
       "City                       object\n",
       "StartPrice                  int64\n",
       "DistanceFromCityCentre     object\n",
       "OverallScore              float64\n",
       "RatingCategory             object\n",
       "Atmosphere                float64\n",
       "Cleanliness               float64\n",
       "Facilities                float64\n",
       "Location                  float64\n",
       "Security                  float64\n",
       "Staff                     float64\n",
       "ValueForMoney             float64\n",
       "Longitude                 float64\n",
       "Latitude                  float64\n",
       "dtype: object"
      ]
     },
     "execution_count": 32,
     "metadata": {},
     "output_type": "execute_result"
    }
   ],
   "source": [
    "hostel_df.dtypes"
   ]
  },
  {
   "cell_type": "code",
   "execution_count": 33,
   "metadata": {},
   "outputs": [
    {
     "data": {
      "text/plain": [
       "Name                       object\n",
       "City                       object\n",
       "StartPrice                  int64\n",
       "DistanceFromCityCentre    float64\n",
       "OverallScore              float64\n",
       "RatingCategory             object\n",
       "Atmosphere                float64\n",
       "Cleanliness               float64\n",
       "Facilities                float64\n",
       "Location                  float64\n",
       "Security                  float64\n",
       "Staff                     float64\n",
       "ValueForMoney             float64\n",
       "Longitude                 float64\n",
       "Latitude                  float64\n",
       "dtype: object"
      ]
     },
     "execution_count": 33,
     "metadata": {},
     "output_type": "execute_result"
    }
   ],
   "source": [
    "# Convert DistanceFromCityCentre to float64\n",
    "hostel_df.DistanceFromCityCentre = hostel_df.DistanceFromCityCentre.astype('float')\n",
    "hostel_df.dtypes"
   ]
  },
  {
   "cell_type": "code",
   "execution_count": 35,
   "metadata": {},
   "outputs": [
    {
     "data": {
      "text/html": [
       "<div>\n",
       "<style scoped>\n",
       "    .dataframe tbody tr th:only-of-type {\n",
       "        vertical-align: middle;\n",
       "    }\n",
       "\n",
       "    .dataframe tbody tr th {\n",
       "        vertical-align: top;\n",
       "    }\n",
       "\n",
       "    .dataframe thead th {\n",
       "        text-align: right;\n",
       "    }\n",
       "</style>\n",
       "<table border=\"1\" class=\"dataframe\">\n",
       "  <thead>\n",
       "    <tr style=\"text-align: right;\">\n",
       "      <th></th>\n",
       "      <th>Name</th>\n",
       "      <th>City</th>\n",
       "      <th>StartPrice</th>\n",
       "      <th>DistanceFromCityCentre</th>\n",
       "      <th>OverallScore</th>\n",
       "      <th>RatingCategory</th>\n",
       "      <th>Atmosphere</th>\n",
       "      <th>Cleanliness</th>\n",
       "      <th>Facilities</th>\n",
       "      <th>Location</th>\n",
       "      <th>Security</th>\n",
       "      <th>Staff</th>\n",
       "      <th>ValueForMoney</th>\n",
       "      <th>Longitude</th>\n",
       "      <th>Latitude</th>\n",
       "    </tr>\n",
       "  </thead>\n",
       "  <tbody>\n",
       "    <tr>\n",
       "      <th>0</th>\n",
       "      <td>\"Bike &amp; Bed\" CharinCo Hostel</td>\n",
       "      <td>Osaka</td>\n",
       "      <td>3300</td>\n",
       "      <td>2.9</td>\n",
       "      <td>9.2</td>\n",
       "      <td>Superb</td>\n",
       "      <td>8.9</td>\n",
       "      <td>9.4</td>\n",
       "      <td>9.3</td>\n",
       "      <td>8.9</td>\n",
       "      <td>9.0</td>\n",
       "      <td>9.4</td>\n",
       "      <td>9.4</td>\n",
       "      <td>135.513767</td>\n",
       "      <td>34.682678</td>\n",
       "    </tr>\n",
       "    <tr>\n",
       "      <th>2</th>\n",
       "      <td>&amp;And Hostel Akihabara</td>\n",
       "      <td>Tokyo</td>\n",
       "      <td>3600</td>\n",
       "      <td>7.8</td>\n",
       "      <td>8.7</td>\n",
       "      <td>Fabulous</td>\n",
       "      <td>8.0</td>\n",
       "      <td>7.0</td>\n",
       "      <td>9.0</td>\n",
       "      <td>8.0</td>\n",
       "      <td>10.0</td>\n",
       "      <td>10.0</td>\n",
       "      <td>9.0</td>\n",
       "      <td>139.777472</td>\n",
       "      <td>35.697447</td>\n",
       "    </tr>\n",
       "    <tr>\n",
       "      <th>3</th>\n",
       "      <td>&amp;And Hostel Ueno</td>\n",
       "      <td>Tokyo</td>\n",
       "      <td>2600</td>\n",
       "      <td>8.7</td>\n",
       "      <td>7.4</td>\n",
       "      <td>Very Good</td>\n",
       "      <td>8.0</td>\n",
       "      <td>7.5</td>\n",
       "      <td>7.5</td>\n",
       "      <td>7.5</td>\n",
       "      <td>7.0</td>\n",
       "      <td>8.0</td>\n",
       "      <td>6.5</td>\n",
       "      <td>139.783667</td>\n",
       "      <td>35.712716</td>\n",
       "    </tr>\n",
       "    <tr>\n",
       "      <th>4</th>\n",
       "      <td>&amp;And Hostel-Asakusa North-</td>\n",
       "      <td>Tokyo</td>\n",
       "      <td>1500</td>\n",
       "      <td>10.5</td>\n",
       "      <td>9.4</td>\n",
       "      <td>Superb</td>\n",
       "      <td>9.5</td>\n",
       "      <td>9.5</td>\n",
       "      <td>9.0</td>\n",
       "      <td>9.0</td>\n",
       "      <td>9.5</td>\n",
       "      <td>10.0</td>\n",
       "      <td>9.5</td>\n",
       "      <td>139.798371</td>\n",
       "      <td>35.727898</td>\n",
       "    </tr>\n",
       "    <tr>\n",
       "      <th>5</th>\n",
       "      <td>1night1980hostel Tokyo</td>\n",
       "      <td>Tokyo</td>\n",
       "      <td>2100</td>\n",
       "      <td>9.4</td>\n",
       "      <td>7.0</td>\n",
       "      <td>Very Good</td>\n",
       "      <td>5.5</td>\n",
       "      <td>8.0</td>\n",
       "      <td>6.0</td>\n",
       "      <td>6.0</td>\n",
       "      <td>8.5</td>\n",
       "      <td>8.5</td>\n",
       "      <td>6.5</td>\n",
       "      <td>139.786950</td>\n",
       "      <td>35.724384</td>\n",
       "    </tr>\n",
       "  </tbody>\n",
       "</table>\n",
       "</div>"
      ],
      "text/plain": [
       "                           Name   City  StartPrice  DistanceFromCityCentre  \\\n",
       "0  \"Bike & Bed\" CharinCo Hostel  Osaka        3300                     2.9   \n",
       "2         &And Hostel Akihabara  Tokyo        3600                     7.8   \n",
       "3              &And Hostel Ueno  Tokyo        2600                     8.7   \n",
       "4    &And Hostel-Asakusa North-  Tokyo        1500                    10.5   \n",
       "5        1night1980hostel Tokyo  Tokyo        2100                     9.4   \n",
       "\n",
       "   OverallScore RatingCategory  Atmosphere  Cleanliness  Facilities  Location  \\\n",
       "0           9.2         Superb         8.9          9.4         9.3       8.9   \n",
       "2           8.7       Fabulous         8.0          7.0         9.0       8.0   \n",
       "3           7.4      Very Good         8.0          7.5         7.5       7.5   \n",
       "4           9.4         Superb         9.5          9.5         9.0       9.0   \n",
       "5           7.0      Very Good         5.5          8.0         6.0       6.0   \n",
       "\n",
       "   Security  Staff  ValueForMoney   Longitude   Latitude  \n",
       "0       9.0    9.4            9.4  135.513767  34.682678  \n",
       "2      10.0   10.0            9.0  139.777472  35.697447  \n",
       "3       7.0    8.0            6.5  139.783667  35.712716  \n",
       "4       9.5   10.0            9.5  139.798371  35.727898  \n",
       "5       8.5    8.5            6.5  139.786950  35.724384  "
      ]
     },
     "execution_count": 35,
     "metadata": {},
     "output_type": "execute_result"
    }
   ],
   "source": [
    "hostel_df.head()"
   ]
  },
  {
   "cell_type": "markdown",
   "metadata": {},
   "source": [
    "<br>Everything looks good here. Let's move on to fetch neighborhood data using Foursquare API."
   ]
  },
  {
   "cell_type": "markdown",
   "metadata": {},
   "source": [
    "#### 4.2 Neighborhood Data(Foursquare):"
   ]
  },
  {
   "cell_type": "code",
   "execution_count": 98,
   "metadata": {},
   "outputs": [],
   "source": [
    "search_url = 'https://api.foursquare.com/v2/venues/search'\n",
    "explore_url = 'https://api.foursquare.com/v2/venues/explore'"
   ]
  },
  {
   "cell_type": "markdown",
   "metadata": {},
   "source": [
    "I've stored my foursqaure credentials in a file which I am reading below"
   ]
  },
  {
   "cell_type": "code",
   "execution_count": 99,
   "metadata": {},
   "outputs": [],
   "source": [
    "with open(\"data/creds.json\", 'r') as f:\n",
    "    creds = json.load(f)\n",
    "CLIENT_ID = creds['id'] # your Foursquare ID\n",
    "CLIENT_SECRET = creds['secret'] # your Foursquare Secret\n",
    "VERSION = '20180605' # Foursquare API version"
   ]
  },
  {
   "cell_type": "code",
   "execution_count": 100,
   "metadata": {},
   "outputs": [
    {
     "data": {
      "text/plain": [
       "'\"Bike & Bed\" CharinCo Hostel'"
      ]
     },
     "execution_count": 100,
     "metadata": {},
     "output_type": "execute_result"
    }
   ],
   "source": [
    "sample_hotel = hostel_df.loc[0]\n",
    "sample_hotel.Name"
   ]
  },
  {
   "cell_type": "code",
   "execution_count": 66,
   "metadata": {},
   "outputs": [],
   "source": [
    "params = dict(\n",
    "  client_id=CLIENT_ID,\n",
    "  client_secret=CLIENT_SECRET,\n",
    "  v=VERSION,\n",
    "  ll=f\"{sample_hotel.Latitude}, {sample_hotel.Longitude}\",\n",
    "  radius=500,\n",
    "  limit=100,\n",
    "  sortByPopularity=1\n",
    ")"
   ]
  },
  {
   "cell_type": "code",
   "execution_count": 108,
   "metadata": {},
   "outputs": [],
   "source": [
    "def get_recommended_venues(name, lattitude, longitude, limit=100, radius=500):\n",
    "    venues = []\n",
    "    params = dict(\n",
    "        client_id=CLIENT_ID,\n",
    "        client_secret=CLIENT_SECRET,\n",
    "        v=VERSION,\n",
    "        ll=f\"{lattitude}, {longitude}\",\n",
    "        radius=radius,\n",
    "        limit=limit,\n",
    "        sortByPopularity=1\n",
    "    )\n",
    "    data = requests.get(explore_url, params=params).json()['response']['groups'][0]['items']\n",
    "    for v in data:\n",
    "        v = v['venue']\n",
    "        primary_cat = \"\"\n",
    "        for c in v['categories']:\n",
    "            if(c['primary']):\n",
    "                primary_cat=c['name']\n",
    "        venues.append({\n",
    "            'HostelName':name, \n",
    "            'VenueName': v['name'], \n",
    "            'Category': primary_cat, \n",
    "            'VenueLatitue': v['location']['lat'], \n",
    "            'VenueLongtitude': v['location']['lng']\n",
    "        })\n",
    "    return venues"
   ]
  },
  {
   "cell_type": "code",
   "execution_count": 114,
   "metadata": {},
   "outputs": [],
   "source": [
    "venue_list = []"
   ]
  },
  {
   "cell_type": "code",
   "execution_count": 115,
   "metadata": {
    "collapsed": true,
    "jupyter": {
     "outputs_hidden": true
    }
   },
   "outputs": [
    {
     "name": "stdout",
     "output_type": "stream",
     "text": [
      "70\n",
      "170\n",
      "252\n",
      "288\n",
      "319\n",
      "382\n",
      "456\n",
      "488\n",
      "528\n",
      "628\n",
      "701\n",
      "758\n",
      "844\n",
      "868\n",
      "902\n",
      "962\n",
      "1062\n",
      "1162\n",
      "1262\n",
      "1358\n",
      "1458\n",
      "1531\n",
      "1584\n",
      "1664\n",
      "1761\n",
      "1795\n",
      "1843\n",
      "1912\n",
      "1926\n",
      "1978\n",
      "2000\n",
      "2100\n",
      "2200\n",
      "2300\n",
      "2400\n",
      "2500\n",
      "2600\n",
      "2700\n",
      "2743\n",
      "2843\n",
      "2943\n",
      "3043\n",
      "3143\n",
      "3167\n",
      "3267\n",
      "3367\n",
      "3467\n",
      "3521\n",
      "3566\n",
      "3666\n",
      "3733\n",
      "3816\n",
      "3860\n",
      "3904\n",
      "4004\n",
      "4034\n",
      "4066\n",
      "4166\n",
      "4190\n",
      "4290\n",
      "4364\n",
      "4442\n",
      "4507\n",
      "4551\n",
      "4623\n",
      "4654\n",
      "4754\n",
      "4830\n",
      "4906\n",
      "5006\n",
      "5032\n",
      "5056\n",
      "5156\n",
      "5207\n",
      "5254\n",
      "5301\n",
      "5381\n",
      "5439\n",
      "5539\n",
      "5573\n",
      "5589\n",
      "5614\n",
      "5638\n",
      "5672\n",
      "5727\n",
      "5764\n",
      "5800\n",
      "5900\n",
      "5930\n",
      "5939\n",
      "5983\n",
      "6083\n",
      "6131\n",
      "6158\n",
      "6200\n",
      "6221\n",
      "6272\n",
      "6318\n",
      "6342\n",
      "6442\n",
      "6465\n",
      "6499\n",
      "6553\n",
      "6653\n",
      "6753\n",
      "6819\n",
      "6877\n",
      "6923\n",
      "6965\n",
      "7037\n",
      "7092\n",
      "7125\n",
      "7173\n",
      "7212\n",
      "7278\n",
      "7378\n",
      "7454\n",
      "7554\n",
      "7622\n",
      "7722\n",
      "7764\n",
      "7809\n",
      "7861\n",
      "7861\n",
      "7883\n",
      "7926\n",
      "7994\n",
      "8017\n",
      "8073\n",
      "8103\n",
      "8130\n",
      "8183\n",
      "8229\n",
      "8329\n",
      "8429\n",
      "8491\n",
      "8536\n",
      "8557\n",
      "8657\n",
      "8725\n",
      "8805\n",
      "8905\n",
      "8960\n",
      "9058\n",
      "9119\n",
      "9215\n",
      "9261\n",
      "9361\n",
      "9457\n",
      "9518\n",
      "9556\n",
      "9611\n",
      "9640\n",
      "9740\n",
      "9798\n",
      "9898\n",
      "9998\n",
      "10089\n",
      "10143\n",
      "10183\n",
      "10236\n",
      "10323\n",
      "10344\n",
      "10351\n",
      "10451\n",
      "10534\n",
      "10565\n",
      "10665\n",
      "10710\n",
      "10762\n",
      "10850\n",
      "10950\n",
      "11050\n",
      "11150\n",
      "11246\n",
      "11346\n",
      "11446\n",
      "11546\n",
      "11622\n",
      "11693\n",
      "11737\n",
      "11824\n",
      "11851\n",
      "11903\n",
      "11998\n",
      "12047\n",
      "12094\n",
      "12103\n",
      "12108\n",
      "12185\n",
      "12231\n",
      "12331\n",
      "12359\n",
      "12394\n",
      "12426\n",
      "12433\n",
      "12507\n",
      "12602\n",
      "12631\n",
      "12731\n",
      "12742\n",
      "12803\n",
      "12832\n",
      "12896\n",
      "12941\n",
      "13005\n",
      "13056\n",
      "13142\n",
      "13242\n",
      "13274\n",
      "13321\n",
      "13325\n",
      "13425\n",
      "13525\n",
      "13553\n",
      "13613\n",
      "13662\n",
      "13709\n",
      "13766\n",
      "13835\n",
      "13935\n",
      "13995\n",
      "13999\n",
      "14057\n",
      "14079\n",
      "14147\n",
      "14244\n",
      "14288\n",
      "14351\n",
      "14418\n",
      "14466\n",
      "14552\n",
      "14652\n",
      "14752\n",
      "14834\n",
      "14934\n",
      "15034\n",
      "15086\n",
      "15186\n",
      "15208\n",
      "15222\n",
      "15322\n",
      "15422\n",
      "15475\n",
      "15527\n"
     ]
    },
    {
     "ename": "KeyError",
     "evalue": "'groups'",
     "output_type": "error",
     "traceback": [
      "\u001b[0;31m---------------------------------------------------------------------------\u001b[0m",
      "\u001b[0;31mKeyError\u001b[0m                                  Traceback (most recent call last)",
      "\u001b[0;32m<ipython-input-115-5b35155e3d8b>\u001b[0m in \u001b[0;36m<module>\u001b[0;34m\u001b[0m\n\u001b[1;32m      1\u001b[0m \u001b[0;32mfor\u001b[0m \u001b[0mname\u001b[0m\u001b[0;34m,\u001b[0m \u001b[0mlat\u001b[0m\u001b[0;34m,\u001b[0m \u001b[0mlong\u001b[0m \u001b[0;32min\u001b[0m \u001b[0mzip\u001b[0m\u001b[0;34m(\u001b[0m\u001b[0mhostel_df\u001b[0m\u001b[0;34m.\u001b[0m\u001b[0mName\u001b[0m\u001b[0;34m,\u001b[0m \u001b[0mhostel_df\u001b[0m\u001b[0;34m.\u001b[0m\u001b[0mLatitude\u001b[0m\u001b[0;34m,\u001b[0m \u001b[0mhostel_df\u001b[0m\u001b[0;34m.\u001b[0m\u001b[0mLongitude\u001b[0m\u001b[0;34m)\u001b[0m\u001b[0;34m:\u001b[0m\u001b[0;34m\u001b[0m\u001b[0;34m\u001b[0m\u001b[0m\n\u001b[0;32m----> 2\u001b[0;31m     \u001b[0mvenue_list\u001b[0m\u001b[0;34m.\u001b[0m\u001b[0mextend\u001b[0m\u001b[0;34m(\u001b[0m\u001b[0mget_recommended_venues\u001b[0m\u001b[0;34m(\u001b[0m\u001b[0mname\u001b[0m\u001b[0;34m,\u001b[0m \u001b[0mlat\u001b[0m\u001b[0;34m,\u001b[0m \u001b[0mlong\u001b[0m\u001b[0;34m)\u001b[0m\u001b[0;34m)\u001b[0m\u001b[0;34m\u001b[0m\u001b[0;34m\u001b[0m\u001b[0m\n\u001b[0m\u001b[1;32m      3\u001b[0m     \u001b[0mi\u001b[0m \u001b[0;34m=\u001b[0m \u001b[0mlen\u001b[0m\u001b[0;34m(\u001b[0m\u001b[0mvenue_list\u001b[0m\u001b[0;34m)\u001b[0m\u001b[0;34m\u001b[0m\u001b[0;34m\u001b[0m\u001b[0m\n\u001b[1;32m      4\u001b[0m     \u001b[0mprint\u001b[0m\u001b[0;34m(\u001b[0m\u001b[0mi\u001b[0m\u001b[0;34m)\u001b[0m\u001b[0;34m\u001b[0m\u001b[0;34m\u001b[0m\u001b[0m\n",
      "\u001b[0;32m<ipython-input-108-6a7c4155e7e6>\u001b[0m in \u001b[0;36mget_recommended_venues\u001b[0;34m(name, lattitude, longitude, limit, radius)\u001b[0m\n\u001b[1;32m     10\u001b[0m         \u001b[0msortByPopularity\u001b[0m\u001b[0;34m=\u001b[0m\u001b[0;36m1\u001b[0m\u001b[0;34m\u001b[0m\u001b[0;34m\u001b[0m\u001b[0m\n\u001b[1;32m     11\u001b[0m     )\n\u001b[0;32m---> 12\u001b[0;31m     \u001b[0mdata\u001b[0m \u001b[0;34m=\u001b[0m \u001b[0mrequests\u001b[0m\u001b[0;34m.\u001b[0m\u001b[0mget\u001b[0m\u001b[0;34m(\u001b[0m\u001b[0mexplore_url\u001b[0m\u001b[0;34m,\u001b[0m \u001b[0mparams\u001b[0m\u001b[0;34m=\u001b[0m\u001b[0mparams\u001b[0m\u001b[0;34m)\u001b[0m\u001b[0;34m.\u001b[0m\u001b[0mjson\u001b[0m\u001b[0;34m(\u001b[0m\u001b[0;34m)\u001b[0m\u001b[0;34m[\u001b[0m\u001b[0;34m'response'\u001b[0m\u001b[0;34m]\u001b[0m\u001b[0;34m[\u001b[0m\u001b[0;34m'groups'\u001b[0m\u001b[0;34m]\u001b[0m\u001b[0;34m[\u001b[0m\u001b[0;36m0\u001b[0m\u001b[0;34m]\u001b[0m\u001b[0;34m[\u001b[0m\u001b[0;34m'items'\u001b[0m\u001b[0;34m]\u001b[0m\u001b[0;34m\u001b[0m\u001b[0;34m\u001b[0m\u001b[0m\n\u001b[0m\u001b[1;32m     13\u001b[0m     \u001b[0;32mfor\u001b[0m \u001b[0mv\u001b[0m \u001b[0;32min\u001b[0m \u001b[0mdata\u001b[0m\u001b[0;34m:\u001b[0m\u001b[0;34m\u001b[0m\u001b[0;34m\u001b[0m\u001b[0m\n\u001b[1;32m     14\u001b[0m         \u001b[0mv\u001b[0m \u001b[0;34m=\u001b[0m \u001b[0mv\u001b[0m\u001b[0;34m[\u001b[0m\u001b[0;34m'venue'\u001b[0m\u001b[0;34m]\u001b[0m\u001b[0;34m\u001b[0m\u001b[0;34m\u001b[0m\u001b[0m\n",
      "\u001b[0;31mKeyError\u001b[0m: 'groups'"
     ]
    }
   ],
   "source": [
    "for name, lat, long in zip(hostel_df.Name, hostel_df.Latitude, hostel_df.Longitude):\n",
    "    venue_list.extend(get_recommended_venues(name, lat, long))\n",
    "    i = len(venue_list)\n",
    "    print(i)"
   ]
  },
  {
   "cell_type": "code",
   "execution_count": 118,
   "metadata": {},
   "outputs": [
    {
     "data": {
      "text/html": [
       "<div>\n",
       "<style scoped>\n",
       "    .dataframe tbody tr th:only-of-type {\n",
       "        vertical-align: middle;\n",
       "    }\n",
       "\n",
       "    .dataframe tbody tr th {\n",
       "        vertical-align: top;\n",
       "    }\n",
       "\n",
       "    .dataframe thead th {\n",
       "        text-align: right;\n",
       "    }\n",
       "</style>\n",
       "<table border=\"1\" class=\"dataframe\">\n",
       "  <thead>\n",
       "    <tr style=\"text-align: right;\">\n",
       "      <th></th>\n",
       "      <th>HostelName</th>\n",
       "      <th>VenueName</th>\n",
       "      <th>Category</th>\n",
       "      <th>VenueLatitude</th>\n",
       "      <th>VenueLongitude</th>\n",
       "    </tr>\n",
       "  </thead>\n",
       "  <tbody>\n",
       "    <tr>\n",
       "      <th>0</th>\n",
       "      <td>\"Bike &amp; Bed\" CharinCo Hostel</td>\n",
       "      <td>Lawson (ローソン S OSL谷町四丁目駅北店)</td>\n",
       "      <td>Convenience Store</td>\n",
       "      <td>34.683282</td>\n",
       "      <td>135.517281</td>\n",
       "    </tr>\n",
       "    <tr>\n",
       "      <th>1</th>\n",
       "      <td>\"Bike &amp; Bed\" CharinCo Hostel</td>\n",
       "      <td>モナコ</td>\n",
       "      <td>Café</td>\n",
       "      <td>34.683210</td>\n",
       "      <td>135.517309</td>\n",
       "    </tr>\n",
       "    <tr>\n",
       "      <th>2</th>\n",
       "      <td>\"Bike &amp; Bed\" CharinCo Hostel</td>\n",
       "      <td>7-Eleven (セブンイレブン 大阪谷町3丁目店)</td>\n",
       "      <td>Convenience Store</td>\n",
       "      <td>34.683509</td>\n",
       "      <td>135.517793</td>\n",
       "    </tr>\n",
       "    <tr>\n",
       "      <th>3</th>\n",
       "      <td>\"Bike &amp; Bed\" CharinCo Hostel</td>\n",
       "      <td>McDonald's (マクドナルド 地下鉄谷町四丁目店)</td>\n",
       "      <td>Fast Food Restaurant</td>\n",
       "      <td>34.683109</td>\n",
       "      <td>135.517443</td>\n",
       "    </tr>\n",
       "    <tr>\n",
       "      <th>4</th>\n",
       "      <td>\"Bike &amp; Bed\" CharinCo Hostel</td>\n",
       "      <td>City Plaza Osaka (シティプラザ大阪)</td>\n",
       "      <td>Hotel</td>\n",
       "      <td>34.684020</td>\n",
       "      <td>135.510206</td>\n",
       "    </tr>\n",
       "  </tbody>\n",
       "</table>\n",
       "</div>"
      ],
      "text/plain": [
       "                     HostelName                      VenueName  \\\n",
       "0  \"Bike & Bed\" CharinCo Hostel    Lawson (ローソン S OSL谷町四丁目駅北店)   \n",
       "1  \"Bike & Bed\" CharinCo Hostel                            モナコ   \n",
       "2  \"Bike & Bed\" CharinCo Hostel    7-Eleven (セブンイレブン 大阪谷町3丁目店)   \n",
       "3  \"Bike & Bed\" CharinCo Hostel  McDonald's (マクドナルド 地下鉄谷町四丁目店)   \n",
       "4  \"Bike & Bed\" CharinCo Hostel    City Plaza Osaka (シティプラザ大阪)   \n",
       "\n",
       "               Category  VenueLatitude  VenueLongitude  \n",
       "0     Convenience Store      34.683282      135.517281  \n",
       "1                  Café      34.683210      135.517309  \n",
       "2     Convenience Store      34.683509      135.517793  \n",
       "3  Fast Food Restaurant      34.683109      135.517443  \n",
       "4                 Hotel      34.684020      135.510206  "
      ]
     },
     "execution_count": 118,
     "metadata": {},
     "output_type": "execute_result"
    }
   ],
   "source": [
    "venues_df = pd.DataFrame(venue_list)\n",
    "venues_df = venues_df.rename(columns={'VenueLatitue': 'VenueLatitude', 'VenueLongtitude': 'VenueLongitude'})\n",
    "venues_df.head()"
   ]
  },
  {
   "cell_type": "markdown",
   "metadata": {},
   "source": [
    "#### 4.3 Land Price Data(Foursquare):"
   ]
  },
  {
   "cell_type": "markdown",
   "metadata": {},
   "source": [
    "I will scrape the following URL to get land prices in tokyo - https://utinokati.com/en/details/land-market-value/area/Tokyo/"
   ]
  },
  {
   "cell_type": "code",
   "execution_count": 146,
   "metadata": {},
   "outputs": [],
   "source": [
    "land_price_url = 'https://utinokati.com/en/details/land-market-value/area/Tokyo/'\n",
    "\n",
    "data = BeautifulSoup(requests.get(land_price_url).content)"
   ]
  },
  {
   "cell_type": "code",
   "execution_count": 163,
   "metadata": {},
   "outputs": [],
   "source": [
    "price_df = pd.read_html(data.find('table', {'class':'table-condensed'}).prettify())[0]"
   ]
  },
  {
   "cell_type": "code",
   "execution_count": 164,
   "metadata": {},
   "outputs": [],
   "source": [
    "price_df.drop(['#', 'Average Trading Price'], axis=1, inplace=True)\n",
    "price_df.rename(columns={'Average Unit Price': 'PricePerSqMeter'}, inplace=True)\n",
    "price_df.PricePerSqMeter = price_df.PricePerSqMeter.apply(lambda x: x.strip(' JPY/sq.m').replace(',', '')).astype(int)"
   ]
  },
  {
   "cell_type": "code",
   "execution_count": 165,
   "metadata": {},
   "outputs": [
    {
     "data": {
      "text/html": [
       "<div>\n",
       "<style scoped>\n",
       "    .dataframe tbody tr th:only-of-type {\n",
       "        vertical-align: middle;\n",
       "    }\n",
       "\n",
       "    .dataframe tbody tr th {\n",
       "        vertical-align: top;\n",
       "    }\n",
       "\n",
       "    .dataframe thead th {\n",
       "        text-align: right;\n",
       "    }\n",
       "</style>\n",
       "<table border=\"1\" class=\"dataframe\">\n",
       "  <thead>\n",
       "    <tr style=\"text-align: right;\">\n",
       "      <th></th>\n",
       "      <th>Area</th>\n",
       "      <th>PricePerSqMeter</th>\n",
       "    </tr>\n",
       "  </thead>\n",
       "  <tbody>\n",
       "    <tr>\n",
       "      <th>0</th>\n",
       "      <td>Chiyoda-Ku</td>\n",
       "      <td>1890610</td>\n",
       "    </tr>\n",
       "    <tr>\n",
       "      <th>1</th>\n",
       "      <td>Chuo-Ku</td>\n",
       "      <td>3178147</td>\n",
       "    </tr>\n",
       "    <tr>\n",
       "      <th>2</th>\n",
       "      <td>Minato-Ku</td>\n",
       "      <td>2339310</td>\n",
       "    </tr>\n",
       "    <tr>\n",
       "      <th>3</th>\n",
       "      <td>Shinjuku-Ku</td>\n",
       "      <td>930080</td>\n",
       "    </tr>\n",
       "    <tr>\n",
       "      <th>4</th>\n",
       "      <td>Bunkyo-Ku</td>\n",
       "      <td>966787</td>\n",
       "    </tr>\n",
       "  </tbody>\n",
       "</table>\n",
       "</div>"
      ],
      "text/plain": [
       "          Area  PricePerSqMeter\n",
       "0   Chiyoda-Ku          1890610\n",
       "1      Chuo-Ku          3178147\n",
       "2    Minato-Ku          2339310\n",
       "3  Shinjuku-Ku           930080\n",
       "4    Bunkyo-Ku           966787"
      ]
     },
     "execution_count": 165,
     "metadata": {},
     "output_type": "execute_result"
    }
   ],
   "source": [
    "price_df.head()"
   ]
  },
  {
   "cell_type": "markdown",
   "metadata": {},
   "source": [
    "#### 4.4 Persist all datasets for later use"
   ]
  },
  {
   "cell_type": "code",
   "execution_count": 167,
   "metadata": {},
   "outputs": [],
   "source": [
    "hostel_df.to_csv('data/hostels_cleaned.csv')\n",
    "venues_df.to_csv('data/hostel_venues.csv')\n",
    "price_df.to_csv('data/tokyo_land_prices.csv')"
   ]
  },
  {
   "cell_type": "code",
   "execution_count": 286,
   "metadata": {},
   "outputs": [
    {
     "data": {
      "text/plain": [
       "Name                      \"Bike & Bed\" CharinCo Hostel\n",
       "City                                             Osaka\n",
       "StartPrice                                        3300\n",
       "DistanceFromCityCentre                             2.9\n",
       "OverallScore                                       9.2\n",
       "RatingCategory                                  Superb\n",
       "Atmosphere                                         8.9\n",
       "Cleanliness                                        9.4\n",
       "Facilities                                         9.3\n",
       "Location                                           8.9\n",
       "Security                                             9\n",
       "Staff                                              9.4\n",
       "ValueForMoney                                      9.4\n",
       "Longitude                                      135.514\n",
       "Latitude                                       34.6827\n",
       "Name: 0, dtype: object"
      ]
     },
     "execution_count": 286,
     "metadata": {},
     "output_type": "execute_result"
    }
   ],
   "source": [
    "temp = hostel_df.iloc[0]\n",
    "temp"
   ]
  },
  {
   "cell_type": "code",
   "execution_count": 287,
   "metadata": {},
   "outputs": [],
   "source": [
    "geo = OpenCage(api_key=\"28b371af498445e8842797870bb8dbbb\")"
   ]
  },
  {
   "cell_type": "code",
   "execution_count": 288,
   "metadata": {},
   "outputs": [
    {
     "name": "stderr",
     "output_type": "stream",
     "text": [
      "/opt/miniconda3/lib/python3.7/site-packages/ipykernel_launcher.py:1: DeprecationWarning: OpenCage.reverse: default value for `exactly_one` argument will become True in geopy 2.0. Specify `exactly_one=False` as the argument explicitly to get rid of this warning.\n",
      "  \"\"\"Entry point for launching an IPython kernel.\n"
     ]
    }
   ],
   "source": [
    "cities = []\n",
    "suburbs = []\n",
    "for lat, long in zip(hostel_df.Latitude, hostel_df.Longitude):\n",
    "    loc = geo.reverse(query=[lat, long], language='en')\n",
    "    cities.append(loc[0].raw['components']['city'])\n",
    "    suburbs.append(loc[0].raw['components']['suburb'])"
   ]
  },
  {
   "cell_type": "code",
   "execution_count": 289,
   "metadata": {},
   "outputs": [
    {
     "data": {
      "text/plain": [
       "{'ISO_3166-1_alpha-2': 'JP',\n",
       " 'ISO_3166-1_alpha-3': 'JPN',\n",
       " '_type': 'building',\n",
       " 'building': '大阪内本町ビル',\n",
       " 'city': 'Osaka',\n",
       " 'continent': 'Asia',\n",
       " 'country': 'Japan',\n",
       " 'country_code': 'jp',\n",
       " 'neighbourhood': '高津二丁目',\n",
       " 'postcode': '540-0026',\n",
       " 'road': '鎗屋町筋',\n",
       " 'state': 'Osaka Prefecture',\n",
       " 'suburb': 'Chuo'}"
      ]
     },
     "execution_count": 289,
     "metadata": {},
     "output_type": "execute_result"
    }
   ],
   "source": [
    "loc[0].raw['components']"
   ]
  },
  {
   "cell_type": "markdown",
   "metadata": {},
   "source": [
    "## 5. Analysis"
   ]
  },
  {
   "cell_type": "markdown",
   "metadata": {},
   "source": [
    "### 5.1 Exploratory Data Analysis\n",
    "Using EDA, we will try to answer the following questions:\n",
    "- How does price vary with location?\n",
    "- Which hostels are most secure and where are they located?\n",
    "- Where are the <i>'value of money'</i> hostels located?\n",
    "- How does proximity to transportation affect hostel rating?"
   ]
  },
  {
   "cell_type": "markdown",
   "metadata": {},
   "source": [
    "Let's first start by analyzing which cities are covered in our dataset"
   ]
  },
  {
   "cell_type": "code",
   "execution_count": 315,
   "metadata": {},
   "outputs": [
    {
     "data": {
      "text/plain": [
       "Tokyo           116\n",
       "Osaka            89\n",
       "Kyoto            66\n",
       "Fukuoka-City     14\n",
       "Hiroshima        13\n",
       "Name: City, dtype: int64"
      ]
     },
     "execution_count": 315,
     "metadata": {},
     "output_type": "execute_result"
    }
   ],
   "source": [
    "hostel_df.City.value_counts()"
   ]
  },
  {
   "cell_type": "code",
   "execution_count": 350,
   "metadata": {},
   "outputs": [
    {
     "data": {
      "image/png": "[encoded data removed]",
      "text/plain": [
       "<Figure size 864x432 with 1 Axes>"
      ]
     },
     "metadata": {
      "needs_background": "light"
     },
     "output_type": "display_data"
    }
   ],
   "source": [
    "plt.figure(figsize=(12, 6))\n",
    "ax = hostel_df.City.value_counts().plot(kind=\"barh\", color=\"#BC002D\", fontsize=12)\n",
    "ax.set_title(\"Hostel Count (Japan)\", fontsize=16)\n",
    "ax.set_xlabel(\"# of hostels\", fontsize=12)\n",
    "\n",
    "for p in ax.patches:\n",
    "    ax.annotate(str(p.get_width()), (p.get_width() + 0.5, p.get_y() + 0.2))"
   ]
  },
  {
   "cell_type": "markdown",
   "metadata": {},
   "source": [
    "<br>Tokyo has the most number of hostels which is understandable since it is once of the largest cities of the world and hence might attract a lot of visitors through its airport"
   ]
  },
  {
   "cell_type": "markdown",
   "metadata": {},
   "source": [
    "<br>Going ahead, our focus will only be tokyo hostels"
   ]
  },
  {
   "cell_type": "code",
   "execution_count": 351,
   "metadata": {},
   "outputs": [
    {
     "data": {
      "text/html": [
       "<div>\n",
       "<style scoped>\n",
       "    .dataframe tbody tr th:only-of-type {\n",
       "        vertical-align: middle;\n",
       "    }\n",
       "\n",
       "    .dataframe tbody tr th {\n",
       "        vertical-align: top;\n",
       "    }\n",
       "\n",
       "    .dataframe thead th {\n",
       "        text-align: right;\n",
       "    }\n",
       "</style>\n",
       "<table border=\"1\" class=\"dataframe\">\n",
       "  <thead>\n",
       "    <tr style=\"text-align: right;\">\n",
       "      <th></th>\n",
       "      <th>Name</th>\n",
       "      <th>City</th>\n",
       "      <th>StartPrice</th>\n",
       "      <th>DistanceFromCityCentre</th>\n",
       "      <th>OverallScore</th>\n",
       "      <th>RatingCategory</th>\n",
       "      <th>Atmosphere</th>\n",
       "      <th>Cleanliness</th>\n",
       "      <th>Facilities</th>\n",
       "      <th>Location</th>\n",
       "      <th>Security</th>\n",
       "      <th>Staff</th>\n",
       "      <th>ValueForMoney</th>\n",
       "      <th>Longitude</th>\n",
       "      <th>Latitude</th>\n",
       "    </tr>\n",
       "  </thead>\n",
       "  <tbody>\n",
       "    <tr>\n",
       "      <th>2</th>\n",
       "      <td>&amp;And Hostel Akihabara</td>\n",
       "      <td>Tokyo</td>\n",
       "      <td>3600</td>\n",
       "      <td>7.8</td>\n",
       "      <td>8.7</td>\n",
       "      <td>Fabulous</td>\n",
       "      <td>8.0</td>\n",
       "      <td>7.0</td>\n",
       "      <td>9.0</td>\n",
       "      <td>8.0</td>\n",
       "      <td>10.0</td>\n",
       "      <td>10.0</td>\n",
       "      <td>9.0</td>\n",
       "      <td>139.777472</td>\n",
       "      <td>35.697447</td>\n",
       "    </tr>\n",
       "    <tr>\n",
       "      <th>3</th>\n",
       "      <td>&amp;And Hostel Ueno</td>\n",
       "      <td>Tokyo</td>\n",
       "      <td>2600</td>\n",
       "      <td>8.7</td>\n",
       "      <td>7.4</td>\n",
       "      <td>Very Good</td>\n",
       "      <td>8.0</td>\n",
       "      <td>7.5</td>\n",
       "      <td>7.5</td>\n",
       "      <td>7.5</td>\n",
       "      <td>7.0</td>\n",
       "      <td>8.0</td>\n",
       "      <td>6.5</td>\n",
       "      <td>139.783667</td>\n",
       "      <td>35.712716</td>\n",
       "    </tr>\n",
       "    <tr>\n",
       "      <th>4</th>\n",
       "      <td>&amp;And Hostel-Asakusa North-</td>\n",
       "      <td>Tokyo</td>\n",
       "      <td>1500</td>\n",
       "      <td>10.5</td>\n",
       "      <td>9.4</td>\n",
       "      <td>Superb</td>\n",
       "      <td>9.5</td>\n",
       "      <td>9.5</td>\n",
       "      <td>9.0</td>\n",
       "      <td>9.0</td>\n",
       "      <td>9.5</td>\n",
       "      <td>10.0</td>\n",
       "      <td>9.5</td>\n",
       "      <td>139.798371</td>\n",
       "      <td>35.727898</td>\n",
       "    </tr>\n",
       "    <tr>\n",
       "      <th>5</th>\n",
       "      <td>1night1980hostel Tokyo</td>\n",
       "      <td>Tokyo</td>\n",
       "      <td>2100</td>\n",
       "      <td>9.4</td>\n",
       "      <td>7.0</td>\n",
       "      <td>Very Good</td>\n",
       "      <td>5.5</td>\n",
       "      <td>8.0</td>\n",
       "      <td>6.0</td>\n",
       "      <td>6.0</td>\n",
       "      <td>8.5</td>\n",
       "      <td>8.5</td>\n",
       "      <td>6.5</td>\n",
       "      <td>139.786950</td>\n",
       "      <td>35.724384</td>\n",
       "    </tr>\n",
       "    <tr>\n",
       "      <th>6</th>\n",
       "      <td>328 Hostel &amp; Lounge</td>\n",
       "      <td>Tokyo</td>\n",
       "      <td>3300</td>\n",
       "      <td>16.5</td>\n",
       "      <td>9.3</td>\n",
       "      <td>Superb</td>\n",
       "      <td>8.7</td>\n",
       "      <td>9.7</td>\n",
       "      <td>9.3</td>\n",
       "      <td>9.1</td>\n",
       "      <td>9.3</td>\n",
       "      <td>9.7</td>\n",
       "      <td>8.9</td>\n",
       "      <td>139.745467</td>\n",
       "      <td>35.548044</td>\n",
       "    </tr>\n",
       "  </tbody>\n",
       "</table>\n",
       "</div>"
      ],
      "text/plain": [
       "                         Name   City  StartPrice  DistanceFromCityCentre  \\\n",
       "2       &And Hostel Akihabara  Tokyo        3600                     7.8   \n",
       "3            &And Hostel Ueno  Tokyo        2600                     8.7   \n",
       "4  &And Hostel-Asakusa North-  Tokyo        1500                    10.5   \n",
       "5      1night1980hostel Tokyo  Tokyo        2100                     9.4   \n",
       "6         328 Hostel & Lounge  Tokyo        3300                    16.5   \n",
       "\n",
       "   OverallScore RatingCategory  Atmosphere  Cleanliness  Facilities  Location  \\\n",
       "2           8.7       Fabulous         8.0          7.0         9.0       8.0   \n",
       "3           7.4      Very Good         8.0          7.5         7.5       7.5   \n",
       "4           9.4         Superb         9.5          9.5         9.0       9.0   \n",
       "5           7.0      Very Good         5.5          8.0         6.0       6.0   \n",
       "6           9.3         Superb         8.7          9.7         9.3       9.1   \n",
       "\n",
       "   Security  Staff  ValueForMoney   Longitude   Latitude  \n",
       "2      10.0   10.0            9.0  139.777472  35.697447  \n",
       "3       7.0    8.0            6.5  139.783667  35.712716  \n",
       "4       9.5   10.0            9.5  139.798371  35.727898  \n",
       "5       8.5    8.5            6.5  139.786950  35.724384  \n",
       "6       9.3    9.7            8.9  139.745467  35.548044  "
      ]
     },
     "execution_count": 351,
     "metadata": {},
     "output_type": "execute_result"
    }
   ],
   "source": [
    "tokyo_hostels_df = hostel_df[hostel_df.City == \"Tokyo\"]\n",
    "tokyo_hostels_df.head()"
   ]
  },
  {
   "cell_type": "code",
   "execution_count": 352,
   "metadata": {},
   "outputs": [
    {
     "data": {
      "text/plain": [
       "(116, 15)"
      ]
     },
     "execution_count": 352,
     "metadata": {},
     "output_type": "execute_result"
    }
   ],
   "source": [
    "tokyo_hostels_df.shape"
   ]
  },
  {
   "cell_type": "markdown",
   "metadata": {},
   "source": [
    "<br>Let's visualize all these hostels on the map"
   ]
  },
  {
   "cell_type": "code",
   "execution_count": 375,
   "metadata": {},
   "outputs": [
    {
     "data": {
      "text/html": [
       "<div style=\"width:100%;\"><div style=\"position:relative;width:100%;height:0;padding-bottom:60%;\"><iframe src=\"data:text/html;charset=utf-8;base64,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\" style=\"position:absolute;width:100%;height:100%;left:0;top:0;border:none !important;\" allowfullscreen webkitallowfullscreen mozallowfullscreen></iframe></div></div>"
      ],
      "text/plain": [
       "<folium.folium.Map at 0x1a45647a50>"
      ]
     },
     "execution_count": 375,
     "metadata": {},
     "output_type": "execute_result"
    }
   ],
   "source": [
    "tokyo_map = folium.Map(location=(35.689487, 139.691711), zoom_start=11)\n",
    "\n",
    "# add markers to map\n",
    "for lat, lng, label in zip(tokyo_hostels_df.Latitude, tokyo_hostels_df.Longitude, tokyo_hostels_df.Name):\n",
    "    label = folium.Popup(label, parse_html=True)\n",
    "    folium.CircleMarker(\n",
    "        [lat, lng],\n",
    "        radius=3,\n",
    "        popup=label,\n",
    "        color='#BC002D',\n",
    "        fill=True,\n",
    "        fill_color='#FFF',\n",
    "        fill_opacity=0.75,\n",
    "        parse_html=False).add_to(tokyo_map)\n",
    "    \n",
    "tokyo_map"
   ]
  },
  {
   "cell_type": "markdown",
   "metadata": {},
   "source": [
    "<br>\n",
    "\n",
    "##### How does price vary with location?\n",
    "As per me, the closer a hostel to the city center, the higher it's price. Let's see if we can prove that using data."
   ]
  },
  {
   "cell_type": "code",
   "execution_count": 355,
   "metadata": {},
   "outputs": [
    {
     "data": {
      "text/plain": [
       "2000       13\n",
       "2500       12\n",
       "2200       10\n",
       "3000        8\n",
       "3300        6\n",
       "2400        6\n",
       "1800        5\n",
       "2600        5\n",
       "2100        5\n",
       "2300        4\n",
       "1600        4\n",
       "3600        4\n",
       "2900        4\n",
       "2700        3\n",
       "3200        3\n",
       "1500        3\n",
       "1900        3\n",
       "3800        2\n",
       "4000        2\n",
       "3700        2\n",
       "4100        2\n",
       "5400        1\n",
       "3400        1\n",
       "5500        1\n",
       "7600        1\n",
       "3500        1\n",
       "6300        1\n",
       "1003200     1\n",
       "5200        1\n",
       "1300        1\n",
       "3900        1\n",
       "Name: StartPrice, dtype: int64"
      ]
     },
     "execution_count": 355,
     "metadata": {},
     "output_type": "execute_result"
    }
   ],
   "source": [
    "tokyo_hostels_df.StartPrice.value_counts()"
   ]
  },
  {
   "cell_type": "markdown",
   "metadata": {},
   "source": [
    "We can see that one hostel has a very high starting price! Can a hostel charge 1003200 Yen? Doesn't seem likely. Hence, we will remove that row from the dataset."
   ]
  },
  {
   "cell_type": "code",
   "execution_count": 356,
   "metadata": {},
   "outputs": [],
   "source": [
    "tokyo_hostels_df = tokyo_hostels_df[tokyo_hostels_df.StartPrice < 1000000]"
   ]
  },
  {
   "cell_type": "code",
   "execution_count": 362,
   "metadata": {},
   "outputs": [
    {
     "data": {
      "image/png": "[encoded data removed]",
      "text/plain": [
       "<Figure size 1080x576 with 1 Axes>"
      ]
     },
     "metadata": {
      "needs_background": "light"
     },
     "output_type": "display_data"
    }
   ],
   "source": [
    "tokyo_hostels_df.plot(x='DistanceFromCityCentre', y='StartPrice', kind='scatter', figsize=(15, 8), color='#BC002D')\n",
    "plt.xlabel(\"Distance from City Center (km)\")\n",
    "plt.ylabel(\"Starting Price\")\n",
    "plt.title(\"Hostel Starting Price w.r.t. proximity to city center\", fontsize=16)\n",
    "plt.show()"
   ]
  },
  {
   "cell_type": "markdown",
   "metadata": {},
   "source": [
    "We cannot see any pattern which can help us verify our assumption. If our assumption was correct, we should be be seeing a curve which decreases as distance increases. However, there is on such curve visible."
   ]
  },
  {
   "cell_type": "markdown",
   "metadata": {},
   "source": [
    "Let's check the correlation score of StartPrice with DistanceFromCityCentre"
   ]
  },
  {
   "cell_type": "code",
   "execution_count": 369,
   "metadata": {},
   "outputs": [
    {
     "data": {
      "text/html": [
       "<div>\n",
       "<style scoped>\n",
       "    .dataframe tbody tr th:only-of-type {\n",
       "        vertical-align: middle;\n",
       "    }\n",
       "\n",
       "    .dataframe tbody tr th {\n",
       "        vertical-align: top;\n",
       "    }\n",
       "\n",
       "    .dataframe thead th {\n",
       "        text-align: right;\n",
       "    }\n",
       "</style>\n",
       "<table border=\"1\" class=\"dataframe\">\n",
       "  <thead>\n",
       "    <tr style=\"text-align: right;\">\n",
       "      <th></th>\n",
       "      <th>StartPrice</th>\n",
       "      <th>DistanceFromCityCentre</th>\n",
       "    </tr>\n",
       "  </thead>\n",
       "  <tbody>\n",
       "    <tr>\n",
       "      <th>StartPrice</th>\n",
       "      <td>1.000000</td>\n",
       "      <td>-0.346481</td>\n",
       "    </tr>\n",
       "    <tr>\n",
       "      <th>DistanceFromCityCentre</th>\n",
       "      <td>-0.346481</td>\n",
       "      <td>1.000000</td>\n",
       "    </tr>\n",
       "  </tbody>\n",
       "</table>\n",
       "</div>"
      ],
      "text/plain": [
       "                        StartPrice  DistanceFromCityCentre\n",
       "StartPrice                1.000000               -0.346481\n",
       "DistanceFromCityCentre   -0.346481                1.000000"
      ]
     },
     "execution_count": 369,
     "metadata": {},
     "output_type": "execute_result"
    }
   ],
   "source": [
    "tokyo_hostels_df[['StartPrice', 'DistanceFromCityCentre']].corr()"
   ]
  },
  {
   "cell_type": "markdown",
   "metadata": {},
   "source": [
    "The correlation coefficient is very less. Hence, we can say that the starting price of hostels does not vary according to its distance from the city center."
   ]
  },
  {
   "cell_type": "markdown",
   "metadata": {},
   "source": [
    "> **The starting price of hostels does not vary much depending on its distance from the city center.**"
   ]
  },
  {
   "cell_type": "markdown",
   "metadata": {},
   "source": [
    "<br>\n",
    "\n",
    "##### Which hostels are most secure and where are they located?\n",
    "I have no idea as to where the most secure hostels are located. Let's find out!"
   ]
  },
  {
   "cell_type": "code",
   "execution_count": 379,
   "metadata": {},
   "outputs": [
    {
     "data": {
      "text/plain": [
       "<matplotlib.axes._subplots.AxesSubplot at 0x1a45ad76d0>"
      ]
     },
     "execution_count": 379,
     "metadata": {},
     "output_type": "execute_result"
    },
    {
     "data": {
      "image/png": "[encoded data removed]",
      "text/plain": [
       "<Figure size 1080x576 with 1 Axes>"
      ]
     },
     "metadata": {
      "needs_background": "light"
     },
     "output_type": "display_data"
    }
   ],
   "source": [
    "plt.figure(figsize=(15,8))\n",
    "sns.countplot(x=tokyo_hostels_df.Security)"
   ]
  },
  {
   "cell_type": "markdown",
   "metadata": {},
   "source": [
    "As we can see, most hostels are quite secure as rated by users, so that's some great news for travellers. Let's put hostels with security rating 9.5 and above on the map."
   ]
  },
  {
   "cell_type": "code",
   "execution_count": 398,
   "metadata": {},
   "outputs": [],
   "source": [
    "highsec_hostels = tokyo_hostels_df[tokyo_hostels_df.Security >= 9]\n",
    "lowsec_hostels = tokyo_hostels_df[tokyo_hostels_df.Security < 9]\n"
   ]
  },
  {
   "cell_type": "code",
   "execution_count": 399,
   "metadata": {},
   "outputs": [
    {
     "data": {
      "text/html": [
       "<div style=\"width:100%;\"><div style=\"position:relative;width:100%;height:0;padding-bottom:60%;\"><iframe src=\"data:text/html;charset=utf-8;base64,PCFET0NUWVBFIGh0bWw+CjxoZWFkPiAgICAKICAgIDxtZXRhIGh0dHAtZXF1aXY9ImNvbnRlbnQtdHlwZSIgY29udGVudD0idGV4dC9odG1sOyBjaGFyc2V0PVVURi04IiAvPgogICAgCiAgICAgICAgPHNjcmlwdD4KICAgICAgICAgICAgTF9OT19UT1VDSCA9IGZhbHNlOwogICAgICAgICAgICBMX0RJU0FCTEVfM0QgPSBmYWxzZTsKICAgICAgICA8L3NjcmlwdD4KICAgIAogICAgPHNjcmlwdCBzcmM9Imh0dHBzOi8vY2RuLmpzZGVsaXZyLm5ldC9ucG0vbGVhZmxldEAxLjUuMS9kaXN0L2xlYWZsZXQuanMiPjwvc2NyaXB0PgogICAgPHNjcmlwdCBzcmM9Imh0dHBzOi8vY29kZS5qcXVlcnkuY29tL2pxdWVyeS0xLjEyLjQubWluLmpzIj48L3NjcmlwdD4KICAgIDxzY3JpcHQgc3JjPSJodHRwczovL21heGNkbi5ib290c3RyYXBjZG4uY29tL2Jvb3RzdHJhcC8zLjIuMC9qcy9ib290c3RyYXAubWluLmpzIj48L3NjcmlwdD4KICAgIDxzY3JpcHQgc3JjPSJodHRwczovL2NkbmpzLmNsb3VkZmxhcmUuY29tL2FqYXgvbGlicy9MZWFmbGV0LmF3ZXNvbWUtbWFya2Vycy8yLjAuMi9sZWFmbGV0LmF3ZXNvbWUtbWFya2Vycy5qcyI+PC9zY3JpcHQ+CiAgICA8bGluayByZWw9InN0eWxlc2hlZXQiIGhyZWY9Imh0dHBzOi8vY2RuLmpzZGVsaXZyLm5ldC9ucG0vbGVhZmxldEAxLjUuMS9kaXN0L2xlYWZsZXQuY3NzIi8+CiAgICA8bGluayByZWw9InN0eWxlc2hlZXQiIGhyZWY9Imh0dHBzOi8vbWF4Y2RuLmJvb3RzdHJhcGNkbi5jb20vYm9vdHN0cmFwLzMuMi4wL2Nzcy9ib290c3RyYXAubWluLmNzcyIvPgogICAgPGxpbmsgcmVsPSJzdHlsZXNoZWV0IiBocmVmPSJodHRwczovL21heGNkbi5ib290c3RyYXBjZG4uY29tL2Jvb3RzdHJhcC8zLjIuMC9jc3MvYm9vdHN0cmFwLXRoZW1lLm1pbi5jc3MiLz4KICAgIDxsaW5rIHJlbD0ic3R5bGVzaGVldCIgaHJlZj0iaHR0cHM6Ly9tYXhjZG4uYm9vdHN0cmFwY2RuLmNvbS9mb250LWF3ZXNvbWUvNC42LjMvY3NzL2ZvbnQtYXdlc29tZS5taW4uY3NzIi8+CiAgICA8bGluayByZWw9InN0eWxlc2hlZXQiIGhyZWY9Imh0dHBzOi8vY2RuanMuY2xvdWRmbGFyZS5jb20vYWpheC9saWJzL0xlYWZsZXQuYXdlc29tZS1tYXJrZXJzLzIuMC4yL2xlYWZsZXQuYXdlc29tZS1tYXJrZXJzLmNzcyIvPgogICAgPGxpbmsgcmVsPSJzdHlsZXNoZWV0IiBocmVmPSJodHRwczovL3Jhd2Nkbi5naXRoYWNrLmNvbS9weXRob24tdmlzdWFsaXphdGlvbi9mb2xpdW0vbWFzdGVyL2ZvbGl1bS90ZW1wbGF0ZXMvbGVhZmxldC5hd2Vzb21lLnJvdGF0ZS5jc3MiLz4KICAgIDxzdHlsZT5odG1sLCBib2R5IHt3aWR0aDogMTAwJTtoZWlnaHQ6IDEwMCU7bWFyZ2luOiAwO3BhZGRpbmc6IDA7fTwvc3R5bGU+CiAgICA8c3R5bGU+I21hcCB7cG9zaXRpb246YWJzb2x1dGU7dG9wOjA7Ym90dG9tOjA7cmlnaHQ6MDtsZWZ0OjA7fTwvc3R5bGU+CiAgICAKICAgICAgICAgICAgPG1ldGEgbmFtZT0idmlld3BvcnQiIGNvbnRlbnQ9IndpZHRoPWRldmljZS13aWR0aCwKICAgICAgICAgICAgICAgIGluaXRpYWwtc2NhbGU9MS4wLCBtYXhpbXVtLXNjYWxlPTEuMCwgdXNlci1zY2FsYWJsZT1ubyIgLz4KICAgICAgICAgICAgPHN0eWxlPgogICAgICAgICAgICAgICAgI21hcF8zYjUzZmQ4ODM3MDQ0NGFjOWJiYmRmNjIyYWFjNGUyZSB7CiAgICAgICAgICAgICAgICAgICAgcG9zaXRpb246IHJlbGF0aXZlOwogICAgICAgICAgICAgICAgICAgIHdpZHRoOiAxMDAuMCU7CiAgICAgICAgICAgICAgICAgICAgaGVpZ2h0OiAxMDAuMCU7CiAgICAgICAgICAgICAgICAgICAgbGVmdDogMC4wJTsKICAgICAgICAgICAgICAgICAgICB0b3A6IDAuMCU7CiAgICAgICAgICAgICAgICB9CiAgICAgICAgICAgIDwvc3R5bGU+CiAgICAgICAgCjwvaGVhZD4KPGJvZHk+ICAgIAogICAgCiAgICAgICAgICAgIDxkaXYgY2xhc3M9ImZvbGl1bS1tYXAiIGlkPSJtYXBfM2I1M2ZkODgzNzA0NDRhYzliYmJkZjYyMmFhYzRlMmUiID48L2Rpdj4KICAgICAgICAKPC9ib2R5Pgo8c2NyaXB0PiAgICAKICAgIAogICAgICAgICAgICB2YXIgbWFwXzNiNTNmZDg4MzcwNDQ0YWM5YmJiZGY2MjJhYWM0ZTJlID0gTC5tYXAoCiAgICAgICAgICAgICAgICAibWFwXzNiNTNmZDg4MzcwNDQ0YWM5YmJiZGY2MjJhYWM0ZTJlIiwKICAgICAgICAgICAgICAgIHsKICAgICAgICAgICAgICAgICAgICBjZW50ZXI6IFszNS42ODk0ODcsIDEzOS42OTE3MTFdLAogICAgICAgICAgICAgICAgICAgIGNyczogTC5DUlMuRVBTRzM4NTcsCiAgICAgICAgICAgICAgICAgICAgem9vbTogMTEsCiAgICAgICAgICAgICAgICAgICAgem9vbUNvbnRyb2w6IHRydWUsCiAgICAgICAgICAgICAgICAgICAgcHJlZmVyQ2FudmFzOiBmYWxzZSwKICAgICAgICAgICAgICAgIH0KICAgICAgICAgICAgKTsKCiAgICAgICAgICAgIAoKICAgICAgICAKICAgIAogICAgICAgICAgICB2YXIgdGlsZV9sYXllcl80YjNkNTcxMDg2NDg0NjY2YjI0YTZkMGUwMzU0ODhhNyA9IEwudGlsZUxheWVyKAogICAgICAgICAgICAgICAgImh0dHBzOi8ve3N9LnRpbGUub3BlbnN0cmVldG1hcC5vcmcve3p9L3t4fS97eX0ucG5nIiwKICAgICAgICAgICAgICAgIHsiYXR0cmlidXRpb24iOiAiRGF0YSBieSBcdTAwMjZjb3B5OyBcdTAwM2NhIGhyZWY9XCJodHRwOi8vb3BlbnN0cmVldG1hcC5vcmdcIlx1MDAzZU9wZW5TdHJlZXRNYXBcdTAwM2MvYVx1MDAzZSwgdW5kZXIgXHUwMDNjYSBocmVmPVwiaHR0cDovL3d3dy5vcGVuc3RyZWV0bWFwLm9yZy9jb3B5cmlnaHRcIlx1MDAzZU9EYkxcdTAwM2MvYVx1MDAzZS4iLCAiZGV0ZWN0UmV0aW5hIjogZmFsc2UsICJtYXhOYXRpdmVab29tIjogMTgsICJtYXhab29tIjogMTgsICJtaW5ab29tIjogMCwgIm5vV3JhcCI6IGZhbHNlLCAib3BhY2l0eSI6IDEsICJzdWJkb21haW5zIjogImFiYyIsICJ0bXMiOiBmYWxzZX0KICAgICAgICAgICAgKS5hZGRUbyhtYXBfM2I1M2ZkODgzNzA0NDRhYzliYmJkZjYyMmFhYzRlMmUpOwogICAgICAgIAogICAgCiAgICAgICAgICAgIHZhciBjaXJjbGVfbWFya2VyX2ZiOThjNGRkNDNmMDRjMDdhZDM5ZGNmZjhkZmJjNzEzID0gTC5jaXJjbGVNYXJrZXIoCiAgICAgICAgICAgICAgICBbMzUuNjk3NDQ3MywgMTM5Ljc3NzQ3MjQwMDAwMDAyXSwKICAgICAgICAgICAgICAgIHsiYnViYmxpbmdNb3VzZUV2ZW50cyI6IHRydWUsICJjb2xvciI6ICIjMzNjYzMzIiwgImRhc2hBcnJheSI6IG51bGwsICJkYXNoT2Zmc2V0IjogbnVsbCwgImZpbGwiOiB0cnVlLCAiZmlsbENvbG9yIjogIiNGRkYiLCAiZmlsbE9wYWNpdHkiOiAwLjc1LCAiZmlsbFJ1bGUiOiAiZXZlbm9kZCIsICJsaW5lQ2FwIjogInJvdW5kIiwgImxpbmVKb2luIjogInJvdW5kIiwgIm9wYWNpdHkiOiAxLjAsICJyYWRpdXMiOiAzLCAic3Ryb2tlIjogdHJ1ZSwgIndlaWdodCI6IDN9CiAgICAgICAgICAgICkuYWRkVG8obWFwXzNiNTNmZDg4MzcwNDQ0YWM5YmJiZGY2MjJhYWM0ZTJlKTsKICAgICAgICAKICAgIAogICAgICAgIHZhciBwb3B1cF81OTRkNjE0ZmNkNWE0MTI5YTI2MzMxMzhkYTIyNjhjOSA9IEwucG9wdXAoeyJtYXhXaWR0aCI6ICIxMDAlIn0pOwoKICAgICAgICAKICAgICAgICAgICAgdmFyIGh0bWxfMWE0YmU3MDY1N2UxNGVjYjkxZmUzNzZhZjdiZDgzZjMgPSAkKGA8ZGl2IGlkPSJodG1sXzFhNGJlNzA2NTdlMTRlY2I5MWZlMzc2YWY3YmQ4M2YzIiBzdHlsZT0id2lkdGg6IDEwMC4wJTsgaGVpZ2h0OiAxMDAuMCU7Ij4mYW1wO0FuZCBIb3N0ZWwgQWtpaGFiYXJhPC9kaXY+YClbMF07CiAgICAgICAgICAgIHBvcHVwXzU5NGQ2MTRmY2Q1YTQxMjlhMjYzMzEzOGRhMjI2OGM5LnNldENvbnRlbnQoaHRtbF8xYTRiZTcwNjU3ZTE0ZWNiOTFmZTM3NmFmN2JkODNmMyk7CiAgICAgICAgCgogICAgICAgIGNpcmNsZV9tYXJrZXJfZmI5OGM0ZGQ0M2YwNGMwN2FkMzlkY2ZmOGRmYmM3MTMuYmluZFBvcHVwKHBvcHVwXzU5NGQ2MTRmY2Q1YTQxMjlhMjYzMzEzOGRhMjI2OGM5KQogICAgICAgIDsKCiAgICAgICAgCiAgICAKICAgIAogICAgICAgICAgICB2YXIgY2lyY2xlX21hcmtlcl80YTM3ZDdlOTAzZTM0N2NmYWY2NzJlNDgzZWZkYjNjZCA9IEwuY2lyY2xlTWFya2VyKAogICAgICAgICAgICAgICAgWzM1LjcyNzg5NzksIDEzOS43OTgzNzEyXSwKICAgICAgICAgICAgICAgIHsiYnViYmxpbmdNb3VzZUV2ZW50cyI6IHRydWUsICJjb2xvciI6ICIjMzNjYzMzIiwgImRhc2hBcnJheSI6IG51bGwsICJkYXNoT2Zmc2V0IjogbnVsbCwgImZpbGwiOiB0cnVlLCAiZmlsbENvbG9yIjogIiNGRkYiLCAiZmlsbE9wYWNpdHkiOiAwLjc1LCAiZmlsbFJ1bGUiOiAiZXZlbm9kZCIsICJsaW5lQ2FwIjogInJvdW5kIiwgImxpbmVKb2luIjogInJvdW5kIiwgIm9wYWNpdHkiOiAxLjAsICJyYWRpdXMiOiAzLCAic3Ryb2tlIjogdHJ1ZSwgIndlaWdodCI6IDN9CiAgICAgICAgICAgICkuYWRkVG8obWFwXzNiNTNmZDg4MzcwNDQ0YWM5YmJiZGY2MjJhYWM0ZTJlKTsKICAgICAgICAKICAgIAogICAgICAgIHZhciBwb3B1cF8yZWJmYTQxNTBjODk0NTVmYmY1YTczNzFhZDYyNThlOSA9IEwucG9wdXAoeyJtYXhXaWR0aCI6ICIxMDAlIn0pOwoKICAgICAgICAKICAgICAgICAgICAgdmFyIGh0bWxfMGI5MTlkZDI3NmY4NDdmZWIxZGI5NTcwMGYyODAzZjcgPSAkKGA8ZGl2IGlkPSJodG1sXzBiOTE5ZGQyNzZmODQ3ZmViMWRiOTU3MDBmMjgwM2Y3IiBzdHlsZT0id2lkdGg6IDEwMC4wJTsgaGVpZ2h0OiAxMDAuMCU7Ij4mYW1wO0FuZCBIb3N0ZWwtQXNha3VzYSBOb3J0aC08L2Rpdj5gKVswXTsKICAgICAgICAgICAgcG9wdXBfMmViZmE0MTUwYzg5NDU1ZmJmNWE3MzcxYWQ2MjU4ZTkuc2V0Q29udGVudChodG1sXzBiOTE5ZGQyNzZmODQ3ZmViMWRiOTU3MDBmMjgwM2Y3KTsKICAgICAgICAKCiAgICAgICAgY2lyY2xlX21hcmtlcl80YTM3ZDdlOTAzZTM0N2NmYWY2NzJlNDgzZWZkYjNjZC5iaW5kUG9wdXAocG9wdXBfMmViZmE0MTUwYzg5NDU1ZmJmNWE3MzcxYWQ2MjU4ZTkpCiAgICAgICAgOwoKICAgICAgICAKICAgIAogICAgCiAgICAgICAgICAgIHZhciBjaXJjbGVfbWFya2VyX2Q3NmU5OTVmNDA2NzRiNzBiMTVlNzQ0NWYyMGE1YWVhID0gTC5jaXJjbGVNYXJrZXIoCiAgICAgICAgICAgICAgICBbMzUuNTQ4MDQzOSwgMTM5Ljc0NTQ2NzE5OTk5OTk4XSwKICAgICAgICAgICAgICAgIHsiYnViYmxpbmdNb3VzZUV2ZW50cyI6IHRydWUsICJjb2xvciI6ICIjMzNjYzMzIiwgImRhc2hBcnJheSI6IG51bGwsICJkYXNoT2Zmc2V0IjogbnVsbCwgImZpbGwiOiB0cnVlLCAiZmlsbENvbG9yIjogIiNGRkYiLCAiZmlsbE9wYWNpdHkiOiAwLjc1LCAiZmlsbFJ1bGUiOiAiZXZlbm9kZCIsICJsaW5lQ2FwIjogInJvdW5kIiwgImxpbmVKb2luIjogInJvdW5kIiwgIm9wYWNpdHkiOiAxLjAsICJyYWRpdXMiOiAzLCAic3Ryb2tlIjogdHJ1ZSwgIndlaWdodCI6IDN9CiAgICAgICAgICAgICkuYWRkVG8obWFwXzNiNTNmZDg4MzcwNDQ0YWM5YmJiZGY2MjJhYWM0ZTJlKTsKICAgICAgICAKICAgIAogICAgICAgIHZhciBwb3B1cF82MWJmOTMzZGI3NjU0ZjQyYTg4YThiOWE3MjVhMmQ0ZSA9IEwucG9wdXAoeyJtYXhXaWR0aCI6ICIxMDAlIn0pOwoKICAgICAgICAKICAgICAgICAgICAgdmFyIGh0bWxfMThmODliYjU3ZDZjNDI2ZWJiNThjOWUwM2E1OTM4YjYgPSAkKGA8ZGl2IGlkPSJodG1sXzE4Zjg5YmI1N2Q2YzQyNmViYjU4YzllMDNhNTkzOGI2IiBzdHlsZT0id2lkdGg6IDEwMC4wJTsgaGVpZ2h0OiAxMDAuMCU7Ij4zMjggSG9zdGVsICZhbXA7IExvdW5nZTwvZGl2PmApWzBdOwogICAgICAgICAgICBwb3B1cF82MWJmOTMzZGI3NjU0ZjQyYTg4YThiOWE3MjVhMmQ0ZS5zZXRDb250ZW50KGh0bWxfMThmODliYjU3ZDZjNDI2ZWJiNThjOWUwM2E1OTM4YjYpOwogICAgICAgIAoKICAgICAgICBjaXJjbGVfbWFya2VyX2Q3NmU5OTVmNDA2NzRiNzBiMTVlNzQ0NWYyMGE1YWVhLmJpbmRQb3B1cChwb3B1cF82MWJmOTMzZGI3NjU0ZjQyYTg4YThiOWE3MjVhMmQ0ZSkKICAgICAgICA7CgogICAgICAgIAogICAgCiAgICAKICAgICAgICAgICAgdmFyIGNpcmNsZV9tYXJrZXJfMTBlYzZiODExYWE5NDQ0ODhhYmUwNzNiZTE2OGQ2NTUgPSBMLmNpcmNsZU1hcmtlcigKICAgICAgICAgICAgICAgIFszNS42OTc0OTA0LCAxMzkuNzc5MzgyXSwKICAgICAgICAgICAgICAgIHsiYnViYmxpbmdNb3VzZUV2ZW50cyI6IHRydWUsICJjb2xvciI6ICIjMzNjYzMzIiwgImRhc2hBcnJheSI6IG51bGwsICJkYXNoT2Zmc2V0IjogbnVsbCwgImZpbGwiOiB0cnVlLCAiZmlsbENvbG9yIjogIiNGRkYiLCAiZmlsbE9wYWNpdHkiOiAwLjc1LCAiZmlsbFJ1bGUiOiAiZXZlbm9kZCIsICJsaW5lQ2FwIjogInJvdW5kIiwgImxpbmVKb2luIjogInJvdW5kIiwgIm9wYWNpdHkiOiAxLjAsICJyYWRpdXMiOiAzLCAic3Ryb2tlIjogdHJ1ZSwgIndlaWdodCI6IDN9CiAgICAgICAgICAgICkuYWRkVG8obWFwXzNiNTNmZDg4MzcwNDQ0YWM5YmJiZGY2MjJhYWM0ZTJlKTsKICAgICAgICAKICAgIAogICAgICAgIHZhciBwb3B1cF8xNGE0M2I1M2VhMDc0YjE1OTBkZDYyNTQ5YWU2ZGFhZiA9IEwucG9wdXAoeyJtYXhXaWR0aCI6ICIxMDAlIn0pOwoKICAgICAgICAKICAgICAgICAgICAgdmFyIGh0bWxfZjk0NDI4OWVhZDhiNDkzNDkxMjBiM2NmYzQwN2RhMGEgPSAkKGA8ZGl2IGlkPSJodG1sX2Y5NDQyODllYWQ4YjQ5MzQ5MTIwYjNjZmM0MDdkYTBhIiBzdHlsZT0id2lkdGg6IDEwMC4wJTsgaGVpZ2h0OiAxMDAuMCU7Ij5Ba2loYWJhcmEgSG90ZWwgMzAwMDwvZGl2PmApWzBdOwogICAgICAgICAgICBwb3B1cF8xNGE0M2I1M2VhMDc0YjE1OTBkZDYyNTQ5YWU2ZGFhZi5zZXRDb250ZW50KGh0bWxfZjk0NDI4OWVhZDhiNDkzNDkxMjBiM2NmYzQwN2RhMGEpOwogICAgICAgIAoKICAgICAgICBjaXJjbGVfbWFya2VyXzEwZWM2YjgxMWFhOTQ0NDg4YWJlMDczYmUxNjhkNjU1LmJpbmRQb3B1cChwb3B1cF8xNGE0M2I1M2VhMDc0YjE1OTBkZDYyNTQ5YWU2ZGFhZikKICAgICAgICA7CgogICAgICAgIAogICAgCiAgICAKICAgICAgICAgICAgdmFyIGNpcmNsZV9tYXJrZXJfNzIzYzcxMzQzYzViNDVmMWEzOGIxNjhiZjE1ZmFkNGEgPSBMLmNpcmNsZU1hcmtlcigKICAgICAgICAgICAgICAgIFszNS42NzAwMDkyLCAxMzkuNjg3NTM1MTk5OTk5OTldLAogICAgICAgICAgICAgICAgeyJidWJibGluZ01vdXNlRXZlbnRzIjogdHJ1ZSwgImNvbG9yIjogIiMzM2NjMzMiLCAiZGFzaEFycmF5IjogbnVsbCwgImRhc2hPZmZzZXQiOiBudWxsLCAiZmlsbCI6IHRydWUsICJmaWxsQ29sb3IiOiAiI0ZGRiIsICJmaWxsT3BhY2l0eSI6IDAuNzUsICJmaWxsUnVsZSI6ICJldmVub2RkIiwgImxpbmVDYXAiOiAicm91bmQiLCAibGluZUpvaW4iOiAicm91bmQiLCAib3BhY2l0eSI6IDEuMCwgInJhZGl1cyI6IDMsICJzdHJva2UiOiB0cnVlLCAid2VpZ2h0IjogM30KICAgICAgICAgICAgKS5hZGRUbyhtYXBfM2I1M2ZkODgzNzA0NDRhYzliYmJkZjYyMmFhYzRlMmUpOwogICAgICAgIAogICAgCiAgICAgICAgdmFyIHBvcHVwX2FjMzVlNDk2Njg3MzQzZjFhM2Q1YTcxYTE0ZWQzMGU1ID0gTC5wb3B1cCh7Im1heFdpZHRoIjogIjEwMCUifSk7CgogICAgICAgIAogICAgICAgICAgICB2YXIgaHRtbF9hYTIyMmE1YTg3NmQ0NzI5OGIxZTVjMjU5OWYwNDc1MiA9ICQoYDxkaXYgaWQ9Imh0bWxfYWEyMjJhNWE4NzZkNDcyOThiMWU1YzI1OTlmMDQ3NTIiIHN0eWxlPSJ3aWR0aDogMTAwLjAlOyBoZWlnaHQ6IDEwMC4wJTsiPkFsbW9uZCBob3N0ZWwgJmFtcDsgY2FmZSBTaGlidXlhPC9kaXY+YClbMF07CiAgICAgICAgICAgIHBvcHVwX2FjMzVlNDk2Njg3MzQzZjFhM2Q1YTcxYTE0ZWQzMGU1LnNldENvbnRlbnQoaHRtbF9hYTIyMmE1YTg3NmQ0NzI5OGIxZTVjMjU5OWYwNDc1Mik7CiAgICAgICAgCgogICAgICAgIGNpcmNsZV9tYXJrZXJfNzIzYzcxMzQzYzViNDVmMWEzOGIxNjhiZjE1ZmFkNGEuYmluZFBvcHVwKHBvcHVwX2FjMzVlNDk2Njg3MzQzZjFhM2Q1YTcxYTE0ZWQzMGU1KQogICAgICAgIDsKCiAgICAgICAgCiAgICAKICAgIAogICAgICAgICAgICB2YXIgY2lyY2xlX21hcmtlcl85OGI3NWZlMTgyNzA0NjZjOWQ4ZTIzMWY4MDcyNDE5YSA9IEwuY2lyY2xlTWFya2VyKAogICAgICAgICAgICAgICAgWzM1LjY5ODk0NDgsIDEzOS43ODkzNTk1XSwKICAgICAgICAgICAgICAgIHsiYnViYmxpbmdNb3VzZUV2ZW50cyI6IHRydWUsICJjb2xvciI6ICIjMzNjYzMzIiwgImRhc2hBcnJheSI6IG51bGwsICJkYXNoT2Zmc2V0IjogbnVsbCwgImZpbGwiOiB0cnVlLCAiZmlsbENvbG9yIjogIiNGRkYiLCAiZmlsbE9wYWNpdHkiOiAwLjc1LCAiZmlsbFJ1bGUiOiAiZXZlbm9kZCIsICJsaW5lQ2FwIjogInJvdW5kIiwgImxpbmVKb2luIjogInJvdW5kIiwgIm9wYWNpdHkiOiAxLjAsICJyYWRpdXMiOiAzLCAic3Ryb2tlIjogdHJ1ZSwgIndlaWdodCI6IDN9CiAgICAgICAgICAgICkuYWRkVG8obWFwXzNiNTNmZDg4MzcwNDQ0YWM5YmJiZGY2MjJhYWM0ZTJlKTsKICAgICAgICAKICAgIAogICAgICAgIHZhciBwb3B1cF85MDU0NTEwODBkYzU0YjExOTgxNjk2MzgwZjIzMDU4NyA9IEwucG9wdXAoeyJtYXhXaWR0aCI6ICIxMDAlIn0pOwoKICAgICAgICAKICAgICAgICAgICAgdmFyIGh0bWxfMDBhYzA1ZTA2ZjY5NDI1MWFiZTg5ZjVhNzgwNTI4OGQgPSAkKGA8ZGl2IGlkPSJodG1sXzAwYWMwNWUwNmY2OTQyNTFhYmU4OWY1YTc4MDUyODhkIiBzdHlsZT0id2lkdGg6IDEwMC4wJTsgaGVpZ2h0OiAxMDAuMCU7Ij5Bbm5lIEhvc3RlbCBBc2FrdXNhYmFzaGk8L2Rpdj5gKVswXTsKICAgICAgICAgICAgcG9wdXBfOTA1NDUxMDgwZGM1NGIxMTk4MTY5NjM4MGYyMzA1ODcuc2V0Q29udGVudChodG1sXzAwYWMwNWUwNmY2OTQyNTFhYmU4OWY1YTc4MDUyODhkKTsKICAgICAgICAKCiAgICAgICAgY2lyY2xlX21hcmtlcl85OGI3NWZlMTgyNzA0NjZjOWQ4ZTIzMWY4MDcyNDE5YS5iaW5kUG9wdXAocG9wdXBfOTA1NDUxMDgwZGM1NGIxMTk4MTY5NjM4MGYyMzA1ODcpCiAgICAgICAgOwoKICAgICAgICAKICAgIAogICAgCiAgICAgICAgICAgIHZhciBjaXJjbGVfbWFya2VyXzI0NDhiZjk2ZTc1YTQ4Y2NhNWNkM2NiNzA1OTA5MTgxID0gTC5jaXJjbGVNYXJrZXIoCiAgICAgICAgICAgICAgICBbMzUuNjk1NDg5NywgMTM5Ljc5Njc5NzY5OTk5OTk4XSwKICAgICAgICAgICAgICAgIHsiYnViYmxpbmdNb3VzZUV2ZW50cyI6IHRydWUsICJjb2xvciI6ICIjMzNjYzMzIiwgImRhc2hBcnJheSI6IG51bGwsICJkYXNoT2Zmc2V0IjogbnVsbCwgImZpbGwiOiB0cnVlLCAiZmlsbENvbG9yIjogIiNGRkYiLCAiZmlsbE9wYWNpdHkiOiAwLjc1LCAiZmlsbFJ1bGUiOiAiZXZlbm9kZCIsICJsaW5lQ2FwIjogInJvdW5kIiwgImxpbmVKb2luIjogInJvdW5kIiwgIm9wYWNpdHkiOiAxLjAsICJyYWRpdXMiOiAzLCAic3Ryb2tlIjogdHJ1ZSwgIndlaWdodCI6IDN9CiAgICAgICAgICAgICkuYWRkVG8obWFwXzNiNTNmZDg4MzcwNDQ0YWM5YmJiZGY2MjJhYWM0ZTJlKTsKICAgICAgICAKICAgIAogICAgICAgIHZhciBwb3B1cF80MmY1NjQ0MmRhODI0MTIyYjVmMTYwN2U1MDhjMGM4ZCA9IEwucG9wdXAoeyJtYXhXaWR0aCI6ICIxMDAlIn0pOwoKICAgICAgICAKICAgICAgICAgICAgdmFyIGh0bWxfMzRkMDgyZTAyNWMxNGIxOThhN2JkMWZjNjU0YmUyMjUgPSAkKGA8ZGl2IGlkPSJodG1sXzM0ZDA4MmUwMjVjMTRiMTk4YTdiZDFmYzY1NGJlMjI1IiBzdHlsZT0id2lkdGg6IDEwMC4wJTsgaGVpZ2h0OiAxMDAuMCU7Ij5Bbm5lIEhvc3RlbCBZb2tvenVuYTwvZGl2PmApWzBdOwogICAgICAgICAgICBwb3B1cF80MmY1NjQ0MmRhODI0MTIyYjVmMTYwN2U1MDhjMGM4ZC5zZXRDb250ZW50KGh0bWxfMzRkMDgyZTAyNWMxNGIxOThhN2JkMWZjNjU0YmUyMjUpOwogICAgICAgIAoKICAgICAgICBjaXJjbGVfbWFya2VyXzI0NDhiZjk2ZTc1YTQ4Y2NhNWNkM2NiNzA1OTA5MTgxLmJpbmRQb3B1cChwb3B1cF80MmY1NjQ0MmRhODI0MTIyYjVmMTYwN2U1MDhjMGM4ZCkKICAgICAgICA7CgogICAgICAgIAogICAgCiAgICAKICAgICAgICAgICAgdmFyIGNpcmNsZV9tYXJrZXJfNjk4YTdlYWE4ZjBkNDNkYmE1MWE1NDk4NTBjZDdhYTEgPSBMLmNpcmNsZU1hcmtlcigKICAgICAgICAgICAgICAgIFszNS42MDQyNDIsIDEzOS43NDIxMDhdLAogICAgICAgICAgICAgICAgeyJidWJibGluZ01vdXNlRXZlbnRzIjogdHJ1ZSwgImNvbG9yIjogIiMzM2NjMzMiLCAiZGFzaEFycmF5IjogbnVsbCwgImRhc2hPZmZzZXQiOiBudWxsLCAiZmlsbCI6IHRydWUsICJmaWxsQ29sb3IiOiAiI0ZGRiIsICJmaWxsT3BhY2l0eSI6IDAuNzUsICJmaWxsUnVsZSI6ICJldmVub2RkIiwgImxpbmVDYXAiOiAicm91bmQiLCAibGluZUpvaW4iOiAicm91bmQiLCAib3BhY2l0eSI6IDEuMCwgInJhZGl1cyI6IDMsICJzdHJva2UiOiB0cnVlLCAid2VpZ2h0IjogM30KICAgICAgICAgICAgKS5hZGRUbyhtYXBfM2I1M2ZkODgzNzA0NDRhYzliYmJkZjYyMmFhYzRlMmUpOwogICAgICAgIAogICAgCiAgICAgICAgdmFyIHBvcHVwXzA4MzNmODM4MzdkZjQ0ZDM4YzQ4Y2RhZWUwNTU4MTA3ID0gTC5wb3B1cCh7Im1heFdpZHRoIjogIjEwMCUifSk7CgogICAgICAgIAogICAgICAgICAgICB2YXIgaHRtbF84OWUyODVhMGY2ZDk0OTNkYmIzM2JhNjk4YWRjYzJhZCA9ICQoYDxkaXYgaWQ9Imh0bWxfODllMjg1YTBmNmQ5NDkzZGJiMzNiYTY5OGFkY2MyYWQiIHN0eWxlPSJ3aWR0aDogMTAwLjAlOyBoZWlnaHQ6IDEwMC4wJTsiPkFSVG5TSEVMVEVSPC9kaXY+YClbMF07CiAgICAgICAgICAgIHBvcHVwXzA4MzNmODM4MzdkZjQ0ZDM4YzQ4Y2RhZWUwNTU4MTA3LnNldENvbnRlbnQoaHRtbF84OWUyODVhMGY2ZDk0OTNkYmIzM2JhNjk4YWRjYzJhZCk7CiAgICAgICAgCgogICAgICAgIGNpcmNsZV9tYXJrZXJfNjk4YTdlYWE4ZjBkNDNkYmE1MWE1NDk4NTBjZDdhYTEuYmluZFBvcHVwKHBvcHVwXzA4MzNmODM4MzdkZjQ0ZDM4YzQ4Y2RhZWUwNTU4MTA3KQogICAgICAgIDsKCiAgICAgICAgCiAgICAKICAgIAogICAgICAgICAgICB2YXIgY2lyY2xlX21hcmtlcl85YTRlMzI3M2Q5NjA0NDExOGYyYjQ5NDkwZGU0MTE2MCA9IEwuY2lyY2xlTWFya2VyKAogICAgICAgICAgICAgICAgWzM1LjcxMzE3NywgMTM5Ljc5MDgxMDAwMDAwMDAyXSwKICAgICAgICAgICAgICAgIHsiYnViYmxpbmdNb3VzZUV2ZW50cyI6IHRydWUsICJjb2xvciI6ICIjMzNjYzMzIiwgImRhc2hBcnJheSI6IG51bGwsICJkYXNoT2Zmc2V0IjogbnVsbCwgImZpbGwiOiB0cnVlLCAiZmlsbENvbG9yIjogIiNGRkYiLCAiZmlsbE9wYWNpdHkiOiAwLjc1LCAiZmlsbFJ1bGUiOiAiZXZlbm9kZCIsICJsaW5lQ2FwIjogInJvdW5kIiwgImxpbmVKb2luIjogInJvdW5kIiwgIm9wYWNpdHkiOiAxLjAsICJyYWRpdXMiOiAzLCAic3Ryb2tlIjogdHJ1ZSwgIndlaWdodCI6IDN9CiAgICAgICAgICAgICkuYWRkVG8obWFwXzNiNTNmZDg4MzcwNDQ0YWM5YmJiZGY2MjJhYWM0ZTJlKTsKICAgICAgICAKICAgIAogICAgICAgIHZhciBwb3B1cF8zNTllNTFlOTMyZGE0OGUwODM2YjlhODIxNTgwNzE2YyA9IEwucG9wdXAoeyJtYXhXaWR0aCI6ICIxMDAlIn0pOwoKICAgICAgICAKICAgICAgICAgICAgdmFyIGh0bWxfMTY4MjNmODc3MzkwNDczYzljMTE4YjJjNTAxZTg1MDQgPSAkKGA8ZGl2IGlkPSJodG1sXzE2ODIzZjg3NzM5MDQ3M2M5YzExOGIyYzUwMWU4NTA0IiBzdHlsZT0id2lkdGg6IDEwMC4wJTsgaGVpZ2h0OiAxMDAuMCU7Ij5Bc2FrdXNhIEhvc3RlbCBUb3VrYWlzb3U8L2Rpdj5gKVswXTsKICAgICAgICAgICAgcG9wdXBfMzU5ZTUxZTkzMmRhNDhlMDgzNmI5YTgyMTU4MDcxNmMuc2V0Q29udGVudChodG1sXzE2ODIzZjg3NzM5MDQ3M2M5YzExOGIyYzUwMWU4NTA0KTsKICAgICAgICAKCiAgICAgICAgY2lyY2xlX21hcmtlcl85YTRlMzI3M2Q5NjA0NDExOGYyYjQ5NDkwZGU0MTE2MC5iaW5kUG9wdXAocG9wdXBfMzU5ZTUxZTkzMmRhNDhlMDgzNmI5YTgyMTU4MDcxNmMpCiAgICAgICAgOwoKICAgICAgICAKICAgIAogICAgCiAgICAgICAgICAgIHZhciBjaXJjbGVfbWFya2VyXzFjM2VmMjY3Zjc1YTRkMWM4YTVkZWZhYWUyM2QyYTM1ID0gTC5jaXJjbGVNYXJrZXIoCiAgICAgICAgICAgICAgICBbMzUuNzExODc2OSwgMTM5Ljc5NjY5NzFdLAogICAgICAgICAgICAgICAgeyJidWJibGluZ01vdXNlRXZlbnRzIjogdHJ1ZSwgImNvbG9yIjogIiMzM2NjMzMiLCAiZGFzaEFycmF5IjogbnVsbCwgImRhc2hPZmZzZXQiOiBudWxsLCAiZmlsbCI6IHRydWUsICJmaWxsQ29sb3IiOiAiI0ZGRiIsICJmaWxsT3BhY2l0eSI6IDAuNzUsICJmaWxsUnVsZSI6ICJldmVub2RkIiwgImxpbmVDYXAiOiAicm91bmQiLCAibGluZUpvaW4iOiAicm91bmQiLCAib3BhY2l0eSI6IDEuMCwgInJhZGl1cyI6IDMsICJzdHJva2UiOiB0cnVlLCAid2VpZ2h0IjogM30KICAgICAgICAgICAgKS5hZGRUbyhtYXBfM2I1M2ZkODgzNzA0NDRhYzliYmJkZjYyMmFhYzRlMmUpOwogICAgICAgIAogICAgCiAgICAgICAgdmFyIHBvcHVwX2I3NTM5ZTNlMWM0ODQzZmFhNWUzYTBmNGUwY2JlNDI3ID0gTC5wb3B1cCh7Im1heFdpZHRoIjogIjEwMCUifSk7CgogICAgICAgIAogICAgICAgICAgICB2YXIgaHRtbF8xMDExZmIwMDljNjU0ZDRkODNjYmJkZjFmOGY1OTQ1MiA9ICQoYDxkaXYgaWQ9Imh0bWxfMTAxMWZiMDA5YzY1NGQ0ZDgzY2JiZGYxZjhmNTk0NTIiIHN0eWxlPSJ3aWR0aDogMTAwLjAlOyBoZWlnaHQ6IDEwMC4wJTsiPkFzYWt1c2Fob3RlbCBXYXNvdTwvZGl2PmApWzBdOwogICAgICAgICAgICBwb3B1cF9iNzUzOWUzZTFjNDg0M2ZhYTVlM2EwZjRlMGNiZTQyNy5zZXRDb250ZW50KGh0bWxfMTAxMWZiMDA5YzY1NGQ0ZDgzY2JiZGYxZjhmNTk0NTIpOwogICAgICAgIAoKICAgICAgICBjaXJjbGVfbWFya2VyXzFjM2VmMjY3Zjc1YTRkMWM4YTVkZWZhYWUyM2QyYTM1LmJpbmRQb3B1cChwb3B1cF9iNzUzOWUzZTFjNDg0M2ZhYTVlM2EwZjRlMGNiZTQyNykKICAgICAgICA7CgogICAgICAgIAogICAgCiAgICAKICAgICAgICAgICAgdmFyIGNpcmNsZV9tYXJrZXJfNTYwZDIxMjU1ODU0NGE4NmI2ZTQ4NGE1NjNiZmEzMDcgPSBMLmNpcmNsZU1hcmtlcigKICAgICAgICAgICAgICAgIFszNS43MDUwNjU5OTk5OTk5OTUsIDEzOS43OTIyNTMwMDAwMDAwMl0sCiAgICAgICAgICAgICAgICB7ImJ1YmJsaW5nTW91c2VFdmVudHMiOiB0cnVlLCAiY29sb3IiOiAiIzMzY2MzMyIsICJkYXNoQXJyYXkiOiBudWxsLCAiZGFzaE9mZnNldCI6IG51bGwsICJmaWxsIjogdHJ1ZSwgImZpbGxDb2xvciI6ICIjRkZGIiwgImZpbGxPcGFjaXR5IjogMC43NSwgImZpbGxSdWxlIjogImV2ZW5vZGQiLCAibGluZUNhcCI6ICJyb3VuZCIsICJsaW5lSm9pbiI6ICJyb3VuZCIsICJvcGFjaXR5IjogMS4wLCAicmFkaXVzIjogMywgInN0cm9rZSI6IHRydWUsICJ3ZWlnaHQiOiAzfQogICAgICAgICAgICApLmFkZFRvKG1hcF8zYjUzZmQ4ODM3MDQ0NGFjOWJiYmRmNjIyYWFjNGUyZSk7CiAgICAgICAgCiAgICAKICAgICAgICB2YXIgcG9wdXBfN2FjNWQyNmY3ZDRkNDZmNzk1ZTFhNzkwNmM4OTAwODQgPSBMLnBvcHVwKHsibWF4V2lkdGgiOiAiMTAwJSJ9KTsKCiAgICAgICAgCiAgICAgICAgICAgIHZhciBodG1sXzI1MjA0YjAxZDY4MjQyYjBiYWUzZWZjMTdjNWQ4ZTEyID0gJChgPGRpdiBpZD0iaHRtbF8yNTIwNGIwMWQ2ODI0MmIwYmFlM2VmYzE3YzVkOGUxMiIgc3R5bGU9IndpZHRoOiAxMDAuMCU7IGhlaWdodDogMTAwLjAlOyI+QmFja3BhY2tlcnMgSG9zdGVsIEsmIzM5O3MgSG91c2UgVG9reW88L2Rpdj5gKVswXTsKICAgICAgICAgICAgcG9wdXBfN2FjNWQyNmY3ZDRkNDZmNzk1ZTFhNzkwNmM4OTAwODQuc2V0Q29udGVudChodG1sXzI1MjA0YjAxZDY4MjQyYjBiYWUzZWZjMTdjNWQ4ZTEyKTsKICAgICAgICAKCiAgICAgICAgY2lyY2xlX21hcmtlcl81NjBkMjEyNTU4NTQ0YTg2YjZlNDg0YTU2M2JmYTMwNy5iaW5kUG9wdXAocG9wdXBfN2FjNWQyNmY3ZDRkNDZmNzk1ZTFhNzkwNmM4OTAwODQpCiAgICAgICAgOwoKICAgICAgICAKICAgIAogICAgCiAgICAgICAgICAgIHZhciBjaXJjbGVfbWFya2VyXzg0ZjU4NzQ2NzNmNzQyNDBiZDFkYjA1MmRmMzc4NzE5ID0gTC5jaXJjbGVNYXJrZXIoCiAgICAgICAgICAgICAgICBbMzUuNTUwNDkyNCwgMTM5Ljc0MTA3NzgwMDAwMDAzXSwKICAgICAgICAgICAgICAgIHsiYnViYmxpbmdNb3VzZUV2ZW50cyI6IHRydWUsICJjb2xvciI6ICIjMzNjYzMzIiwgImRhc2hBcnJheSI6IG51bGwsICJkYXNoT2Zmc2V0IjogbnVsbCwgImZpbGwiOiB0cnVlLCAiZmlsbENvbG9yIjogIiNGRkYiLCAiZmlsbE9wYWNpdHkiOiAwLjc1LCAiZmlsbFJ1bGUiOiAiZXZlbm9kZCIsICJsaW5lQ2FwIjogInJvdW5kIiwgImxpbmVKb2luIjogInJvdW5kIiwgIm9wYWNpdHkiOiAxLjAsICJyYWRpdXMiOiAzLCAic3Ryb2tlIjogdHJ1ZSwgIndlaWdodCI6IDN9CiAgICAgICAgICAgICkuYWRkVG8obWFwXzNiNTNmZDg4MzcwNDQ0YWM5YmJiZGY2MjJhYWM0ZTJlKTsKICAgICAgICAKICAgIAogICAgICAgIHZhciBwb3B1cF83ZDJiYjIzODUxNDA0YTNjYWE3OTE5NDZhYjNjZGZiZSA9IEwucG9wdXAoeyJtYXhXaWR0aCI6ICIxMDAlIn0pOwoKICAgICAgICAKICAgICAgICAgICAgdmFyIGh0bWxfZmZiYTkwOGJkZDk0NDRlYmI2YjQ4MjMzN2M1Mjk1OWYgPSAkKGA8ZGl2IGlkPSJodG1sX2ZmYmE5MDhiZGQ5NDQ0ZWJiNmI0ODIzMzdjNTI5NTlmIiBzdHlsZT0id2lkdGg6IDEwMC4wJTsgaGVpZ2h0OiAxMDAuMCU7Ij5CZWFnbGUgVG9reW8gSG9zdGVsICZhbXA7IEFwYXJ0bWVudHM8L2Rpdj5gKVswXTsKICAgICAgICAgICAgcG9wdXBfN2QyYmIyMzg1MTQwNGEzY2FhNzkxOTQ2YWIzY2RmYmUuc2V0Q29udGVudChodG1sX2ZmYmE5MDhiZGQ5NDQ0ZWJiNmI0ODIzMzdjNTI5NTlmKTsKICAgICAgICAKCiAgICAgICAgY2lyY2xlX21hcmtlcl84NGY1ODc0NjczZjc0MjQwYmQxZGIwNTJkZjM3ODcxOS5iaW5kUG9wdXAocG9wdXBfN2QyYmIyMzg1MTQwNGEzY2FhNzkxOTQ2YWIzY2RmYmUpCiAgICAgICAgOwoKICAgICAgICAKICAgIAogICAgCiAgICAgICAgICAgIHZhciBjaXJjbGVfbWFya2VyXzUxMTY4ODNhOWRlOTQ5MWI5OGU2MDg5ZDAwMmZjYTNjID0gTC5jaXJjbGVNYXJrZXIoCiAgICAgICAgICAgICAgICBbMzUuNzEwNzk2NSwgMTM5Ljc5NDk4MDU5OTk5OTk3XSwKICAgICAgICAgICAgICAgIHsiYnViYmxpbmdNb3VzZUV2ZW50cyI6IHRydWUsICJjb2xvciI6ICIjMzNjYzMzIiwgImRhc2hBcnJheSI6IG51bGwsICJkYXNoT2Zmc2V0IjogbnVsbCwgImZpbGwiOiB0cnVlLCAiZmlsbENvbG9yIjogIiNGRkYiLCAiZmlsbE9wYWNpdHkiOiAwLjc1LCAiZmlsbFJ1bGUiOiAiZXZlbm9kZCIsICJsaW5lQ2FwIjogInJvdW5kIiwgImxpbmVKb2luIjogInJvdW5kIiwgIm9wYWNpdHkiOiAxLjAsICJyYWRpdXMiOiAzLCAic3Ryb2tlIjogdHJ1ZSwgIndlaWdodCI6IDN9CiAgICAgICAgICAgICkuYWRkVG8obWFwXzNiNTNmZDg4MzcwNDQ0YWM5YmJiZGY2MjJhYWM0ZTJlKTsKICAgICAgICAKICAgIAogICAgICAgIHZhciBwb3B1cF8xYWE0ZWQ3NDliN2E0MWU5YWUyNmEyZjFkNzU4Yjk4ZCA9IEwucG9wdXAoeyJtYXhXaWR0aCI6ICIxMDAlIn0pOwoKICAgICAgICAKICAgICAgICAgICAgdmFyIGh0bWxfYTgzZGE0OWNiZDk4NDQyNDk4NGUxZTgzM2QxMDRjOGMgPSAkKGA8ZGl2IGlkPSJodG1sX2E4M2RhNDljYmQ5ODQ0MjQ5ODRlMWU4MzNkMTA0YzhjIiBzdHlsZT0id2lkdGg6IDEwMC4wJTsgaGVpZ2h0OiAxMDAuMCU7Ij5Cb29rIEFuZCBCZWQgVG9reW8gQXNha3VzYTwvZGl2PmApWzBdOwogICAgICAgICAgICBwb3B1cF8xYWE0ZWQ3NDliN2E0MWU5YWUyNmEyZjFkNzU4Yjk4ZC5zZXRDb250ZW50KGh0bWxfYTgzZGE0OWNiZDk4NDQyNDk4NGUxZTgzM2QxMDRjOGMpOwogICAgICAgIAoKICAgICAgICBjaXJjbGVfbWFya2VyXzUxMTY4ODNhOWRlOTQ5MWI5OGU2MDg5ZDAwMmZjYTNjLmJpbmRQb3B1cChwb3B1cF8xYWE0ZWQ3NDliN2E0MWU5YWUyNmEyZjFkNzU4Yjk4ZCkKICAgICAgICA7CgogICAgICAgIAogICAgCiAgICAKICAgICAgICAgICAgdmFyIGNpcmNsZV9tYXJrZXJfZjk4NjFmNmE3MTM5NGM4ZGE0Nzc4M2IyOTczODAyNTcgPSBMLmNpcmNsZU1hcmtlcigKICAgICAgICAgICAgICAgIFszNS43MTIxMDgsIDEzOS43OTMyMl0sCiAgICAgICAgICAgICAgICB7ImJ1YmJsaW5nTW91c2VFdmVudHMiOiB0cnVlLCAiY29sb3IiOiAiIzMzY2MzMyIsICJkYXNoQXJyYXkiOiBudWxsLCAiZGFzaE9mZnNldCI6IG51bGwsICJmaWxsIjogdHJ1ZSwgImZpbGxDb2xvciI6ICIjRkZGIiwgImZpbGxPcGFjaXR5IjogMC43NSwgImZpbGxSdWxlIjogImV2ZW5vZGQiLCAibGluZUNhcCI6ICJyb3VuZCIsICJsaW5lSm9pbiI6ICJyb3VuZCIsICJvcGFjaXR5IjogMS4wLCAicmFkaXVzIjogMywgInN0cm9rZSI6IHRydWUsICJ3ZWlnaHQiOiAzfQogICAgICAgICAgICApLmFkZFRvKG1hcF8zYjUzZmQ4ODM3MDQ0NGFjOWJiYmRmNjIyYWFjNGUyZSk7CiAgICAgICAgCiAgICAKICAgICAgICB2YXIgcG9wdXBfMGI3MmYzNzZkN2M4NDllMThhMzFmNjkxZmVmY2I5YWMgPSBMLnBvcHVwKHsibWF4V2lkdGgiOiAiMTAwJSJ9KTsKCiAgICAgICAgCiAgICAgICAgICAgIHZhciBodG1sXzZiNGNkNTUzNzFkYzRmM2NhNWRlNTcxZGMwNDVkZWIwID0gJChgPGRpdiBpZD0iaHRtbF82YjRjZDU1MzcxZGM0ZjNjYTVkZTU3MWRjMDQ1ZGViMCIgc3R5bGU9IndpZHRoOiAxMDAuMCU7IGhlaWdodDogMTAwLjAlOyI+QnVua2EgSG9zdGVsIFRva3lvPC9kaXY+YClbMF07CiAgICAgICAgICAgIHBvcHVwXzBiNzJmMzc2ZDdjODQ5ZTE4YTMxZjY5MWZlZmNiOWFjLnNldENvbnRlbnQoaHRtbF82YjRjZDU1MzcxZGM0ZjNjYTVkZTU3MWRjMDQ1ZGViMCk7CiAgICAgICAgCgogICAgICAgIGNpcmNsZV9tYXJrZXJfZjk4NjFmNmE3MTM5NGM4ZGE0Nzc4M2IyOTczODAyNTcuYmluZFBvcHVwKHBvcHVwXzBiNzJmMzc2ZDdjODQ5ZTE4YTMxZjY5MWZlZmNiOWFjKQogICAgICAgIDsKCiAgICAgICAgCiAgICAKICAgIAogICAgICAgICAgICB2YXIgY2lyY2xlX21hcmtlcl85MDFlNGIzYWQ2YTE0ZDNhYWM1YTJmYWI2YTc4NmVmZiA9IEwuY2lyY2xlTWFya2VyKAogICAgICAgICAgICAgICAgWzM1LjY5ODEyMjMsIDEzOS44MTE5OF0sCiAgICAgICAgICAgICAgICB7ImJ1YmJsaW5nTW91c2VFdmVudHMiOiB0cnVlLCAiY29sb3IiOiAiIzMzY2MzMyIsICJkYXNoQXJyYXkiOiBudWxsLCAiZGFzaE9mZnNldCI6IG51bGwsICJmaWxsIjogdHJ1ZSwgImZpbGxDb2xvciI6ICIjRkZGIiwgImZpbGxPcGFjaXR5IjogMC43NSwgImZpbGxSdWxlIjogImV2ZW5vZGQiLCAibGluZUNhcCI6ICJyb3VuZCIsICJsaW5lSm9pbiI6ICJyb3VuZCIsICJvcGFjaXR5IjogMS4wLCAicmFkaXVzIjogMywgInN0cm9rZSI6IHRydWUsICJ3ZWlnaHQiOiAzfQogICAgICAgICAgICApLmFkZFRvKG1hcF8zYjUzZmQ4ODM3MDQ0NGFjOWJiYmRmNjIyYWFjNGUyZSk7CiAgICAgICAgCiAgICAKICAgICAgICB2YXIgcG9wdXBfMjg3ZGEwNmU3MzFjNGI4Njk3Y2FjOWJkNWNiYzA4ODggPSBMLnBvcHVwKHsibWF4V2lkdGgiOiAiMTAwJSJ9KTsKCiAgICAgICAgCiAgICAgICAgICAgIHZhciBodG1sX2VmNzA4ZmNjOTFiYTQwMWE5NzUwNjI2YmM0MDQzN2VjID0gJChgPGRpdiBpZD0iaHRtbF9lZjcwOGZjYzkxYmE0MDFhOTc1MDYyNmJjNDA0MzdlYyIgc3R5bGU9IndpZHRoOiAxMDAuMCU7IGhlaWdodDogMTAwLjAlOyI+Q2Fwc3VsZSBJbm4gS2luc2hpY2hvdTwvZGl2PmApWzBdOwogICAgICAgICAgICBwb3B1cF8yODdkYTA2ZTczMWM0Yjg2OTdjYWM5YmQ1Y2JjMDg4OC5zZXRDb250ZW50KGh0bWxfZWY3MDhmY2M5MWJhNDAxYTk3NTA2MjZiYzQwNDM3ZWMpOwogICAgICAgIAoKICAgICAgICBjaXJjbGVfbWFya2VyXzkwMWU0YjNhZDZhMTRkM2FhYzVhMmZhYjZhNzg2ZWZmLmJpbmRQb3B1cChwb3B1cF8yODdkYTA2ZTczMWM0Yjg2OTdjYWM5YmQ1Y2JjMDg4OCkKICAgICAgICA7CgogICAgICAgIAogICAgCiAgICAKICAgICAgICAgICAgdmFyIGNpcmNsZV9tYXJrZXJfODYxNWMxMDZjZTlkNGZlMTk2ZDlmZjk5YzE1NmYzYTYgPSBMLmNpcmNsZU1hcmtlcigKICAgICAgICAgICAgICAgIFszNS42NzM4NDYzLCAxMzkuNzM3Njk3MV0sCiAgICAgICAgICAgICAgICB7ImJ1YmJsaW5nTW91c2VFdmVudHMiOiB0cnVlLCAiY29sb3IiOiAiIzMzY2MzMyIsICJkYXNoQXJyYXkiOiBudWxsLCAiZGFzaE9mZnNldCI6IG51bGwsICJmaWxsIjogdHJ1ZSwgImZpbGxDb2xvciI6ICIjRkZGIiwgImZpbGxPcGFjaXR5IjogMC43NSwgImZpbGxSdWxlIjogImV2ZW5vZGQiLCAibGluZUNhcCI6ICJyb3VuZCIsICJsaW5lSm9pbiI6ICJyb3VuZCIsICJvcGFjaXR5IjogMS4wLCAicmFkaXVzIjogMywgInN0cm9rZSI6IHRydWUsICJ3ZWlnaHQiOiAzfQogICAgICAgICAgICApLmFkZFRvKG1hcF8zYjUzZmQ4ODM3MDQ0NGFjOWJiYmRmNjIyYWFjNGUyZSk7CiAgICAgICAgCiAgICAKICAgICAgICB2YXIgcG9wdXBfN2NmM2MwN2M3NjU3NGJkNWFkY2JiODQ3YmRkZTRjNjUgPSBMLnBvcHVwKHsibWF4V2lkdGgiOiAiMTAwJSJ9KTsKCiAgICAgICAgCiAgICAgICAgICAgIHZhciBodG1sX2MwMDhiMTA5MzAxYTRiZjk4ZDE1M2RiZDJiMmIzOWJhID0gJChgPGRpdiBpZD0iaHRtbF9jMDA4YjEwOTMwMWE0YmY5OGQxNTNkYmQyYjJiMzliYSIgc3R5bGU9IndpZHRoOiAxMDAuMCU7IGhlaWdodDogMTAwLjAlOyI+Q2VudHVyaW9uIEhvdGVsIFJlc2lkZW50aWFsIEFrYXNha2E8L2Rpdj5gKVswXTsKICAgICAgICAgICAgcG9wdXBfN2NmM2MwN2M3NjU3NGJkNWFkY2JiODQ3YmRkZTRjNjUuc2V0Q29udGVudChodG1sX2MwMDhiMTA5MzAxYTRiZjk4ZDE1M2RiZDJiMmIzOWJhKTsKICAgICAgICAKCiAgICAgICAgY2lyY2xlX21hcmtlcl84NjE1YzEwNmNlOWQ0ZmUxOTZkOWZmOTljMTU2ZjNhNi5iaW5kUG9wdXAocG9wdXBfN2NmM2MwN2M3NjU3NGJkNWFkY2JiODQ3YmRkZTRjNjUpCiAgICAgICAgOwoKICAgICAgICAKICAgIAogICAgCiAgICAgICAgICAgIHZhciBjaXJjbGVfbWFya2VyXzk1YmEzZjRmMjM0MDRlODY4MjUwODM4Y2RmZjllZDY4ID0gTC5jaXJjbGVNYXJrZXIoCiAgICAgICAgICAgICAgICBbMzUuNzA5MTk5LCAxMzkuNzcwMTI5XSwKICAgICAgICAgICAgICAgIHsiYnViYmxpbmdNb3VzZUV2ZW50cyI6IHRydWUsICJjb2xvciI6ICIjMzNjYzMzIiwgImRhc2hBcnJheSI6IG51bGwsICJkYXNoT2Zmc2V0IjogbnVsbCwgImZpbGwiOiB0cnVlLCAiZmlsbENvbG9yIjogIiNGRkYiLCAiZmlsbE9wYWNpdHkiOiAwLjc1LCAiZmlsbFJ1bGUiOiAiZXZlbm9kZCIsICJsaW5lQ2FwIjogInJvdW5kIiwgImxpbmVKb2luIjogInJvdW5kIiwgIm9wYWNpdHkiOiAxLjAsICJyYWRpdXMiOiAzLCAic3Ryb2tlIjogdHJ1ZSwgIndlaWdodCI6IDN9CiAgICAgICAgICAgICkuYWRkVG8obWFwXzNiNTNmZDg4MzcwNDQ0YWM5YmJiZGY2MjJhYWM0ZTJlKTsKICAgICAgICAKICAgIAogICAgICAgIHZhciBwb3B1cF82ODBjOTkyNzM1NGY0MGM1ODQyZTcxNDgyNDQ5MDExMiA9IEwucG9wdXAoeyJtYXhXaWR0aCI6ICIxMDAlIn0pOwoKICAgICAgICAKICAgICAgICAgICAgdmFyIGh0bWxfMTNmMDFhOTA3NzgyNGY5Yzg2MjYzZjRlOGEzMmMyNjkgPSAkKGA8ZGl2IGlkPSJodG1sXzEzZjAxYTkwNzc4MjRmOWM4NjI2M2Y0ZThhMzJjMjY5IiBzdHlsZT0id2lkdGg6IDEwMC4wJTsgaGVpZ2h0OiAxMDAuMCU7Ij5DZW50dXJpb24gTGFkaWVzIEhvc3RlbCBVZW5vcGFyayAoRmVtYWxlIG9ubHkpPC9kaXY+YClbMF07CiAgICAgICAgICAgIHBvcHVwXzY4MGM5OTI3MzU0ZjQwYzU4NDJlNzE0ODI0NDkwMTEyLnNldENvbnRlbnQoaHRtbF8xM2YwMWE5MDc3ODI0ZjljODYyNjNmNGU4YTMyYzI2OSk7CiAgICAgICAgCgogICAgICAgIGNpcmNsZV9tYXJrZXJfOTViYTNmNGYyMzQwNGU4NjgyNTA4MzhjZGZmOWVkNjguYmluZFBvcHVwKHBvcHVwXzY4MGM5OTI3MzU0ZjQwYzU4NDJlNzE0ODI0NDkwMTEyKQogICAgICAgIDsKCiAgICAgICAgCiAgICAKICAgIAogICAgICAgICAgICB2YXIgY2lyY2xlX21hcmtlcl80MzA0YTAzOThjZTg0NjY5YWMwZWIyNDViMWVlMjQ1YiA9IEwuY2lyY2xlTWFya2VyKAogICAgICAgICAgICAgICAgWzM1LjY5MTU3MSwgMTM5Ljc4MTM1Ml0sCiAgICAgICAgICAgICAgICB7ImJ1YmJsaW5nTW91c2VFdmVudHMiOiB0cnVlLCAiY29sb3IiOiAiIzMzY2MzMyIsICJkYXNoQXJyYXkiOiBudWxsLCAiZGFzaE9mZnNldCI6IG51bGwsICJmaWxsIjogdHJ1ZSwgImZpbGxDb2xvciI6ICIjRkZGIiwgImZpbGxPcGFjaXR5IjogMC43NSwgImZpbGxSdWxlIjogImV2ZW5vZGQiLCAibGluZUNhcCI6ICJyb3VuZCIsICJsaW5lSm9pbiI6ICJyb3VuZCIsICJvcGFjaXR5IjogMS4wLCAicmFkaXVzIjogMywgInN0cm9rZSI6IHRydWUsICJ3ZWlnaHQiOiAzfQogICAgICAgICAgICApLmFkZFRvKG1hcF8zYjUzZmQ4ODM3MDQ0NGFjOWJiYmRmNjIyYWFjNGUyZSk7CiAgICAgICAgCiAgICAKICAgICAgICB2YXIgcG9wdXBfYzQwOWNmNmJhMDdkNDQ2YWIyNzVmZDNkYmI1MWVjZjMgPSBMLnBvcHVwKHsibWF4V2lkdGgiOiAiMTAwJSJ9KTsKCiAgICAgICAgCiAgICAgICAgICAgIHZhciBodG1sXzJhN2Y0N2E1MWZiNjRlMWRhN2QwZWJmNzAzYTcxMzA3ID0gJChgPGRpdiBpZD0iaHRtbF8yYTdmNDdhNTFmYjY0ZTFkYTdkMGViZjcwM2E3MTMwNyIgc3R5bGU9IndpZHRoOiAxMDAuMCU7IGhlaWdodDogMTAwLjAlOyI+Q0lUQU4gSG9zdGVsPC9kaXY+YClbMF07CiAgICAgICAgICAgIHBvcHVwX2M0MDljZjZiYTA3ZDQ0NmFiMjc1ZmQzZGJiNTFlY2YzLnNldENvbnRlbnQoaHRtbF8yYTdmNDdhNTFmYjY0ZTFkYTdkMGViZjcwM2E3MTMwNyk7CiAgICAgICAgCgogICAgICAgIGNpcmNsZV9tYXJrZXJfNDMwNGEwMzk4Y2U4NDY2OWFjMGViMjQ1YjFlZTI0NWIuYmluZFBvcHVwKHBvcHVwX2M0MDljZjZiYTA3ZDQ0NmFiMjc1ZmQzZGJiNTFlY2YzKQogICAgICAgIDsKCiAgICAgICAgCiAgICAKICAgIAogICAgICAgICAgICB2YXIgY2lyY2xlX21hcmtlcl83ZDA3NjQ1YmUxMDg0MzgyOTU5Y2E2MWQ1YmFkYzE5MiA9IEwuY2lyY2xlTWFya2VyKAogICAgICAgICAgICAgICAgWzM1Ljc3ODIsIDEzOS43OTEyMTZdLAogICAgICAgICAgICAgICAgeyJidWJibGluZ01vdXNlRXZlbnRzIjogdHJ1ZSwgImNvbG9yIjogIiMzM2NjMzMiLCAiZGFzaEFycmF5IjogbnVsbCwgImRhc2hPZmZzZXQiOiBudWxsLCAiZmlsbCI6IHRydWUsICJmaWxsQ29sb3IiOiAiI0ZGRiIsICJmaWxsT3BhY2l0eSI6IDAuNzUsICJmaWxsUnVsZSI6ICJldmVub2RkIiwgImxpbmVDYXAiOiAicm91bmQiLCAibGluZUpvaW4iOiAicm91bmQiLCAib3BhY2l0eSI6IDEuMCwgInJhZGl1cyI6IDMsICJzdHJva2UiOiB0cnVlLCAid2VpZ2h0IjogM30KICAgICAgICAgICAgKS5hZGRUbyhtYXBfM2I1M2ZkODgzNzA0NDRhYzliYmJkZjYyMmFhYzRlMmUpOwogICAgICAgIAogICAgCiAgICAgICAgdmFyIHBvcHVwXzM0ODUwY2Q0YjMwYjRmODlhNTE5OTRhMDg1MjUxNjA0ID0gTC5wb3B1cCh7Im1heFdpZHRoIjogIjEwMCUifSk7CgogICAgICAgIAogICAgICAgICAgICB2YXIgaHRtbF9lMWIyMDQxOWU0ODg0ZjVmYTM0MjhiNTZiNjVkMjdjOCA9ICQoYDxkaXYgaWQ9Imh0bWxfZTFiMjA0MTllNDg4NGY1ZmEzNDI4YjU2YjY1ZDI3YzgiIHN0eWxlPSJ3aWR0aDogMTAwLjAlOyBoZWlnaHQ6IDEwMC4wJTsiPkVtYmxlbSBIb3N0ZWwgTmlzaGlhcmFpPC9kaXY+YClbMF07CiAgICAgICAgICAgIHBvcHVwXzM0ODUwY2Q0YjMwYjRmODlhNTE5OTRhMDg1MjUxNjA0LnNldENvbnRlbnQoaHRtbF9lMWIyMDQxOWU0ODg0ZjVmYTM0MjhiNTZiNjVkMjdjOCk7CiAgICAgICAgCgogICAgICAgIGNpcmNsZV9tYXJrZXJfN2QwNzY0NWJlMTA4NDM4Mjk1OWNhNjFkNWJhZGMxOTIuYmluZFBvcHVwKHBvcHVwXzM0ODUwY2Q0YjMwYjRmODlhNTE5OTRhMDg1MjUxNjA0KQogICAgICAgIDsKCiAgICAgICAgCiAgICAKICAgIAogICAgICAgICAgICB2YXIgY2lyY2xlX21hcmtlcl8xMjNkYTkyYzU1ZGM0MDQ2ODQwOTdlZmJiZjU1NjFhZiA9IEwuY2lyY2xlTWFya2VyKAogICAgICAgICAgICAgICAgWzM1LjcxMjE4NDUsIDEzOS43OTUzMDFdLAogICAgICAgICAgICAgICAgeyJidWJibGluZ01vdXNlRXZlbnRzIjogdHJ1ZSwgImNvbG9yIjogIiMzM2NjMzMiLCAiZGFzaEFycmF5IjogbnVsbCwgImRhc2hPZmZzZXQiOiBudWxsLCAiZmlsbCI6IHRydWUsICJmaWxsQ29sb3IiOiAiI0ZGRiIsICJmaWxsT3BhY2l0eSI6IDAuNzUsICJmaWxsUnVsZSI6ICJldmVub2RkIiwgImxpbmVDYXAiOiAicm91bmQiLCAibGluZUpvaW4iOiAicm91bmQiLCAib3BhY2l0eSI6IDEuMCwgInJhZGl1cyI6IDMsICJzdHJva2UiOiB0cnVlLCAid2VpZ2h0IjogM30KICAgICAgICAgICAgKS5hZGRUbyhtYXBfM2I1M2ZkODgzNzA0NDRhYzliYmJkZjYyMmFhYzRlMmUpOwogICAgICAgIAogICAgCiAgICAgICAgdmFyIHBvcHVwXzIyZTU0YTA5M2UxNTRkOTJhZjFiMDIyODdiNGQ5M2MxID0gTC5wb3B1cCh7Im1heFdpZHRoIjogIjEwMCUifSk7CgogICAgICAgIAogICAgICAgICAgICB2YXIgaHRtbF8yOTBlODJlNjc5YTI0MmViYmYyOWE0NDA1MzQ0NGY2MCA9ICQoYDxkaXYgaWQ9Imh0bWxfMjkwZTgyZTY3OWEyNDJlYmJmMjlhNDQwNTM0NDRmNjAiIHN0eWxlPSJ3aWR0aDogMTAwLjAlOyBoZWlnaHQ6IDEwMC4wJTsiPkVOQUtBIEFzYWt1c2EgQ2VudHJhbCBIb3N0ZWw8L2Rpdj5gKVswXTsKICAgICAgICAgICAgcG9wdXBfMjJlNTRhMDkzZTE1NGQ5MmFmMWIwMjI4N2I0ZDkzYzEuc2V0Q29udGVudChodG1sXzI5MGU4MmU2NzlhMjQyZWJiZjI5YTQ0MDUzNDQ0ZjYwKTsKICAgICAgICAKCiAgICAgICAgY2lyY2xlX21hcmtlcl8xMjNkYTkyYzU1ZGM0MDQ2ODQwOTdlZmJiZjU1NjFhZi5iaW5kUG9wdXAocG9wdXBfMjJlNTRhMDkzZTE1NGQ5MmFmMWIwMjI4N2I0ZDkzYzEpCiAgICAgICAgOwoKICAgICAgICAKICAgIAogICAgCiAgICAgICAgICAgIHZhciBjaXJjbGVfbWFya2VyXzE0ZWI4MTVkMzdmMTQzMjJiYTBlODQ5MzhkYzg1NDU2ID0gTC5jaXJjbGVNYXJrZXIoCiAgICAgICAgICAgICAgICBbMzUuNzM0Njc1NiwgMTM5LjcxODI1ODE5OTk5OTk4XSwKICAgICAgICAgICAgICAgIHsiYnViYmxpbmdNb3VzZUV2ZW50cyI6IHRydWUsICJjb2xvciI6ICIjMzNjYzMzIiwgImRhc2hBcnJheSI6IG51bGwsICJkYXNoT2Zmc2V0IjogbnVsbCwgImZpbGwiOiB0cnVlLCAiZmlsbENvbG9yIjogIiNGRkYiLCAiZmlsbE9wYWNpdHkiOiAwLjc1LCAiZmlsbFJ1bGUiOiAiZXZlbm9kZCIsICJsaW5lQ2FwIjogInJvdW5kIiwgImxpbmVKb2luIjogInJvdW5kIiwgIm9wYWNpdHkiOiAxLjAsICJyYWRpdXMiOiAzLCAic3Ryb2tlIjogdHJ1ZSwgIndlaWdodCI6IDN9CiAgICAgICAgICAgICkuYWRkVG8obWFwXzNiNTNmZDg4MzcwNDQ0YWM5YmJiZGY2MjJhYWM0ZTJlKTsKICAgICAgICAKICAgIAogICAgICAgIHZhciBwb3B1cF83YWM1NmUwYzZiODk0MDc3YWY2NDY0YTc0YThkYWMyMiA9IEwucG9wdXAoeyJtYXhXaWR0aCI6ICIxMDAlIn0pOwoKICAgICAgICAKICAgICAgICAgICAgdmFyIGh0bWxfYmE2YTZkN2YyNWRhNDQ5NjhiOTMzM2YwZTRmZTFiYmUgPSAkKGA8ZGl2IGlkPSJodG1sX2JhNmE2ZDdmMjVkYTQ0OTY4YjkzMzNmMGU0ZmUxYmJlIiBzdHlsZT0id2lkdGg6IDEwMC4wJTsgaGVpZ2h0OiAxMDAuMCU7Ij5Hb29kIERpbmVyIElubiBDb3BhaW48L2Rpdj5gKVswXTsKICAgICAgICAgICAgcG9wdXBfN2FjNTZlMGM2Yjg5NDA3N2FmNjQ2NGE3NGE4ZGFjMjIuc2V0Q29udGVudChodG1sX2JhNmE2ZDdmMjVkYTQ0OTY4YjkzMzNmMGU0ZmUxYmJlKTsKICAgICAgICAKCiAgICAgICAgY2lyY2xlX21hcmtlcl8xNGViODE1ZDM3ZjE0MzIyYmEwZTg0OTM4ZGM4NTQ1Ni5iaW5kUG9wdXAocG9wdXBfN2FjNTZlMGM2Yjg5NDA3N2FmNjQ2NGE3NGE4ZGFjMjIpCiAgICAgICAgOwoKICAgICAgICAKICAgIAogICAgCiAgICAgICAgICAgIHZhciBjaXJjbGVfbWFya2VyX2NjM2ZkNWE1ZDY0ODQ4N2NiOTUzMmNjNjZjNTE3NjE1ID0gTC5jaXJjbGVNYXJrZXIoCiAgICAgICAgICAgICAgICBbMzUuNjk2NTYyLCAxMzkuNzgwMzI2XSwKICAgICAgICAgICAgICAgIHsiYnViYmxpbmdNb3VzZUV2ZW50cyI6IHRydWUsICJjb2xvciI6ICIjMzNjYzMzIiwgImRhc2hBcnJheSI6IG51bGwsICJkYXNoT2Zmc2V0IjogbnVsbCwgImZpbGwiOiB0cnVlLCAiZmlsbENvbG9yIjogIiNGRkYiLCAiZmlsbE9wYWNpdHkiOiAwLjc1LCAiZmlsbFJ1bGUiOiAiZXZlbm9kZCIsICJsaW5lQ2FwIjogInJvdW5kIiwgImxpbmVKb2luIjogInJvdW5kIiwgIm9wYWNpdHkiOiAxLjAsICJyYWRpdXMiOiAzLCAic3Ryb2tlIjogdHJ1ZSwgIndlaWdodCI6IDN9CiAgICAgICAgICAgICkuYWRkVG8obWFwXzNiNTNmZDg4MzcwNDQ0YWM5YmJiZGY2MjJhYWM0ZTJlKTsKICAgICAgICAKICAgIAogICAgICAgIHZhciBwb3B1cF80MGE2OGE3MDViM2Q0NjZlYTAwM2Y5ODZiYTBjN2IyOCA9IEwucG9wdXAoeyJtYXhXaWR0aCI6ICIxMDAlIn0pOwoKICAgICAgICAKICAgICAgICAgICAgdmFyIGh0bWxfNjY1NGM2YzM4MmRkNGNhZGJlMjk3OGYxODNhZTE3ZjMgPSAkKGA8ZGl2IGlkPSJodG1sXzY2NTRjNmMzODJkZDRjYWRiZTI5NzhmMTgzYWUxN2YzIiBzdHlsZT0id2lkdGg6IDEwMC4wJTsgaGVpZ2h0OiAxMDAuMCU7Ij5HcmlkcyBUb2t5byBBc2FrdXNhLUJhc2hpIEhvdGVsJmFtcDtIb3N0ZWw8L2Rpdj5gKVswXTsKICAgICAgICAgICAgcG9wdXBfNDBhNjhhNzA1YjNkNDY2ZWEwMDNmOTg2YmEwYzdiMjguc2V0Q29udGVudChodG1sXzY2NTRjNmMzODJkZDRjYWRiZTI5NzhmMTgzYWUxN2YzKTsKICAgICAgICAKCiAgICAgICAgY2lyY2xlX21hcmtlcl9jYzNmZDVhNWQ2NDg0ODdjYjk1MzJjYzY2YzUxNzYxNS5iaW5kUG9wdXAocG9wdXBfNDBhNjhhNzA1YjNkNDY2ZWEwMDNmOTg2YmEwYzdiMjgpCiAgICAgICAgOwoKICAgICAgICAKICAgIAogICAgCiAgICAgICAgICAgIHZhciBjaXJjbGVfbWFya2VyXzk0NzAyZGIwMTZlYTQ4M2NhYTE4ZGMwZDgyMjY3MDU4ID0gTC5jaXJjbGVNYXJrZXIoCiAgICAgICAgICAgICAgICBbMzUuNjkwMjg2LCAxMzkuNzgzOTQzXSwKICAgICAgICAgICAgICAgIHsiYnViYmxpbmdNb3VzZUV2ZW50cyI6IHRydWUsICJjb2xvciI6ICIjMzNjYzMzIiwgImRhc2hBcnJheSI6IG51bGwsICJkYXNoT2Zmc2V0IjogbnVsbCwgImZpbGwiOiB0cnVlLCAiZmlsbENvbG9yIjogIiNGRkYiLCAiZmlsbE9wYWNpdHkiOiAwLjc1LCAiZmlsbFJ1bGUiOiAiZXZlbm9kZCIsICJsaW5lQ2FwIjogInJvdW5kIiwgImxpbmVKb2luIjogInJvdW5kIiwgIm9wYWNpdHkiOiAxLjAsICJyYWRpdXMiOiAzLCAic3Ryb2tlIjogdHJ1ZSwgIndlaWdodCI6IDN9CiAgICAgICAgICAgICkuYWRkVG8obWFwXzNiNTNmZDg4MzcwNDQ0YWM5YmJiZGY2MjJhYWM0ZTJlKTsKICAgICAgICAKICAgIAogICAgICAgIHZhciBwb3B1cF8wMDNlNzg1M2I3ZDQ0ZWY5OWI1OTY4NWI5YmRkMzNhYSA9IEwucG9wdXAoeyJtYXhXaWR0aCI6ICIxMDAlIn0pOwoKICAgICAgICAKICAgICAgICAgICAgdmFyIGh0bWxfNzUxN2Q2YTE4ZmE1NDQ0Y2I1NjE0YzNmZGIyZWRjM2MgPSAkKGA8ZGl2IGlkPSJodG1sXzc1MTdkNmExOGZhNTQ0NGNiNTYxNGMzZmRiMmVkYzNjIiBzdHlsZT0id2lkdGg6IDEwMC4wJTsgaGVpZ2h0OiAxMDAuMCU7Ij5HUklEUyBUT0tZTyBOSUhPTUJBU0hJIEVBU1QgSE9URUwmYW1wO0hPU1RFTDwvZGl2PmApWzBdOwogICAgICAgICAgICBwb3B1cF8wMDNlNzg1M2I3ZDQ0ZWY5OWI1OTY4NWI5YmRkMzNhYS5zZXRDb250ZW50KGh0bWxfNzUxN2Q2YTE4ZmE1NDQ0Y2I1NjE0YzNmZGIyZWRjM2MpOwogICAgICAgIAoKICAgICAgICBjaXJjbGVfbWFya2VyXzk0NzAyZGIwMTZlYTQ4M2NhYTE4ZGMwZDgyMjY3MDU4LmJpbmRQb3B1cChwb3B1cF8wMDNlNzg1M2I3ZDQ0ZWY5OWI1OTY4NWI5YmRkMzNhYSkKICAgICAgICA7CgogICAgICAgIAogICAgCiAgICAKICAgICAgICAgICAgdmFyIGNpcmNsZV9tYXJrZXJfY2U2OTFiMWRhYWMyNDEwYmI2MjdiNjZlMzU2NjllYzMgPSBMLmNpcmNsZU1hcmtlcigKICAgICAgICAgICAgICAgIFszNS43MTI4MjY3OTk5OTk5OTUsIDEzOS43ODk1NDU1XSwKICAgICAgICAgICAgICAgIHsiYnViYmxpbmdNb3VzZUV2ZW50cyI6IHRydWUsICJjb2xvciI6ICIjMzNjYzMzIiwgImRhc2hBcnJheSI6IG51bGwsICJkYXNoT2Zmc2V0IjogbnVsbCwgImZpbGwiOiB0cnVlLCAiZmlsbENvbG9yIjogIiNGRkYiLCAiZmlsbE9wYWNpdHkiOiAwLjc1LCAiZmlsbFJ1bGUiOiAiZXZlbm9kZCIsICJsaW5lQ2FwIjogInJvdW5kIiwgImxpbmVKb2luIjogInJvdW5kIiwgIm9wYWNpdHkiOiAxLjAsICJyYWRpdXMiOiAzLCAic3Ryb2tlIjogdHJ1ZSwgIndlaWdodCI6IDN9CiAgICAgICAgICAgICkuYWRkVG8obWFwXzNiNTNmZDg4MzcwNDQ0YWM5YmJiZGY2MjJhYWM0ZTJlKTsKICAgICAgICAKICAgIAogICAgICAgIHZhciBwb3B1cF84MzMyY2Y2ZDBhYzA0ZjAzYjI2NDI0ZjEyODU1MThjYiA9IEwucG9wdXAoeyJtYXhXaWR0aCI6ICIxMDAlIn0pOwoKICAgICAgICAKICAgICAgICAgICAgdmFyIGh0bWxfNWUwNzY3NzZkZWIxNDQ3ZWE4NGNmNzAwNGMwZWYwNDEgPSAkKGA8ZGl2IGlkPSJodG1sXzVlMDc2Nzc2ZGViMTQ0N2VhODRjZjcwMDRjMGVmMDQxIiBzdHlsZT0id2lkdGg6IDEwMC4wJTsgaGVpZ2h0OiAxMDAuMCU7Ij5HdWVzdCBIb3VzZSBEZW5jaGk8L2Rpdj5gKVswXTsKICAgICAgICAgICAgcG9wdXBfODMzMmNmNmQwYWMwNGYwM2IyNjQyNGYxMjg1NTE4Y2Iuc2V0Q29udGVudChodG1sXzVlMDc2Nzc2ZGViMTQ0N2VhODRjZjcwMDRjMGVmMDQxKTsKICAgICAgICAKCiAgICAgICAgY2lyY2xlX21hcmtlcl9jZTY5MWIxZGFhYzI0MTBiYjYyN2I2NmUzNTY2OWVjMy5iaW5kUG9wdXAocG9wdXBfODMzMmNmNmQwYWMwNGYwM2IyNjQyNGYxMjg1NTE4Y2IpCiAgICAgICAgOwoKICAgICAgICAKICAgIAogICAgCiAgICAgICAgICAgIHZhciBjaXJjbGVfbWFya2VyX2YwNTc2M2FjZjIxOTRjMTg5NWFiZWVjMDQxZGU0OTBlID0gTC5jaXJjbGVNYXJrZXIoCiAgICAgICAgICAgICAgICBbMzUuNjIxNzc5NCwgMTM5Ljc0MDM1ODFdLAogICAgICAgICAgICAgICAgeyJidWJibGluZ01vdXNlRXZlbnRzIjogdHJ1ZSwgImNvbG9yIjogIiMzM2NjMzMiLCAiZGFzaEFycmF5IjogbnVsbCwgImRhc2hPZmZzZXQiOiBudWxsLCAiZmlsbCI6IHRydWUsICJmaWxsQ29sb3IiOiAiI0ZGRiIsICJmaWxsT3BhY2l0eSI6IDAuNzUsICJmaWxsUnVsZSI6ICJldmVub2RkIiwgImxpbmVDYXAiOiAicm91bmQiLCAibGluZUpvaW4iOiAicm91bmQiLCAib3BhY2l0eSI6IDEuMCwgInJhZGl1cyI6IDMsICJzdHJva2UiOiB0cnVlLCAid2VpZ2h0IjogM30KICAgICAgICAgICAgKS5hZGRUbyhtYXBfM2I1M2ZkODgzNzA0NDRhYzliYmJkZjYyMmFhYzRlMmUpOwogICAgICAgIAogICAgCiAgICAgICAgdmFyIHBvcHVwXzMwYmY0N2YwNWEyMzRiMzlhMjNiZDMxMjhmMzAyZDA5ID0gTC5wb3B1cCh7Im1heFdpZHRoIjogIjEwMCUifSk7CgogICAgICAgIAogICAgICAgICAgICB2YXIgaHRtbF9lOWI4MzRlMWJmNGU0ZDJkOWEyMjlkYmRjYWE2ZDA3OCA9ICQoYDxkaXYgaWQ9Imh0bWxfZTliODM0ZTFiZjRlNGQyZDlhMjI5ZGJkY2FhNmQwNzgiIHN0eWxlPSJ3aWR0aDogMTAwLjAlOyBoZWlnaHQ6IDEwMC4wJTsiPkd1ZXN0IEhvdXNlIFNoaW5hZ2F3YS1zaHVrdSBUb2t5bzwvZGl2PmApWzBdOwogICAgICAgICAgICBwb3B1cF8zMGJmNDdmMDVhMjM0YjM5YTIzYmQzMTI4ZjMwMmQwOS5zZXRDb250ZW50KGh0bWxfZTliODM0ZTFiZjRlNGQyZDlhMjI5ZGJkY2FhNmQwNzgpOwogICAgICAgIAoKICAgICAgICBjaXJjbGVfbWFya2VyX2YwNTc2M2FjZjIxOTRjMTg5NWFiZWVjMDQxZGU0OTBlLmJpbmRQb3B1cChwb3B1cF8zMGJmNDdmMDVhMjM0YjM5YTIzYmQzMTI4ZjMwMmQwOSkKICAgICAgICA7CgogICAgICAgIAogICAgCiAgICAKICAgICAgICAgICAgdmFyIGNpcmNsZV9tYXJrZXJfMzc5MjMzMzU0NDZkNDEzYTlhYmNjZThmN2Q1ZjM1NTkgPSBMLmNpcmNsZU1hcmtlcigKICAgICAgICAgICAgICAgIFszNS43MDE0NDA5OTk5OTk5OTYsIDEzOS43OTgxXSwKICAgICAgICAgICAgICAgIHsiYnViYmxpbmdNb3VzZUV2ZW50cyI6IHRydWUsICJjb2xvciI6ICIjMzNjYzMzIiwgImRhc2hBcnJheSI6IG51bGwsICJkYXNoT2Zmc2V0IjogbnVsbCwgImZpbGwiOiB0cnVlLCAiZmlsbENvbG9yIjogIiNGRkYiLCAiZmlsbE9wYWNpdHkiOiAwLjc1LCAiZmlsbFJ1bGUiOiAiZXZlbm9kZCIsICJsaW5lQ2FwIjogInJvdW5kIiwgImxpbmVKb2luIjogInJvdW5kIiwgIm9wYWNpdHkiOiAxLjAsICJyYWRpdXMiOiAzLCAic3Ryb2tlIjogdHJ1ZSwgIndlaWdodCI6IDN9CiAgICAgICAgICAgICkuYWRkVG8obWFwXzNiNTNmZDg4MzcwNDQ0YWM5YmJiZGY2MjJhYWM0ZTJlKTsKICAgICAgICAKICAgIAogICAgICAgIHZhciBwb3B1cF9mZjc5NGM2MjAyNDU0ZDNiODgxMzQ2MTViNjMwYTA0NCA9IEwucG9wdXAoeyJtYXhXaWR0aCI6ICIxMDAlIn0pOwoKICAgICAgICAKICAgICAgICAgICAgdmFyIGh0bWxfYzdkOTcwNmNlOWIyNGFhYmI1NGFjYTQwMTYzMjdhNDUgPSAkKGA8ZGl2IGlkPSJodG1sX2M3ZDk3MDZjZTliMjRhYWJiNTRhY2E0MDE2MzI3YTQ1IiBzdHlsZT0id2lkdGg6IDEwMC4wJTsgaGVpZ2h0OiAxMDAuMCU7Ij5HdWVzdGhvdXNlIEZldGU8L2Rpdj5gKVswXTsKICAgICAgICAgICAgcG9wdXBfZmY3OTRjNjIwMjQ1NGQzYjg4MTM0NjE1YjYzMGEwNDQuc2V0Q29udGVudChodG1sX2M3ZDk3MDZjZTliMjRhYWJiNTRhY2E0MDE2MzI3YTQ1KTsKICAgICAgICAKCiAgICAgICAgY2lyY2xlX21hcmtlcl8zNzkyMzMzNTQ0NmQ0MTNhOWFiY2NlOGY3ZDVmMzU1OS5iaW5kUG9wdXAocG9wdXBfZmY3OTRjNjIwMjQ1NGQzYjg4MTM0NjE1YjYzMGEwNDQpCiAgICAgICAgOwoKICAgICAgICAKICAgIAogICAgCiAgICAgICAgICAgIHZhciBjaXJjbGVfbWFya2VyX2MwMjAyOGQ2ZWU1YjRlYTk5NmY3ZjY3NGQ5NzlmMmJiID0gTC5jaXJjbGVNYXJrZXIoCiAgICAgICAgICAgICAgICBbMzUuNTUzNDk5LCAxMzkuNzQwNTIzMV0sCiAgICAgICAgICAgICAgICB7ImJ1YmJsaW5nTW91c2VFdmVudHMiOiB0cnVlLCAiY29sb3IiOiAiIzMzY2MzMyIsICJkYXNoQXJyYXkiOiBudWxsLCAiZGFzaE9mZnNldCI6IG51bGwsICJmaWxsIjogdHJ1ZSwgImZpbGxDb2xvciI6ICIjRkZGIiwgImZpbGxPcGFjaXR5IjogMC43NSwgImZpbGxSdWxlIjogImV2ZW5vZGQiLCAibGluZUNhcCI6ICJyb3VuZCIsICJsaW5lSm9pbiI6ICJyb3VuZCIsICJvcGFjaXR5IjogMS4wLCAicmFkaXVzIjogMywgInN0cm9rZSI6IHRydWUsICJ3ZWlnaHQiOiAzfQogICAgICAgICAgICApLmFkZFRvKG1hcF8zYjUzZmQ4ODM3MDQ0NGFjOWJiYmRmNjIyYWFjNGUyZSk7CiAgICAgICAgCiAgICAKICAgICAgICB2YXIgcG9wdXBfNGE0ZTkyNjgxNTY1NDRmNTkzNDFiNjA1YzljZDc3YWQgPSBMLnBvcHVwKHsibWF4V2lkdGgiOiAiMTAwJSJ9KTsKCiAgICAgICAgCiAgICAgICAgICAgIHZhciBodG1sX2NmZmQ0YTQ1MjM0NzRjNGViZTE2Mzg2YmNlN2QzYTc3ID0gJChgPGRpdiBpZD0iaHRtbF9jZmZkNGE0NTIzNDc0YzRlYmUxNjM4NmJjZTdkM2E3NyIgc3R5bGU9IndpZHRoOiAxMDAuMCU7IGhlaWdodDogMTAwLjAlOyI+R3Vlc3Rob3VzZSBTZW5zdTwvZGl2PmApWzBdOwogICAgICAgICAgICBwb3B1cF80YTRlOTI2ODE1NjU0NGY1OTM0MWI2MDVjOWNkNzdhZC5zZXRDb250ZW50KGh0bWxfY2ZmZDRhNDUyMzQ3NGM0ZWJlMTYzODZiY2U3ZDNhNzcpOwogICAgICAgIAoKICAgICAgICBjaXJjbGVfbWFya2VyX2MwMjAyOGQ2ZWU1YjRlYTk5NmY3ZjY3NGQ5NzlmMmJiLmJpbmRQb3B1cChwb3B1cF80YTRlOTI2ODE1NjU0NGY1OTM0MWI2MDVjOWNkNzdhZCkKICAgICAgICA7CgogICAgICAgIAogICAgCiAgICAKICAgICAgICAgICAgdmFyIGNpcmNsZV9tYXJrZXJfNjg2MjZiNzFlNGUxNGVhMjlkYTAxZjFlNTZhNDYxZTMgPSBMLmNpcmNsZU1hcmtlcigKICAgICAgICAgICAgICAgIFszNS43MDQ1NDYsIDEzOS43NzAyMDYyXSwKICAgICAgICAgICAgICAgIHsiYnViYmxpbmdNb3VzZUV2ZW50cyI6IHRydWUsICJjb2xvciI6ICIjMzNjYzMzIiwgImRhc2hBcnJheSI6IG51bGwsICJkYXNoT2Zmc2V0IjogbnVsbCwgImZpbGwiOiB0cnVlLCAiZmlsbENvbG9yIjogIiNGRkYiLCAiZmlsbE9wYWNpdHkiOiAwLjc1LCAiZmlsbFJ1bGUiOiAiZXZlbm9kZCIsICJsaW5lQ2FwIjogInJvdW5kIiwgImxpbmVKb2luIjogInJvdW5kIiwgIm9wYWNpdHkiOiAxLjAsICJyYWRpdXMiOiAzLCAic3Ryb2tlIjogdHJ1ZSwgIndlaWdodCI6IDN9CiAgICAgICAgICAgICkuYWRkVG8obWFwXzNiNTNmZDg4MzcwNDQ0YWM5YmJiZGY2MjJhYWM0ZTJlKTsKICAgICAgICAKICAgIAogICAgICAgIHZhciBwb3B1cF9hYjUxMmFiMGJhMjQ0ZjY3YjgzNjg3MmE1NjQwOWQyNiA9IEwucG9wdXAoeyJtYXhXaWR0aCI6ICIxMDAlIn0pOwoKICAgICAgICAKICAgICAgICAgICAgdmFyIGh0bWxfZTU4ZTRhNjVkODBjNDJkYTkyOTIzNTFmOGQ3NDZlZmUgPSAkKGA8ZGl2IGlkPSJodG1sX2U1OGU0YTY1ZDgwYzQyZGE5MjkyMzUxZjhkNzQ2ZWZlIiBzdHlsZT0id2lkdGg6IDEwMC4wJTsgaGVpZ2h0OiAxMDAuMCU7Ij5IaXJvbWFzIEhvc3RlbCBpbiBBa2liYTwvZGl2PmApWzBdOwogICAgICAgICAgICBwb3B1cF9hYjUxMmFiMGJhMjQ0ZjY3YjgzNjg3MmE1NjQwOWQyNi5zZXRDb250ZW50KGh0bWxfZTU4ZTRhNjVkODBjNDJkYTkyOTIzNTFmOGQ3NDZlZmUpOwogICAgICAgIAoKICAgICAgICBjaXJjbGVfbWFya2VyXzY4NjI2YjcxZTRlMTRlYTI5ZGEwMWYxZTU2YTQ2MWUzLmJpbmRQb3B1cChwb3B1cF9hYjUxMmFiMGJhMjQ0ZjY3YjgzNjg3MmE1NjQwOWQyNikKICAgICAgICA7CgogICAgICAgIAogICAgCiAgICAKICAgICAgICAgICAgdmFyIGNpcmNsZV9tYXJrZXJfY2MxYmM3NTdkMDY1NGRhNGJkOTlmNDFmNTc0ZTlmZTYgPSBMLmNpcmNsZU1hcmtlcigKICAgICAgICAgICAgICAgIFszNS42OTI4MjE5LCAxMzkuNzc2MzEyNF0sCiAgICAgICAgICAgICAgICB7ImJ1YmJsaW5nTW91c2VFdmVudHMiOiB0cnVlLCAiY29sb3IiOiAiIzMzY2MzMyIsICJkYXNoQXJyYXkiOiBudWxsLCAiZGFzaE9mZnNldCI6IG51bGwsICJmaWxsIjogdHJ1ZSwgImZpbGxDb2xvciI6ICIjRkZGIiwgImZpbGxPcGFjaXR5IjogMC43NSwgImZpbGxSdWxlIjogImV2ZW5vZGQiLCAibGluZUNhcCI6ICJyb3VuZCIsICJsaW5lSm9pbiI6ICJyb3VuZCIsICJvcGFjaXR5IjogMS4wLCAicmFkaXVzIjogMywgInN0cm9rZSI6IHRydWUsICJ3ZWlnaHQiOiAzfQogICAgICAgICAgICApLmFkZFRvKG1hcF8zYjUzZmQ4ODM3MDQ0NGFjOWJiYmRmNjIyYWFjNGUyZSk7CiAgICAgICAgCiAgICAKICAgICAgICB2YXIgcG9wdXBfNWNkYTU4YWUxYTkwNDQyODg1YTIxOWQ5NGFhZjIyYjIgPSBMLnBvcHVwKHsibWF4V2lkdGgiOiAiMTAwJSJ9KTsKCiAgICAgICAgCiAgICAgICAgICAgIHZhciBodG1sXzc5YWViYjZmMzdhNTRiYzg4NjdjMGE4NmVmNmVmODZmID0gJChgPGRpdiBpZD0iaHRtbF83OWFlYmI2ZjM3YTU0YmM4ODY3YzBhODZlZjZlZjg2ZiIgc3R5bGU9IndpZHRoOiAxMDAuMCU7IGhlaWdodDogMTAwLjAlOyI+SGlyb21hcyBIb3N0ZWwgaW4gS2FuZGE8L2Rpdj5gKVswXTsKICAgICAgICAgICAgcG9wdXBfNWNkYTU4YWUxYTkwNDQyODg1YTIxOWQ5NGFhZjIyYjIuc2V0Q29udGVudChodG1sXzc5YWViYjZmMzdhNTRiYzg4NjdjMGE4NmVmNmVmODZmKTsKICAgICAgICAKCiAgICAgICAgY2lyY2xlX21hcmtlcl9jYzFiYzc1N2QwNjU0ZGE0YmQ5OWY0MWY1NzRlOWZlNi5iaW5kUG9wdXAocG9wdXBfNWNkYTU4YWUxYTkwNDQyODg1YTIxOWQ5NGFhZjIyYjIpCiAgICAgICAgOwoKICAgICAgICAKICAgIAogICAgCiAgICAgICAgICAgIHZhciBjaXJjbGVfbWFya2VyX2IxMmVkNTIwMjIzZDQyNTA4OTgyMzIwNzExOGJhY2U2ID0gTC5jaXJjbGVNYXJrZXIoCiAgICAgICAgICAgICAgICBbMzUuNzExMjMxLCAxMzkuNzU2MjVdLAogICAgICAgICAgICAgICAgeyJidWJibGluZ01vdXNlRXZlbnRzIjogdHJ1ZSwgImNvbG9yIjogIiMzM2NjMzMiLCAiZGFzaEFycmF5IjogbnVsbCwgImRhc2hPZmZzZXQiOiBudWxsLCAiZmlsbCI6IHRydWUsICJmaWxsQ29sb3IiOiAiI0ZGRiIsICJmaWxsT3BhY2l0eSI6IDAuNzUsICJmaWxsUnVsZSI6ICJldmVub2RkIiwgImxpbmVDYXAiOiAicm91bmQiLCAibGluZUpvaW4iOiAicm91bmQiLCAib3BhY2l0eSI6IDEuMCwgInJhZGl1cyI6IDMsICJzdHJva2UiOiB0cnVlLCAid2VpZ2h0IjogM30KICAgICAgICAgICAgKS5hZGRUbyhtYXBfM2I1M2ZkODgzNzA0NDRhYzliYmJkZjYyMmFhYzRlMmUpOwogICAgICAgIAogICAgCiAgICAgICAgdmFyIHBvcHVwX2Q3M2NjYzUwZDJlZDRjNTA4ODljMmE2YTkxMDYwZTRiID0gTC5wb3B1cCh7Im1heFdpZHRoIjogIjEwMCUifSk7CgogICAgICAgIAogICAgICAgICAgICB2YXIgaHRtbF9iMDc1YzNkMGNjYjk0NWUzOWQ1OTQ0ZmUyZjJmYzdmOCA9ICQoYDxkaXYgaWQ9Imh0bWxfYjA3NWMzZDBjY2I5NDVlMzlkNTk0NGZlMmYyZmM3ZjgiIHN0eWxlPSJ3aWR0aDogMTAwLjAlOyBoZWlnaHQ6IDEwMC4wJTsiPkhvbWVpa2FuPC9kaXY+YClbMF07CiAgICAgICAgICAgIHBvcHVwX2Q3M2NjYzUwZDJlZDRjNTA4ODljMmE2YTkxMDYwZTRiLnNldENvbnRlbnQoaHRtbF9iMDc1YzNkMGNjYjk0NWUzOWQ1OTQ0ZmUyZjJmYzdmOCk7CiAgICAgICAgCgogICAgICAgIGNpcmNsZV9tYXJrZXJfYjEyZWQ1MjAyMjNkNDI1MDg5ODIzMjA3MTE4YmFjZTYuYmluZFBvcHVwKHBvcHVwX2Q3M2NjYzUwZDJlZDRjNTA4ODljMmE2YTkxMDYwZTRiKQogICAgICAgIDsKCiAgICAgICAgCiAgICAKICAgIAogICAgICAgICAgICB2YXIgY2lyY2xlX21hcmtlcl9kNWJiMGIyYTQzNDA0NmZhYmI4ZGEzNDJhZTFkN2QzMyA9IEwuY2lyY2xlTWFya2VyKAogICAgICAgICAgICAgICAgWzM1Ljc1NjAxODIsIDEzOS43MzgyNzkxXSwKICAgICAgICAgICAgICAgIHsiYnViYmxpbmdNb3VzZUV2ZW50cyI6IHRydWUsICJjb2xvciI6ICIjMzNjYzMzIiwgImRhc2hBcnJheSI6IG51bGwsICJkYXNoT2Zmc2V0IjogbnVsbCwgImZpbGwiOiB0cnVlLCAiZmlsbENvbG9yIjogIiNGRkYiLCAiZmlsbE9wYWNpdHkiOiAwLjc1LCAiZmlsbFJ1bGUiOiAiZXZlbm9kZCIsICJsaW5lQ2FwIjogInJvdW5kIiwgImxpbmVKb2luIjogInJvdW5kIiwgIm9wYWNpdHkiOiAxLjAsICJyYWRpdXMiOiAzLCAic3Ryb2tlIjogdHJ1ZSwgIndlaWdodCI6IDN9CiAgICAgICAgICAgICkuYWRkVG8obWFwXzNiNTNmZDg4MzcwNDQ0YWM5YmJiZGY2MjJhYWM0ZTJlKTsKICAgICAgICAKICAgIAogICAgICAgIHZhciBwb3B1cF8wMWI4ZTExOGE2NDQ0YWYyYThhNDczY2Y0MGJiN2VkMiA9IEwucG9wdXAoeyJtYXhXaWR0aCI6ICIxMDAlIn0pOwoKICAgICAgICAKICAgICAgICAgICAgdmFyIGh0bWxfOGUyZTk3MzczNmY3NGUzMWEyNzQxZGFiYjEyYmIzMTcgPSAkKGA8ZGl2IGlkPSJodG1sXzhlMmU5NzM3MzZmNzRlMzFhMjc0MWRhYmIxMmJiMzE3IiBzdHlsZT0id2lkdGg6IDEwMC4wJTsgaGVpZ2h0OiAxMDAuMCU7Ij5Ib3AgU3RlcCBJbm48L2Rpdj5gKVswXTsKICAgICAgICAgICAgcG9wdXBfMDFiOGUxMThhNjQ0NGFmMmE4YTQ3M2NmNDBiYjdlZDIuc2V0Q29udGVudChodG1sXzhlMmU5NzM3MzZmNzRlMzFhMjc0MWRhYmIxMmJiMzE3KTsKICAgICAgICAKCiAgICAgICAgY2lyY2xlX21hcmtlcl9kNWJiMGIyYTQzNDA0NmZhYmI4ZGEzNDJhZTFkN2QzMy5iaW5kUG9wdXAocG9wdXBfMDFiOGUxMThhNjQ0NGFmMmE4YTQ3M2NmNDBiYjdlZDIpCiAgICAgICAgOwoKICAgICAgICAKICAgIAogICAgCiAgICAgICAgICAgIHZhciBjaXJjbGVfbWFya2VyXzdkZTBlMmY4OGY4ZTQzMGFiOTM4Y2U0NTdhNmIyYjM0ID0gTC5jaXJjbGVNYXJrZXIoCiAgICAgICAgICAgICAgICBbMzUuNzIxMzUsIDEzOS43ODkwMzMwMDAwMDAwMl0sCiAgICAgICAgICAgICAgICB7ImJ1YmJsaW5nTW91c2VFdmVudHMiOiB0cnVlLCAiY29sb3IiOiAiIzMzY2MzMyIsICJkYXNoQXJyYXkiOiBudWxsLCAiZGFzaE9mZnNldCI6IG51bGwsICJmaWxsIjogdHJ1ZSwgImZpbGxDb2xvciI6ICIjRkZGIiwgImZpbGxPcGFjaXR5IjogMC43NSwgImZpbGxSdWxlIjogImV2ZW5vZGQiLCAibGluZUNhcCI6ICJyb3VuZCIsICJsaW5lSm9pbiI6ICJyb3VuZCIsICJvcGFjaXR5IjogMS4wLCAicmFkaXVzIjogMywgInN0cm9rZSI6IHRydWUsICJ3ZWlnaHQiOiAzfQogICAgICAgICAgICApLmFkZFRvKG1hcF8zYjUzZmQ4ODM3MDQ0NGFjOWJiYmRmNjIyYWFjNGUyZSk7CiAgICAgICAgCiAgICAKICAgICAgICB2YXIgcG9wdXBfMTg3ZmQxNGQ5M2UzNDI3MzllNTc3YWNmZDM3YTdkYTEgPSBMLnBvcHVwKHsibWF4V2lkdGgiOiAiMTAwJSJ9KTsKCiAgICAgICAgCiAgICAgICAgICAgIHZhciBodG1sX2Y1MTJhNDUzZWE5MTQ2Y2FiY2RmN2VhYjAyMTIyZjlkID0gJChgPGRpdiBpZD0iaHRtbF9mNTEyYTQ1M2VhOTE0NmNhYmNkZjdlYWIwMjEyMmY5ZCIgc3R5bGU9IndpZHRoOiAxMDAuMCU7IGhlaWdodDogMTAwLjAlOyI+SG9zdGVsIGJlZGdhc208L2Rpdj5gKVswXTsKICAgICAgICAgICAgcG9wdXBfMTg3ZmQxNGQ5M2UzNDI3MzllNTc3YWNmZDM3YTdkYTEuc2V0Q29udGVudChodG1sX2Y1MTJhNDUzZWE5MTQ2Y2FiY2RmN2VhYjAyMTIyZjlkKTsKICAgICAgICAKCiAgICAgICAgY2lyY2xlX21hcmtlcl83ZGUwZTJmODhmOGU0MzBhYjkzOGNlNDU3YTZiMmIzNC5iaW5kUG9wdXAocG9wdXBfMTg3ZmQxNGQ5M2UzNDI3MzllNTc3YWNmZDM3YTdkYTEpCiAgICAgICAgOwoKICAgICAgICAKICAgIAogICAgCiAgICAgICAgICAgIHZhciBjaXJjbGVfbWFya2VyXzE1YTNiZGUxMzczMzRjMGJiOTFhMGJlYjg1ODhkNjQzID0gTC5jaXJjbGVNYXJrZXIoCiAgICAgICAgICAgICAgICBbMzUuNzA5MzA1LCAxMzkuNzk3MjE3XSwKICAgICAgICAgICAgICAgIHsiYnViYmxpbmdNb3VzZUV2ZW50cyI6IHRydWUsICJjb2xvciI6ICIjMzNjYzMzIiwgImRhc2hBcnJheSI6IG51bGwsICJkYXNoT2Zmc2V0IjogbnVsbCwgImZpbGwiOiB0cnVlLCAiZmlsbENvbG9yIjogIiNGRkYiLCAiZmlsbE9wYWNpdHkiOiAwLjc1LCAiZmlsbFJ1bGUiOiAiZXZlbm9kZCIsICJsaW5lQ2FwIjogInJvdW5kIiwgImxpbmVKb2luIjogInJvdW5kIiwgIm9wYWNpdHkiOiAxLjAsICJyYWRpdXMiOiAzLCAic3Ryb2tlIjogdHJ1ZSwgIndlaWdodCI6IDN9CiAgICAgICAgICAgICkuYWRkVG8obWFwXzNiNTNmZDg4MzcwNDQ0YWM5YmJiZGY2MjJhYWM0ZTJlKTsKICAgICAgICAKICAgIAogICAgICAgIHZhciBwb3B1cF9kYWQwYTcyOWVmMGQ0MWJiOWRkZTgxMTU1OTE1OGQ1ZCA9IEwucG9wdXAoeyJtYXhXaWR0aCI6ICIxMDAlIn0pOwoKICAgICAgICAKICAgICAgICAgICAgdmFyIGh0bWxfMDAwZWY5YzQ2ZDEzNDI3ZmE3YmYzYzhmYzIzZmYwMDAgPSAkKGA8ZGl2IGlkPSJodG1sXzAwMGVmOWM0NmQxMzQyN2ZhN2JmM2M4ZmMyM2ZmMDAwIiBzdHlsZT0id2lkdGg6IDEwMC4wJTsgaGVpZ2h0OiAxMDAuMCU7Ij5Ib3N0ZWwgQ2hhcHRlciBUd28gVG9reW88L2Rpdj5gKVswXTsKICAgICAgICAgICAgcG9wdXBfZGFkMGE3MjllZjBkNDFiYjlkZGU4MTE1NTkxNThkNWQuc2V0Q29udGVudChodG1sXzAwMGVmOWM0NmQxMzQyN2ZhN2JmM2M4ZmMyM2ZmMDAwKTsKICAgICAgICAKCiAgICAgICAgY2lyY2xlX21hcmtlcl8xNWEzYmRlMTM3MzM0YzBiYjkxYTBiZWI4NTg4ZDY0My5iaW5kUG9wdXAocG9wdXBfZGFkMGE3MjllZjBkNDFiYjlkZGU4MTE1NTkxNThkNWQpCiAgICAgICAgOwoKICAgICAgICAKICAgIAogICAgCiAgICAgICAgICAgIHZhciBjaXJjbGVfbWFya2VyX2M2N2EyNGQ0ZWQxNjRmZTJiOGI1ODYzNTUwZDE2OTliID0gTC5jaXJjbGVNYXJrZXIoCiAgICAgICAgICAgICAgICBbMzUuNjkxMDMxNSwgMTM5Ljc3NjY5NjZdLAogICAgICAgICAgICAgICAgeyJidWJibGluZ01vdXNlRXZlbnRzIjogdHJ1ZSwgImNvbG9yIjogIiMzM2NjMzMiLCAiZGFzaEFycmF5IjogbnVsbCwgImRhc2hPZmZzZXQiOiBudWxsLCAiZmlsbCI6IHRydWUsICJmaWxsQ29sb3IiOiAiI0ZGRiIsICJmaWxsT3BhY2l0eSI6IDAuNzUsICJmaWxsUnVsZSI6ICJldmVub2RkIiwgImxpbmVDYXAiOiAicm91bmQiLCAibGluZUpvaW4iOiAicm91bmQiLCAib3BhY2l0eSI6IDEuMCwgInJhZGl1cyI6IDMsICJzdHJva2UiOiB0cnVlLCAid2VpZ2h0IjogM30KICAgICAgICAgICAgKS5hZGRUbyhtYXBfM2I1M2ZkODgzNzA0NDRhYzliYmJkZjYyMmFhYzRlMmUpOwogICAgICAgIAogICAgCiAgICAgICAgdmFyIHBvcHVwX2YyMjdlNGZjMWY4ZDQ0ZjlhNzhmMGU2NjBmNzExMDQ1ID0gTC5wb3B1cCh7Im1heFdpZHRoIjogIjEwMCUifSk7CgogICAgICAgIAogICAgICAgICAgICB2YXIgaHRtbF8yOTVjNmQ4NDZkYjE0YmIyYTUxM2JlMTQ3NTU4MGM0MCA9ICQoYDxkaXYgaWQ9Imh0bWxfMjk1YzZkODQ2ZGIxNGJiMmE1MTNiZTE0NzU1ODBjNDAiIHN0eWxlPSJ3aWR0aDogMTAwLjAlOyBoZWlnaHQ6IDEwMC4wJTsiPmhvc3RlbCBERU48L2Rpdj5gKVswXTsKICAgICAgICAgICAgcG9wdXBfZjIyN2U0ZmMxZjhkNDRmOWE3OGYwZTY2MGY3MTEwNDUuc2V0Q29udGVudChodG1sXzI5NWM2ZDg0NmRiMTRiYjJhNTEzYmUxNDc1NTgwYzQwKTsKICAgICAgICAKCiAgICAgICAgY2lyY2xlX21hcmtlcl9jNjdhMjRkNGVkMTY0ZmUyYjhiNTg2MzU1MGQxNjk5Yi5iaW5kUG9wdXAocG9wdXBfZjIyN2U0ZmMxZjhkNDRmOWE3OGYwZTY2MGY3MTEwNDUpCiAgICAgICAgOwoKICAgICAgICAKICAgIAogICAgCiAgICAgICAgICAgIHZhciBjaXJjbGVfbWFya2VyXzY1MjJiODZiYzdkZDRkNTdiMWJmM2Q2YmUzMTNkNjg3ID0gTC5jaXJjbGVNYXJrZXIoCiAgICAgICAgICAgICAgICBbMzUuNjk2NzU3ODk5OTk5OTk0LCAxMzkuNzg3NjUwOTAwMDAwMDJdLAogICAgICAgICAgICAgICAgeyJidWJibGluZ01vdXNlRXZlbnRzIjogdHJ1ZSwgImNvbG9yIjogIiMzM2NjMzMiLCAiZGFzaEFycmF5IjogbnVsbCwgImRhc2hPZmZzZXQiOiBudWxsLCAiZmlsbCI6IHRydWUsICJmaWxsQ29sb3IiOiAiI0ZGRiIsICJmaWxsT3BhY2l0eSI6IDAuNzUsICJmaWxsUnVsZSI6ICJldmVub2RkIiwgImxpbmVDYXAiOiAicm91bmQiLCAibGluZUpvaW4iOiAicm91bmQiLCAib3BhY2l0eSI6IDEuMCwgInJhZGl1cyI6IDMsICJzdHJva2UiOiB0cnVlLCAid2VpZ2h0IjogM30KICAgICAgICAgICAgKS5hZGRUbyhtYXBfM2I1M2ZkODgzNzA0NDRhYzliYmJkZjYyMmFhYzRlMmUpOwogICAgICAgIAogICAgCiAgICAgICAgdmFyIHBvcHVwX2Q1N2JhZmJhZDg4OTRmNWY5NDQ1NzUyNjc1YzI5OGQxID0gTC5wb3B1cCh7Im1heFdpZHRoIjogIjEwMCUifSk7CgogICAgICAgIAogICAgICAgICAgICB2YXIgaHRtbF8wZTIxNmI2ZmFjODI0ZmZjYmZlYWE2NThlMTJmMDllNyA9ICQoYDxkaXYgaWQ9Imh0bWxfMGUyMTZiNmZhYzgyNGZmY2JmZWFhNjU4ZTEyZjA5ZTciIHN0eWxlPSJ3aWR0aDogMTAwLjAlOyBoZWlnaHQ6IDEwMC4wJTsiPkhvc3RlbO+8hkNhZsOpIEVhc3Q1NyBBc2FrdXNhYmFzaGk8L2Rpdj5gKVswXTsKICAgICAgICAgICAgcG9wdXBfZDU3YmFmYmFkODg5NGY1Zjk0NDU3NTI2NzVjMjk4ZDEuc2V0Q29udGVudChodG1sXzBlMjE2YjZmYWM4MjRmZmNiZmVhYTY1OGUxMmYwOWU3KTsKICAgICAgICAKCiAgICAgICAgY2lyY2xlX21hcmtlcl82NTIyYjg2YmM3ZGQ0ZDU3YjFiZjNkNmJlMzEzZDY4Ny5iaW5kUG9wdXAocG9wdXBfZDU3YmFmYmFkODg5NGY1Zjk0NDU3NTI2NzVjMjk4ZDEpCiAgICAgICAgOwoKICAgICAgICAKICAgIAogICAgCiAgICAgICAgICAgIHZhciBjaXJjbGVfbWFya2VyX2VjMTI1OTI3MTFjNDQxNWU4MTM3MjA0MmIxYTM0ODE0ID0gTC5jaXJjbGVNYXJrZXIoCiAgICAgICAgICAgICAgICBbMzUuNzE3MjY5LCAxMzkuNzY4NjY3XSwKICAgICAgICAgICAgICAgIHsiYnViYmxpbmdNb3VzZUV2ZW50cyI6IHRydWUsICJjb2xvciI6ICIjMzNjYzMzIiwgImRhc2hBcnJheSI6IG51bGwsICJkYXNoT2Zmc2V0IjogbnVsbCwgImZpbGwiOiB0cnVlLCAiZmlsbENvbG9yIjogIiNGRkYiLCAiZmlsbE9wYWNpdHkiOiAwLjc1LCAiZmlsbFJ1bGUiOiAiZXZlbm9kZCIsICJsaW5lQ2FwIjogInJvdW5kIiwgImxpbmVKb2luIjogInJvdW5kIiwgIm9wYWNpdHkiOiAxLjAsICJyYWRpdXMiOiAzLCAic3Ryb2tlIjogdHJ1ZSwgIndlaWdodCI6IDN9CiAgICAgICAgICAgICkuYWRkVG8obWFwXzNiNTNmZDg4MzcwNDQ0YWM5YmJiZGY2MjJhYWM0ZTJlKTsKICAgICAgICAKICAgIAogICAgICAgIHZhciBwb3B1cF9kNGQ0ZGY0N2M3Njk0YTc2YTMwN2E2MTIxMDBkMWIyZCA9IEwucG9wdXAoeyJtYXhXaWR0aCI6ICIxMDAlIn0pOwoKICAgICAgICAKICAgICAgICAgICAgdmFyIGh0bWxfYTUxNWQ4M2NiYWExNGI2MjhiNGNjZmE2ZDA2ZTI4ZTIgPSAkKGA8ZGl2IGlkPSJodG1sX2E1MTVkODNjYmFhMTRiNjI4YjRjY2ZhNmQwNmUyOGUyIiBzdHlsZT0id2lkdGg6IDEwMC4wJTsgaGVpZ2h0OiAxMDAuMCU7Ij5Ib3RlbCBHcmFwaHkgTmV6dTwvZGl2PmApWzBdOwogICAgICAgICAgICBwb3B1cF9kNGQ0ZGY0N2M3Njk0YTc2YTMwN2E2MTIxMDBkMWIyZC5zZXRDb250ZW50KGh0bWxfYTUxNWQ4M2NiYWExNGI2MjhiNGNjZmE2ZDA2ZTI4ZTIpOwogICAgICAgIAoKICAgICAgICBjaXJjbGVfbWFya2VyX2VjMTI1OTI3MTFjNDQxNWU4MTM3MjA0MmIxYTM0ODE0LmJpbmRQb3B1cChwb3B1cF9kNGQ0ZGY0N2M3Njk0YTc2YTMwN2E2MTIxMDBkMWIyZCkKICAgICAgICA7CgogICAgICAgIAogICAgCiAgICAKICAgICAgICAgICAgdmFyIGNpcmNsZV9tYXJrZXJfZjkxMmUxZmMxYmQyNDJmNmE0ZGY3MmE4YTE1OGZkOWYgPSBMLmNpcmNsZU1hcmtlcigKICAgICAgICAgICAgICAgIFszNS41MjY5OTI2MDAwMDAwMSwgMTM5LjY5ODU4MDgwMDAwMDAzXSwKICAgICAgICAgICAgICAgIHsiYnViYmxpbmdNb3VzZUV2ZW50cyI6IHRydWUsICJjb2xvciI6ICIjMzNjYzMzIiwgImRhc2hBcnJheSI6IG51bGwsICJkYXNoT2Zmc2V0IjogbnVsbCwgImZpbGwiOiB0cnVlLCAiZmlsbENvbG9yIjogIiNGRkYiLCAiZmlsbE9wYWNpdHkiOiAwLjc1LCAiZmlsbFJ1bGUiOiAiZXZlbm9kZCIsICJsaW5lQ2FwIjogInJvdW5kIiwgImxpbmVKb2luIjogInJvdW5kIiwgIm9wYWNpdHkiOiAxLjAsICJyYWRpdXMiOiAzLCAic3Ryb2tlIjogdHJ1ZSwgIndlaWdodCI6IDN9CiAgICAgICAgICAgICkuYWRkVG8obWFwXzNiNTNmZDg4MzcwNDQ0YWM5YmJiZGY2MjJhYWM0ZTJlKTsKICAgICAgICAKICAgIAogICAgICAgIHZhciBwb3B1cF9lMTY5MDE5ZjUzYWE0MzJhYjQ5MDJlOThjZGNjNDhkOCA9IEwucG9wdXAoeyJtYXhXaWR0aCI6ICIxMDAlIn0pOwoKICAgICAgICAKICAgICAgICAgICAgdmFyIGh0bWxfM2U1YzNhNDQzNGUzNDM5MWI2NDMxMjdjZmZjOWU1NGQgPSAkKGA8ZGl2IGlkPSJodG1sXzNlNWMzYTQ0MzRlMzQzOTFiNjQzMTI3Y2ZmYzllNTRkIiBzdHlsZT0id2lkdGg6IDEwMC4wJTsgaGVpZ2h0OiAxMDAuMCU7Ij5Ib3RlbCZhbXA7SG9zdGVsIE9uIHRoZSBNYXJrcyBUb2t5byBLYXdhc2FraTwvZGl2PmApWzBdOwogICAgICAgICAgICBwb3B1cF9lMTY5MDE5ZjUzYWE0MzJhYjQ5MDJlOThjZGNjNDhkOC5zZXRDb250ZW50KGh0bWxfM2U1YzNhNDQzNGUzNDM5MWI2NDMxMjdjZmZjOWU1NGQpOwogICAgICAgIAoKICAgICAgICBjaXJjbGVfbWFya2VyX2Y5MTJlMWZjMWJkMjQyZjZhNGRmNzJhOGExNThmZDlmLmJpbmRQb3B1cChwb3B1cF9lMTY5MDE5ZjUzYWE0MzJhYjQ5MDJlOThjZGNjNDhkOCkKICAgICAgICA7CgogICAgICAgIAogICAgCiAgICAKICAgICAgICAgICAgdmFyIGNpcmNsZV9tYXJrZXJfYWQ4MWIyMTc4NDdjNDNmMDg1ZTA4ZTc3Y2UzZTI4NzggPSBMLmNpcmNsZU1hcmtlcigKICAgICAgICAgICAgICAgIFszNS43MzczOTk4LCAxMzkuNzYwNDUzM10sCiAgICAgICAgICAgICAgICB7ImJ1YmJsaW5nTW91c2VFdmVudHMiOiB0cnVlLCAiY29sb3IiOiAiIzMzY2MzMyIsICJkYXNoQXJyYXkiOiBudWxsLCAiZGFzaE9mZnNldCI6IG51bGwsICJmaWxsIjogdHJ1ZSwgImZpbGxDb2xvciI6ICIjRkZGIiwgImZpbGxPcGFjaXR5IjogMC43NSwgImZpbGxSdWxlIjogImV2ZW5vZGQiLCAibGluZUNhcCI6ICJyb3VuZCIsICJsaW5lSm9pbiI6ICJyb3VuZCIsICJvcGFjaXR5IjogMS4wLCAicmFkaXVzIjogMywgInN0cm9rZSI6IHRydWUsICJ3ZWlnaHQiOiAzfQogICAgICAgICAgICApLmFkZFRvKG1hcF8zYjUzZmQ4ODM3MDQ0NGFjOWJiYmRmNjIyYWFjNGUyZSk7CiAgICAgICAgCiAgICAKICAgICAgICB2YXIgcG9wdXBfNWVlYTE4ZWEzNmI1NDIyNTg4MDdjZjQwNmMxNWViYWEgPSBMLnBvcHVwKHsibWF4V2lkdGgiOiAiMTAwJSJ9KTsKCiAgICAgICAgCiAgICAgICAgICAgIHZhciBodG1sXzNkNTdiZWMxZTEzZDRiNGI5N2FhYTE1ZDliMDE0ZDM1ID0gJChgPGRpdiBpZD0iaHRtbF8zZDU3YmVjMWUxM2Q0YjRiOTdhYWExNWQ5YjAxNGQzNSIgc3R5bGU9IndpZHRoOiAxMDAuMCU7IGhlaWdodDogMTAwLjAlOyI+SWtpZGFuZSBIb3VzZTwvZGl2PmApWzBdOwogICAgICAgICAgICBwb3B1cF81ZWVhMThlYTM2YjU0MjI1ODgwN2NmNDA2YzE1ZWJhYS5zZXRDb250ZW50KGh0bWxfM2Q1N2JlYzFlMTNkNGI0Yjk3YWFhMTVkOWIwMTRkMzUpOwogICAgICAgIAoKICAgICAgICBjaXJjbGVfbWFya2VyX2FkODFiMjE3ODQ3YzQzZjA4NWUwOGU3N2NlM2UyODc4LmJpbmRQb3B1cChwb3B1cF81ZWVhMThlYTM2YjU0MjI1ODgwN2NmNDA2YzE1ZWJhYSkKICAgICAgICA7CgogICAgICAgIAogICAgCiAgICAKICAgICAgICAgICAgdmFyIGNpcmNsZV9tYXJrZXJfMTgyMzUzMjc0OTA0NGQ1ODkzNDY3N2Q5ZTZjYjE2ODEgPSBMLmNpcmNsZU1hcmtlcigKICAgICAgICAgICAgICAgIFszNS43MjIwODkwMDAwMDAwMDQsIDEzOS43OTUwNDg5XSwKICAgICAgICAgICAgICAgIHsiYnViYmxpbmdNb3VzZUV2ZW50cyI6IHRydWUsICJjb2xvciI6ICIjMzNjYzMzIiwgImRhc2hBcnJheSI6IG51bGwsICJkYXNoT2Zmc2V0IjogbnVsbCwgImZpbGwiOiB0cnVlLCAiZmlsbENvbG9yIjogIiNGRkYiLCAiZmlsbE9wYWNpdHkiOiAwLjc1LCAiZmlsbFJ1bGUiOiAiZXZlbm9kZCIsICJsaW5lQ2FwIjogInJvdW5kIiwgImxpbmVKb2luIjogInJvdW5kIiwgIm9wYWNpdHkiOiAxLjAsICJyYWRpdXMiOiAzLCAic3Ryb2tlIjogdHJ1ZSwgIndlaWdodCI6IDN9CiAgICAgICAgICAgICkuYWRkVG8obWFwXzNiNTNmZDg4MzcwNDQ0YWM5YmJiZGY2MjJhYWM0ZTJlKTsKICAgICAgICAKICAgIAogICAgICAgIHZhciBwb3B1cF84NjdmYjkyMzBkOTI0MTM4YWIzOGMwNGRkOGY0MjlkOCA9IEwucG9wdXAoeyJtYXhXaWR0aCI6ICIxMDAlIn0pOwoKICAgICAgICAKICAgICAgICAgICAgdmFyIGh0bWxfZjg2MDhkNmJiNjI0NGY5OTllMzM0MTE4MDY2ZjE5YjggPSAkKGA8ZGl2IGlkPSJodG1sX2Y4NjA4ZDZiYjYyNDRmOTk5ZTMzNDExODA2NmYxOWI4IiBzdHlsZT0id2lkdGg6IDEwMC4wJTsgaGVpZ2h0OiAxMDAuMCU7Ij5Ja2lkYW5lIEhvdXNlIEFzYWt1c2EgSGF0YWdvPC9kaXY+YClbMF07CiAgICAgICAgICAgIHBvcHVwXzg2N2ZiOTIzMGQ5MjQxMzhhYjM4YzA0ZGQ4ZjQyOWQ4LnNldENvbnRlbnQoaHRtbF9mODYwOGQ2YmI2MjQ0Zjk5OWUzMzQxMTgwNjZmMTliOCk7CiAgICAgICAgCgogICAgICAgIGNpcmNsZV9tYXJrZXJfMTgyMzUzMjc0OTA0NGQ1ODkzNDY3N2Q5ZTZjYjE2ODEuYmluZFBvcHVwKHBvcHVwXzg2N2ZiOTIzMGQ5MjQxMzhhYjM4YzA0ZGQ4ZjQyOWQ4KQogICAgICAgIDsKCiAgICAgICAgCiAgICAKICAgIAogICAgICAgICAgICB2YXIgY2lyY2xlX21hcmtlcl8xMjZkZmRiYzkzMDY0NWM0YmVjMzBmMzczNTNkNmFjOSA9IEwuY2lyY2xlTWFya2VyKAogICAgICAgICAgICAgICAgWzM1LjY3MjMwNTksIDEzOS43NzI5MDU2OTk5OTk5N10sCiAgICAgICAgICAgICAgICB7ImJ1YmJsaW5nTW91c2VFdmVudHMiOiB0cnVlLCAiY29sb3IiOiAiIzMzY2MzMyIsICJkYXNoQXJyYXkiOiBudWxsLCAiZGFzaE9mZnNldCI6IG51bGwsICJmaWxsIjogdHJ1ZSwgImZpbGxDb2xvciI6ICIjRkZGIiwgImZpbGxPcGFjaXR5IjogMC43NSwgImZpbGxSdWxlIjogImV2ZW5vZGQiLCAibGluZUNhcCI6ICJyb3VuZCIsICJsaW5lSm9pbiI6ICJyb3VuZCIsICJvcGFjaXR5IjogMS4wLCAicmFkaXVzIjogMywgInN0cm9rZSI6IHRydWUsICJ3ZWlnaHQiOiAzfQogICAgICAgICAgICApLmFkZFRvKG1hcF8zYjUzZmQ4ODM3MDQ0NGFjOWJiYmRmNjIyYWFjNGUyZSk7CiAgICAgICAgCiAgICAKICAgICAgICB2YXIgcG9wdXBfMzJjNWRlMzVjNWQ5NDc2ZGIxM2JkYWVhNDE1OGQ1ZDMgPSBMLnBvcHVwKHsibWF4V2lkdGgiOiAiMTAwJSJ9KTsKCiAgICAgICAgCiAgICAgICAgICAgIHZhciBodG1sX2UyMzc0NDc1YmE4NTRmYjk5YTNkZjA3NjE1YTUzYTAxID0gJChgPGRpdiBpZD0iaHRtbF9lMjM3NDQ3NWJhODU0ZmI5OWEzZGYwNzYxNWE1M2EwMSIgc3R5bGU9IndpZHRoOiAxMDAuMCU7IGhlaWdodDogMTAwLjAlOyI+SW1hbm8gVG9reW8gR2luemEgSG9zdGVsPC9kaXY+YClbMF07CiAgICAgICAgICAgIHBvcHVwXzMyYzVkZTM1YzVkOTQ3NmRiMTNiZGFlYTQxNThkNWQzLnNldENvbnRlbnQoaHRtbF9lMjM3NDQ3NWJhODU0ZmI5OWEzZGYwNzYxNWE1M2EwMSk7CiAgICAgICAgCgogICAgICAgIGNpcmNsZV9tYXJrZXJfMTI2ZGZkYmM5MzA2NDVjNGJlYzMwZjM3MzUzZDZhYzkuYmluZFBvcHVwKHBvcHVwXzMyYzVkZTM1YzVkOTQ3NmRiMTNiZGFlYTQxNThkNWQzKQogICAgICAgIDsKCiAgICAgICAgCiAgICAKICAgIAogICAgICAgICAgICB2YXIgY2lyY2xlX21hcmtlcl9hNTgxMWIwM2EyNWY0YmMzOTlhOWM1OWYwMDU5ZTlkYiA9IEwuY2lyY2xlTWFya2VyKAogICAgICAgICAgICAgICAgWzM1LjY5MjY1Mzc5OTk5OTk5NSwgMTM5Ljc4MzY3NjddLAogICAgICAgICAgICAgICAgeyJidWJibGluZ01vdXNlRXZlbnRzIjogdHJ1ZSwgImNvbG9yIjogIiMzM2NjMzMiLCAiZGFzaEFycmF5IjogbnVsbCwgImRhc2hPZmZzZXQiOiBudWxsLCAiZmlsbCI6IHRydWUsICJmaWxsQ29sb3IiOiAiI0ZGRiIsICJmaWxsT3BhY2l0eSI6IDAuNzUsICJmaWxsUnVsZSI6ICJldmVub2RkIiwgImxpbmVDYXAiOiAicm91bmQiLCAibGluZUpvaW4iOiAicm91bmQiLCAib3BhY2l0eSI6IDEuMCwgInJhZGl1cyI6IDMsICJzdHJva2UiOiB0cnVlLCAid2VpZ2h0IjogM30KICAgICAgICAgICAgKS5hZGRUbyhtYXBfM2I1M2ZkODgzNzA0NDRhYzliYmJkZjYyMmFhYzRlMmUpOwogICAgICAgIAogICAgCiAgICAgICAgdmFyIHBvcHVwXzE4OGI2MTViN2Q5ZDQyMjNiYjYwZGZjYzI4MTc1YzY0ID0gTC5wb3B1cCh7Im1heFdpZHRoIjogIjEwMCUifSk7CgogICAgICAgIAogICAgICAgICAgICB2YXIgaHRtbF85Y2I3MTIzYjgyNmY0OTllYmY0MWIxMTBmYzVkMTY4MCA9ICQoYDxkaXYgaWQ9Imh0bWxfOWNiNzEyM2I4MjZmNDk5ZWJmNDFiMTEwZmM1ZDE2ODAiIHN0eWxlPSJ3aWR0aDogMTAwLjAlOyBoZWlnaHQ6IDEwMC4wJTsiPklST1JJIE5paG9uYmFzaGkgSG9zdGVsIGFuZCBLaXRjaGVuPC9kaXY+YClbMF07CiAgICAgICAgICAgIHBvcHVwXzE4OGI2MTViN2Q5ZDQyMjNiYjYwZGZjYzI4MTc1YzY0LnNldENvbnRlbnQoaHRtbF85Y2I3MTIzYjgyNmY0OTllYmY0MWIxMTBmYzVkMTY4MCk7CiAgICAgICAgCgogICAgICAgIGNpcmNsZV9tYXJrZXJfYTU4MTFiMDNhMjVmNGJjMzk5YTljNTlmMDA1OWU5ZGIuYmluZFBvcHVwKHBvcHVwXzE4OGI2MTViN2Q5ZDQyMjNiYjYwZGZjYzI4MTc1YzY0KQogICAgICAgIDsKCiAgICAgICAgCiAgICAKICAgIAogICAgICAgICAgICB2YXIgY2lyY2xlX21hcmtlcl8xOGEyM2QzZTgzODM0YzNhYTIxOTJiYjA1YmYxMDYzYiA9IEwuY2lyY2xlTWFya2VyKAogICAgICAgICAgICAgICAgWzM1LjcwNjcwOCwgMTM5Ljc5OTMwMl0sCiAgICAgICAgICAgICAgICB7ImJ1YmJsaW5nTW91c2VFdmVudHMiOiB0cnVlLCAiY29sb3IiOiAiIzMzY2MzMyIsICJkYXNoQXJyYXkiOiBudWxsLCAiZGFzaE9mZnNldCI6IG51bGwsICJmaWxsIjogdHJ1ZSwgImZpbGxDb2xvciI6ICIjRkZGIiwgImZpbGxPcGFjaXR5IjogMC43NSwgImZpbGxSdWxlIjogImV2ZW5vZGQiLCAibGluZUNhcCI6ICJyb3VuZCIsICJsaW5lSm9pbiI6ICJyb3VuZCIsICJvcGFjaXR5IjogMS4wLCAicmFkaXVzIjogMywgInN0cm9rZSI6IHRydWUsICJ3ZWlnaHQiOiAzfQogICAgICAgICAgICApLmFkZFRvKG1hcF8zYjUzZmQ4ODM3MDQ0NGFjOWJiYmRmNjIyYWFjNGUyZSk7CiAgICAgICAgCiAgICAKICAgICAgICB2YXIgcG9wdXBfMWZhOWQ3ZjRhMDdlNDFmYTk2MGJjZDU5N2M2OTI2OGUgPSBMLnBvcHVwKHsibWF4V2lkdGgiOiAiMTAwJSJ9KTsKCiAgICAgICAgCiAgICAgICAgICAgIHZhciBodG1sXzY1N2VkNzY5MjcwNjRmOWFhNzk0M2YyNzZiZWI5YTE4ID0gJChgPGRpdiBpZD0iaHRtbF82NTdlZDc2OTI3MDY0ZjlhYTc5NDNmMjc2YmViOWExOCIgc3R5bGU9IndpZHRoOiAxMDAuMCU7IGhlaWdodDogMTAwLjAlOyI+SXphIFRva3lvIEFzYWt1c2EgR3Vlc3Rob3VzZTwvZGl2PmApWzBdOwogICAgICAgICAgICBwb3B1cF8xZmE5ZDdmNGEwN2U0MWZhOTYwYmNkNTk3YzY5MjY4ZS5zZXRDb250ZW50KGh0bWxfNjU3ZWQ3NjkyNzA2NGY5YWE3OTQzZjI3NmJlYjlhMTgpOwogICAgICAgIAoKICAgICAgICBjaXJjbGVfbWFya2VyXzE4YTIzZDNlODM4MzRjM2FhMjE5MmJiMDViZjEwNjNiLmJpbmRQb3B1cChwb3B1cF8xZmE5ZDdmNGEwN2U0MWZhOTYwYmNkNTk3YzY5MjY4ZSkKICAgICAgICA7CgogICAgICAgIAogICAgCiAgICAKICAgICAgICAgICAgdmFyIGNpcmNsZV9tYXJrZXJfNTIxYjBiNmZkM2ViNGE1MTliMjhlMjFlZDQ3NGU3MmQgPSBMLmNpcmNsZU1hcmtlcigKICAgICAgICAgICAgICAgIFszNS43NDUwNDQsIDEzOS44NjIzODA5XSwKICAgICAgICAgICAgICAgIHsiYnViYmxpbmdNb3VzZUV2ZW50cyI6IHRydWUsICJjb2xvciI6ICIjMzNjYzMzIiwgImRhc2hBcnJheSI6IG51bGwsICJkYXNoT2Zmc2V0IjogbnVsbCwgImZpbGwiOiB0cnVlLCAiZmlsbENvbG9yIjogIiNGRkYiLCAiZmlsbE9wYWNpdHkiOiAwLjc1LCAiZmlsbFJ1bGUiOiAiZXZlbm9kZCIsICJsaW5lQ2FwIjogInJvdW5kIiwgImxpbmVKb2luIjogInJvdW5kIiwgIm9wYWNpdHkiOiAxLjAsICJyYWRpdXMiOiAzLCAic3Ryb2tlIjogdHJ1ZSwgIndlaWdodCI6IDN9CiAgICAgICAgICAgICkuYWRkVG8obWFwXzNiNTNmZDg4MzcwNDQ0YWM5YmJiZGY2MjJhYWM0ZTJlKTsKICAgICAgICAKICAgIAogICAgICAgIHZhciBwb3B1cF8wMWU4YmU2ODEwNzQ0MzFhYTg1Y2Y1NTQ5ODg2OWUwZCA9IEwucG9wdXAoeyJtYXhXaWR0aCI6ICIxMDAlIn0pOwoKICAgICAgICAKICAgICAgICAgICAgdmFyIGh0bWxfMjQ4Y2JiNTgyZDg4NDFiNDlkNmZjNTFkZjE2M2MyMzUgPSAkKGA8ZGl2IGlkPSJodG1sXzI0OGNiYjU4MmQ4ODQxYjQ5ZDZmYzUxZGYxNjNjMjM1IiBzdHlsZT0id2lkdGg6IDEwMC4wJTsgaGVpZ2h0OiAxMDAuMCU7Ij5KJiMzOTtzIEJhY2twYWNrZXJzPC9kaXY+YClbMF07CiAgICAgICAgICAgIHBvcHVwXzAxZThiZTY4MTA3NDQzMWFhODVjZjU1NDk4ODY5ZTBkLnNldENvbnRlbnQoaHRtbF8yNDhjYmI1ODJkODg0MWI0OWQ2ZmM1MWRmMTYzYzIzNSk7CiAgICAgICAgCgogICAgICAgIGNpcmNsZV9tYXJrZXJfNTIxYjBiNmZkM2ViNGE1MTliMjhlMjFlZDQ3NGU3MmQuYmluZFBvcHVwKHBvcHVwXzAxZThiZTY4MTA3NDQzMWFhODVjZjU1NDk4ODY5ZTBkKQogICAgICAgIDsKCiAgICAgICAgCiAgICAKICAgIAogICAgICAgICAgICB2YXIgY2lyY2xlX21hcmtlcl8zOWY2ZGRjYmE0ZDA0ODVmOTFlMzBlYzlmOWE5YTc5NSA9IEwuY2lyY2xlTWFya2VyKAogICAgICAgICAgICAgICAgWzM1LjY5NDk1OTAwMDAwMDAwNCwgMTM5Ljc1NjQ1NTAwMDAwMDAyXSwKICAgICAgICAgICAgICAgIHsiYnViYmxpbmdNb3VzZUV2ZW50cyI6IHRydWUsICJjb2xvciI6ICIjMzNjYzMzIiwgImRhc2hBcnJheSI6IG51bGwsICJkYXNoT2Zmc2V0IjogbnVsbCwgImZpbGwiOiB0cnVlLCAiZmlsbENvbG9yIjogIiNGRkYiLCAiZmlsbE9wYWNpdHkiOiAwLjc1LCAiZmlsbFJ1bGUiOiAiZXZlbm9kZCIsICJsaW5lQ2FwIjogInJvdW5kIiwgImxpbmVKb2luIjogInJvdW5kIiwgIm9wYWNpdHkiOiAxLjAsICJyYWRpdXMiOiAzLCAic3Ryb2tlIjogdHJ1ZSwgIndlaWdodCI6IDN9CiAgICAgICAgICAgICkuYWRkVG8obWFwXzNiNTNmZDg4MzcwNDQ0YWM5YmJiZGY2MjJhYWM0ZTJlKTsKICAgICAgICAKICAgIAogICAgICAgIHZhciBwb3B1cF9kZjJkY2Q5MWE3NmU0NWM5YmRmMjQzMDU2MmFhNzZkOSA9IEwucG9wdXAoeyJtYXhXaWR0aCI6ICIxMDAlIn0pOwoKICAgICAgICAKICAgICAgICAgICAgdmFyIGh0bWxfMmFlM2I0NmMxZGZiNGE5NGJlMWJlY2M2MTBjODJmM2EgPSAkKGA8ZGl2IGlkPSJodG1sXzJhZTNiNDZjMWRmYjRhOTRiZTFiZWNjNjEwYzgyZjNhIiBzdHlsZT0id2lkdGg6IDEwMC4wJTsgaGVpZ2h0OiAxMDAuMCU7Ij5KaW1ib2NobyBTYWt1cmEgSG90ZWw8L2Rpdj5gKVswXTsKICAgICAgICAgICAgcG9wdXBfZGYyZGNkOTFhNzZlNDVjOWJkZjI0MzA1NjJhYTc2ZDkuc2V0Q29udGVudChodG1sXzJhZTNiNDZjMWRmYjRhOTRiZTFiZWNjNjEwYzgyZjNhKTsKICAgICAgICAKCiAgICAgICAgY2lyY2xlX21hcmtlcl8zOWY2ZGRjYmE0ZDA0ODVmOTFlMzBlYzlmOWE5YTc5NS5iaW5kUG9wdXAocG9wdXBfZGYyZGNkOTFhNzZlNDVjOWJkZjI0MzA1NjJhYTc2ZDkpCiAgICAgICAgOwoKICAgICAgICAKICAgIAogICAgCiAgICAgICAgICAgIHZhciBjaXJjbGVfbWFya2VyXzBiYWM1NDRiZmMyNzQwZWNhN2ZmZTUxMjU0OGU0ZjliID0gTC5jaXJjbGVNYXJrZXIoCiAgICAgICAgICAgICAgICBbMzUuNjY5OTE2LCAxMzkuNzM0NTM3MDAwMDAwMDJdLAogICAgICAgICAgICAgICAgeyJidWJibGluZ01vdXNlRXZlbnRzIjogdHJ1ZSwgImNvbG9yIjogIiMzM2NjMzMiLCAiZGFzaEFycmF5IjogbnVsbCwgImRhc2hPZmZzZXQiOiBudWxsLCAiZmlsbCI6IHRydWUsICJmaWxsQ29sb3IiOiAiI0ZGRiIsICJmaWxsT3BhY2l0eSI6IDAuNzUsICJmaWxsUnVsZSI6ICJldmVub2RkIiwgImxpbmVDYXAiOiAicm91bmQiLCAibGluZUpvaW4iOiAicm91bmQiLCAib3BhY2l0eSI6IDEuMCwgInJhZGl1cyI6IDMsICJzdHJva2UiOiB0cnVlLCAid2VpZ2h0IjogM30KICAgICAgICAgICAgKS5hZGRUbyhtYXBfM2I1M2ZkODgzNzA0NDRhYzliYmJkZjYyMmFhYzRlMmUpOwogICAgICAgIAogICAgCiAgICAgICAgdmFyIHBvcHVwXzcxMjg4MjM4MTlmODQ2YmE4N2ZjYTc4MzE4YzNlMGYwID0gTC5wb3B1cCh7Im1heFdpZHRoIjogIjEwMCUifSk7CgogICAgICAgIAogICAgICAgICAgICB2YXIgaHRtbF8zNGZkOGJlZmVhODQ0MDhkOWM2MjYxNDY1MjRlOWY4NCA9ICQoYDxkaXYgaWQ9Imh0bWxfMzRmZDhiZWZlYTg0NDA4ZDljNjI2MTQ2NTI0ZTlmODQiIHN0eWxlPSJ3aWR0aDogMTAwLjAlOyBoZWlnaHQ6IDEwMC4wJTsiPkthaXN1IEhvc3RlbDwvZGl2PmApWzBdOwogICAgICAgICAgICBwb3B1cF83MTI4ODIzODE5Zjg0NmJhODdmY2E3ODMxOGMzZTBmMC5zZXRDb250ZW50KGh0bWxfMzRmZDhiZWZlYTg0NDA4ZDljNjI2MTQ2NTI0ZTlmODQpOwogICAgICAgIAoKICAgICAgICBjaXJjbGVfbWFya2VyXzBiYWM1NDRiZmMyNzQwZWNhN2ZmZTUxMjU0OGU0ZjliLmJpbmRQb3B1cChwb3B1cF83MTI4ODIzODE5Zjg0NmJhODdmY2E3ODMxOGMzZTBmMCkKICAgICAgICA7CgogICAgICAgIAogICAgCiAgICAKICAgICAgICAgICAgdmFyIGNpcmNsZV9tYXJrZXJfMjdlNGQyMjI1ODM2NDUxYWIxMDY1YzQzZThkNzAyYTUgPSBMLmNpcmNsZU1hcmtlcigKICAgICAgICAgICAgICAgIFszNS43MTE0MzYsIDEzOS43OTUyNTFdLAogICAgICAgICAgICAgICAgeyJidWJibGluZ01vdXNlRXZlbnRzIjogdHJ1ZSwgImNvbG9yIjogIiMzM2NjMzMiLCAiZGFzaEFycmF5IjogbnVsbCwgImRhc2hPZmZzZXQiOiBudWxsLCAiZmlsbCI6IHRydWUsICJmaWxsQ29sb3IiOiAiI0ZGRiIsICJmaWxsT3BhY2l0eSI6IDAuNzUsICJmaWxsUnVsZSI6ICJldmVub2RkIiwgImxpbmVDYXAiOiAicm91bmQiLCAibGluZUpvaW4iOiAicm91bmQiLCAib3BhY2l0eSI6IDEuMCwgInJhZGl1cyI6IDMsICJzdHJva2UiOiB0cnVlLCAid2VpZ2h0IjogM30KICAgICAgICAgICAgKS5hZGRUbyhtYXBfM2I1M2ZkODgzNzA0NDRhYzliYmJkZjYyMmFhYzRlMmUpOwogICAgICAgIAogICAgCiAgICAgICAgdmFyIHBvcHVwXzRkMjUyYmEzODgwYTQyNGViMGMxYWMyY2I0MmE0ODVlID0gTC5wb3B1cCh7Im1heFdpZHRoIjogIjEwMCUifSk7CgogICAgICAgIAogICAgICAgICAgICB2YXIgaHRtbF8xYzlhNGFkNzMyODU0NWNlYjFiMzUyMWE2Yjc1ODFhOCA9ICQoYDxkaXYgaWQ9Imh0bWxfMWM5YTRhZDczMjg1NDVjZWIxYjM1MjFhNmI3NTgxYTgiIHN0eWxlPSJ3aWR0aDogMTAwLjAlOyBoZWlnaHQ6IDEwMC4wJTsiPktoYW9zYW4gVG9reW8gS2FidWtpPC9kaXY+YClbMF07CiAgICAgICAgICAgIHBvcHVwXzRkMjUyYmEzODgwYTQyNGViMGMxYWMyY2I0MmE0ODVlLnNldENvbnRlbnQoaHRtbF8xYzlhNGFkNzMyODU0NWNlYjFiMzUyMWE2Yjc1ODFhOCk7CiAgICAgICAgCgogICAgICAgIGNpcmNsZV9tYXJrZXJfMjdlNGQyMjI1ODM2NDUxYWIxMDY1YzQzZThkNzAyYTUuYmluZFBvcHVwKHBvcHVwXzRkMjUyYmEzODgwYTQyNGViMGMxYWMyY2I0MmE0ODVlKQogICAgICAgIDsKCiAgICAgICAgCiAgICAKICAgIAogICAgICAgICAgICB2YXIgY2lyY2xlX21hcmtlcl8wOGJhOWEzZjllZTY0MzAwOTVlNzczMTUxNDc2N2VhOSA9IEwuY2lyY2xlTWFya2VyKAogICAgICAgICAgICAgICAgWzM1LjcxMTg2MSwgMTM5Ljc5MTMyOF0sCiAgICAgICAgICAgICAgICB7ImJ1YmJsaW5nTW91c2VFdmVudHMiOiB0cnVlLCAiY29sb3IiOiAiIzMzY2MzMyIsICJkYXNoQXJyYXkiOiBudWxsLCAiZGFzaE9mZnNldCI6IG51bGwsICJmaWxsIjogdHJ1ZSwgImZpbGxDb2xvciI6ICIjRkZGIiwgImZpbGxPcGFjaXR5IjogMC43NSwgImZpbGxSdWxlIjogImV2ZW5vZGQiLCAibGluZUNhcCI6ICJyb3VuZCIsICJsaW5lSm9pbiI6ICJyb3VuZCIsICJvcGFjaXR5IjogMS4wLCAicmFkaXVzIjogMywgInN0cm9rZSI6IHRydWUsICJ3ZWlnaHQiOiAzfQogICAgICAgICAgICApLmFkZFRvKG1hcF8zYjUzZmQ4ODM3MDQ0NGFjOWJiYmRmNjIyYWFjNGUyZSk7CiAgICAgICAgCiAgICAKICAgICAgICB2YXIgcG9wdXBfNDEwYjRhZjYyNTYxNGJjNjg3YjFhZDQ5OGU1YmJhYjEgPSBMLnBvcHVwKHsibWF4V2lkdGgiOiAiMTAwJSJ9KTsKCiAgICAgICAgCiAgICAgICAgICAgIHZhciBodG1sXzBmNzdmYmYzZTg5NjQ4NDc4ZjQxYjdkMjdlMmRkMzk5ID0gJChgPGRpdiBpZD0iaHRtbF8wZjc3ZmJmM2U4OTY0ODQ3OGY0MWI3ZDI3ZTJkZDM5OSIgc3R5bGU9IndpZHRoOiAxMDAuMCU7IGhlaWdodDogMTAwLjAlOyI+S2hhb3NhbiBUb2t5byBMYWJvcmF0b3J5PC9kaXY+YClbMF07CiAgICAgICAgICAgIHBvcHVwXzQxMGI0YWY2MjU2MTRiYzY4N2IxYWQ0OThlNWJiYWIxLnNldENvbnRlbnQoaHRtbF8wZjc3ZmJmM2U4OTY0ODQ3OGY0MWI3ZDI3ZTJkZDM5OSk7CiAgICAgICAgCgogICAgICAgIGNpcmNsZV9tYXJrZXJfMDhiYTlhM2Y5ZWU2NDMwMDk1ZTc3MzE1MTQ3NjdlYTkuYmluZFBvcHVwKHBvcHVwXzQxMGI0YWY2MjU2MTRiYzY4N2IxYWQ0OThlNWJiYWIxKQogICAgICAgIDsKCiAgICAgICAgCiAgICAKICAgIAogICAgICAgICAgICB2YXIgY2lyY2xlX21hcmtlcl82YzRjNGMwOTc2NWI0NWZmYTBjYTVlOTZmZjBmNGJmNSA9IEwuY2lyY2xlTWFya2VyKAogICAgICAgICAgICAgICAgWzM1LjcxNjM0LCAxMzkuNzk3MzgxXSwKICAgICAgICAgICAgICAgIHsiYnViYmxpbmdNb3VzZUV2ZW50cyI6IHRydWUsICJjb2xvciI6ICIjMzNjYzMzIiwgImRhc2hBcnJheSI6IG51bGwsICJkYXNoT2Zmc2V0IjogbnVsbCwgImZpbGwiOiB0cnVlLCAiZmlsbENvbG9yIjogIiNGRkYiLCAiZmlsbE9wYWNpdHkiOiAwLjc1LCAiZmlsbFJ1bGUiOiAiZXZlbm9kZCIsICJsaW5lQ2FwIjogInJvdW5kIiwgImxpbmVKb2luIjogInJvdW5kIiwgIm9wYWNpdHkiOiAxLjAsICJyYWRpdXMiOiAzLCAic3Ryb2tlIjogdHJ1ZSwgIndlaWdodCI6IDN9CiAgICAgICAgICAgICkuYWRkVG8obWFwXzNiNTNmZDg4MzcwNDQ0YWM5YmJiZGY2MjJhYWM0ZTJlKTsKICAgICAgICAKICAgIAogICAgICAgIHZhciBwb3B1cF84MGVmNmY3OWVkYmY0ZThhYjNmNjRhNjk0M2Q0ZWEzYSA9IEwucG9wdXAoeyJtYXhXaWR0aCI6ICIxMDAlIn0pOwoKICAgICAgICAKICAgICAgICAgICAgdmFyIGh0bWxfOGFhYWI2YjEwNDE4NGVkZGFhNWY4NTBkOWMxYzMyZTAgPSAkKGA8ZGl2IGlkPSJodG1sXzhhYWFiNmIxMDQxODRlZGRhYTVmODUwZDljMWMzMmUwIiBzdHlsZT0id2lkdGg6IDEwMC4wJTsgaGVpZ2h0OiAxMDAuMCU7Ij5LaGFvc2FuIFRva3lvIE9yaWdhbWk8L2Rpdj5gKVswXTsKICAgICAgICAgICAgcG9wdXBfODBlZjZmNzllZGJmNGU4YWIzZjY0YTY5NDNkNGVhM2Euc2V0Q29udGVudChodG1sXzhhYWFiNmIxMDQxODRlZGRhYTVmODUwZDljMWMzMmUwKTsKICAgICAgICAKCiAgICAgICAgY2lyY2xlX21hcmtlcl82YzRjNGMwOTc2NWI0NWZmYTBjYTVlOTZmZjBmNGJmNS5iaW5kUG9wdXAocG9wdXBfODBlZjZmNzllZGJmNGU4YWIzZjY0YTY5NDNkNGVhM2EpCiAgICAgICAgOwoKICAgICAgICAKICAgIAogICAgCiAgICAgICAgICAgIHZhciBjaXJjbGVfbWFya2VyX2JmY2EwZjMyNTU3MTRiMTdiNjU2MmY5OWJlZjdhYjNkID0gTC5jaXJjbGVNYXJrZXIoCiAgICAgICAgICAgICAgICBbMzUuNzE0ODg3LCAxMzkuNzkyMzI1XSwKICAgICAgICAgICAgICAgIHsiYnViYmxpbmdNb3VzZUV2ZW50cyI6IHRydWUsICJjb2xvciI6ICIjMzNjYzMzIiwgImRhc2hBcnJheSI6IG51bGwsICJkYXNoT2Zmc2V0IjogbnVsbCwgImZpbGwiOiB0cnVlLCAiZmlsbENvbG9yIjogIiNGRkYiLCAiZmlsbE9wYWNpdHkiOiAwLjc1LCAiZmlsbFJ1bGUiOiAiZXZlbm9kZCIsICJsaW5lQ2FwIjogInJvdW5kIiwgImxpbmVKb2luIjogInJvdW5kIiwgIm9wYWNpdHkiOiAxLjAsICJyYWRpdXMiOiAzLCAic3Ryb2tlIjogdHJ1ZSwgIndlaWdodCI6IDN9CiAgICAgICAgICAgICkuYWRkVG8obWFwXzNiNTNmZDg4MzcwNDQ0YWM5YmJiZGY2MjJhYWM0ZTJlKTsKICAgICAgICAKICAgIAogICAgICAgIHZhciBwb3B1cF8xMjQ3OTllNmU4MTk0NTNkODk3Yzk5MGJkMmNmOTQ0MyA9IEwucG9wdXAoeyJtYXhXaWR0aCI6ICIxMDAlIn0pOwoKICAgICAgICAKICAgICAgICAgICAgdmFyIGh0bWxfM2QwODAzYWM1YjA4NDc2YWJiYmY3YTkxZWNhZTZkZjQgPSAkKGA8ZGl2IGlkPSJodG1sXzNkMDgwM2FjNWIwODQ3NmFiYmJmN2E5MWVjYWU2ZGY0IiBzdHlsZT0id2lkdGg6IDEwMC4wJTsgaGVpZ2h0OiAxMDAuMCU7Ij5LaGFvc2FuIFRva3lvIFNhbXVyYWk8L2Rpdj5gKVswXTsKICAgICAgICAgICAgcG9wdXBfMTI0Nzk5ZTZlODE5NDUzZDg5N2M5OTBiZDJjZjk0NDMuc2V0Q29udGVudChodG1sXzNkMDgwM2FjNWIwODQ3NmFiYmJmN2E5MWVjYWU2ZGY0KTsKICAgICAgICAKCiAgICAgICAgY2lyY2xlX21hcmtlcl9iZmNhMGYzMjU1NzE0YjE3YjY1NjJmOTliZWY3YWIzZC5iaW5kUG9wdXAocG9wdXBfMTI0Nzk5ZTZlODE5NDUzZDg5N2M5OTBiZDJjZjk0NDMpCiAgICAgICAgOwoKICAgICAgICAKICAgIAogICAgCiAgICAgICAgICAgIHZhciBjaXJjbGVfbWFya2VyX2RhMTQ3OTlmZThkOTRiNDk4OWJlYWJlYjdkNTM2MDFkID0gTC5jaXJjbGVNYXJrZXIoCiAgICAgICAgICAgICAgICBbMzUuNzE0NTk1LCAxMzkuNzkxNzcwOTk5OTk5OThdLAogICAgICAgICAgICAgICAgeyJidWJibGluZ01vdXNlRXZlbnRzIjogdHJ1ZSwgImNvbG9yIjogIiMzM2NjMzMiLCAiZGFzaEFycmF5IjogbnVsbCwgImRhc2hPZmZzZXQiOiBudWxsLCAiZmlsbCI6IHRydWUsICJmaWxsQ29sb3IiOiAiI0ZGRiIsICJmaWxsT3BhY2l0eSI6IDAuNzUsICJmaWxsUnVsZSI6ICJldmVub2RkIiwgImxpbmVDYXAiOiAicm91bmQiLCAibGluZUpvaW4iOiAicm91bmQiLCAib3BhY2l0eSI6IDEuMCwgInJhZGl1cyI6IDMsICJzdHJva2UiOiB0cnVlLCAid2VpZ2h0IjogM30KICAgICAgICAgICAgKS5hZGRUbyhtYXBfM2I1M2ZkODgzNzA0NDRhYzliYmJkZjYyMmFhYzRlMmUpOwogICAgICAgIAogICAgCiAgICAgICAgdmFyIHBvcHVwXzZmYjBiOTE1ZmMyNTQzMjRiN2Q1OGQxZTY3NTlmMWE0ID0gTC5wb3B1cCh7Im1heFdpZHRoIjogIjEwMCUifSk7CgogICAgICAgIAogICAgICAgICAgICB2YXIgaHRtbF82YzQ5MThkMmEzNTM0NjE2YmQ1NGU4OWRkODg1M2FmOSA9ICQoYDxkaXYgaWQ9Imh0bWxfNmM0OTE4ZDJhMzUzNDYxNmJkNTRlODlkZDg4NTNhZjkiIHN0eWxlPSJ3aWR0aDogMTAwLjAlOyBoZWlnaHQ6IDEwMC4wJTsiPktoYW9zYW4gV29ybGQgQXNha3VzYSBSWU9LQU4gJmFtcDsgSE9TVEVMPC9kaXY+YClbMF07CiAgICAgICAgICAgIHBvcHVwXzZmYjBiOTE1ZmMyNTQzMjRiN2Q1OGQxZTY3NTlmMWE0LnNldENvbnRlbnQoaHRtbF82YzQ5MThkMmEzNTM0NjE2YmQ1NGU4OWRkODg1M2FmOSk7CiAgICAgICAgCgogICAgICAgIGNpcmNsZV9tYXJrZXJfZGExNDc5OWZlOGQ5NGI0OTg5YmVhYmViN2Q1MzYwMWQuYmluZFBvcHVwKHBvcHVwXzZmYjBiOTE1ZmMyNTQzMjRiN2Q1OGQxZTY3NTlmMWE0KQogICAgICAgIDsKCiAgICAgICAgCiAgICAKICAgIAogICAgICAgICAgICB2YXIgY2lyY2xlX21hcmtlcl8zNDM2ZDEwOTIwM2U0NGE1YjQ3NTdhZmNlZjRkYWM5NyA9IEwuY2lyY2xlTWFya2VyKAogICAgICAgICAgICAgICAgWzM1LjY5NDMyNTg5OTk5OTk5NSwgMTM5Ljc5Njc2MTddLAogICAgICAgICAgICAgICAgeyJidWJibGluZ01vdXNlRXZlbnRzIjogdHJ1ZSwgImNvbG9yIjogIiMzM2NjMzMiLCAiZGFzaEFycmF5IjogbnVsbCwgImRhc2hPZmZzZXQiOiBudWxsLCAiZmlsbCI6IHRydWUsICJmaWxsQ29sb3IiOiAiI0ZGRiIsICJmaWxsT3BhY2l0eSI6IDAuNzUsICJmaWxsUnVsZSI6ICJldmVub2RkIiwgImxpbmVDYXAiOiAicm91bmQiLCAibGluZUpvaW4iOiAicm91bmQiLCAib3BhY2l0eSI6IDEuMCwgInJhZGl1cyI6IDMsICJzdHJva2UiOiB0cnVlLCAid2VpZ2h0IjogM30KICAgICAgICAgICAgKS5hZGRUbyhtYXBfM2I1M2ZkODgzNzA0NDRhYzliYmJkZjYyMmFhYzRlMmUpOwogICAgICAgIAogICAgCiAgICAgICAgdmFyIHBvcHVwXzAzZGQyNzk0YzdkMTQ5OGFhZDIxYzEwZDQ0Y2RkNzk0ID0gTC5wb3B1cCh7Im1heFdpZHRoIjogIjEwMCUifSk7CgogICAgICAgIAogICAgICAgICAgICB2YXIgaHRtbF82MWRkNjQxODYwNTk0N2M4OThmODZkNzVhNmFlZjMyMiA9ICQoYDxkaXYgaWQ9Imh0bWxfNjFkZDY0MTg2MDU5NDdjODk4Zjg2ZDc1YTZhZWYzMjIiIHN0eWxlPSJ3aWR0aDogMTAwLjAlOyBoZWlnaHQ6IDEwMC4wJTsiPktoYW9zYW4gV29ybGQgUnlvZ29rdSBIb3N0ZWw8L2Rpdj5gKVswXTsKICAgICAgICAgICAgcG9wdXBfMDNkZDI3OTRjN2QxNDk4YWFkMjFjMTBkNDRjZGQ3OTQuc2V0Q29udGVudChodG1sXzYxZGQ2NDE4NjA1OTQ3Yzg5OGY4NmQ3NWE2YWVmMzIyKTsKICAgICAgICAKCiAgICAgICAgY2lyY2xlX21hcmtlcl8zNDM2ZDEwOTIwM2U0NGE1YjQ3NTdhZmNlZjRkYWM5Ny5iaW5kUG9wdXAocG9wdXBfMDNkZDI3OTRjN2QxNDk4YWFkMjFjMTBkNDRjZGQ3OTQpCiAgICAgICAgOwoKICAgICAgICAKICAgIAogICAgCiAgICAgICAgICAgIHZhciBjaXJjbGVfbWFya2VyXzdkMjE3ZjlmNTQ3OTQ3NDM5ZGE4Zjc2MTQzMjkwMGQ4ID0gTC5jaXJjbGVNYXJrZXIoCiAgICAgICAgICAgICAgICBbMzUuNjgxMjE3MiwgMTM5Ljc5MjA2NTgwMDAwMDAyXSwKICAgICAgICAgICAgICAgIHsiYnViYmxpbmdNb3VzZUV2ZW50cyI6IHRydWUsICJjb2xvciI6ICIjMzNjYzMzIiwgImRhc2hBcnJheSI6IG51bGwsICJkYXNoT2Zmc2V0IjogbnVsbCwgImZpbGwiOiB0cnVlLCAiZmlsbENvbG9yIjogIiNGRkYiLCAiZmlsbE9wYWNpdHkiOiAwLjc1LCAiZmlsbFJ1bGUiOiAiZXZlbm9kZCIsICJsaW5lQ2FwIjogInJvdW5kIiwgImxpbmVKb2luIjogInJvdW5kIiwgIm9wYWNpdHkiOiAxLjAsICJyYWRpdXMiOiAzLCAic3Ryb2tlIjogdHJ1ZSwgIndlaWdodCI6IDN9CiAgICAgICAgICAgICkuYWRkVG8obWFwXzNiNTNmZDg4MzcwNDQ0YWM5YmJiZGY2MjJhYWM0ZTJlKTsKICAgICAgICAKICAgIAogICAgICAgIHZhciBwb3B1cF8wZTczYWQwOGFlYWI0YWNjOWE0MzZiOGY3ODNiNmFiNyA9IEwucG9wdXAoeyJtYXhXaWR0aCI6ICIxMDAlIn0pOwoKICAgICAgICAKICAgICAgICAgICAgdmFyIGh0bWxfY2JiZmJlYTc3NmY1NGVjMzhmODk4NGI2OWUzMDg3MGYgPSAkKGA8ZGl2IGlkPSJodG1sX2NiYmZiZWE3NzZmNTRlYzM4Zjg5ODRiNjllMzA4NzBmIiBzdHlsZT0id2lkdGg6IDEwMC4wJTsgaGVpZ2h0OiAxMDAuMCU7Ij5MeXVybyBUb2t5byBLaXlvc3VtaSAtVGhlIFNoYXJlIEhvdGVscy08L2Rpdj5gKVswXTsKICAgICAgICAgICAgcG9wdXBfMGU3M2FkMDhhZWFiNGFjYzlhNDM2YjhmNzgzYjZhYjcuc2V0Q29udGVudChodG1sX2NiYmZiZWE3NzZmNTRlYzM4Zjg5ODRiNjllMzA4NzBmKTsKICAgICAgICAKCiAgICAgICAgY2lyY2xlX21hcmtlcl83ZDIxN2Y5ZjU0Nzk0NzQzOWRhOGY3NjE0MzI5MDBkOC5iaW5kUG9wdXAocG9wdXBfMGU3M2FkMDhhZWFiNGFjYzlhNDM2YjhmNzgzYjZhYjcpCiAgICAgICAgOwoKICAgICAgICAKICAgIAogICAgCiAgICAgICAgICAgIHZhciBjaXJjbGVfbWFya2VyXzUzMGEwYWM5MDJhODRkYmJhYTA1YWJhY2QyNGViNjRhID0gTC5jaXJjbGVNYXJrZXIoCiAgICAgICAgICAgICAgICBbMzUuNzAzNzg1NzAwMDAwMDA1LCAxMzkuNzkyMDAzM10sCiAgICAgICAgICAgICAgICB7ImJ1YmJsaW5nTW91c2VFdmVudHMiOiB0cnVlLCAiY29sb3IiOiAiIzMzY2MzMyIsICJkYXNoQXJyYXkiOiBudWxsLCAiZGFzaE9mZnNldCI6IG51bGwsICJmaWxsIjogdHJ1ZSwgImZpbGxDb2xvciI6ICIjRkZGIiwgImZpbGxPcGFjaXR5IjogMC43NSwgImZpbGxSdWxlIjogImV2ZW5vZGQiLCAibGluZUNhcCI6ICJyb3VuZCIsICJsaW5lSm9pbiI6ICJyb3VuZCIsICJvcGFjaXR5IjogMS4wLCAicmFkaXVzIjogMywgInN0cm9rZSI6IHRydWUsICJ3ZWlnaHQiOiAzfQogICAgICAgICAgICApLmFkZFRvKG1hcF8zYjUzZmQ4ODM3MDQ0NGFjOWJiYmRmNjIyYWFjNGUyZSk7CiAgICAgICAgCiAgICAKICAgICAgICB2YXIgcG9wdXBfZGFkN2FhNjIxZjFhNDRmZWEzYjljYzNhOTNlYTJmYjIgPSBMLnBvcHVwKHsibWF4V2lkdGgiOiAiMTAwJSJ9KTsKCiAgICAgICAgCiAgICAgICAgICAgIHZhciBodG1sXzdhMTMyNDE5ZDU5NDQ2MjA5MjMzOWVlMDBlYTIxNjRjID0gJChgPGRpdiBpZD0iaHRtbF83YTEzMjQxOWQ1OTQ0NjIwOTIzMzllZTAwZWEyMTY0YyIgc3R5bGU9IndpZHRoOiAxMDAuMCU7IGhlaWdodDogMTAwLjAlOyI+TXlDVUJFIGJ5IE1ZU1RBWVMgQXNha3VzYS1LdXJhbWFlPC9kaXY+YClbMF07CiAgICAgICAgICAgIHBvcHVwX2RhZDdhYTYyMWYxYTQ0ZmVhM2I5Y2MzYTkzZWEyZmIyLnNldENvbnRlbnQoaHRtbF83YTEzMjQxOWQ1OTQ0NjIwOTIzMzllZTAwZWEyMTY0Yyk7CiAgICAgICAgCgogICAgICAgIGNpcmNsZV9tYXJrZXJfNTMwYTBhYzkwMmE4NGRiYmFhMDVhYmFjZDI0ZWI2NGEuYmluZFBvcHVwKHBvcHVwX2RhZDdhYTYyMWYxYTQ0ZmVhM2I5Y2MzYTkzZWEyZmIyKQogICAgICAgIDsKCiAgICAgICAgCiAgICAKICAgIAogICAgICAgICAgICB2YXIgY2lyY2xlX21hcmtlcl80YmZkNDg4OTEzNjk0Zjg1OGVhOTAzYWVlNDkzNWRmZSA9IEwuY2lyY2xlTWFya2VyKAogICAgICAgICAgICAgICAgWzM1LjY1NTA5NzIsIDEzOS42OTI5ODc5OTk5OTk5OV0sCiAgICAgICAgICAgICAgICB7ImJ1YmJsaW5nTW91c2VFdmVudHMiOiB0cnVlLCAiY29sb3IiOiAiIzMzY2MzMyIsICJkYXNoQXJyYXkiOiBudWxsLCAiZGFzaE9mZnNldCI6IG51bGwsICJmaWxsIjogdHJ1ZSwgImZpbGxDb2xvciI6ICIjRkZGIiwgImZpbGxPcGFjaXR5IjogMC43NSwgImZpbGxSdWxlIjogImV2ZW5vZGQiLCAibGluZUNhcCI6ICJyb3VuZCIsICJsaW5lSm9pbiI6ICJyb3VuZCIsICJvcGFjaXR5IjogMS4wLCAicmFkaXVzIjogMywgInN0cm9rZSI6IHRydWUsICJ3ZWlnaHQiOiAzfQogICAgICAgICAgICApLmFkZFRvKG1hcF8zYjUzZmQ4ODM3MDQ0NGFjOWJiYmRmNjIyYWFjNGUyZSk7CiAgICAgICAgCiAgICAKICAgICAgICB2YXIgcG9wdXBfZWUyYzJkMmYxYzhmNDg4MGFlNzY2MzRlZjU3ODRiNjAgPSBMLnBvcHVwKHsibWF4V2lkdGgiOiAiMTAwJSJ9KTsKCiAgICAgICAgCiAgICAgICAgICAgIHZhciBodG1sXzAxNGEyNTllOTcwNjQzYTM4N2IzODEzNzU0MzhiMzRjID0gJChgPGRpdiBpZD0iaHRtbF8wMTRhMjU5ZTk3MDY0M2EzODdiMzgxMzc1NDM4YjM0YyIgc3R5bGU9IndpZHRoOiAxMDAuMCU7IGhlaWdodDogMTAwLjAlOyI+TmFkZXNoaWtvIEhvdGVsIFNoaWJ1eWEgKEZlbWFsZSBPbmx5KTwvZGl2PmApWzBdOwogICAgICAgICAgICBwb3B1cF9lZTJjMmQyZjFjOGY0ODgwYWU3NjYzNGVmNTc4NGI2MC5zZXRDb250ZW50KGh0bWxfMDE0YTI1OWU5NzA2NDNhMzg3YjM4MTM3NTQzOGIzNGMpOwogICAgICAgIAoKICAgICAgICBjaXJjbGVfbWFya2VyXzRiZmQ0ODg5MTM2OTRmODU4ZWE5MDNhZWU0OTM1ZGZlLmJpbmRQb3B1cChwb3B1cF9lZTJjMmQyZjFjOGY0ODgwYWU3NjYzNGVmNTc4NGI2MCkKICAgICAgICA7CgogICAgICAgIAogICAgCiAgICAKICAgICAgICAgICAgdmFyIGNpcmNsZV9tYXJrZXJfNmIzMTQwNzJhZGUwNGQ1ZDgzNGFlZTkwYTIyZWUzZGIgPSBMLmNpcmNsZU1hcmtlcigKICAgICAgICAgICAgICAgIFszNS42ODcyOTc0LCAxMzkuNzc1Njc5NV0sCiAgICAgICAgICAgICAgICB7ImJ1YmJsaW5nTW91c2VFdmVudHMiOiB0cnVlLCAiY29sb3IiOiAiIzMzY2MzMyIsICJkYXNoQXJyYXkiOiBudWxsLCAiZGFzaE9mZnNldCI6IG51bGwsICJmaWxsIjogdHJ1ZSwgImZpbGxDb2xvciI6ICIjRkZGIiwgImZpbGxPcGFjaXR5IjogMC43NSwgImZpbGxSdWxlIjogImV2ZW5vZGQiLCAibGluZUNhcCI6ICJyb3VuZCIsICJsaW5lSm9pbiI6ICJyb3VuZCIsICJvcGFjaXR5IjogMS4wLCAicmFkaXVzIjogMywgInN0cm9rZSI6IHRydWUsICJ3ZWlnaHQiOiAzfQogICAgICAgICAgICApLmFkZFRvKG1hcF8zYjUzZmQ4ODM3MDQ0NGFjOWJiYmRmNjIyYWFjNGUyZSk7CiAgICAgICAgCiAgICAKICAgICAgICB2YXIgcG9wdXBfYzgzYWZkNGFjOGVlNGM5NWJkN2IyZTYxNzA1MTVhMzcgPSBMLnBvcHVwKHsibWF4V2lkdGgiOiAiMTAwJSJ9KTsKCiAgICAgICAgCiAgICAgICAgICAgIHZhciBodG1sX2IwNTk5ZmE5NWMwMDQwZDg5NGI4YmFiMDk3NWY1NGU2ID0gJChgPGRpdiBpZD0iaHRtbF9iMDU5OWZhOTVjMDA0MGQ4OTRiOGJhYjA5NzVmNTRlNiIgc3R5bGU9IndpZHRoOiAxMDAuMCU7IGhlaWdodDogMTAwLjAlOyI+Tmlob25iYXNoaSBNdXJvbWFjaGkgQkFZIEhPVEVMPC9kaXY+YClbMF07CiAgICAgICAgICAgIHBvcHVwX2M4M2FmZDRhYzhlZTRjOTViZDdiMmU2MTcwNTE1YTM3LnNldENvbnRlbnQoaHRtbF9iMDU5OWZhOTVjMDA0MGQ4OTRiOGJhYjA5NzVmNTRlNik7CiAgICAgICAgCgogICAgICAgIGNpcmNsZV9tYXJrZXJfNmIzMTQwNzJhZGUwNGQ1ZDgzNGFlZTkwYTIyZWUzZGIuYmluZFBvcHVwKHBvcHVwX2M4M2FmZDRhYzhlZTRjOTViZDdiMmU2MTcwNTE1YTM3KQogICAgICAgIDsKCiAgICAgICAgCiAgICAKICAgIAogICAgICAgICAgICB2YXIgY2lyY2xlX21hcmtlcl80ODI4MGNmN2ZiODU0NmQ1YWY4YTY2NGU3OWM2NzdmOCA9IEwuY2lyY2xlTWFya2VyKAogICAgICAgICAgICAgICAgWzM1LjcwMzg4NTksIDEzOS43OTMzOTUxXSwKICAgICAgICAgICAgICAgIHsiYnViYmxpbmdNb3VzZUV2ZW50cyI6IHRydWUsICJjb2xvciI6ICIjMzNjYzMzIiwgImRhc2hBcnJheSI6IG51bGwsICJkYXNoT2Zmc2V0IjogbnVsbCwgImZpbGwiOiB0cnVlLCAiZmlsbENvbG9yIjogIiNGRkYiLCAiZmlsbE9wYWNpdHkiOiAwLjc1LCAiZmlsbFJ1bGUiOiAiZXZlbm9kZCIsICJsaW5lQ2FwIjogInJvdW5kIiwgImxpbmVKb2luIjogInJvdW5kIiwgIm9wYWNpdHkiOiAxLjAsICJyYWRpdXMiOiAzLCAic3Ryb2tlIjogdHJ1ZSwgIndlaWdodCI6IDN9CiAgICAgICAgICAgICkuYWRkVG8obWFwXzNiNTNmZDg4MzcwNDQ0YWM5YmJiZGY2MjJhYWM0ZTJlKTsKICAgICAgICAKICAgIAogICAgICAgIHZhciBwb3B1cF84ZjA4ODMwYjg3YWM0Zjk0OTAxMjcxOWY2ZjNkODNlMyA9IEwucG9wdXAoeyJtYXhXaWR0aCI6ICIxMDAlIn0pOwoKICAgICAgICAKICAgICAgICAgICAgdmFyIGh0bWxfMWE1OTNmNTVlYjUxNGRmOWFmMDgyNWMzM2Q0NDQ3ZDIgPSAkKGA8ZGl2IGlkPSJodG1sXzFhNTkzZjU1ZWI1MTRkZjlhZjA4MjVjMzNkNDQ0N2QyIiBzdHlsZT0id2lkdGg6IDEwMC4wJTsgaGVpZ2h0OiAxMDAuMCU7Ij5OdWkuIEhvc3RlbCAmYW1wOyBCYXIgTG91bmdlPC9kaXY+YClbMF07CiAgICAgICAgICAgIHBvcHVwXzhmMDg4MzBiODdhYzRmOTQ5MDEyNzE5ZjZmM2Q4M2UzLnNldENvbnRlbnQoaHRtbF8xYTU5M2Y1NWViNTE0ZGY5YWYwODI1YzMzZDQ0NDdkMik7CiAgICAgICAgCgogICAgICAgIGNpcmNsZV9tYXJrZXJfNDgyODBjZjdmYjg1NDZkNWFmOGE2NjRlNzljNjc3ZjguYmluZFBvcHVwKHBvcHVwXzhmMDg4MzBiODdhYzRmOTQ5MDEyNzE5ZjZmM2Q4M2UzKQogICAgICAgIDsKCiAgICAgICAgCiAgICAKICAgIAogICAgICAgICAgICB2YXIgY2lyY2xlX21hcmtlcl9lNjBmZDJjOTNkNTg0NDAxYTk4ZTgyODUwMzYyM2U5OCA9IEwuY2lyY2xlTWFya2VyKAogICAgICAgICAgICAgICAgWzM1LjcyMTkwMzM5OTk5OTk5NSwgMTM5Ljc4MDkzMTFdLAogICAgICAgICAgICAgICAgeyJidWJibGluZ01vdXNlRXZlbnRzIjogdHJ1ZSwgImNvbG9yIjogIiMzM2NjMzMiLCAiZGFzaEFycmF5IjogbnVsbCwgImRhc2hPZmZzZXQiOiBudWxsLCAiZmlsbCI6IHRydWUsICJmaWxsQ29sb3IiOiAiI0ZGRiIsICJmaWxsT3BhY2l0eSI6IDAuNzUsICJmaWxsUnVsZSI6ICJldmVub2RkIiwgImxpbmVDYXAiOiAicm91bmQiLCAibGluZUpvaW4iOiAicm91bmQiLCAib3BhY2l0eSI6IDEuMCwgInJhZGl1cyI6IDMsICJzdHJva2UiOiB0cnVlLCAid2VpZ2h0IjogM30KICAgICAgICAgICAgKS5hZGRUbyhtYXBfM2I1M2ZkODgzNzA0NDRhYzliYmJkZjYyMmFhYzRlMmUpOwogICAgICAgIAogICAgCiAgICAgICAgdmFyIHBvcHVwX2ZlMzU5NTVhM2JiZjQ1MzNhYWIwM2EwYmNmYmUwNTU3ID0gTC5wb3B1cCh7Im1heFdpZHRoIjogIjEwMCUifSk7CgogICAgICAgIAogICAgICAgICAgICB2YXIgaHRtbF8xZDJlZjQ0ZjAwM2Q0Yzg0ODE4MjIyMTIwNjc3YTk2ZSA9ICQoYDxkaXYgaWQ9Imh0bWxfMWQyZWY0NGYwMDNkNGM4NDgxODIyMjEyMDY3N2E5NmUiIHN0eWxlPSJ3aWR0aDogMTAwLjAlOyBoZWlnaHQ6IDEwMC4wJTsiPk9hayBIb3N0ZWwgWmVuPC9kaXY+YClbMF07CiAgICAgICAgICAgIHBvcHVwX2ZlMzU5NTVhM2JiZjQ1MzNhYWIwM2EwYmNmYmUwNTU3LnNldENvbnRlbnQoaHRtbF8xZDJlZjQ0ZjAwM2Q0Yzg0ODE4MjIyMTIwNjc3YTk2ZSk7CiAgICAgICAgCgogICAgICAgIGNpcmNsZV9tYXJrZXJfZTYwZmQyYzkzZDU4NDQwMWE5OGU4Mjg1MDM2MjNlOTguYmluZFBvcHVwKHBvcHVwX2ZlMzU5NTVhM2JiZjQ1MzNhYWIwM2EwYmNmYmUwNTU3KQogICAgICAgIDsKCiAgICAgICAgCiAgICAKICAgIAogICAgICAgICAgICB2YXIgY2lyY2xlX21hcmtlcl8xNmJlNjA2OGQwYzg0NzRmODJjNzdiNGU1ZjRlZWZjOCA9IEwuY2lyY2xlTWFya2VyKAogICAgICAgICAgICAgICAgWzM1LjY3ODA1NSwgMTM5Ljc4NTk4ODJdLAogICAgICAgICAgICAgICAgeyJidWJibGluZ01vdXNlRXZlbnRzIjogdHJ1ZSwgImNvbG9yIjogIiMzM2NjMzMiLCAiZGFzaEFycmF5IjogbnVsbCwgImRhc2hPZmZzZXQiOiBudWxsLCAiZmlsbCI6IHRydWUsICJmaWxsQ29sb3IiOiAiI0ZGRiIsICJmaWxsT3BhY2l0eSI6IDAuNzUsICJmaWxsUnVsZSI6ICJldmVub2RkIiwgImxpbmVDYXAiOiAicm91bmQiLCAibGluZUpvaW4iOiAicm91bmQiLCAib3BhY2l0eSI6IDEuMCwgInJhZGl1cyI6IDMsICJzdHJva2UiOiB0cnVlLCAid2VpZ2h0IjogM30KICAgICAgICAgICAgKS5hZGRUbyhtYXBfM2I1M2ZkODgzNzA0NDRhYzliYmJkZjYyMmFhYzRlMmUpOwogICAgICAgIAogICAgCiAgICAgICAgdmFyIHBvcHVwXzFiYmExN2E5NGNjYzRmMDViNjllMTJjMDgzN2VkZTYwID0gTC5wb3B1cCh7Im1heFdpZHRoIjogIjEwMCUifSk7CgogICAgICAgIAogICAgICAgICAgICB2YXIgaHRtbF8xNmEwNGU4YTZmOTM0ODA4ODg3MzNlOTVkZjdlMWU0MiA9ICQoYDxkaXYgaWQ9Imh0bWxfMTZhMDRlOGE2ZjkzNDgwODg4NzMzZTk1ZGY3ZTFlNDIiIHN0eWxlPSJ3aWR0aDogMTAwLjAlOyBoZWlnaHQ6IDEwMC4wJTsiPk9ha2hvc3RlbCBDYWJpbjwvZGl2PmApWzBdOwogICAgICAgICAgICBwb3B1cF8xYmJhMTdhOTRjY2M0ZjA1YjY5ZTEyYzA4MzdlZGU2MC5zZXRDb250ZW50KGh0bWxfMTZhMDRlOGE2ZjkzNDgwODg4NzMzZTk1ZGY3ZTFlNDIpOwogICAgICAgIAoKICAgICAgICBjaXJjbGVfbWFya2VyXzE2YmU2MDY4ZDBjODQ3NGY4MmM3N2I0ZTVmNGVlZmM4LmJpbmRQb3B1cChwb3B1cF8xYmJhMTdhOTRjY2M0ZjA1YjY5ZTEyYzA4MzdlZGU2MCkKICAgICAgICA7CgogICAgICAgIAogICAgCiAgICAKICAgICAgICAgICAgdmFyIGNpcmNsZV9tYXJrZXJfMGJlMWI5MjBiYWU1NGFkMmJlOTAyNGVmOTZhMTIxZDIgPSBMLmNpcmNsZU1hcmtlcigKICAgICAgICAgICAgICAgIFszNS43MDY5MjUzOTk5OTk5OTYsIDEzOS44MDA5MDg0XSwKICAgICAgICAgICAgICAgIHsiYnViYmxpbmdNb3VzZUV2ZW50cyI6IHRydWUsICJjb2xvciI6ICIjMzNjYzMzIiwgImRhc2hBcnJheSI6IG51bGwsICJkYXNoT2Zmc2V0IjogbnVsbCwgImZpbGwiOiB0cnVlLCAiZmlsbENvbG9yIjogIiNGRkYiLCAiZmlsbE9wYWNpdHkiOiAwLjc1LCAiZmlsbFJ1bGUiOiAiZXZlbm9kZCIsICJsaW5lQ2FwIjogInJvdW5kIiwgImxpbmVKb2luIjogInJvdW5kIiwgIm9wYWNpdHkiOiAxLjAsICJyYWRpdXMiOiAzLCAic3Ryb2tlIjogdHJ1ZSwgIndlaWdodCI6IDN9CiAgICAgICAgICAgICkuYWRkVG8obWFwXzNiNTNmZDg4MzcwNDQ0YWM5YmJiZGY2MjJhYWM0ZTJlKTsKICAgICAgICAKICAgIAogICAgICAgIHZhciBwb3B1cF85NjEwNTk4MDA2ZDQ0MDY1OTE4Mzg0YmYwODViNmVkMiA9IEwucG9wdXAoeyJtYXhXaWR0aCI6ICIxMDAlIn0pOwoKICAgICAgICAKICAgICAgICAgICAgdmFyIGh0bWxfMjU1MjE5MWRkZjFkNGMwOWEyNjk1YzEyMWYwZThhYTEgPSAkKGA8ZGl2IGlkPSJodG1sXzI1NTIxOTFkZGYxZDRjMDlhMjY5NWMxMjFmMGU4YWExIiBzdHlsZT0id2lkdGg6IDEwMC4wJTsgaGVpZ2h0OiAxMDAuMCU7Ij5PYWtob3N0ZWwgRnVqaTwvZGl2PmApWzBdOwogICAgICAgICAgICBwb3B1cF85NjEwNTk4MDA2ZDQ0MDY1OTE4Mzg0YmYwODViNmVkMi5zZXRDb250ZW50KGh0bWxfMjU1MjE5MWRkZjFkNGMwOWEyNjk1YzEyMWYwZThhYTEpOwogICAgICAgIAoKICAgICAgICBjaXJjbGVfbWFya2VyXzBiZTFiOTIwYmFlNTRhZDJiZTkwMjRlZjk2YTEyMWQyLmJpbmRQb3B1cChwb3B1cF85NjEwNTk4MDA2ZDQ0MDY1OTE4Mzg0YmYwODViNmVkMikKICAgICAgICA7CgogICAgICAgIAogICAgCiAgICAKICAgICAgICAgICAgdmFyIGNpcmNsZV9tYXJrZXJfMWE1ZWQ5ODlkOGU1NGZmY2JlNThkZDcxNTIyMjhkOWIgPSBMLmNpcmNsZU1hcmtlcigKICAgICAgICAgICAgICAgIFszNS43MDczOTAwMDAwMDAwMDQsIDEzOS44MTUyMjE2XSwKICAgICAgICAgICAgICAgIHsiYnViYmxpbmdNb3VzZUV2ZW50cyI6IHRydWUsICJjb2xvciI6ICIjMzNjYzMzIiwgImRhc2hBcnJheSI6IG51bGwsICJkYXNoT2Zmc2V0IjogbnVsbCwgImZpbGwiOiB0cnVlLCAiZmlsbENvbG9yIjogIiNGRkYiLCAiZmlsbE9wYWNpdHkiOiAwLjc1LCAiZmlsbFJ1bGUiOiAiZXZlbm9kZCIsICJsaW5lQ2FwIjogInJvdW5kIiwgImxpbmVKb2luIjogInJvdW5kIiwgIm9wYWNpdHkiOiAxLjAsICJyYWRpdXMiOiAzLCAic3Ryb2tlIjogdHJ1ZSwgIndlaWdodCI6IDN9CiAgICAgICAgICAgICkuYWRkVG8obWFwXzNiNTNmZDg4MzcwNDQ0YWM5YmJiZGY2MjJhYWM0ZTJlKTsKICAgICAgICAKICAgIAogICAgICAgIHZhciBwb3B1cF82OTkzZTg2MmU0YWM0M2EwOTIzNzk0NDgzMzM4MzM3MyA9IEwucG9wdXAoeyJtYXhXaWR0aCI6ICIxMDAlIn0pOwoKICAgICAgICAKICAgICAgICAgICAgdmFyIGh0bWxfNWYyODJiN2EzYTNkNDNlM2EwMDQ1YmZjYWYzOTA2ZTEgPSAkKGA8ZGl2IGlkPSJodG1sXzVmMjgyYjdhM2EzZDQzZTNhMDA0NWJmY2FmMzkwNmUxIiBzdHlsZT0id2lkdGg6IDEwMC4wJTsgaGVpZ2h0OiAxMDAuMCU7Ij5PYWtob3N0ZWwgU2FrdXJhPC9kaXY+YClbMF07CiAgICAgICAgICAgIHBvcHVwXzY5OTNlODYyZTRhYzQzYTA5MjM3OTQ0ODMzMzgzMzczLnNldENvbnRlbnQoaHRtbF81ZjI4MmI3YTNhM2Q0M2UzYTAwNDViZmNhZjM5MDZlMSk7CiAgICAgICAgCgogICAgICAgIGNpcmNsZV9tYXJrZXJfMWE1ZWQ5ODlkOGU1NGZmY2JlNThkZDcxNTIyMjhkOWIuYmluZFBvcHVwKHBvcHVwXzY5OTNlODYyZTRhYzQzYTA5MjM3OTQ0ODMzMzgzMzczKQogICAgICAgIDsKCiAgICAgICAgCiAgICAKICAgIAogICAgICAgICAgICB2YXIgY2lyY2xlX21hcmtlcl8zN2FhYjUyYjcxYjE0MWFhODU4Zjk0ZGIwYmU4MjEyNSA9IEwuY2lyY2xlTWFya2VyKAogICAgICAgICAgICAgICAgWzM1LjY5MjA0ODIsIDEzOS43ODE5MDQ2XSwKICAgICAgICAgICAgICAgIHsiYnViYmxpbmdNb3VzZUV2ZW50cyI6IHRydWUsICJjb2xvciI6ICIjMzNjYzMzIiwgImRhc2hBcnJheSI6IG51bGwsICJkYXNoT2Zmc2V0IjogbnVsbCwgImZpbGwiOiB0cnVlLCAiZmlsbENvbG9yIjogIiNGRkYiLCAiZmlsbE9wYWNpdHkiOiAwLjc1LCAiZmlsbFJ1bGUiOiAiZXZlbm9kZCIsICJsaW5lQ2FwIjogInJvdW5kIiwgImxpbmVKb2luIjogInJvdW5kIiwgIm9wYWNpdHkiOiAxLjAsICJyYWRpdXMiOiAzLCAic3Ryb2tlIjogdHJ1ZSwgIndlaWdodCI6IDN9CiAgICAgICAgICAgICkuYWRkVG8obWFwXzNiNTNmZDg4MzcwNDQ0YWM5YmJiZGY2MjJhYWM0ZTJlKTsKICAgICAgICAKICAgIAogICAgICAgIHZhciBwb3B1cF9hNjE5ZTU3YzY1OGU0YjA0YTJmNjhmNjIzYTg1NmUzMyA9IEwucG9wdXAoeyJtYXhXaWR0aCI6ICIxMDAlIn0pOwoKICAgICAgICAKICAgICAgICAgICAgdmFyIGh0bWxfY2I1ZmI2N2NhMDVkNGQxZWI3YjBhOGM5ZmFkMjg2MWEgPSAkKGA8ZGl2IGlkPSJodG1sX2NiNWZiNjdjYTA1ZDRkMWViN2IwYThjOWZhZDI4NjFhIiBzdHlsZT0id2lkdGg6IDEwMC4wJTsgaGVpZ2h0OiAxMDAuMCU7Ij5PYmkgSG9zdGVsPC9kaXY+YClbMF07CiAgICAgICAgICAgIHBvcHVwX2E2MTllNTdjNjU4ZTRiMDRhMmY2OGY2MjNhODU2ZTMzLnNldENvbnRlbnQoaHRtbF9jYjVmYjY3Y2EwNWQ0ZDFlYjdiMGE4YzlmYWQyODYxYSk7CiAgICAgICAgCgogICAgICAgIGNpcmNsZV9tYXJrZXJfMzdhYWI1MmI3MWIxNDFhYTg1OGY5NGRiMGJlODIxMjUuYmluZFBvcHVwKHBvcHVwX2E2MTllNTdjNjU4ZTRiMDRhMmY2OGY2MjNhODU2ZTMzKQogICAgICAgIDsKCiAgICAgICAgCiAgICAKICAgIAogICAgICAgICAgICB2YXIgY2lyY2xlX21hcmtlcl83OTkxMTEwZDBhMTY0Y2Y1YWJjZDdjMWQwN2EzYTc3OSA9IEwuY2lyY2xlTWFya2VyKAogICAgICAgICAgICAgICAgWzM1LjY5NDQ5MiwgMTM5Ljc4NjAwNF0sCiAgICAgICAgICAgICAgICB7ImJ1YmJsaW5nTW91c2VFdmVudHMiOiB0cnVlLCAiY29sb3IiOiAiIzMzY2MzMyIsICJkYXNoQXJyYXkiOiBudWxsLCAiZGFzaE9mZnNldCI6IG51bGwsICJmaWxsIjogdHJ1ZSwgImZpbGxDb2xvciI6ICIjRkZGIiwgImZpbGxPcGFjaXR5IjogMC43NSwgImZpbGxSdWxlIjogImV2ZW5vZGQiLCAibGluZUNhcCI6ICJyb3VuZCIsICJsaW5lSm9pbiI6ICJyb3VuZCIsICJvcGFjaXR5IjogMS4wLCAicmFkaXVzIjogMywgInN0cm9rZSI6IHRydWUsICJ3ZWlnaHQiOiAzfQogICAgICAgICAgICApLmFkZFRvKG1hcF8zYjUzZmQ4ODM3MDQ0NGFjOWJiYmRmNjIyYWFjNGUyZSk7CiAgICAgICAgCiAgICAKICAgICAgICB2YXIgcG9wdXBfZmM0MTdlM2VmYzVhNDc0NzhkOWY3MmI2OGI0M2FjZjUgPSBMLnBvcHVwKHsibWF4V2lkdGgiOiAiMTAwJSJ9KTsKCiAgICAgICAgCiAgICAgICAgICAgIHZhciBodG1sX2Y4ZWUzZDhiNmE0ZjQxY2E4NmI1YWE2NzI1NzFkYWIyID0gJChgPGRpdiBpZD0iaHRtbF9mOGVlM2Q4YjZhNGY0MWNhODZiNWFhNjcyNTcxZGFiMiIgc3R5bGU9IndpZHRoOiAxMDAuMCU7IGhlaWdodDogMTAwLjAlOyI+UGxhbmV0eXplIEhvc3RlbDwvZGl2PmApWzBdOwogICAgICAgICAgICBwb3B1cF9mYzQxN2UzZWZjNWE0NzQ3OGQ5ZjcyYjY4YjQzYWNmNS5zZXRDb250ZW50KGh0bWxfZjhlZTNkOGI2YTRmNDFjYTg2YjVhYTY3MjU3MWRhYjIpOwogICAgICAgIAoKICAgICAgICBjaXJjbGVfbWFya2VyXzc5OTExMTBkMGExNjRjZjVhYmNkN2MxZDA3YTNhNzc5LmJpbmRQb3B1cChwb3B1cF9mYzQxN2UzZWZjNWE0NzQ3OGQ5ZjcyYjY4YjQzYWNmNSkKICAgICAgICA7CgogICAgICAgIAogICAgCiAgICAKICAgICAgICAgICAgdmFyIGNpcmNsZV9tYXJrZXJfNTYzNDgwZDQ1MjkyNDRjNGEzOWQ2NDc0Njg4NzdiZmMgPSBMLmNpcmNsZU1hcmtlcigKICAgICAgICAgICAgICAgIFszNS43MTU3OTYwMDAwMDAwMDUsIDEzOS43OTM1MzA1XSwKICAgICAgICAgICAgICAgIHsiYnViYmxpbmdNb3VzZUV2ZW50cyI6IHRydWUsICJjb2xvciI6ICIjMzNjYzMzIiwgImRhc2hBcnJheSI6IG51bGwsICJkYXNoT2Zmc2V0IjogbnVsbCwgImZpbGwiOiB0cnVlLCAiZmlsbENvbG9yIjogIiNGRkYiLCAiZmlsbE9wYWNpdHkiOiAwLjc1LCAiZmlsbFJ1bGUiOiAiZXZlbm9kZCIsICJsaW5lQ2FwIjogInJvdW5kIiwgImxpbmVKb2luIjogInJvdW5kIiwgIm9wYWNpdHkiOiAxLjAsICJyYWRpdXMiOiAzLCAic3Ryb2tlIjogdHJ1ZSwgIndlaWdodCI6IDN9CiAgICAgICAgICAgICkuYWRkVG8obWFwXzNiNTNmZDg4MzcwNDQ0YWM5YmJiZGY2MjJhYWM0ZTJlKTsKICAgICAgICAKICAgIAogICAgICAgIHZhciBwb3B1cF9jZTA1Y2Y1ZGRmOGI0YmRjOTNlZmExZjM5YjkyYTQxYSA9IEwucG9wdXAoeyJtYXhXaWR0aCI6ICIxMDAlIn0pOwoKICAgICAgICAKICAgICAgICAgICAgdmFyIGh0bWxfNjNkYmM3ZDc3NTE2NDgzNjg4OGRhMDE0MjQxYzc1OTQgPSAkKGA8ZGl2IGlkPSJodG1sXzYzZGJjN2Q3NzUxNjQ4MzY4ODhkYTAxNDI0MWM3NTk0IiBzdHlsZT0id2lkdGg6IDEwMC4wJTsgaGVpZ2h0OiAxMDAuMCU7Ij5RdWFsaXR5IEhvc3RlbCBLJiMzOTtzIEhvdXNlIFRva3lvIE9hc2lzPC9kaXY+YClbMF07CiAgICAgICAgICAgIHBvcHVwX2NlMDVjZjVkZGY4YjRiZGM5M2VmYTFmMzliOTJhNDFhLnNldENvbnRlbnQoaHRtbF82M2RiYzdkNzc1MTY0ODM2ODg4ZGEwMTQyNDFjNzU5NCk7CiAgICAgICAgCgogICAgICAgIGNpcmNsZV9tYXJrZXJfNTYzNDgwZDQ1MjkyNDRjNGEzOWQ2NDc0Njg4NzdiZmMuYmluZFBvcHVwKHBvcHVwX2NlMDVjZjVkZGY4YjRiZGM5M2VmYTFmMzliOTJhNDFhKQogICAgICAgIDsKCiAgICAgICAgCiAgICAKICAgIAogICAgICAgICAgICB2YXIgY2lyY2xlX21hcmtlcl9lNmRlZmNjNTA2YjE0YmJlYTQxMDE4NzA1NTYyOGM1MCA9IEwuY2lyY2xlTWFya2VyKAogICAgICAgICAgICAgICAgWzM1LjcxMzE1NzMsIDEzOS43ODkzNjE1XSwKICAgICAgICAgICAgICAgIHsiYnViYmxpbmdNb3VzZUV2ZW50cyI6IHRydWUsICJjb2xvciI6ICIjMzNjYzMzIiwgImRhc2hBcnJheSI6IG51bGwsICJkYXNoT2Zmc2V0IjogbnVsbCwgImZpbGwiOiB0cnVlLCAiZmlsbENvbG9yIjogIiNGRkYiLCAiZmlsbE9wYWNpdHkiOiAwLjc1LCAiZmlsbFJ1bGUiOiAiZXZlbm9kZCIsICJsaW5lQ2FwIjogInJvdW5kIiwgImxpbmVKb2luIjogInJvdW5kIiwgIm9wYWNpdHkiOiAxLjAsICJyYWRpdXMiOiAzLCAic3Ryb2tlIjogdHJ1ZSwgIndlaWdodCI6IDN9CiAgICAgICAgICAgICkuYWRkVG8obWFwXzNiNTNmZDg4MzcwNDQ0YWM5YmJiZGY2MjJhYWM0ZTJlKTsKICAgICAgICAKICAgIAogICAgICAgIHZhciBwb3B1cF84NmM4YmNjMGRmYzE0MGE5OGFiZDM3NDEzMzJkNmJjYiA9IEwucG9wdXAoeyJtYXhXaWR0aCI6ICIxMDAlIn0pOwoKICAgICAgICAKICAgICAgICAgICAgdmFyIGh0bWxfMWVlNjUwZTI0MTJlNDQyNjgyZjMwYjQ0ODQ4ODIxODQgPSAkKGA8ZGl2IGlkPSJodG1sXzFlZTY1MGUyNDEyZTQ0MjY4MmYzMGI0NDg0ODgyMTg0IiBzdHlsZT0id2lkdGg6IDEwMC4wJTsgaGVpZ2h0OiAxMDAuMCU7Ij5SZXRyb21ldHJvIEJhY2twYWNrZXJzPC9kaXY+YClbMF07CiAgICAgICAgICAgIHBvcHVwXzg2YzhiY2MwZGZjMTQwYTk4YWJkMzc0MTMzMmQ2YmNiLnNldENvbnRlbnQoaHRtbF8xZWU2NTBlMjQxMmU0NDI2ODJmMzBiNDQ4NDg4MjE4NCk7CiAgICAgICAgCgogICAgICAgIGNpcmNsZV9tYXJrZXJfZTZkZWZjYzUwNmIxNGJiZWE0MTAxODcwNTU2MjhjNTAuYmluZFBvcHVwKHBvcHVwXzg2YzhiY2MwZGZjMTQwYTk4YWJkMzc0MTMzMmQ2YmNiKQogICAgICAgIDsKCiAgICAgICAgCiAgICAKICAgIAogICAgICAgICAgICB2YXIgY2lyY2xlX21hcmtlcl9lM2FlZmNmZjljN2M0MDg3OGU1ZmVhNjAwMWRlNjYyZSA9IEwuY2lyY2xlTWFya2VyKAogICAgICAgICAgICAgICAgWzM1LjcxNjAyMjQsIDEzOS43OTQ4MjYzXSwKICAgICAgICAgICAgICAgIHsiYnViYmxpbmdNb3VzZUV2ZW50cyI6IHRydWUsICJjb2xvciI6ICIjMzNjYzMzIiwgImRhc2hBcnJheSI6IG51bGwsICJkYXNoT2Zmc2V0IjogbnVsbCwgImZpbGwiOiB0cnVlLCAiZmlsbENvbG9yIjogIiNGRkYiLCAiZmlsbE9wYWNpdHkiOiAwLjc1LCAiZmlsbFJ1bGUiOiAiZXZlbm9kZCIsICJsaW5lQ2FwIjogInJvdW5kIiwgImxpbmVKb2luIjogInJvdW5kIiwgIm9wYWNpdHkiOiAxLjAsICJyYWRpdXMiOiAzLCAic3Ryb2tlIjogdHJ1ZSwgIndlaWdodCI6IDN9CiAgICAgICAgICAgICkuYWRkVG8obWFwXzNiNTNmZDg4MzcwNDQ0YWM5YmJiZGY2MjJhYWM0ZTJlKTsKICAgICAgICAKICAgIAogICAgICAgIHZhciBwb3B1cF9lYzljNjVkZTBlNTk0MTk0YTQ1NTBlNjUyNDhlZmQ0OCA9IEwucG9wdXAoeyJtYXhXaWR0aCI6ICIxMDAlIn0pOwoKICAgICAgICAKICAgICAgICAgICAgdmFyIGh0bWxfMjZkY2Y2NWRiNGE1NGNjYWJkYWFiNmFmYTljOTQwYzMgPSAkKGA8ZGl2IGlkPSJodG1sXzI2ZGNmNjVkYjRhNTRjY2FiZGFhYjZhZmE5Yzk0MGMzIiBzdHlsZT0id2lkdGg6IDEwMC4wJTsgaGVpZ2h0OiAxMDAuMCU7Ij5TYWt1cmEgSG9zdGVsIEFzYWt1c2E8L2Rpdj5gKVswXTsKICAgICAgICAgICAgcG9wdXBfZWM5YzY1ZGUwZTU5NDE5NGE0NTUwZTY1MjQ4ZWZkNDguc2V0Q29udGVudChodG1sXzI2ZGNmNjVkYjRhNTRjY2FiZGFhYjZhZmE5Yzk0MGMzKTsKICAgICAgICAKCiAgICAgICAgY2lyY2xlX21hcmtlcl9lM2FlZmNmZjljN2M0MDg3OGU1ZmVhNjAwMWRlNjYyZS5iaW5kUG9wdXAocG9wdXBfZWM5YzY1ZGUwZTU5NDE5NGE0NTUwZTY1MjQ4ZWZkNDgpCiAgICAgICAgOwoKICAgICAgICAKICAgIAogICAgCiAgICAgICAgICAgIHZhciBjaXJjbGVfbWFya2VyXzc3NTRjZmVhNWQ4YzQyNTViMGNkNzdlNzA3ODcwYTE4ID0gTC5jaXJjbGVNYXJrZXIoCiAgICAgICAgICAgICAgICBbMzUuNzI4MTY5MiwgMTM5Ljc2NDE3NV0sCiAgICAgICAgICAgICAgICB7ImJ1YmJsaW5nTW91c2VFdmVudHMiOiB0cnVlLCAiY29sb3IiOiAiIzMzY2MzMyIsICJkYXNoQXJyYXkiOiBudWxsLCAiZGFzaE9mZnNldCI6IG51bGwsICJmaWxsIjogdHJ1ZSwgImZpbGxDb2xvciI6ICIjRkZGIiwgImZpbGxPcGFjaXR5IjogMC43NSwgImZpbGxSdWxlIjogImV2ZW5vZGQiLCAibGluZUNhcCI6ICJyb3VuZCIsICJsaW5lSm9pbiI6ICJyb3VuZCIsICJvcGFjaXR5IjogMS4wLCAicmFkaXVzIjogMywgInN0cm9rZSI6IHRydWUsICJ3ZWlnaHQiOiAzfQogICAgICAgICAgICApLmFkZFRvKG1hcF8zYjUzZmQ4ODM3MDQ0NGFjOWJiYmRmNjIyYWFjNGUyZSk7CiAgICAgICAgCiAgICAKICAgICAgICB2YXIgcG9wdXBfYTA3Y2JjZTU0MDZkNDI0ODhjYTQxNGYzYjQwMjgxNDIgPSBMLnBvcHVwKHsibWF4V2lkdGgiOiAiMTAwJSJ9KTsKCiAgICAgICAgCiAgICAgICAgICAgIHZhciBodG1sXzExMjJiN2M2NWI4MzQ3NGZiY2E3ZDg2MmRlYTgyOWUxID0gJChgPGRpdiBpZD0iaHRtbF8xMTIyYjdjNjViODM0NzRmYmNhN2Q4NjJkZWE4MjllMSIgc3R5bGU9IndpZHRoOiAxMDAuMCU7IGhlaWdodDogMTAwLjAlOyI+U2FrdXJhIEhvdGVsIE5pcHBvcmk8L2Rpdj5gKVswXTsKICAgICAgICAgICAgcG9wdXBfYTA3Y2JjZTU0MDZkNDI0ODhjYTQxNGYzYjQwMjgxNDIuc2V0Q29udGVudChodG1sXzExMjJiN2M2NWI4MzQ3NGZiY2E3ZDg2MmRlYTgyOWUxKTsKICAgICAgICAKCiAgICAgICAgY2lyY2xlX21hcmtlcl83NzU0Y2ZlYTVkOGM0MjU1YjBjZDc3ZTcwNzg3MGExOC5iaW5kUG9wdXAocG9wdXBfYTA3Y2JjZTU0MDZkNDI0ODhjYTQxNGYzYjQwMjgxNDIpCiAgICAgICAgOwoKICAgICAgICAKICAgIAogICAgCiAgICAgICAgICAgIHZhciBjaXJjbGVfbWFya2VyXzg3M2EzNTJkNWI3NzQwY2Q5NjcwMGEyNGMzNTNmMTBmID0gTC5jaXJjbGVNYXJrZXIoCiAgICAgICAgICAgICAgICBbMzUuNzU5NzgyNywgMTM5Ljg3Nzg4MDRdLAogICAgICAgICAgICAgICAgeyJidWJibGluZ01vdXNlRXZlbnRzIjogdHJ1ZSwgImNvbG9yIjogIiMzM2NjMzMiLCAiZGFzaEFycmF5IjogbnVsbCwgImRhc2hPZmZzZXQiOiBudWxsLCAiZmlsbCI6IHRydWUsICJmaWxsQ29sb3IiOiAiI0ZGRiIsICJmaWxsT3BhY2l0eSI6IDAuNzUsICJmaWxsUnVsZSI6ICJldmVub2RkIiwgImxpbmVDYXAiOiAicm91bmQiLCAibGluZUpvaW4iOiAicm91bmQiLCAib3BhY2l0eSI6IDEuMCwgInJhZGl1cyI6IDMsICJzdHJva2UiOiB0cnVlLCAid2VpZ2h0IjogM30KICAgICAgICAgICAgKS5hZGRUbyhtYXBfM2I1M2ZkODgzNzA0NDRhYzliYmJkZjYyMmFhYzRlMmUpOwogICAgICAgIAogICAgCiAgICAgICAgdmFyIHBvcHVwX2ZkNWZiYTBjNTU4NDRiOGI4NTM4OWRlNjAyYzQ5ZmIzID0gTC5wb3B1cCh7Im1heFdpZHRoIjogIjEwMCUifSk7CgogICAgICAgIAogICAgICAgICAgICB2YXIgaHRtbF84ZmJhNDRlOTQ0OTc0OTAzODIyZGUzODUyMDUzNThlZiA9ICQoYDxkaXYgaWQ9Imh0bWxfOGZiYTQ0ZTk0NDk3NDkwMzgyMmRlMzg1MjA1MzU4ZWYiIHN0eWxlPSJ3aWR0aDogMTAwLjAlOyBoZWlnaHQ6IDEwMC4wJTsiPlNoaWJhbWF0YSBGVS1URU4gQmVkIGFuZCBMb2NhbDwvZGl2PmApWzBdOwogICAgICAgICAgICBwb3B1cF9mZDVmYmEwYzU1ODQ0YjhiODUzODlkZTYwMmM0OWZiMy5zZXRDb250ZW50KGh0bWxfOGZiYTQ0ZTk0NDk3NDkwMzgyMmRlMzg1MjA1MzU4ZWYpOwogICAgICAgIAoKICAgICAgICBjaXJjbGVfbWFya2VyXzg3M2EzNTJkNWI3NzQwY2Q5NjcwMGEyNGMzNTNmMTBmLmJpbmRQb3B1cChwb3B1cF9mZDVmYmEwYzU1ODQ0YjhiODUzODlkZTYwMmM0OWZiMykKICAgICAgICA7CgogICAgICAgIAogICAgCiAgICAKICAgICAgICAgICAgdmFyIGNpcmNsZV9tYXJrZXJfMTI4YzU3Y2IyOWQyNGQwYjk3MTJmOWEyYzQyM2U5NTYgPSBMLmNpcmNsZU1hcmtlcigKICAgICAgICAgICAgICAgIFszNS43MTg2NjIsIDEzOS43ODU2NTJdLAogICAgICAgICAgICAgICAgeyJidWJibGluZ01vdXNlRXZlbnRzIjogdHJ1ZSwgImNvbG9yIjogIiMzM2NjMzMiLCAiZGFzaEFycmF5IjogbnVsbCwgImRhc2hPZmZzZXQiOiBudWxsLCAiZmlsbCI6IHRydWUsICJmaWxsQ29sb3IiOiAiI0ZGRiIsICJmaWxsT3BhY2l0eSI6IDAuNzUsICJmaWxsUnVsZSI6ICJldmVub2RkIiwgImxpbmVDYXAiOiAicm91bmQiLCAibGluZUpvaW4iOiAicm91bmQiLCAib3BhY2l0eSI6IDEuMCwgInJhZGl1cyI6IDMsICJzdHJva2UiOiB0cnVlLCAid2VpZ2h0IjogM30KICAgICAgICAgICAgKS5hZGRUbyhtYXBfM2I1M2ZkODgzNzA0NDRhYzliYmJkZjYyMmFhYzRlMmUpOwogICAgICAgIAogICAgCiAgICAgICAgdmFyIHBvcHVwXzQwMzMyN2Y0NDNjMTRkMTM5MmIyM2E3ZTlmMmY3OWIwID0gTC5wb3B1cCh7Im1heFdpZHRoIjogIjEwMCUifSk7CgogICAgICAgIAogICAgICAgICAgICB2YXIgaHRtbF9hNjVhZmVjMDBmOGQ0ZGJjODVmZjVkZGU3NzNhYjQzMCA9ICQoYDxkaXYgaWQ9Imh0bWxfYTY1YWZlYzAwZjhkNGRiYzg1ZmY1ZGRlNzczYWI0MzAiIHN0eWxlPSJ3aWR0aDogMTAwLjAlOyBoZWlnaHQ6IDEwMC4wJTsiPlNwYWNlIEhvc3RlbCBUb2t5bzwvZGl2PmApWzBdOwogICAgICAgICAgICBwb3B1cF80MDMzMjdmNDQzYzE0ZDEzOTJiMjNhN2U5ZjJmNzliMC5zZXRDb250ZW50KGh0bWxfYTY1YWZlYzAwZjhkNGRiYzg1ZmY1ZGRlNzczYWI0MzApOwogICAgICAgIAoKICAgICAgICBjaXJjbGVfbWFya2VyXzEyOGM1N2NiMjlkMjRkMGI5NzEyZjlhMmM0MjNlOTU2LmJpbmRQb3B1cChwb3B1cF80MDMzMjdmNDQzYzE0ZDEzOTJiMjNhN2U5ZjJmNzliMCkKICAgICAgICA7CgogICAgICAgIAogICAgCiAgICAKICAgICAgICAgICAgdmFyIGNpcmNsZV9tYXJrZXJfYTFiYTViYzI4YjFhNDQyZjg4MzUxZTI5NzRjZjRmOWUgPSBMLmNpcmNsZU1hcmtlcigKICAgICAgICAgICAgICAgIFszNS43MTEzODIsIDEzOS43ODQ2Ml0sCiAgICAgICAgICAgICAgICB7ImJ1YmJsaW5nTW91c2VFdmVudHMiOiB0cnVlLCAiY29sb3IiOiAiIzMzY2MzMyIsICJkYXNoQXJyYXkiOiBudWxsLCAiZGFzaE9mZnNldCI6IG51bGwsICJmaWxsIjogdHJ1ZSwgImZpbGxDb2xvciI6ICIjRkZGIiwgImZpbGxPcGFjaXR5IjogMC43NSwgImZpbGxSdWxlIjogImV2ZW5vZGQiLCAibGluZUNhcCI6ICJyb3VuZCIsICJsaW5lSm9pbiI6ICJyb3VuZCIsICJvcGFjaXR5IjogMS4wLCAicmFkaXVzIjogMywgInN0cm9rZSI6IHRydWUsICJ3ZWlnaHQiOiAzfQogICAgICAgICAgICApLmFkZFRvKG1hcF8zYjUzZmQ4ODM3MDQ0NGFjOWJiYmRmNjIyYWFjNGUyZSk7CiAgICAgICAgCiAgICAKICAgICAgICB2YXIgcG9wdXBfZThiNjQzM2Q1ZDM3NDgwNmI0NGFkZjlmYzhmZmFmNGIgPSBMLnBvcHVwKHsibWF4V2lkdGgiOiAiMTAwJSJ9KTsKCiAgICAgICAgCiAgICAgICAgICAgIHZhciBodG1sXzZmODA2YjI3ZWIwMzQ4NDFhOTVmY2ZmN2RlNmRkNzk0ID0gJChgPGRpdiBpZD0iaHRtbF82ZjgwNmIyN2ViMDM0ODQxYTk1ZmNmZjdkZTZkZDc5NCIgc3R5bGU9IndpZHRoOiAxMDAuMCU7IGhlaWdodDogMTAwLjAlOyI+U3RheXRvIChmb3JtZXI6IE9hayBIb3RlbCk8L2Rpdj5gKVswXTsKICAgICAgICAgICAgcG9wdXBfZThiNjQzM2Q1ZDM3NDgwNmI0NGFkZjlmYzhmZmFmNGIuc2V0Q29udGVudChodG1sXzZmODA2YjI3ZWIwMzQ4NDFhOTVmY2ZmN2RlNmRkNzk0KTsKICAgICAgICAKCiAgICAgICAgY2lyY2xlX21hcmtlcl9hMWJhNWJjMjhiMWE0NDJmODgzNTFlMjk3NGNmNGY5ZS5iaW5kUG9wdXAocG9wdXBfZThiNjQzM2Q1ZDM3NDgwNmI0NGFkZjlmYzhmZmFmNGIpCiAgICAgICAgOwoKICAgICAgICAKICAgIAogICAgCiAgICAgICAgICAgIHZhciBjaXJjbGVfbWFya2VyX2M4ZDJlODUzNDZmYTQ2YTFhYWViODUyMWI5ZDJkY2EyID0gTC5jaXJjbGVNYXJrZXIoCiAgICAgICAgICAgICAgICBbMzUuNjYyMTk2NiwgMTM5LjY5OTY5NTQwMDAwMDAyXSwKICAgICAgICAgICAgICAgIHsiYnViYmxpbmdNb3VzZUV2ZW50cyI6IHRydWUsICJjb2xvciI6ICIjMzNjYzMzIiwgImRhc2hBcnJheSI6IG51bGwsICJkYXNoT2Zmc2V0IjogbnVsbCwgImZpbGwiOiB0cnVlLCAiZmlsbENvbG9yIjogIiNGRkYiLCAiZmlsbE9wYWNpdHkiOiAwLjc1LCAiZmlsbFJ1bGUiOiAiZXZlbm9kZCIsICJsaW5lQ2FwIjogInJvdW5kIiwgImxpbmVKb2luIjogInJvdW5kIiwgIm9wYWNpdHkiOiAxLjAsICJyYWRpdXMiOiAzLCAic3Ryb2tlIjogdHJ1ZSwgIndlaWdodCI6IDN9CiAgICAgICAgICAgICkuYWRkVG8obWFwXzNiNTNmZDg4MzcwNDQ0YWM5YmJiZGY2MjJhYWM0ZTJlKTsKICAgICAgICAKICAgIAogICAgICAgIHZhciBwb3B1cF84OTdmZWJiZWIyYWI0MWFiOTVhOWVjZTY5NWU5ZTk1ZCA9IEwucG9wdXAoeyJtYXhXaWR0aCI6ICIxMDAlIn0pOwoKICAgICAgICAKICAgICAgICAgICAgdmFyIGh0bWxfNzdiYzgxMWE5MTg0NGVmNDkyZDZjZmY4OGUyN2FiMTMgPSAkKGA8ZGl2IGlkPSJodG1sXzc3YmM4MTFhOTE4NDRlZjQ5MmQ2Y2ZmODhlMjdhYjEzIiBzdHlsZT0id2lkdGg6IDEwMC4wJTsgaGVpZ2h0OiAxMDAuMCU7Ij5UaGUgTWlsbGVubmlhbHMgU2hpYnV5YTwvZGl2PmApWzBdOwogICAgICAgICAgICBwb3B1cF84OTdmZWJiZWIyYWI0MWFiOTVhOWVjZTY5NWU5ZTk1ZC5zZXRDb250ZW50KGh0bWxfNzdiYzgxMWE5MTg0NGVmNDkyZDZjZmY4OGUyN2FiMTMpOwogICAgICAgIAoKICAgICAgICBjaXJjbGVfbWFya2VyX2M4ZDJlODUzNDZmYTQ2YTFhYWViODUyMWI5ZDJkY2EyLmJpbmRQb3B1cChwb3B1cF84OTdmZWJiZWIyYWI0MWFiOTVhOWVjZTY5NWU5ZTk1ZCkKICAgICAgICA7CgogICAgICAgIAogICAgCiAgICAKICAgICAgICAgICAgdmFyIGNpcmNsZV9tYXJrZXJfODRhMGQ0MWIzMDUxNDM2NzlmY2EyNGM0YWE4OWFhMjIgPSBMLmNpcmNsZU1hcmtlcigKICAgICAgICAgICAgICAgIFszNS42NjkyNjkxLCAxMzkuNzY3MDg3NF0sCiAgICAgICAgICAgICAgICB7ImJ1YmJsaW5nTW91c2VFdmVudHMiOiB0cnVlLCAiY29sb3IiOiAiIzMzY2MzMyIsICJkYXNoQXJyYXkiOiBudWxsLCAiZGFzaE9mZnNldCI6IG51bGwsICJmaWxsIjogdHJ1ZSwgImZpbGxDb2xvciI6ICIjRkZGIiwgImZpbGxPcGFjaXR5IjogMC43NSwgImZpbGxSdWxlIjogImV2ZW5vZGQiLCAibGluZUNhcCI6ICJyb3VuZCIsICJsaW5lSm9pbiI6ICJyb3VuZCIsICJvcGFjaXR5IjogMS4wLCAicmFkaXVzIjogMywgInN0cm9rZSI6IHRydWUsICJ3ZWlnaHQiOiAzfQogICAgICAgICAgICApLmFkZFRvKG1hcF8zYjUzZmQ4ODM3MDQ0NGFjOWJiYmRmNjIyYWFjNGUyZSk7CiAgICAgICAgCiAgICAKICAgICAgICB2YXIgcG9wdXBfNDUyNjU4NmE3MTZjNDJmNmIwMDU1NzI1MzMyZTNhOWEgPSBMLnBvcHVwKHsibWF4V2lkdGgiOiAiMTAwJSJ9KTsKCiAgICAgICAgCiAgICAgICAgICAgIHZhciBodG1sXzQ2YWU3MWZmOWY0MTRmODY4YmI3MjExYjE1ZWZlM2Q0ID0gJChgPGRpdiBpZD0iaHRtbF80NmFlNzFmZjlmNDE0Zjg2OGJiNzIxMWIxNWVmZTNkNCIgc3R5bGU9IndpZHRoOiAxMDAuMCU7IGhlaWdodDogMTAwLjAlOyI+VGhlIFByaW1lIFBvZCBHaW56YSBUb2t5bzwvZGl2PmApWzBdOwogICAgICAgICAgICBwb3B1cF80NTI2NTg2YTcxNmM0MmY2YjAwNTU3MjUzMzJlM2E5YS5zZXRDb250ZW50KGh0bWxfNDZhZTcxZmY5ZjQxNGY4NjhiYjcyMTFiMTVlZmUzZDQpOwogICAgICAgIAoKICAgICAgICBjaXJjbGVfbWFya2VyXzg0YTBkNDFiMzA1MTQzNjc5ZmNhMjRjNGFhODlhYTIyLmJpbmRQb3B1cChwb3B1cF80NTI2NTg2YTcxNmM0MmY2YjAwNTU3MjUzMzJlM2E5YSkKICAgICAgICA7CgogICAgICAgIAogICAgCiAgICAKICAgICAgICAgICAgdmFyIGNpcmNsZV9tYXJrZXJfNDU4Y2YzNzRlNDQ3NGQ4ZGE5MzcyMTU1YjFhMWYxYzEgPSBMLmNpcmNsZU1hcmtlcigKICAgICAgICAgICAgICAgIFszNS42NDgyMDM4LCAxMzkuNjc5NDM2MzAwMDAwMDJdLAogICAgICAgICAgICAgICAgeyJidWJibGluZ01vdXNlRXZlbnRzIjogdHJ1ZSwgImNvbG9yIjogIiMzM2NjMzMiLCAiZGFzaEFycmF5IjogbnVsbCwgImRhc2hPZmZzZXQiOiBudWxsLCAiZmlsbCI6IHRydWUsICJmaWxsQ29sb3IiOiAiI0ZGRiIsICJmaWxsT3BhY2l0eSI6IDAuNzUsICJmaWxsUnVsZSI6ICJldmVub2RkIiwgImxpbmVDYXAiOiAicm91bmQiLCAibGluZUpvaW4iOiAicm91bmQiLCAib3BhY2l0eSI6IDEuMCwgInJhZGl1cyI6IDMsICJzdHJva2UiOiB0cnVlLCAid2VpZ2h0IjogM30KICAgICAgICAgICAgKS5hZGRUbyhtYXBfM2I1M2ZkODgzNzA0NDRhYzliYmJkZjYyMmFhYzRlMmUpOwogICAgICAgIAogICAgCiAgICAgICAgdmFyIHBvcHVwX2Q2N2E2N2VjYjM3YjRhYzY4ZTUzZjJkYWNiZDAwODY5ID0gTC5wb3B1cCh7Im1heFdpZHRoIjogIjEwMCUifSk7CgogICAgICAgIAogICAgICAgICAgICB2YXIgaHRtbF9mY2I2MWM3NGQ1OTg0MWMyOTk3ODY2MTYwNzMzNzA0OCA9ICQoYDxkaXYgaWQ9Imh0bWxfZmNiNjFjNzRkNTk4NDFjMjk5Nzg2NjE2MDczMzcwNDgiIHN0eWxlPSJ3aWR0aDogMTAwLjAlOyBoZWlnaHQ6IDEwMC4wJTsiPlRva3lvIEhvc3RlbCBFTklTSEk8L2Rpdj5gKVswXTsKICAgICAgICAgICAgcG9wdXBfZDY3YTY3ZWNiMzdiNGFjNjhlNTNmMmRhY2JkMDA4Njkuc2V0Q29udGVudChodG1sX2ZjYjYxYzc0ZDU5ODQxYzI5OTc4NjYxNjA3MzM3MDQ4KTsKICAgICAgICAKCiAgICAgICAgY2lyY2xlX21hcmtlcl80NThjZjM3NGU0NDc0ZDhkYTkzNzIxNTViMWExZjFjMS5iaW5kUG9wdXAocG9wdXBfZDY3YTY3ZWNiMzdiNGFjNjhlNTNmMmRhY2JkMDA4NjkpCiAgICAgICAgOwoKICAgICAgICAKICAgIAogICAgCiAgICAgICAgICAgIHZhciBjaXJjbGVfbWFya2VyXzlmYzNlZjMyMzlmNjRlYWY5NGYwNzEwZmY1ZGU4NTk5ID0gTC5jaXJjbGVNYXJrZXIoCiAgICAgICAgICAgICAgICBbMzUuNjkyODM0OTk5OTk5OTk1LCAxMzkuNjc0MzM2XSwKICAgICAgICAgICAgICAgIHsiYnViYmxpbmdNb3VzZUV2ZW50cyI6IHRydWUsICJjb2xvciI6ICIjMzNjYzMzIiwgImRhc2hBcnJheSI6IG51bGwsICJkYXNoT2Zmc2V0IjogbnVsbCwgImZpbGwiOiB0cnVlLCAiZmlsbENvbG9yIjogIiNGRkYiLCAiZmlsbE9wYWNpdHkiOiAwLjc1LCAiZmlsbFJ1bGUiOiAiZXZlbm9kZCIsICJsaW5lQ2FwIjogInJvdW5kIiwgImxpbmVKb2luIjogInJvdW5kIiwgIm9wYWNpdHkiOiAxLjAsICJyYWRpdXMiOiAzLCAic3Ryb2tlIjogdHJ1ZSwgIndlaWdodCI6IDN9CiAgICAgICAgICAgICkuYWRkVG8obWFwXzNiNTNmZDg4MzcwNDQ0YWM5YmJiZGY2MjJhYWM0ZTJlKTsKICAgICAgICAKICAgIAogICAgICAgIHZhciBwb3B1cF9hODI5Zjg4NjIyY2U0NDhiOTE3NzFkM2Q2ZWZkZDAzOCA9IEwucG9wdXAoeyJtYXhXaWR0aCI6ICIxMDAlIn0pOwoKICAgICAgICAKICAgICAgICAgICAgdmFyIGh0bWxfZGQxNGM1OGI1MjgyNDYwOWI4MzVjNjM0NTk3MTMxYjMgPSAkKGA8ZGl2IGlkPSJodG1sX2RkMTRjNThiNTI4MjQ2MDliODM1YzYzNDU5NzEzMWIzIiBzdHlsZT0id2lkdGg6IDEwMC4wJTsgaGVpZ2h0OiAxMDAuMCU7Ij5Ub2t5byBIb3N0ZWwgRnVqaTwvZGl2PmApWzBdOwogICAgICAgICAgICBwb3B1cF9hODI5Zjg4NjIyY2U0NDhiOTE3NzFkM2Q2ZWZkZDAzOC5zZXRDb250ZW50KGh0bWxfZGQxNGM1OGI1MjgyNDYwOWI4MzVjNjM0NTk3MTMxYjMpOwogICAgICAgIAoKICAgICAgICBjaXJjbGVfbWFya2VyXzlmYzNlZjMyMzlmNjRlYWY5NGYwNzEwZmY1ZGU4NTk5LmJpbmRQb3B1cChwb3B1cF9hODI5Zjg4NjIyY2U0NDhiOTE3NzFkM2Q2ZWZkZDAzOCkKICAgICAgICA7CgogICAgICAgIAogICAgCiAgICAKICAgICAgICAgICAgdmFyIGNpcmNsZV9tYXJrZXJfMzdmZjcxZGMyZWY1NGZlMzkxMDJhYjFkNjgwODgxMjMgPSBMLmNpcmNsZU1hcmtlcigKICAgICAgICAgICAgICAgIFszNS43MDg4ODI4LCAxMzkuODE1MDA0MV0sCiAgICAgICAgICAgICAgICB7ImJ1YmJsaW5nTW91c2VFdmVudHMiOiB0cnVlLCAiY29sb3IiOiAiIzMzY2MzMyIsICJkYXNoQXJyYXkiOiBudWxsLCAiZGFzaE9mZnNldCI6IG51bGwsICJmaWxsIjogdHJ1ZSwgImZpbGxDb2xvciI6ICIjRkZGIiwgImZpbGxPcGFjaXR5IjogMC43NSwgImZpbGxSdWxlIjogImV2ZW5vZGQiLCAibGluZUNhcCI6ICJyb3VuZCIsICJsaW5lSm9pbiI6ICJyb3VuZCIsICJvcGFjaXR5IjogMS4wLCAicmFkaXVzIjogMywgInN0cm9rZSI6IHRydWUsICJ3ZWlnaHQiOiAzfQogICAgICAgICAgICApLmFkZFRvKG1hcF8zYjUzZmQ4ODM3MDQ0NGFjOWJiYmRmNjIyYWFjNGUyZSk7CiAgICAgICAgCiAgICAKICAgICAgICB2YXIgcG9wdXBfNzJjNDEyNjBhYTkwNGRkMGExNmNjMWJkODk5MDE5NWEgPSBMLnBvcHVwKHsibWF4V2lkdGgiOiAiMTAwJSJ9KTsKCiAgICAgICAgCiAgICAgICAgICAgIHZhciBodG1sXzlhNGUxZWYwZWQxNDQ2YzViODRjZTM5ZGViOTA5ODA0ID0gJChgPGRpdiBpZD0iaHRtbF85YTRlMWVmMGVkMTQ0NmM1Yjg0Y2UzOWRlYjkwOTgwNCIgc3R5bGU9IndpZHRoOiAxMDAuMCU7IGhlaWdodDogMTAwLjAlOyI+VG9reW8gSHV0dGU8L2Rpdj5gKVswXTsKICAgICAgICAgICAgcG9wdXBfNzJjNDEyNjBhYTkwNGRkMGExNmNjMWJkODk5MDE5NWEuc2V0Q29udGVudChodG1sXzlhNGUxZWYwZWQxNDQ2YzViODRjZTM5ZGViOTA5ODA0KTsKICAgICAgICAKCiAgICAgICAgY2lyY2xlX21hcmtlcl8zN2ZmNzFkYzJlZjU0ZmUzOTEwMmFiMWQ2ODA4ODEyMy5iaW5kUG9wdXAocG9wdXBfNzJjNDEyNjBhYTkwNGRkMGExNmNjMWJkODk5MDE5NWEpCiAgICAgICAgOwoKICAgICAgICAKICAgIAogICAgCiAgICAgICAgICAgIHZhciBjaXJjbGVfbWFya2VyXzE0NzRlNzYwMWViMjQ3NjlhOGI4MTkyY2RlZjMxMTU4ID0gTC5jaXJjbGVNYXJrZXIoCiAgICAgICAgICAgICAgICBbMzUuNjk5MTMwOSwgMTM5Ljc4OTIyMzQwMDAwMDAzXSwKICAgICAgICAgICAgICAgIHsiYnViYmxpbmdNb3VzZUV2ZW50cyI6IHRydWUsICJjb2xvciI6ICIjMzNjYzMzIiwgImRhc2hBcnJheSI6IG51bGwsICJkYXNoT2Zmc2V0IjogbnVsbCwgImZpbGwiOiB0cnVlLCAiZmlsbENvbG9yIjogIiNGRkYiLCAiZmlsbE9wYWNpdHkiOiAwLjc1LCAiZmlsbFJ1bGUiOiAiZXZlbm9kZCIsICJsaW5lQ2FwIjogInJvdW5kIiwgImxpbmVKb2luIjogInJvdW5kIiwgIm9wYWNpdHkiOiAxLjAsICJyYWRpdXMiOiAzLCAic3Ryb2tlIjogdHJ1ZSwgIndlaWdodCI6IDN9CiAgICAgICAgICAgICkuYWRkVG8obWFwXzNiNTNmZDg4MzcwNDQ0YWM5YmJiZGY2MjJhYWM0ZTJlKTsKICAgICAgICAKICAgIAogICAgICAgIHZhciBwb3B1cF8zZGQ0YTI4ODBjODA0NDZlYmI3M2E5YTI1YTViMmM3ZCA9IEwucG9wdXAoeyJtYXhXaWR0aCI6ICIxMDAlIn0pOwoKICAgICAgICAKICAgICAgICAgICAgdmFyIGh0bWxfMzM5N2NkZTRmNDAxNDczODkwMjNmZGJhMTBkNGM3OGMgPSAkKGA8ZGl2IGlkPSJodG1sXzMzOTdjZGU0ZjQwMTQ3Mzg5MDIzZmRiYTEwZDRjNzhjIiBzdHlsZT0id2lkdGg6IDEwMC4wJTsgaGVpZ2h0OiAxMDAuMCU7Ij5Ub2t5byBTdW1pZGFnYXdhIFlvdXRoIEhvc3RlbDwvZGl2PmApWzBdOwogICAgICAgICAgICBwb3B1cF8zZGQ0YTI4ODBjODA0NDZlYmI3M2E5YTI1YTViMmM3ZC5zZXRDb250ZW50KGh0bWxfMzM5N2NkZTRmNDAxNDczODkwMjNmZGJhMTBkNGM3OGMpOwogICAgICAgIAoKICAgICAgICBjaXJjbGVfbWFya2VyXzE0NzRlNzYwMWViMjQ3NjlhOGI4MTkyY2RlZjMxMTU4LmJpbmRQb3B1cChwb3B1cF8zZGQ0YTI4ODBjODA0NDZlYmI3M2E5YTI1YTViMmM3ZCkKICAgICAgICA7CgogICAgICAgIAogICAgCiAgICAKICAgICAgICAgICAgdmFyIGNpcmNsZV9tYXJrZXJfNmI0MTY4ODJiMTc4NDcxMmE3ZDJlNTU3OGNjZTFhY2MgPSBMLmNpcmNsZU1hcmtlcigKICAgICAgICAgICAgICAgIFszNS42NTUzODYxLCAxMzkuNjkyOTE1N10sCiAgICAgICAgICAgICAgICB7ImJ1YmJsaW5nTW91c2VFdmVudHMiOiB0cnVlLCAiY29sb3IiOiAiIzMzY2MzMyIsICJkYXNoQXJyYXkiOiBudWxsLCAiZGFzaE9mZnNldCI6IG51bGwsICJmaWxsIjogdHJ1ZSwgImZpbGxDb2xvciI6ICIjRkZGIiwgImZpbGxPcGFjaXR5IjogMC43NSwgImZpbGxSdWxlIjogImV2ZW5vZGQiLCAibGluZUNhcCI6ICJyb3VuZCIsICJsaW5lSm9pbiI6ICJyb3VuZCIsICJvcGFjaXR5IjogMS4wLCAicmFkaXVzIjogMywgInN0cm9rZSI6IHRydWUsICJ3ZWlnaHQiOiAzfQogICAgICAgICAgICApLmFkZFRvKG1hcF8zYjUzZmQ4ODM3MDQ0NGFjOWJiYmRmNjIyYWFjNGUyZSk7CiAgICAgICAgCiAgICAKICAgICAgICB2YXIgcG9wdXBfZTRkZDYyMmQ3NjdmNDhiMTliZDM0YjM3OWY4ZGQ5M2UgPSBMLnBvcHVwKHsibWF4V2lkdGgiOiAiMTAwJSJ9KTsKCiAgICAgICAgCiAgICAgICAgICAgIHZhciBodG1sXzgwOTkxODhmMTkwNzQ5Mzc4ZmYwMzczMWZjNjdiODRjID0gJChgPGRpdiBpZD0iaHRtbF84MDk5MTg4ZjE5MDc0OTM3OGZmMDM3MzFmYzY3Yjg0YyIgc3R5bGU9IndpZHRoOiAxMDAuMCU7IGhlaWdodDogMTAwLjAlOyI+VHVybiBUYWJsZSBIb3N0ZWw8L2Rpdj5gKVswXTsKICAgICAgICAgICAgcG9wdXBfZTRkZDYyMmQ3NjdmNDhiMTliZDM0YjM3OWY4ZGQ5M2Uuc2V0Q29udGVudChodG1sXzgwOTkxODhmMTkwNzQ5Mzc4ZmYwMzczMWZjNjdiODRjKTsKICAgICAgICAKCiAgICAgICAgY2lyY2xlX21hcmtlcl82YjQxNjg4MmIxNzg0NzEyYTdkMmU1NTc4Y2NlMWFjYy5iaW5kUG9wdXAocG9wdXBfZTRkZDYyMmQ3NjdmNDhiMTliZDM0YjM3OWY4ZGQ5M2UpCiAgICAgICAgOwoKICAgICAgICAKICAgIAogICAgCiAgICAgICAgICAgIHZhciBjaXJjbGVfbWFya2VyXzUyMmU1M2EyMWMwMjQyMDNiNjAyNjQ1ODYwZTg2YWEwID0gTC5jaXJjbGVNYXJrZXIoCiAgICAgICAgICAgICAgICBbMzUuNzA4NzQ2MywgMTM5Ljc3OTE3MDhdLAogICAgICAgICAgICAgICAgeyJidWJibGluZ01vdXNlRXZlbnRzIjogdHJ1ZSwgImNvbG9yIjogIiMzM2NjMzMiLCAiZGFzaEFycmF5IjogbnVsbCwgImRhc2hPZmZzZXQiOiBudWxsLCAiZmlsbCI6IHRydWUsICJmaWxsQ29sb3IiOiAiI0ZGRiIsICJmaWxsT3BhY2l0eSI6IDAuNzUsICJmaWxsUnVsZSI6ICJldmVub2RkIiwgImxpbmVDYXAiOiAicm91bmQiLCAibGluZUpvaW4iOiAicm91bmQiLCAib3BhY2l0eSI6IDEuMCwgInJhZGl1cyI6IDMsICJzdHJva2UiOiB0cnVlLCAid2VpZ2h0IjogM30KICAgICAgICAgICAgKS5hZGRUbyhtYXBfM2I1M2ZkODgzNzA0NDRhYzliYmJkZjYyMmFhYzRlMmUpOwogICAgICAgIAogICAgCiAgICAgICAgdmFyIHBvcHVwXzk4OWVlODZmMzEzNjQzZTZhYTMyMjI2M2IxNGE2Yjg5ID0gTC5wb3B1cCh7Im1heFdpZHRoIjogIjEwMCUifSk7CgogICAgICAgIAogICAgICAgICAgICB2YXIgaHRtbF9mODRmMTEwMTcxYjc0M2I2YWQwNmY1NGZkNjU4YjU5MyA9ICQoYDxkaXYgaWQ9Imh0bWxfZjg0ZjExMDE3MWI3NDNiNmFkMDZmNTRmZDY1OGI1OTMiIHN0eWxlPSJ3aWR0aDogMTAwLjAlOyBoZWlnaHQ6IDEwMC4wJTsiPlVubyBVZW5vPC9kaXY+YClbMF07CiAgICAgICAgICAgIHBvcHVwXzk4OWVlODZmMzEzNjQzZTZhYTMyMjI2M2IxNGE2Yjg5LnNldENvbnRlbnQoaHRtbF9mODRmMTEwMTcxYjc0M2I2YWQwNmY1NGZkNjU4YjU5Myk7CiAgICAgICAgCgogICAgICAgIGNpcmNsZV9tYXJrZXJfNTIyZTUzYTIxYzAyNDIwM2I2MDI2NDU4NjBlODZhYTAuYmluZFBvcHVwKHBvcHVwXzk4OWVlODZmMzEzNjQzZTZhYTMyMjI2M2IxNGE2Yjg5KQogICAgICAgIDsKCiAgICAgICAgCiAgICAKICAgIAogICAgICAgICAgICB2YXIgY2lyY2xlX21hcmtlcl9lOWQ4ZWRhNjE3Mzk0ZjNiOGQ5ODExN2M4YWVkNjVjNSA9IEwuY2lyY2xlTWFya2VyKAogICAgICAgICAgICAgICAgWzM1LjcwNTA2NTM5OTk5OTk5NSwgMTM5LjczMTMyMjgwMDAwMDAyXSwKICAgICAgICAgICAgICAgIHsiYnViYmxpbmdNb3VzZUV2ZW50cyI6IHRydWUsICJjb2xvciI6ICIjMzNjYzMzIiwgImRhc2hBcnJheSI6IG51bGwsICJkYXNoT2Zmc2V0IjogbnVsbCwgImZpbGwiOiB0cnVlLCAiZmlsbENvbG9yIjogIiNGRkYiLCAiZmlsbE9wYWNpdHkiOiAwLjc1LCAiZmlsbFJ1bGUiOiAiZXZlbm9kZCIsICJsaW5lQ2FwIjogInJvdW5kIiwgImxpbmVKb2luIjogInJvdW5kIiwgIm9wYWNpdHkiOiAxLjAsICJyYWRpdXMiOiAzLCAic3Ryb2tlIjogdHJ1ZSwgIndlaWdodCI6IDN9CiAgICAgICAgICAgICkuYWRkVG8obWFwXzNiNTNmZDg4MzcwNDQ0YWM5YmJiZGY2MjJhYWM0ZTJlKTsKICAgICAgICAKICAgIAogICAgICAgIHZhciBwb3B1cF8wZGNjMjgyMWJjOGU0MWI1YjVhODc2OTVjYjFmNzViNiA9IEwucG9wdXAoeyJtYXhXaWR0aCI6ICIxMDAlIn0pOwoKICAgICAgICAKICAgICAgICAgICAgdmFyIGh0bWxfYWRlZjI2ZmMwY2IxNDkzZDhmN2NiODRmNGZhZDRhNmQgPSAkKGA8ZGl2IGlkPSJodG1sX2FkZWYyNmZjMGNiMTQ5M2Q4ZjdjYjg0ZjRmYWQ0YTZkIiBzdHlsZT0id2lkdGg6IDEwMC4wJTsgaGVpZ2h0OiAxMDAuMCU7Ij5VbnBsYW4gS2FndXJhemFrYTwvZGl2PmApWzBdOwogICAgICAgICAgICBwb3B1cF8wZGNjMjgyMWJjOGU0MWI1YjVhODc2OTVjYjFmNzViNi5zZXRDb250ZW50KGh0bWxfYWRlZjI2ZmMwY2IxNDkzZDhmN2NiODRmNGZhZDRhNmQpOwogICAgICAgIAoKICAgICAgICBjaXJjbGVfbWFya2VyX2U5ZDhlZGE2MTczOTRmM2I4ZDk4MTE3YzhhZWQ2NWM1LmJpbmRQb3B1cChwb3B1cF8wZGNjMjgyMWJjOGU0MWI1YjVhODc2OTVjYjFmNzViNikKICAgICAgICA7CgogICAgICAgIAogICAgCiAgICAKICAgICAgICAgICAgdmFyIGNpcmNsZV9tYXJrZXJfYTE4MGFmZDNjNzIxNGYzMzk5OTZkNDBhNjBkNjRiOTEgPSBMLmNpcmNsZU1hcmtlcigKICAgICAgICAgICAgICAgIFszNS43MTU4NTMzLCAxMzkuNzkzOTA1XSwKICAgICAgICAgICAgICAgIHsiYnViYmxpbmdNb3VzZUV2ZW50cyI6IHRydWUsICJjb2xvciI6ICIjMzNjYzMzIiwgImRhc2hBcnJheSI6IG51bGwsICJkYXNoT2Zmc2V0IjogbnVsbCwgImZpbGwiOiB0cnVlLCAiZmlsbENvbG9yIjogIiNGRkYiLCAiZmlsbE9wYWNpdHkiOiAwLjc1LCAiZmlsbFJ1bGUiOiAiZXZlbm9kZCIsICJsaW5lQ2FwIjogInJvdW5kIiwgImxpbmVKb2luIjogInJvdW5kIiwgIm9wYWNpdHkiOiAxLjAsICJyYWRpdXMiOiAzLCAic3Ryb2tlIjogdHJ1ZSwgIndlaWdodCI6IDN9CiAgICAgICAgICAgICkuYWRkVG8obWFwXzNiNTNmZDg4MzcwNDQ0YWM5YmJiZGY2MjJhYWM0ZTJlKTsKICAgICAgICAKICAgIAogICAgICAgIHZhciBwb3B1cF9iMDc0NzhlYTBjMjc0ZDVhOGYxMTE5ZWJkMTljOWU5NSA9IEwucG9wdXAoeyJtYXhXaWR0aCI6ICIxMDAlIn0pOwoKICAgICAgICAKICAgICAgICAgICAgdmFyIGh0bWxfNjJiZjQ3YTQ0OTc4NGFjY2FhN2E1OGQxNmM5Y2M1YWYgPSAkKGA8ZGl2IGlkPSJodG1sXzYyYmY0N2E0NDk3ODRhY2NhYTdhNThkMTZjOWNjNWFmIiBzdHlsZT0id2lkdGg6IDEwMC4wJTsgaGVpZ2h0OiAxMDAuMCU7Ij5XSVJFRCBIT1RFTCBBc2FrdXNhPC9kaXY+YClbMF07CiAgICAgICAgICAgIHBvcHVwX2IwNzQ3OGVhMGMyNzRkNWE4ZjExMTllYmQxOWM5ZTk1LnNldENvbnRlbnQoaHRtbF82MmJmNDdhNDQ5Nzg0YWNjYWE3YTU4ZDE2YzljYzVhZik7CiAgICAgICAgCgogICAgICAgIGNpcmNsZV9tYXJrZXJfYTE4MGFmZDNjNzIxNGYzMzk5OTZkNDBhNjBkNjRiOTEuYmluZFBvcHVwKHBvcHVwX2IwNzQ3OGVhMGMyNzRkNWE4ZjExMTllYmQxOWM5ZTk1KQogICAgICAgIDsKCiAgICAgICAgCiAgICAKICAgIAogICAgICAgICAgICB2YXIgY2lyY2xlX21hcmtlcl9hZTgwY2EwYjFmY2Q0MjAzODI4NGFmYzdlZDk2NWQwMSA9IEwuY2lyY2xlTWFya2VyKAogICAgICAgICAgICAgICAgWzM1LjY1MzcwMDEsIDEzOS42ODk3NzQzXSwKICAgICAgICAgICAgICAgIHsiYnViYmxpbmdNb3VzZUV2ZW50cyI6IHRydWUsICJjb2xvciI6ICIjMzNjYzMzIiwgImRhc2hBcnJheSI6IG51bGwsICJkYXNoT2Zmc2V0IjogbnVsbCwgImZpbGwiOiB0cnVlLCAiZmlsbENvbG9yIjogIiNGRkYiLCAiZmlsbE9wYWNpdHkiOiAwLjc1LCAiZmlsbFJ1bGUiOiAiZXZlbm9kZCIsICJsaW5lQ2FwIjogInJvdW5kIiwgImxpbmVKb2luIjogInJvdW5kIiwgIm9wYWNpdHkiOiAxLjAsICJyYWRpdXMiOiAzLCAic3Ryb2tlIjogdHJ1ZSwgIndlaWdodCI6IDN9CiAgICAgICAgICAgICkuYWRkVG8obWFwXzNiNTNmZDg4MzcwNDQ0YWM5YmJiZGY2MjJhYWM0ZTJlKTsKICAgICAgICAKICAgIAogICAgICAgIHZhciBwb3B1cF9lMDQ1YmNkMzZlODI0ZjYyOWM2OTAyZjdjN2MyOTU2NCA9IEwucG9wdXAoeyJtYXhXaWR0aCI6ICIxMDAlIn0pOwoKICAgICAgICAKICAgICAgICAgICAgdmFyIGh0bWxfYzE3NjRiMzQyOWE4NDQyNmJmZTU4NzgwNjkxNDU1NzMgPSAkKGA8ZGl2IGlkPSJodG1sX2MxNzY0YjM0MjlhODQ0MjZiZmU1ODc4MDY5MTQ1NTczIiBzdHlsZT0id2lkdGg6IDEwMC4wJTsgaGVpZ2h0OiAxMDAuMCU7Ij5XaXNlIE93bCBIb3N0ZWxzIFNoaWJ1eWE8L2Rpdj5gKVswXTsKICAgICAgICAgICAgcG9wdXBfZTA0NWJjZDM2ZTgyNGY2MjljNjkwMmY3YzdjMjk1NjQuc2V0Q29udGVudChodG1sX2MxNzY0YjM0MjlhODQ0MjZiZmU1ODc4MDY5MTQ1NTczKTsKICAgICAgICAKCiAgICAgICAgY2lyY2xlX21hcmtlcl9hZTgwY2EwYjFmY2Q0MjAzODI4NGFmYzdlZDk2NWQwMS5iaW5kUG9wdXAocG9wdXBfZTA0NWJjZDM2ZTgyNGY2MjljNjkwMmY3YzdjMjk1NjQpCiAgICAgICAgOwoKICAgICAgICAKICAgIAogICAgCiAgICAgICAgICAgIHZhciBjaXJjbGVfbWFya2VyX2RkZGVjYzhjNzc4NDQ1MjJiMzc4MjA4OTE4NzIwYTdmID0gTC5jaXJjbGVNYXJrZXIoCiAgICAgICAgICAgICAgICBbMzUuNjc0NzgwNywgMTM5Ljc3NzI3NDgwMDAwMDAxXSwKICAgICAgICAgICAgICAgIHsiYnViYmxpbmdNb3VzZUV2ZW50cyI6IHRydWUsICJjb2xvciI6ICIjMzNjYzMzIiwgImRhc2hBcnJheSI6IG51bGwsICJkYXNoT2Zmc2V0IjogbnVsbCwgImZpbGwiOiB0cnVlLCAiZmlsbENvbG9yIjogIiNGRkYiLCAiZmlsbE9wYWNpdHkiOiAwLjc1LCAiZmlsbFJ1bGUiOiAiZXZlbm9kZCIsICJsaW5lQ2FwIjogInJvdW5kIiwgImxpbmVKb2luIjogInJvdW5kIiwgIm9wYWNpdHkiOiAxLjAsICJyYWRpdXMiOiAzLCAic3Ryb2tlIjogdHJ1ZSwgIndlaWdodCI6IDN9CiAgICAgICAgICAgICkuYWRkVG8obWFwXzNiNTNmZDg4MzcwNDQ0YWM5YmJiZGY2MjJhYWM0ZTJlKTsKICAgICAgICAKICAgIAogICAgICAgIHZhciBwb3B1cF84YmM4OTQ1YzcyYTU0MGYwOTM3YThhZTc2YjU3ZWQ4NSA9IEwucG9wdXAoeyJtYXhXaWR0aCI6ICIxMDAlIn0pOwoKICAgICAgICAKICAgICAgICAgICAgdmFyIGh0bWxfMjA5NjcxYjRkMGIwNGVjNmFmZjEzNWM2YmRmZTJjNmIgPSAkKGA8ZGl2IGlkPSJodG1sXzIwOTY3MWI0ZDBiMDRlYzZhZmYxMzVjNmJkZmUyYzZiIiBzdHlsZT0id2lkdGg6IDEwMC4wJTsgaGVpZ2h0OiAxMDAuMCU7Ij5XaXNlIE93bCBIb3N0ZWxzIFRva3lvPC9kaXY+YClbMF07CiAgICAgICAgICAgIHBvcHVwXzhiYzg5NDVjNzJhNTQwZjA5MzdhOGFlNzZiNTdlZDg1LnNldENvbnRlbnQoaHRtbF8yMDk2NzFiNGQwYjA0ZWM2YWZmMTM1YzZiZGZlMmM2Yik7CiAgICAgICAgCgogICAgICAgIGNpcmNsZV9tYXJrZXJfZGRkZWNjOGM3Nzg0NDUyMmIzNzgyMDg5MTg3MjBhN2YuYmluZFBvcHVwKHBvcHVwXzhiYzg5NDVjNzJhNTQwZjA5MzdhOGFlNzZiNTdlZDg1KQogICAgICAgIDsKCiAgICAgICAgCiAgICAKICAgIAogICAgICAgICAgICB2YXIgY2lyY2xlX21hcmtlcl8yODkzMzZmNDI0NDE0NjJjOTEyMWU1MDg5MTc0ZjMyOSA9IEwuY2lyY2xlTWFya2VyKAogICAgICAgICAgICAgICAgWzM1LjcwNjUxMjU5OTk5OTk5NiwgMTM5LjY2NzY5NDddLAogICAgICAgICAgICAgICAgeyJidWJibGluZ01vdXNlRXZlbnRzIjogdHJ1ZSwgImNvbG9yIjogIiMzM2NjMzMiLCAiZGFzaEFycmF5IjogbnVsbCwgImRhc2hPZmZzZXQiOiBudWxsLCAiZmlsbCI6IHRydWUsICJmaWxsQ29sb3IiOiAiI0ZGRiIsICJmaWxsT3BhY2l0eSI6IDAuNzUsICJmaWxsUnVsZSI6ICJldmVub2RkIiwgImxpbmVDYXAiOiAicm91bmQiLCAibGluZUpvaW4iOiAicm91bmQiLCAib3BhY2l0eSI6IDEuMCwgInJhZGl1cyI6IDMsICJzdHJva2UiOiB0cnVlLCAid2VpZ2h0IjogM30KICAgICAgICAgICAgKS5hZGRUbyhtYXBfM2I1M2ZkODgzNzA0NDRhYzliYmJkZjYyMmFhYzRlMmUpOwogICAgICAgIAogICAgCiAgICAgICAgdmFyIHBvcHVwXzVjNDkwYjdkNzNmYjRmM2U5MThmNWMwMTE5MzNlMzA3ID0gTC5wb3B1cCh7Im1heFdpZHRoIjogIjEwMCUifSk7CgogICAgICAgIAogICAgICAgICAgICB2YXIgaHRtbF8yYWEzZGQ0MmFhYTk0MWEzYmUxNjIxZDgwZTcyYTRlMiA9ICQoYDxkaXYgaWQ9Imh0bWxfMmFhM2RkNDJhYWE5NDFhM2JlMTYyMWQ4MGU3MmE0ZTIiIHN0eWxlPSJ3aWR0aDogMTAwLjAlOyBoZWlnaHQ6IDEwMC4wJTsiPllBRE9ZQSBHdWVzdGhvdXNlIE9yYW5nZTwvZGl2PmApWzBdOwogICAgICAgICAgICBwb3B1cF81YzQ5MGI3ZDczZmI0ZjNlOTE4ZjVjMDExOTMzZTMwNy5zZXRDb250ZW50KGh0bWxfMmFhM2RkNDJhYWE5NDFhM2JlMTYyMWQ4MGU3MmE0ZTIpOwogICAgICAgIAoKICAgICAgICBjaXJjbGVfbWFya2VyXzI4OTMzNmY0MjQ0MTQ2MmM5MTIxZTUwODkxNzRmMzI5LmJpbmRQb3B1cChwb3B1cF81YzQ5MGI3ZDczZmI0ZjNlOTE4ZjVjMDExOTMzZTMwNykKICAgICAgICA7CgogICAgICAgIAogICAgCiAgICAKICAgICAgICAgICAgdmFyIGNpcmNsZV9tYXJrZXJfMjA4ZTliNzIwYjk0NDIwYjlkNTZkYTE1OWQwODM4NjYgPSBMLmNpcmNsZU1hcmtlcigKICAgICAgICAgICAgICAgIFszNS43NTI4ODQ2LCAxMzkuODY5MTk2Nl0sCiAgICAgICAgICAgICAgICB7ImJ1YmJsaW5nTW91c2VFdmVudHMiOiB0cnVlLCAiY29sb3IiOiAiIzMzY2MzMyIsICJkYXNoQXJyYXkiOiBudWxsLCAiZGFzaE9mZnNldCI6IG51bGwsICJmaWxsIjogdHJ1ZSwgImZpbGxDb2xvciI6ICIjRkZGIiwgImZpbGxPcGFjaXR5IjogMC43NSwgImZpbGxSdWxlIjogImV2ZW5vZGQiLCAibGluZUNhcCI6ICJyb3VuZCIsICJsaW5lSm9pbiI6ICJyb3VuZCIsICJvcGFjaXR5IjogMS4wLCAicmFkaXVzIjogMywgInN0cm9rZSI6IHRydWUsICJ3ZWlnaHQiOiAzfQogICAgICAgICAgICApLmFkZFRvKG1hcF8zYjUzZmQ4ODM3MDQ0NGFjOWJiYmRmNjIyYWFjNGUyZSk7CiAgICAgICAgCiAgICAKICAgICAgICB2YXIgcG9wdXBfM2UzYjg3NDJmN2ZmNDhkMDk1MzUxNGYyZTkxMzY1OGUgPSBMLnBvcHVwKHsibWF4V2lkdGgiOiAiMTAwJSJ9KTsKCiAgICAgICAgCiAgICAgICAgICAgIHZhciBodG1sXzMxMGZlMGI5ZjA4YTRiYzZhY2QxNTVjNWNiOTYyOGJiID0gJChgPGRpdiBpZD0iaHRtbF8zMTBmZTBiOWYwOGE0YmM2YWNkMTU1YzVjYjk2MjhiYiIgc3R5bGU9IndpZHRoOiAxMDAuMCU7IGhlaWdodDogMTAwLjAlOyI+WUFXUCEgYmFja3BhY2tlcnM8L2Rpdj5gKVswXTsKICAgICAgICAgICAgcG9wdXBfM2UzYjg3NDJmN2ZmNDhkMDk1MzUxNGYyZTkxMzY1OGUuc2V0Q29udGVudChodG1sXzMxMGZlMGI5ZjA4YTRiYzZhY2QxNTVjNWNiOTYyOGJiKTsKICAgICAgICAKCiAgICAgICAgY2lyY2xlX21hcmtlcl8yMDhlOWI3MjBiOTQ0MjBiOWQ1NmRhMTU5ZDA4Mzg2Ni5iaW5kUG9wdXAocG9wdXBfM2UzYjg3NDJmN2ZmNDhkMDk1MzUxNGYyZTkxMzY1OGUpCiAgICAgICAgOwoKICAgICAgICAKICAgIAogICAgCiAgICAgICAgICAgIHZhciBjaXJjbGVfbWFya2VyX2I5YzZiZjIyNjI2NzQwNjQ4NzRiOTE5YjkzYjVkOGU3ID0gTC5jaXJjbGVNYXJrZXIoCiAgICAgICAgICAgICAgICBbMzUuNzEyNzE2LCAxMzkuNzgzNjY2OTk5OTk5OThdLAogICAgICAgICAgICAgICAgeyJidWJibGluZ01vdXNlRXZlbnRzIjogdHJ1ZSwgImNvbG9yIjogIiNCQzAwMkQiLCAiZGFzaEFycmF5IjogbnVsbCwgImRhc2hPZmZzZXQiOiBudWxsLCAiZmlsbCI6IHRydWUsICJmaWxsQ29sb3IiOiAiI0ZGRiIsICJmaWxsT3BhY2l0eSI6IDAuNzUsICJmaWxsUnVsZSI6ICJldmVub2RkIiwgImxpbmVDYXAiOiAicm91bmQiLCAibGluZUpvaW4iOiAicm91bmQiLCAib3BhY2l0eSI6IDEuMCwgInJhZGl1cyI6IDMsICJzdHJva2UiOiB0cnVlLCAid2VpZ2h0IjogM30KICAgICAgICAgICAgKS5hZGRUbyhtYXBfM2I1M2ZkODgzNzA0NDRhYzliYmJkZjYyMmFhYzRlMmUpOwogICAgICAgIAogICAgCiAgICAgICAgdmFyIHBvcHVwXzU3OTIwMzE0YWRiYTQ0ZmU5MGJjMmRjYWY0NDI2ZDM4ID0gTC5wb3B1cCh7Im1heFdpZHRoIjogIjEwMCUifSk7CgogICAgICAgIAogICAgICAgICAgICB2YXIgaHRtbF9jOGUxZWJhMDQ1MGQ0NzEzYTcyZGNjNzJkODk5ZDVhYSA9ICQoYDxkaXYgaWQ9Imh0bWxfYzhlMWViYTA0NTBkNDcxM2E3MmRjYzcyZDg5OWQ1YWEiIHN0eWxlPSJ3aWR0aDogMTAwLjAlOyBoZWlnaHQ6IDEwMC4wJTsiPiZhbXA7QW5kIEhvc3RlbCBVZW5vPC9kaXY+YClbMF07CiAgICAgICAgICAgIHBvcHVwXzU3OTIwMzE0YWRiYTQ0ZmU5MGJjMmRjYWY0NDI2ZDM4LnNldENvbnRlbnQoaHRtbF9jOGUxZWJhMDQ1MGQ0NzEzYTcyZGNjNzJkODk5ZDVhYSk7CiAgICAgICAgCgogICAgICAgIGNpcmNsZV9tYXJrZXJfYjljNmJmMjI2MjY3NDA2NDg3NGI5MTliOTNiNWQ4ZTcuYmluZFBvcHVwKHBvcHVwXzU3OTIwMzE0YWRiYTQ0ZmU5MGJjMmRjYWY0NDI2ZDM4KQogICAgICAgIDsKCiAgICAgICAgCiAgICAKICAgIAogICAgICAgICAgICB2YXIgY2lyY2xlX21hcmtlcl9kMGNiNjI3NzY2ZWM0YWViODdhYjU0OWQ4OTdjZmNlNSA9IEwuY2lyY2xlTWFya2VyKAogICAgICAgICAgICAgICAgWzM1LjcyNDM4NCwgMTM5Ljc4Njk0OTldLAogICAgICAgICAgICAgICAgeyJidWJibGluZ01vdXNlRXZlbnRzIjogdHJ1ZSwgImNvbG9yIjogIiNCQzAwMkQiLCAiZGFzaEFycmF5IjogbnVsbCwgImRhc2hPZmZzZXQiOiBudWxsLCAiZmlsbCI6IHRydWUsICJmaWxsQ29sb3IiOiAiI0ZGRiIsICJmaWxsT3BhY2l0eSI6IDAuNzUsICJmaWxsUnVsZSI6ICJldmVub2RkIiwgImxpbmVDYXAiOiAicm91bmQiLCAibGluZUpvaW4iOiAicm91bmQiLCAib3BhY2l0eSI6IDEuMCwgInJhZGl1cyI6IDMsICJzdHJva2UiOiB0cnVlLCAid2VpZ2h0IjogM30KICAgICAgICAgICAgKS5hZGRUbyhtYXBfM2I1M2ZkODgzNzA0NDRhYzliYmJkZjYyMmFhYzRlMmUpOwogICAgICAgIAogICAgCiAgICAgICAgdmFyIHBvcHVwX2Y3MmY1OGRiZGVhNjQ3MmVhZGNiMTk3ZDAyMTE3OWUwID0gTC5wb3B1cCh7Im1heFdpZHRoIjogIjEwMCUifSk7CgogICAgICAgIAogICAgICAgICAgICB2YXIgaHRtbF84NWE3ZDU0MGQzYTc0NDhhODlhYTQ0ODA3NzNhMmViZCA9ICQoYDxkaXYgaWQ9Imh0bWxfODVhN2Q1NDBkM2E3NDQ4YTg5YWE0NDgwNzczYTJlYmQiIHN0eWxlPSJ3aWR0aDogMTAwLjAlOyBoZWlnaHQ6IDEwMC4wJTsiPjFuaWdodDE5ODBob3N0ZWwgVG9reW88L2Rpdj5gKVswXTsKICAgICAgICAgICAgcG9wdXBfZjcyZjU4ZGJkZWE2NDcyZWFkY2IxOTdkMDIxMTc5ZTAuc2V0Q29udGVudChodG1sXzg1YTdkNTQwZDNhNzQ0OGE4OWFhNDQ4MDc3M2EyZWJkKTsKICAgICAgICAKCiAgICAgICAgY2lyY2xlX21hcmtlcl9kMGNiNjI3NzY2ZWM0YWViODdhYjU0OWQ4OTdjZmNlNS5iaW5kUG9wdXAocG9wdXBfZjcyZjU4ZGJkZWE2NDcyZWFkY2IxOTdkMDIxMTc5ZTApCiAgICAgICAgOwoKICAgICAgICAKICAgIAogICAgCiAgICAgICAgICAgIHZhciBjaXJjbGVfbWFya2VyXzUwNzU5ZjM3MDg5NjRiMGNiMWJmMjllZDU4MzFiNWM4ID0gTC5jaXJjbGVNYXJrZXIoCiAgICAgICAgICAgICAgICBbMzUuNjkyNTExOSwgMTM5LjcyNDMwMzU5OTk5OTk4XSwKICAgICAgICAgICAgICAgIHsiYnViYmxpbmdNb3VzZUV2ZW50cyI6IHRydWUsICJjb2xvciI6ICIjQkMwMDJEIiwgImRhc2hBcnJheSI6IG51bGwsICJkYXNoT2Zmc2V0IjogbnVsbCwgImZpbGwiOiB0cnVlLCAiZmlsbENvbG9yIjogIiNGRkYiLCAiZmlsbE9wYWNpdHkiOiAwLjc1LCAiZmlsbFJ1bGUiOiAiZXZlbm9kZCIsICJsaW5lQ2FwIjogInJvdW5kIiwgImxpbmVKb2luIjogInJvdW5kIiwgIm9wYWNpdHkiOiAxLjAsICJyYWRpdXMiOiAzLCAic3Ryb2tlIjogdHJ1ZSwgIndlaWdodCI6IDN9CiAgICAgICAgICAgICkuYWRkVG8obWFwXzNiNTNmZDg4MzcwNDQ0YWM5YmJiZGY2MjJhYWM0ZTJlKTsKICAgICAgICAKICAgIAogICAgICAgIHZhciBwb3B1cF9mOWE5MGE2NWFiOTQ0ZGRiOGZiNDk2NzViMzU2ZWY4MyA9IEwucG9wdXAoeyJtYXhXaWR0aCI6ICIxMDAlIn0pOwoKICAgICAgICAKICAgICAgICAgICAgdmFyIGh0bWxfZWU1ZWVmNjM1YWU4NDFkNTk2ZTVlN2NmNjgzN2ViZjMgPSAkKGA8ZGl2IGlkPSJodG1sX2VlNWVlZjYzNWFlODQxZDU5NmU1ZTdjZjY4MzdlYmYzIiBzdHlsZT0id2lkdGg6IDEwMC4wJTsgaGVpZ2h0OiAxMDAuMCU7Ij5BY2UgSW5uIFNoaW5qdWt1PC9kaXY+YClbMF07CiAgICAgICAgICAgIHBvcHVwX2Y5YTkwYTY1YWI5NDRkZGI4ZmI0OTY3NWIzNTZlZjgzLnNldENvbnRlbnQoaHRtbF9lZTVlZWY2MzVhZTg0MWQ1OTZlNWU3Y2Y2ODM3ZWJmMyk7CiAgICAgICAgCgogICAgICAgIGNpcmNsZV9tYXJrZXJfNTA3NTlmMzcwODk2NGIwY2IxYmYyOWVkNTgzMWI1YzguYmluZFBvcHVwKHBvcHVwX2Y5YTkwYTY1YWI5NDRkZGI4ZmI0OTY3NWIzNTZlZjgzKQogICAgICAgIDsKCiAgICAgICAgCiAgICAKICAgIAogICAgICAgICAgICB2YXIgY2lyY2xlX21hcmtlcl83NWVhMGEwMTFhZGQ0MmFlYWY0OGRmZjY5OTBiYTEyNyA9IEwuY2lyY2xlTWFya2VyKAogICAgICAgICAgICAgICAgWzM1LjcyNzU0Njk5OTk5OTk5NCwgMTM5LjgwMDk5M10sCiAgICAgICAgICAgICAgICB7ImJ1YmJsaW5nTW91c2VFdmVudHMiOiB0cnVlLCAiY29sb3IiOiAiI0JDMDAyRCIsICJkYXNoQXJyYXkiOiBudWxsLCAiZGFzaE9mZnNldCI6IG51bGwsICJmaWxsIjogdHJ1ZSwgImZpbGxDb2xvciI6ICIjRkZGIiwgImZpbGxPcGFjaXR5IjogMC43NSwgImZpbGxSdWxlIjogImV2ZW5vZGQiLCAibGluZUNhcCI6ICJyb3VuZCIsICJsaW5lSm9pbiI6ICJyb3VuZCIsICJvcGFjaXR5IjogMS4wLCAicmFkaXVzIjogMywgInN0cm9rZSI6IHRydWUsICJ3ZWlnaHQiOiAzfQogICAgICAgICAgICApLmFkZFRvKG1hcF8zYjUzZmQ4ODM3MDQ0NGFjOWJiYmRmNjIyYWFjNGUyZSk7CiAgICAgICAgCiAgICAKICAgICAgICB2YXIgcG9wdXBfOTdjYmQ0ZWU1N2JlNGI1OGFmOGVkYTA5MWI0MGI3MjggPSBMLnBvcHVwKHsibWF4V2lkdGgiOiAiMTAwJSJ9KTsKCiAgICAgICAgCiAgICAgICAgICAgIHZhciBodG1sX2NmNDlhZDFiYTI2ZTRhZjE5N2U2NTM1ZmZmNGE3ZDllID0gJChgPGRpdiBpZD0iaHRtbF9jZjQ5YWQxYmEyNmU0YWYxOTdlNjUzNWZmZjRhN2Q5ZSIgc3R5bGU9IndpZHRoOiAxMDAuMCU7IGhlaWdodDogMTAwLjAlOyI+QWl6dXlhIElubjwvZGl2PmApWzBdOwogICAgICAgICAgICBwb3B1cF85N2NiZDRlZTU3YmU0YjU4YWY4ZWRhMDkxYjQwYjcyOC5zZXRDb250ZW50KGh0bWxfY2Y0OWFkMWJhMjZlNGFmMTk3ZTY1MzVmZmY0YTdkOWUpOwogICAgICAgIAoKICAgICAgICBjaXJjbGVfbWFya2VyXzc1ZWEwYTAxMWFkZDQyYWVhZjQ4ZGZmNjk5MGJhMTI3LmJpbmRQb3B1cChwb3B1cF85N2NiZDRlZTU3YmU0YjU4YWY4ZWRhMDkxYjQwYjcyOCkKICAgICAgICA7CgogICAgICAgIAogICAgCiAgICAKICAgICAgICAgICAgdmFyIGNpcmNsZV9tYXJrZXJfNDE3NTFiOTFjYjczNDQwNGE0MmNhMGZmY2ZlZmYxYzggPSBMLmNpcmNsZU1hcmtlcigKICAgICAgICAgICAgICAgIFszNS43MDczNjMsIDEzOS44MDA2MTZdLAogICAgICAgICAgICAgICAgeyJidWJibGluZ01vdXNlRXZlbnRzIjogdHJ1ZSwgImNvbG9yIjogIiNCQzAwMkQiLCAiZGFzaEFycmF5IjogbnVsbCwgImRhc2hPZmZzZXQiOiBudWxsLCAiZmlsbCI6IHRydWUsICJmaWxsQ29sb3IiOiAiI0ZGRiIsICJmaWxsT3BhY2l0eSI6IDAuNzUsICJmaWxsUnVsZSI6ICJldmVub2RkIiwgImxpbmVDYXAiOiAicm91bmQiLCAibGluZUpvaW4iOiAicm91bmQiLCAib3BhY2l0eSI6IDEuMCwgInJhZGl1cyI6IDMsICJzdHJva2UiOiB0cnVlLCAid2VpZ2h0IjogM30KICAgICAgICAgICAgKS5hZGRUbyhtYXBfM2I1M2ZkODgzNzA0NDRhYzliYmJkZjYyMmFhYzRlMmUpOwogICAgICAgIAogICAgCiAgICAgICAgdmFyIHBvcHVwXzk4OTMwNzEwOWFjNjRlYzFhNWIzMzdlMjdmNDcyNWMyID0gTC5wb3B1cCh7Im1heFdpZHRoIjogIjEwMCUifSk7CgogICAgICAgIAogICAgICAgICAgICB2YXIgaHRtbF85Y2IwZDI3YWI0YzM0ZDc3ODk4YTUzNjA0NmMxYTY0YiA9ICQoYDxkaXYgaWQ9Imh0bWxfOWNiMGQyN2FiNGMzNGQ3Nzg5OGE1MzYwNDZjMWE2NGIiIHN0eWxlPSJ3aWR0aDogMTAwLjAlOyBoZWlnaHQ6IDEwMC4wJTsiPkFTIEhvdXNlIChBc2FrdXNhIFNtaWxlKTwvZGl2PmApWzBdOwogICAgICAgICAgICBwb3B1cF85ODkzMDcxMDlhYzY0ZWMxYTViMzM3ZTI3ZjQ3MjVjMi5zZXRDb250ZW50KGh0bWxfOWNiMGQyN2FiNGMzNGQ3Nzg5OGE1MzYwNDZjMWE2NGIpOwogICAgICAgIAoKICAgICAgICBjaXJjbGVfbWFya2VyXzQxNzUxYjkxY2I3MzQ0MDRhNDJjYTBmZmNmZWZmMWM4LmJpbmRQb3B1cChwb3B1cF85ODkzMDcxMDlhYzY0ZWMxYTViMzM3ZTI3ZjQ3MjVjMikKICAgICAgICA7CgogICAgICAgIAogICAgCiAgICAKICAgICAgICAgICAgdmFyIGNpcmNsZV9tYXJrZXJfY2I2YmMwYTJlNmEyNDU2ZTlmM2U2YzE5N2QxZDJkY2UgPSBMLmNpcmNsZU1hcmtlcigKICAgICAgICAgICAgICAgIFszNS43MTMxNzcsIDEzOS43OTA4MTAwMDAwMDAwMl0sCiAgICAgICAgICAgICAgICB7ImJ1YmJsaW5nTW91c2VFdmVudHMiOiB0cnVlLCAiY29sb3IiOiAiI0JDMDAyRCIsICJkYXNoQXJyYXkiOiBudWxsLCAiZGFzaE9mZnNldCI6IG51bGwsICJmaWxsIjogdHJ1ZSwgImZpbGxDb2xvciI6ICIjRkZGIiwgImZpbGxPcGFjaXR5IjogMC43NSwgImZpbGxSdWxlIjogImV2ZW5vZGQiLCAibGluZUNhcCI6ICJyb3VuZCIsICJsaW5lSm9pbiI6ICJyb3VuZCIsICJvcGFjaXR5IjogMS4wLCAicmFkaXVzIjogMywgInN0cm9rZSI6IHRydWUsICJ3ZWlnaHQiOiAzfQogICAgICAgICAgICApLmFkZFRvKG1hcF8zYjUzZmQ4ODM3MDQ0NGFjOWJiYmRmNjIyYWFjNGUyZSk7CiAgICAgICAgCiAgICAKICAgICAgICB2YXIgcG9wdXBfZDEzN2M4MGQ5Njc3NDE5NWI3ZGE2NTgyNzFhYTBkN2IgPSBMLnBvcHVwKHsibWF4V2lkdGgiOiAiMTAwJSJ9KTsKCiAgICAgICAgCiAgICAgICAgICAgIHZhciBodG1sXzJhNzBlZmZhNzZiNDQ3NjhiNzg0ODAwNTYyNDRlMDM1ID0gJChgPGRpdiBpZD0iaHRtbF8yYTcwZWZmYTc2YjQ0NzY4Yjc4NDgwMDU2MjQ0ZTAzNSIgc3R5bGU9IndpZHRoOiAxMDAuMCU7IGhlaWdodDogMTAwLjAlOyI+QXNha3VzYSBSeW9rYW4gVG91a2Fpc291PC9kaXY+YClbMF07CiAgICAgICAgICAgIHBvcHVwX2QxMzdjODBkOTY3NzQxOTViN2RhNjU4MjcxYWEwZDdiLnNldENvbnRlbnQoaHRtbF8yYTcwZWZmYTc2YjQ0NzY4Yjc4NDgwMDU2MjQ0ZTAzNSk7CiAgICAgICAgCgogICAgICAgIGNpcmNsZV9tYXJrZXJfY2I2YmMwYTJlNmEyNDU2ZTlmM2U2YzE5N2QxZDJkY2UuYmluZFBvcHVwKHBvcHVwX2QxMzdjODBkOTY3NzQxOTViN2RhNjU4MjcxYWEwZDdiKQogICAgICAgIDsKCiAgICAgICAgCiAgICAKICAgIAogICAgICAgICAgICB2YXIgY2lyY2xlX21hcmtlcl9iZjIzNjFkYzU3MDU0OGMwODZlMjE5ZWFmM2RkZWIwMCA9IEwuY2lyY2xlTWFya2VyKAogICAgICAgICAgICAgICAgWzM1LjcxNDM5NjIsIDEzOS43MDM2OTI5XSwKICAgICAgICAgICAgICAgIHsiYnViYmxpbmdNb3VzZUV2ZW50cyI6IHRydWUsICJjb2xvciI6ICIjQkMwMDJEIiwgImRhc2hBcnJheSI6IG51bGwsICJkYXNoT2Zmc2V0IjogbnVsbCwgImZpbGwiOiB0cnVlLCAiZmlsbENvbG9yIjogIiNGRkYiLCAiZmlsbE9wYWNpdHkiOiAwLjc1LCAiZmlsbFJ1bGUiOiAiZXZlbm9kZCIsICJsaW5lQ2FwIjogInJvdW5kIiwgImxpbmVKb2luIjogInJvdW5kIiwgIm9wYWNpdHkiOiAxLjAsICJyYWRpdXMiOiAzLCAic3Ryb2tlIjogdHJ1ZSwgIndlaWdodCI6IDN9CiAgICAgICAgICAgICkuYWRkVG8obWFwXzNiNTNmZDg4MzcwNDQ0YWM5YmJiZGY2MjJhYWM0ZTJlKTsKICAgICAgICAKICAgIAogICAgICAgIHZhciBwb3B1cF9mZWJmN2Q3ZmVkNGY0ODgyYTg0MDg5Y2IzYWU1Yjk4ZiA9IEwucG9wdXAoeyJtYXhXaWR0aCI6ICIxMDAlIn0pOwoKICAgICAgICAKICAgICAgICAgICAgdmFyIGh0bWxfNGE4OGFhMGMwNGQyNDllNWJmMTMyNmZmM2U1MWE5NmIgPSAkKGA8ZGl2IGlkPSJodG1sXzRhODhhYTBjMDRkMjQ5ZTViZjEzMjZmZjNlNTFhOTZiIiBzdHlsZT0id2lkdGg6IDEwMC4wJTsgaGVpZ2h0OiAxMDAuMCU7Ij5Bc3RybyBTdGF0aW9uPC9kaXY+YClbMF07CiAgICAgICAgICAgIHBvcHVwX2ZlYmY3ZDdmZWQ0ZjQ4ODJhODQwODljYjNhZTViOThmLnNldENvbnRlbnQoaHRtbF80YTg4YWEwYzA0ZDI0OWU1YmYxMzI2ZmYzZTUxYTk2Yik7CiAgICAgICAgCgogICAgICAgIGNpcmNsZV9tYXJrZXJfYmYyMzYxZGM1NzA1NDhjMDg2ZTIxOWVhZjNkZGViMDAuYmluZFBvcHVwKHBvcHVwX2ZlYmY3ZDdmZWQ0ZjQ4ODJhODQwODljYjNhZTViOThmKQogICAgICAgIDsKCiAgICAgICAgCiAgICAKICAgIAogICAgICAgICAgICB2YXIgY2lyY2xlX21hcmtlcl8zYTYxM2M5NDAyZGQ0ZTY4YTA5M2FmNDJhYzdiMzJkYSA9IEwuY2lyY2xlTWFya2VyKAogICAgICAgICAgICAgICAgWzM1LjczMTA4MDc5OTk5OTk5NCwgMTM5LjcwODUzODhdLAogICAgICAgICAgICAgICAgeyJidWJibGluZ01vdXNlRXZlbnRzIjogdHJ1ZSwgImNvbG9yIjogIiNCQzAwMkQiLCAiZGFzaEFycmF5IjogbnVsbCwgImRhc2hPZmZzZXQiOiBudWxsLCAiZmlsbCI6IHRydWUsICJmaWxsQ29sb3IiOiAiI0ZGRiIsICJmaWxsT3BhY2l0eSI6IDAuNzUsICJmaWxsUnVsZSI6ICJldmVub2RkIiwgImxpbmVDYXAiOiAicm91bmQiLCAibGluZUpvaW4iOiAicm91bmQiLCAib3BhY2l0eSI6IDEuMCwgInJhZGl1cyI6IDMsICJzdHJva2UiOiB0cnVlLCAid2VpZ2h0IjogM30KICAgICAgICAgICAgKS5hZGRUbyhtYXBfM2I1M2ZkODgzNzA0NDRhYzliYmJkZjYyMmFhYzRlMmUpOwogICAgICAgIAogICAgCiAgICAgICAgdmFyIHBvcHVwX2YzOTI2N2E0NjNkOTQyZDE5OGJhNmNkMTJiM2ZiMDBlID0gTC5wb3B1cCh7Im1heFdpZHRoIjogIjEwMCUifSk7CgogICAgICAgIAogICAgICAgICAgICB2YXIgaHRtbF9iNDY0NDJiNjgzYjM0ZGU4YWVjNjg0NTMxMmNmYzI4NiA9ICQoYDxkaXYgaWQ9Imh0bWxfYjQ2NDQyYjY4M2IzNGRlOGFlYzY4NDUzMTJjZmMyODYiIHN0eWxlPSJ3aWR0aDogMTAwLjAlOyBoZWlnaHQ6IDEwMC4wJTsiPkJvb2sgQW5kIEJlZCBUb2t5byBJa2VidWt1cm88L2Rpdj5gKVswXTsKICAgICAgICAgICAgcG9wdXBfZjM5MjY3YTQ2M2Q5NDJkMTk4YmE2Y2QxMmIzZmIwMGUuc2V0Q29udGVudChodG1sX2I0NjQ0MmI2ODNiMzRkZThhZWM2ODQ1MzEyY2ZjMjg2KTsKICAgICAgICAKCiAgICAgICAgY2lyY2xlX21hcmtlcl8zYTYxM2M5NDAyZGQ0ZTY4YTA5M2FmNDJhYzdiMzJkYS5iaW5kUG9wdXAocG9wdXBfZjM5MjY3YTQ2M2Q5NDJkMTk4YmE2Y2QxMmIzZmIwMGUpCiAgICAgICAgOwoKICAgICAgICAKICAgIAogICAgCiAgICAgICAgICAgIHZhciBjaXJjbGVfbWFya2VyX2M3ZmRhODkxNGJkOTRhODNiY2I0ZWI5MzcwYzI3MzJjID0gTC5jaXJjbGVNYXJrZXIoCiAgICAgICAgICAgICAgICBbMzUuNjg5NTk1Mzk5OTk5OTk1LCAxMzkuNzcwNzYzNjk5OTk5OTddLAogICAgICAgICAgICAgICAgeyJidWJibGluZ01vdXNlRXZlbnRzIjogdHJ1ZSwgImNvbG9yIjogIiNCQzAwMkQiLCAiZGFzaEFycmF5IjogbnVsbCwgImRhc2hPZmZzZXQiOiBudWxsLCAiZmlsbCI6IHRydWUsICJmaWxsQ29sb3IiOiAiI0ZGRiIsICJmaWxsT3BhY2l0eSI6IDAuNzUsICJmaWxsUnVsZSI6ICJldmVub2RkIiwgImxpbmVDYXAiOiAicm91bmQiLCAibGluZUpvaW4iOiAicm91bmQiLCAib3BhY2l0eSI6IDEuMCwgInJhZGl1cyI6IDMsICJzdHJva2UiOiB0cnVlLCAid2VpZ2h0IjogM30KICAgICAgICAgICAgKS5hZGRUbyhtYXBfM2I1M2ZkODgzNzA0NDRhYzliYmJkZjYyMmFhYzRlMmUpOwogICAgICAgIAogICAgCiAgICAgICAgdmFyIHBvcHVwXzAwMWI5N2E5Yjg0ZTQ0NjVhMDY3NDAyZGZiZjZkMjEyID0gTC5wb3B1cCh7Im1heFdpZHRoIjogIjEwMCUifSk7CgogICAgICAgIAogICAgICAgICAgICB2YXIgaHRtbF8zMjkxNjc5ZWY5MTQ0ZDlhYWI4NjNjNzA4ZjAzMmQ2ZCA9ICQoYDxkaXYgaWQ9Imh0bWxfMzI5MTY3OWVmOTE0NGQ5YWFiODYzYzcwOGYwMzJkNmQiIHN0eWxlPSJ3aWR0aDogMTAwLjAlOyBoZWlnaHQ6IDEwMC4wJTsiPkNhcHN1bGUgVmFsdWUgS2FuZGE8L2Rpdj5gKVswXTsKICAgICAgICAgICAgcG9wdXBfMDAxYjk3YTliODRlNDQ2NWEwNjc0MDJkZmJmNmQyMTIuc2V0Q29udGVudChodG1sXzMyOTE2NzllZjkxNDRkOWFhYjg2M2M3MDhmMDMyZDZkKTsKICAgICAgICAKCiAgICAgICAgY2lyY2xlX21hcmtlcl9jN2ZkYTg5MTRiZDk0YTgzYmNiNGViOTM3MGMyNzMyYy5iaW5kUG9wdXAocG9wdXBfMDAxYjk3YTliODRlNDQ2NWEwNjc0MDJkZmJmNmQyMTIpCiAgICAgICAgOwoKICAgICAgICAKICAgIAogICAgCiAgICAgICAgICAgIHZhciBjaXJjbGVfbWFya2VyXzdkNjc4NWNjNDQwNTQ3ZjFiNTVjNDAzMDA2ZTMwMzI4ID0gTC5jaXJjbGVNYXJrZXIoCiAgICAgICAgICAgICAgICBbMzUuNzEyOTUyNiwgMTM5Ljg2Mzg3MDddLAogICAgICAgICAgICAgICAgeyJidWJibGluZ01vdXNlRXZlbnRzIjogdHJ1ZSwgImNvbG9yIjogIiNCQzAwMkQiLCAiZGFzaEFycmF5IjogbnVsbCwgImRhc2hPZmZzZXQiOiBudWxsLCAiZmlsbCI6IHRydWUsICJmaWxsQ29sb3IiOiAiI0ZGRiIsICJmaWxsT3BhY2l0eSI6IDAuNzUsICJmaWxsUnVsZSI6ICJldmVub2RkIiwgImxpbmVDYXAiOiAicm91bmQiLCAibGluZUpvaW4iOiAicm91bmQiLCAib3BhY2l0eSI6IDEuMCwgInJhZGl1cyI6IDMsICJzdHJva2UiOiB0cnVlLCAid2VpZ2h0IjogM30KICAgICAgICAgICAgKS5hZGRUbyhtYXBfM2I1M2ZkODgzNzA0NDRhYzliYmJkZjYyMmFhYzRlMmUpOwogICAgICAgIAogICAgCiAgICAgICAgdmFyIHBvcHVwX2IyMWU0ZTUwOTI3YzQ3ZTg5MjJiYjE4ZGU2NjkyODM0ID0gTC5wb3B1cCh7Im1heFdpZHRoIjogIjEwMCUifSk7CgogICAgICAgIAogICAgICAgICAgICB2YXIgaHRtbF9lMjkxZWMwYzFmNTc0NzA1ODkyMWE2MjAzZGEzMmNjZCA9ICQoYDxkaXYgaWQ9Imh0bWxfZTI5MWVjMGMxZjU3NDcwNTg5MjFhNjIwM2RhMzJjY2QiIHN0eWxlPSJ3aWR0aDogMTAwLjAlOyBoZWlnaHQ6IDEwMC4wJTsiPkVkbyBUb2t5byBIb3N0ZWw8L2Rpdj5gKVswXTsKICAgICAgICAgICAgcG9wdXBfYjIxZTRlNTA5MjdjNDdlODkyMmJiMThkZTY2OTI4MzQuc2V0Q29udGVudChodG1sX2UyOTFlYzBjMWY1NzQ3MDU4OTIxYTYyMDNkYTMyY2NkKTsKICAgICAgICAKCiAgICAgICAgY2lyY2xlX21hcmtlcl83ZDY3ODVjYzQ0MDU0N2YxYjU1YzQwMzAwNmUzMDMyOC5iaW5kUG9wdXAocG9wdXBfYjIxZTRlNTA5MjdjNDdlODkyMmJiMThkZTY2OTI4MzQpCiAgICAgICAgOwoKICAgICAgICAKICAgIAogICAgCiAgICAgICAgICAgIHZhciBjaXJjbGVfbWFya2VyX2M3NmJhYWRiNmY2ODQwMmNhNTA0ZTVjOWQzNTkxNDhkID0gTC5jaXJjbGVNYXJrZXIoCiAgICAgICAgICAgICAgICBbMzUuNzIzNjkwMDAwMDAwMDA1LCAxMzkuNzkxNDhdLAogICAgICAgICAgICAgICAgeyJidWJibGluZ01vdXNlRXZlbnRzIjogdHJ1ZSwgImNvbG9yIjogIiNCQzAwMkQiLCAiZGFzaEFycmF5IjogbnVsbCwgImRhc2hPZmZzZXQiOiBudWxsLCAiZmlsbCI6IHRydWUsICJmaWxsQ29sb3IiOiAiI0ZGRiIsICJmaWxsT3BhY2l0eSI6IDAuNzUsICJmaWxsUnVsZSI6ICJldmVub2RkIiwgImxpbmVDYXAiOiAicm91bmQiLCAibGluZUpvaW4iOiAicm91bmQiLCAib3BhY2l0eSI6IDEuMCwgInJhZGl1cyI6IDMsICJzdHJva2UiOiB0cnVlLCAid2VpZ2h0IjogM30KICAgICAgICAgICAgKS5hZGRUbyhtYXBfM2I1M2ZkODgzNzA0NDRhYzliYmJkZjYyMmFhYzRlMmUpOwogICAgICAgIAogICAgCiAgICAgICAgdmFyIHBvcHVwX2E1MGNjN2EyOTNiODQ4Y2FhMTYzYzVlNGJmM2MyODU5ID0gTC5wb3B1cCh7Im1heFdpZHRoIjogIjEwMCUifSk7CgogICAgICAgIAogICAgICAgICAgICB2YXIgaHRtbF85NzUwYTkyMDg1ZWU0OTgwYTU5N2I0MWE4ZTkwOWQ1NyA9ICQoYDxkaXYgaWQ9Imh0bWxfOTc1MGE5MjA4NWVlNDk4MGE1OTdiNDFhOGU5MDlkNTciIHN0eWxlPSJ3aWR0aDogMTAwLjAlOyBoZWlnaHQ6IDEwMC4wJTsiPkZhbWlseSAmYW1wOyBiQUtwQUsgVG9reW8gSG9zdGVsPC9kaXY+YClbMF07CiAgICAgICAgICAgIHBvcHVwX2E1MGNjN2EyOTNiODQ4Y2FhMTYzYzVlNGJmM2MyODU5LnNldENvbnRlbnQoaHRtbF85NzUwYTkyMDg1ZWU0OTgwYTU5N2I0MWE4ZTkwOWQ1Nyk7CiAgICAgICAgCgogICAgICAgIGNpcmNsZV9tYXJrZXJfYzc2YmFhZGI2ZjY4NDAyY2E1MDRlNWM5ZDM1OTE0OGQuYmluZFBvcHVwKHBvcHVwX2E1MGNjN2EyOTNiODQ4Y2FhMTYzYzVlNGJmM2MyODU5KQogICAgICAgIDsKCiAgICAgICAgCiAgICAKICAgIAogICAgICAgICAgICB2YXIgY2lyY2xlX21hcmtlcl85NzkzMzllZWM4NWY0MTM5YmI1MGI0ZWExZWVkMTgxMCA9IEwuY2lyY2xlTWFya2VyKAogICAgICAgICAgICAgICAgWzM1LjY5NjU2MiwgMTM5Ljc4MDMyNl0sCiAgICAgICAgICAgICAgICB7ImJ1YmJsaW5nTW91c2VFdmVudHMiOiB0cnVlLCAiY29sb3IiOiAiI0JDMDAyRCIsICJkYXNoQXJyYXkiOiBudWxsLCAiZGFzaE9mZnNldCI6IG51bGwsICJmaWxsIjogdHJ1ZSwgImZpbGxDb2xvciI6ICIjRkZGIiwgImZpbGxPcGFjaXR5IjogMC43NSwgImZpbGxSdWxlIjogImV2ZW5vZGQiLCAibGluZUNhcCI6ICJyb3VuZCIsICJsaW5lSm9pbiI6ICJyb3VuZCIsICJvcGFjaXR5IjogMS4wLCAicmFkaXVzIjogMywgInN0cm9rZSI6IHRydWUsICJ3ZWlnaHQiOiAzfQogICAgICAgICAgICApLmFkZFRvKG1hcF8zYjUzZmQ4ODM3MDQ0NGFjOWJiYmRmNjIyYWFjNGUyZSk7CiAgICAgICAgCiAgICAKICAgICAgICB2YXIgcG9wdXBfN2VlM2I1YTYxMzkwNDZkNGIyZDJlNmNlMTgwY2NlZTYgPSBMLnBvcHVwKHsibWF4V2lkdGgiOiAiMTAwJSJ9KTsKCiAgICAgICAgCiAgICAgICAgICAgIHZhciBodG1sXzIxYzYyMzQ1ZDFjNjRkMGFhOWRlYzliOGEyYTliNTE3ID0gJChgPGRpdiBpZD0iaHRtbF8yMWM2MjM0NWQxYzY0ZDBhYTlkZWM5YjhhMmE5YjUxNyIgc3R5bGU9IndpZHRoOiAxMDAuMCU7IGhlaWdodDogMTAwLjAlOyI+R1JJRFMgVE9LWU8gQUtJSEFCQVJBIEhPVEVMJmFtcDtIT1NURUw8L2Rpdj5gKVswXTsKICAgICAgICAgICAgcG9wdXBfN2VlM2I1YTYxMzkwNDZkNGIyZDJlNmNlMTgwY2NlZTYuc2V0Q29udGVudChodG1sXzIxYzYyMzQ1ZDFjNjRkMGFhOWRlYzliOGEyYTliNTE3KTsKICAgICAgICAKCiAgICAgICAgY2lyY2xlX21hcmtlcl85NzkzMzllZWM4NWY0MTM5YmI1MGI0ZWExZWVkMTgxMC5iaW5kUG9wdXAocG9wdXBfN2VlM2I1YTYxMzkwNDZkNGIyZDJlNmNlMTgwY2NlZTYpCiAgICAgICAgOwoKICAgICAgICAKICAgIAogICAgCiAgICAgICAgICAgIHZhciBjaXJjbGVfbWFya2VyX2VlZjU0OWU1MTEwNzQ1Mzg5M2E5ZjhkMzcxNTEyZDc0ID0gTC5jaXJjbGVNYXJrZXIoCiAgICAgICAgICAgICAgICBbMzUuNzUzOTI2NSwgMTM5Ljc5NTc3MjZdLAogICAgICAgICAgICAgICAgeyJidWJibGluZ01vdXNlRXZlbnRzIjogdHJ1ZSwgImNvbG9yIjogIiNCQzAwMkQiLCAiZGFzaEFycmF5IjogbnVsbCwgImRhc2hPZmZzZXQiOiBudWxsLCAiZmlsbCI6IHRydWUsICJmaWxsQ29sb3IiOiAiI0ZGRiIsICJmaWxsT3BhY2l0eSI6IDAuNzUsICJmaWxsUnVsZSI6ICJldmVub2RkIiwgImxpbmVDYXAiOiAicm91bmQiLCAibGluZUpvaW4iOiAicm91bmQiLCAib3BhY2l0eSI6IDEuMCwgInJhZGl1cyI6IDMsICJzdHJva2UiOiB0cnVlLCAid2VpZ2h0IjogM30KICAgICAgICAgICAgKS5hZGRUbyhtYXBfM2I1M2ZkODgzNzA0NDRhYzliYmJkZjYyMmFhYzRlMmUpOwogICAgICAgIAogICAgCiAgICAgICAgdmFyIHBvcHVwXzcyNTI3NDY5YzQwODQ1Njg5YTU2MzhkNjg1NzJjYWRhID0gTC5wb3B1cCh7Im1heFdpZHRoIjogIjEwMCUifSk7CgogICAgICAgIAogICAgICAgICAgICB2YXIgaHRtbF80MGJmNTgzOWIxNzE0ZGRjOTgxZGY3YmRiZDA3OTgzZSA9ICQoYDxkaXYgaWQ9Imh0bWxfNDBiZjU4MzliMTcxNGRkYzk4MWRmN2JkYmQwNzk4M2UiIHN0eWxlPSJ3aWR0aDogMTAwLjAlOyBoZWlnaHQ6IDEwMC4wJTsiPkd1ZXN0aG91c2UgS2FnYXJpYmk8L2Rpdj5gKVswXTsKICAgICAgICAgICAgcG9wdXBfNzI1Mjc0NjljNDA4NDU2ODlhNTYzOGQ2ODU3MmNhZGEuc2V0Q29udGVudChodG1sXzQwYmY1ODM5YjE3MTRkZGM5ODFkZjdiZGJkMDc5ODNlKTsKICAgICAgICAKCiAgICAgICAgY2lyY2xlX21hcmtlcl9lZWY1NDllNTExMDc0NTM4OTNhOWY4ZDM3MTUxMmQ3NC5iaW5kUG9wdXAocG9wdXBfNzI1Mjc0NjljNDA4NDU2ODlhNTYzOGQ2ODU3MmNhZGEpCiAgICAgICAgOwoKICAgICAgICAKICAgIAogICAgCiAgICAgICAgICAgIHZhciBjaXJjbGVfbWFya2VyXzMzZDBjZWU0NDE2NjQxNDdiYTVlZmNiOWNmY2QwNmM2ID0gTC5jaXJjbGVNYXJrZXIoCiAgICAgICAgICAgICAgICBbMzUuNjk5MTM2NzAwMDAwMDA0LCAxMzkuNzAxOTk2NV0sCiAgICAgICAgICAgICAgICB7ImJ1YmJsaW5nTW91c2VFdmVudHMiOiB0cnVlLCAiY29sb3IiOiAiI0JDMDAyRCIsICJkYXNoQXJyYXkiOiBudWxsLCAiZGFzaE9mZnNldCI6IG51bGwsICJmaWxsIjogdHJ1ZSwgImZpbGxDb2xvciI6ICIjRkZGIiwgImZpbGxPcGFjaXR5IjogMC43NSwgImZpbGxSdWxlIjogImV2ZW5vZGQiLCAibGluZUNhcCI6ICJyb3VuZCIsICJsaW5lSm9pbiI6ICJyb3VuZCIsICJvcGFjaXR5IjogMS4wLCAicmFkaXVzIjogMywgInN0cm9rZSI6IHRydWUsICJ3ZWlnaHQiOiAzfQogICAgICAgICAgICApLmFkZFRvKG1hcF8zYjUzZmQ4ODM3MDQ0NGFjOWJiYmRmNjIyYWFjNGUyZSk7CiAgICAgICAgCiAgICAKICAgICAgICB2YXIgcG9wdXBfODI2MWQwOGY2ZGUyNGQ4NWFhMzdiMjVmZTlkOTIyOTEgPSBMLnBvcHVwKHsibWF4V2lkdGgiOiAiMTAwJSJ9KTsKCiAgICAgICAgCiAgICAgICAgICAgIHZhciBodG1sXzAyZWI3ODNmMTg0ZjRlNThiMzI0Mzk5YmUxYzI2NGQ0ID0gJChgPGRpdiBpZD0iaHRtbF8wMmViNzgzZjE4NGY0ZTU4YjMyNDM5OWJlMWMyNjRkNCIgc3R5bGU9IndpZHRoOiAxMDAuMCU7IGhlaWdodDogMTAwLjAlOyI+SGlrYXJpIEhvdXNlPC9kaXY+YClbMF07CiAgICAgICAgICAgIHBvcHVwXzgyNjFkMDhmNmRlMjRkODVhYTM3YjI1ZmU5ZDkyMjkxLnNldENvbnRlbnQoaHRtbF8wMmViNzgzZjE4NGY0ZTU4YjMyNDM5OWJlMWMyNjRkNCk7CiAgICAgICAgCgogICAgICAgIGNpcmNsZV9tYXJrZXJfMzNkMGNlZTQ0MTY2NDE0N2JhNWVmY2I5Y2ZjZDA2YzYuYmluZFBvcHVwKHBvcHVwXzgyNjFkMDhmNmRlMjRkODVhYTM3YjI1ZmU5ZDkyMjkxKQogICAgICAgIDsKCiAgICAgICAgCiAgICAKICAgIAogICAgICAgICAgICB2YXIgY2lyY2xlX21hcmtlcl9hNWEzYWVlMWEzYTU0ZjkyOWYxYjhkYjU3OGUxZDQ2NCA9IEwuY2lyY2xlTWFya2VyKAogICAgICAgICAgICAgICAgWzM1LjY3MTE2MTksIDEzOS42MDMzMjE0MDAwMDAwM10sCiAgICAgICAgICAgICAgICB7ImJ1YmJsaW5nTW91c2VFdmVudHMiOiB0cnVlLCAiY29sb3IiOiAiI0JDMDAyRCIsICJkYXNoQXJyYXkiOiBudWxsLCAiZGFzaE9mZnNldCI6IG51bGwsICJmaWxsIjogdHJ1ZSwgImZpbGxDb2xvciI6ICIjRkZGIiwgImZpbGxPcGFjaXR5IjogMC43NSwgImZpbGxSdWxlIjogImV2ZW5vZGQiLCAibGluZUNhcCI6ICJyb3VuZCIsICJsaW5lSm9pbiI6ICJyb3VuZCIsICJvcGFjaXR5IjogMS4wLCAicmFkaXVzIjogMywgInN0cm9rZSI6IHRydWUsICJ3ZWlnaHQiOiAzfQogICAgICAgICAgICApLmFkZFRvKG1hcF8zYjUzZmQ4ODM3MDQ0NGFjOWJiYmRmNjIyYWFjNGUyZSk7CiAgICAgICAgCiAgICAKICAgICAgICB2YXIgcG9wdXBfYTA5YWZmYTdmMDAzNGM3MjhiNWU5OWUzYzNlYTUzZjAgPSBMLnBvcHVwKHsibWF4V2lkdGgiOiAiMTAwJSJ9KTsKCiAgICAgICAgCiAgICAgICAgICAgIHZhciBodG1sXzAwZTJlZWJhYWZhNTQ4NjE5OTk4YjEyOTc5MGRhNTA2ID0gJChgPGRpdiBpZD0iaHRtbF8wMGUyZWViYWFmYTU0ODYxOTk5OGIxMjk3OTBkYTUwNiIgc3R5bGU9IndpZHRoOiAxMDAuMCU7IGhlaWdodDogMTAwLjAlOyI+SGlyb21hcyBJbm4gIENoaXRvc2UtS2FyYXN1eWFtYTwvZGl2PmApWzBdOwogICAgICAgICAgICBwb3B1cF9hMDlhZmZhN2YwMDM0YzcyOGI1ZTk5ZTNjM2VhNTNmMC5zZXRDb250ZW50KGh0bWxfMDBlMmVlYmFhZmE1NDg2MTk5OThiMTI5NzkwZGE1MDYpOwogICAgICAgIAoKICAgICAgICBjaXJjbGVfbWFya2VyX2E1YTNhZWUxYTNhNTRmOTI5ZjFiOGRiNTc4ZTFkNDY0LmJpbmRQb3B1cChwb3B1cF9hMDlhZmZhN2YwMDM0YzcyOGI1ZTk5ZTNjM2VhNTNmMCkKICAgICAgICA7CgogICAgICAgIAogICAgCiAgICAKICAgICAgICAgICAgdmFyIGNpcmNsZV9tYXJrZXJfMjUwYzJmMDUzYjI2NGE3YTkwOGI3YjE4MTAwNmJkYjQgPSBMLmNpcmNsZU1hcmtlcigKICAgICAgICAgICAgICAgIFszNS42ODYzMTksIDEzOS43MTY5NTddLAogICAgICAgICAgICAgICAgeyJidWJibGluZ01vdXNlRXZlbnRzIjogdHJ1ZSwgImNvbG9yIjogIiNCQzAwMkQiLCAiZGFzaEFycmF5IjogbnVsbCwgImRhc2hPZmZzZXQiOiBudWxsLCAiZmlsbCI6IHRydWUsICJmaWxsQ29sb3IiOiAiI0ZGRiIsICJmaWxsT3BhY2l0eSI6IDAuNzUsICJmaWxsUnVsZSI6ICJldmVub2RkIiwgImxpbmVDYXAiOiAicm91bmQiLCAibGluZUpvaW4iOiAicm91bmQiLCAib3BhY2l0eSI6IDEuMCwgInJhZGl1cyI6IDMsICJzdHJva2UiOiB0cnVlLCAid2VpZ2h0IjogM30KICAgICAgICAgICAgKS5hZGRUbyhtYXBfM2I1M2ZkODgzNzA0NDRhYzliYmJkZjYyMmFhYzRlMmUpOwogICAgICAgIAogICAgCiAgICAgICAgdmFyIHBvcHVwX2RlMzExOGIzZGE1NTRjOGQ5MTY2ZDNmNmI5NzkyMDFhID0gTC5wb3B1cCh7Im1heFdpZHRoIjogIjEwMCUifSk7CgogICAgICAgIAogICAgICAgICAgICB2YXIgaHRtbF9kMWVkYTljZjkzMTg0ZGQ5OWFiYWQ1NTNiZDRhOTJkYSA9ICQoYDxkaXYgaWQ9Imh0bWxfZDFlZGE5Y2Y5MzE4NGRkOTlhYmFkNTUzYmQ0YTkyZGEiIHN0eWxlPSJ3aWR0aDogMTAwLjAlOyBoZWlnaHQ6IDEwMC4wJTsiPkhvc3RlbCBQdW1wa2V5IFRva3lvPC9kaXY+YClbMF07CiAgICAgICAgICAgIHBvcHVwX2RlMzExOGIzZGE1NTRjOGQ5MTY2ZDNmNmI5NzkyMDFhLnNldENvbnRlbnQoaHRtbF9kMWVkYTljZjkzMTg0ZGQ5OWFiYWQ1NTNiZDRhOTJkYSk7CiAgICAgICAgCgogICAgICAgIGNpcmNsZV9tYXJrZXJfMjUwYzJmMDUzYjI2NGE3YTkwOGI3YjE4MTAwNmJkYjQuYmluZFBvcHVwKHBvcHVwX2RlMzExOGIzZGE1NTRjOGQ5MTY2ZDNmNmI5NzkyMDFhKQogICAgICAgIDsKCiAgICAgICAgCiAgICAKICAgIAogICAgICAgICAgICB2YXIgY2lyY2xlX21hcmtlcl8xNDkxYzllMjhkOTg0MWNjYmRlN2M4Y2QyZDY3ZDRjOSA9IEwuY2lyY2xlTWFya2VyKAogICAgICAgICAgICAgICAgWzM1LjcxNzYzMywgMTM5Ljc4NTE3OF0sCiAgICAgICAgICAgICAgICB7ImJ1YmJsaW5nTW91c2VFdmVudHMiOiB0cnVlLCAiY29sb3IiOiAiI0JDMDAyRCIsICJkYXNoQXJyYXkiOiBudWxsLCAiZGFzaE9mZnNldCI6IG51bGwsICJmaWxsIjogdHJ1ZSwgImZpbGxDb2xvciI6ICIjRkZGIiwgImZpbGxPcGFjaXR5IjogMC43NSwgImZpbGxSdWxlIjogImV2ZW5vZGQiLCAibGluZUNhcCI6ICJyb3VuZCIsICJsaW5lSm9pbiI6ICJyb3VuZCIsICJvcGFjaXR5IjogMS4wLCAicmFkaXVzIjogMywgInN0cm9rZSI6IHRydWUsICJ3ZWlnaHQiOiAzfQogICAgICAgICAgICApLmFkZFRvKG1hcF8zYjUzZmQ4ODM3MDQ0NGFjOWJiYmRmNjIyYWFjNGUyZSk7CiAgICAgICAgCiAgICAKICAgICAgICB2YXIgcG9wdXBfYjQ5ZDNiMDU5ZjEzNDA2MWJiNTNiNzI1YjU1MzQzN2QgPSBMLnBvcHVwKHsibWF4V2lkdGgiOiAiMTAwJSJ9KTsKCiAgICAgICAgCiAgICAgICAgICAgIHZhciBodG1sXzQwMmM2MmY3NmE0ZTQ1MGI4NmM5YjNlMjk0MzUyMzcxID0gJChgPGRpdiBpZD0iaHRtbF80MDJjNjJmNzZhNGU0NTBiODZjOWIzZTI5NDM1MjM3MSIgc3R5bGU9IndpZHRoOiAxMDAuMCU7IGhlaWdodDogMTAwLjAlOyI+SG9zdGVsIFdBUVdBUSBUb2t5byBVZW5vIEFzYWt1c2E8L2Rpdj5gKVswXTsKICAgICAgICAgICAgcG9wdXBfYjQ5ZDNiMDU5ZjEzNDA2MWJiNTNiNzI1YjU1MzQzN2Quc2V0Q29udGVudChodG1sXzQwMmM2MmY3NmE0ZTQ1MGI4NmM5YjNlMjk0MzUyMzcxKTsKICAgICAgICAKCiAgICAgICAgY2lyY2xlX21hcmtlcl8xNDkxYzllMjhkOTg0MWNjYmRlN2M4Y2QyZDY3ZDRjOS5iaW5kUG9wdXAocG9wdXBfYjQ5ZDNiMDU5ZjEzNDA2MWJiNTNiNzI1YjU1MzQzN2QpCiAgICAgICAgOwoKICAgICAgICAKICAgIAogICAgCiAgICAgICAgICAgIHZhciBjaXJjbGVfbWFya2VyX2RlOGVhODZhMzRlMTQ5MGM4MDljZGUwNjI0YWNmZDRmID0gTC5jaXJjbGVNYXJrZXIoCiAgICAgICAgICAgICAgICBbMzUuNjkzNTA1MywgMTM5LjcwNzcxMjhdLAogICAgICAgICAgICAgICAgeyJidWJibGluZ01vdXNlRXZlbnRzIjogdHJ1ZSwgImNvbG9yIjogIiNCQzAwMkQiLCAiZGFzaEFycmF5IjogbnVsbCwgImRhc2hPZmZzZXQiOiBudWxsLCAiZmlsbCI6IHRydWUsICJmaWxsQ29sb3IiOiAiI0ZGRiIsICJmaWxsT3BhY2l0eSI6IDAuNzUsICJmaWxsUnVsZSI6ICJldmVub2RkIiwgImxpbmVDYXAiOiAicm91bmQiLCAibGluZUpvaW4iOiAicm91bmQiLCAib3BhY2l0eSI6IDEuMCwgInJhZGl1cyI6IDMsICJzdHJva2UiOiB0cnVlLCAid2VpZ2h0IjogM30KICAgICAgICAgICAgKS5hZGRUbyhtYXBfM2I1M2ZkODgzNzA0NDRhYzliYmJkZjYyMmFhYzRlMmUpOwogICAgICAgIAogICAgCiAgICAgICAgdmFyIHBvcHVwXzA5MGU0NTQ0MDMwNDRiY2E4MDAxZTg2YThlZTY4YTVhID0gTC5wb3B1cCh7Im1heFdpZHRoIjogIjEwMCUifSk7CgogICAgICAgIAogICAgICAgICAgICB2YXIgaHRtbF84OWI5NzQ2YzMyNzI0NGJiYTkzZGZkMmIyZWIyZmJlYSA9ICQoYDxkaXYgaWQ9Imh0bWxfODliOTc0NmMzMjcyNDRiYmE5M2RmZDJiMmViMmZiZWEiIHN0eWxlPSJ3aWR0aDogMTAwLjAlOyBoZWlnaHQ6IDEwMC4wJTsiPkltYW5vIFRva3lvIEhvc3RlbDwvZGl2PmApWzBdOwogICAgICAgICAgICBwb3B1cF8wOTBlNDU0NDAzMDQ0YmNhODAwMWU4NmE4ZWU2OGE1YS5zZXRDb250ZW50KGh0bWxfODliOTc0NmMzMjcyNDRiYmE5M2RmZDJiMmViMmZiZWEpOwogICAgICAgIAoKICAgICAgICBjaXJjbGVfbWFya2VyX2RlOGVhODZhMzRlMTQ5MGM4MDljZGUwNjI0YWNmZDRmLmJpbmRQb3B1cChwb3B1cF8wOTBlNDU0NDAzMDQ0YmNhODAwMWU4NmE4ZWU2OGE1YSkKICAgICAgICA7CgogICAgICAgIAogICAgCiAgICAKICAgICAgICAgICAgdmFyIGNpcmNsZV9tYXJrZXJfYzM5ZjQxZGNlZDI0NDY5ZDlhNDJlZGJjMmVhNGEzYzQgPSBMLmNpcmNsZU1hcmtlcigKICAgICAgICAgICAgICAgIFszNS42OTI1MzQzLCAxMzkuNzgxNjYwMl0sCiAgICAgICAgICAgICAgICB7ImJ1YmJsaW5nTW91c2VFdmVudHMiOiB0cnVlLCAiY29sb3IiOiAiI0JDMDAyRCIsICJkYXNoQXJyYXkiOiBudWxsLCAiZGFzaE9mZnNldCI6IG51bGwsICJmaWxsIjogdHJ1ZSwgImZpbGxDb2xvciI6ICIjRkZGIiwgImZpbGxPcGFjaXR5IjogMC43NSwgImZpbGxSdWxlIjogImV2ZW5vZGQiLCAibGluZUNhcCI6ICJyb3VuZCIsICJsaW5lSm9pbiI6ICJyb3VuZCIsICJvcGFjaXR5IjogMS4wLCAicmFkaXVzIjogMywgInN0cm9rZSI6IHRydWUsICJ3ZWlnaHQiOiAzfQogICAgICAgICAgICApLmFkZFRvKG1hcF8zYjUzZmQ4ODM3MDQ0NGFjOWJiYmRmNjIyYWFjNGUyZSk7CiAgICAgICAgCiAgICAKICAgICAgICB2YXIgcG9wdXBfZjc2OGY3ZTNiYmM5NDQyNzgwMzQxZGU1NmUzYzZkZWIgPSBMLnBvcHVwKHsibWF4V2lkdGgiOiAiMTAwJSJ9KTsKCiAgICAgICAgCiAgICAgICAgICAgIHZhciBodG1sXzg3NzFkNzAwN2RiZDRjMjZhMzJkNzhhZTJmMDc1ZDViID0gJChgPGRpdiBpZD0iaHRtbF84NzcxZDcwMDdkYmQ0YzI2YTMyZDc4YWUyZjA3NWQ1YiIgc3R5bGU9IndpZHRoOiAxMDAuMCU7IGhlaWdodDogMTAwLjAlOyI+SmFwYW5pemUgR3Vlc3QgSG91c2U8L2Rpdj5gKVswXTsKICAgICAgICAgICAgcG9wdXBfZjc2OGY3ZTNiYmM5NDQyNzgwMzQxZGU1NmUzYzZkZWIuc2V0Q29udGVudChodG1sXzg3NzFkNzAwN2RiZDRjMjZhMzJkNzhhZTJmMDc1ZDViKTsKICAgICAgICAKCiAgICAgICAgY2lyY2xlX21hcmtlcl9jMzlmNDFkY2VkMjQ0NjlkOWE0MmVkYmMyZWE0YTNjNC5iaW5kUG9wdXAocG9wdXBfZjc2OGY3ZTNiYmM5NDQyNzgwMzQxZGU1NmUzYzZkZWIpCiAgICAgICAgOwoKICAgICAgICAKICAgIAogICAgCiAgICAgICAgICAgIHZhciBjaXJjbGVfbWFya2VyXzRhNGYyNDJkYjU4ZDRmYjZhN2YyYzY4OTgzNzJkMjBjID0gTC5jaXJjbGVNYXJrZXIoCiAgICAgICAgICAgICAgICBbMzUuODA3MjY2Mzk5OTk5OTk2LCAxMzkuNzA4NDI1XSwKICAgICAgICAgICAgICAgIHsiYnViYmxpbmdNb3VzZUV2ZW50cyI6IHRydWUsICJjb2xvciI6ICIjQkMwMDJEIiwgImRhc2hBcnJheSI6IG51bGwsICJkYXNoT2Zmc2V0IjogbnVsbCwgImZpbGwiOiB0cnVlLCAiZmlsbENvbG9yIjogIiNGRkYiLCAiZmlsbE9wYWNpdHkiOiAwLjc1LCAiZmlsbFJ1bGUiOiAiZXZlbm9kZCIsICJsaW5lQ2FwIjogInJvdW5kIiwgImxpbmVKb2luIjogInJvdW5kIiwgIm9wYWNpdHkiOiAxLjAsICJyYWRpdXMiOiAzLCAic3Ryb2tlIjogdHJ1ZSwgIndlaWdodCI6IDN9CiAgICAgICAgICAgICkuYWRkVG8obWFwXzNiNTNmZDg4MzcwNDQ0YWM5YmJiZGY2MjJhYWM0ZTJlKTsKICAgICAgICAKICAgIAogICAgICAgIHZhciBwb3B1cF9iM2FhODAyZTMzYTk0NTM4ODQ2MWRlOGE2M2EyYTAyZSA9IEwucG9wdXAoeyJtYXhXaWR0aCI6ICIxMDAlIn0pOwoKICAgICAgICAKICAgICAgICAgICAgdmFyIGh0bWxfNDZjNTVjZWVkOWMzNGU5Y2E4MDUwYTEwZDFlOTBiNzIgPSAkKGA8ZGl2IGlkPSJodG1sXzQ2YzU1Y2VlZDljMzRlOWNhODA1MGExMGQxZTkwYjcyIiBzdHlsZT0id2lkdGg6IDEwMC4wJTsgaGVpZ2h0OiAxMDAuMCU7Ij5KR0ggVG9reW88L2Rpdj5gKVswXTsKICAgICAgICAgICAgcG9wdXBfYjNhYTgwMmUzM2E5NDUzODg0NjFkZThhNjNhMmEwMmUuc2V0Q29udGVudChodG1sXzQ2YzU1Y2VlZDljMzRlOWNhODA1MGExMGQxZTkwYjcyKTsKICAgICAgICAKCiAgICAgICAgY2lyY2xlX21hcmtlcl80YTRmMjQyZGI1OGQ0ZmI2YTdmMmM2ODk4MzcyZDIwYy5iaW5kUG9wdXAocG9wdXBfYjNhYTgwMmUzM2E5NDUzODg0NjFkZThhNjNhMmEwMmUpCiAgICAgICAgOwoKICAgICAgICAKICAgIAogICAgCiAgICAgICAgICAgIHZhciBjaXJjbGVfbWFya2VyXzE5ZjY5ODJiMjhhZTRmOTZiOTlmYThlN2Q4YTM0YWMwID0gTC5jaXJjbGVNYXJrZXIoCiAgICAgICAgICAgICAgICBbMzUuNzI2NzEwNjAwMDAwMDA0LCAxMzkuODAwNzgwM10sCiAgICAgICAgICAgICAgICB7ImJ1YmJsaW5nTW91c2VFdmVudHMiOiB0cnVlLCAiY29sb3IiOiAiI0JDMDAyRCIsICJkYXNoQXJyYXkiOiBudWxsLCAiZGFzaE9mZnNldCI6IG51bGwsICJmaWxsIjogdHJ1ZSwgImZpbGxDb2xvciI6ICIjRkZGIiwgImZpbGxPcGFjaXR5IjogMC43NSwgImZpbGxSdWxlIjogImV2ZW5vZGQiLCAibGluZUNhcCI6ICJyb3VuZCIsICJsaW5lSm9pbiI6ICJyb3VuZCIsICJvcGFjaXR5IjogMS4wLCAicmFkaXVzIjogMywgInN0cm9rZSI6IHRydWUsICJ3ZWlnaHQiOiAzfQogICAgICAgICAgICApLmFkZFRvKG1hcF8zYjUzZmQ4ODM3MDQ0NGFjOWJiYmRmNjIyYWFjNGUyZSk7CiAgICAgICAgCiAgICAKICAgICAgICB2YXIgcG9wdXBfOTg5NmQwZmQzYzFkNGIwOGI4NGZiYTdiNTg4MTIzNWIgPSBMLnBvcHVwKHsibWF4V2lkdGgiOiAiMTAwJSJ9KTsKCiAgICAgICAgCiAgICAgICAgICAgIHZhciBodG1sXzk3NGViNzJhOTVjNTRhNWY5NDE1ODJmMTgyYjE1ZmRjID0gJChgPGRpdiBpZD0iaHRtbF85NzRlYjcyYTk1YzU0YTVmOTQxNTgyZjE4MmIxNWZkYyIgc3R5bGU9IndpZHRoOiAxMDAuMCU7IGhlaWdodDogMTAwLjAlOyI+SnV5b2ggSG90ZWw8L2Rpdj5gKVswXTsKICAgICAgICAgICAgcG9wdXBfOTg5NmQwZmQzYzFkNGIwOGI4NGZiYTdiNTg4MTIzNWIuc2V0Q29udGVudChodG1sXzk3NGViNzJhOTVjNTRhNWY5NDE1ODJmMTgyYjE1ZmRjKTsKICAgICAgICAKCiAgICAgICAgY2lyY2xlX21hcmtlcl8xOWY2OTgyYjI4YWU0Zjk2Yjk5ZmE4ZTdkOGEzNGFjMC5iaW5kUG9wdXAocG9wdXBfOTg5NmQwZmQzYzFkNGIwOGI4NGZiYTdiNTg4MTIzNWIpCiAgICAgICAgOwoKICAgICAgICAKICAgIAogICAgCiAgICAgICAgICAgIHZhciBjaXJjbGVfbWFya2VyXzA3N2JlNWZkMjk2NTRhYjViMTI2ODBjNWNjN2VjOGVmID0gTC5jaXJjbGVNYXJrZXIoCiAgICAgICAgICAgICAgICBbMzUuNjg3OTE1NjAwMDAwMDA0LCAxMzkuNzk4OTMxXSwKICAgICAgICAgICAgICAgIHsiYnViYmxpbmdNb3VzZUV2ZW50cyI6IHRydWUsICJjb2xvciI6ICIjQkMwMDJEIiwgImRhc2hBcnJheSI6IG51bGwsICJkYXNoT2Zmc2V0IjogbnVsbCwgImZpbGwiOiB0cnVlLCAiZmlsbENvbG9yIjogIiNGRkYiLCAiZmlsbE9wYWNpdHkiOiAwLjc1LCAiZmlsbFJ1bGUiOiAiZXZlbm9kZCIsICJsaW5lQ2FwIjogInJvdW5kIiwgImxpbmVKb2luIjogInJvdW5kIiwgIm9wYWNpdHkiOiAxLjAsICJyYWRpdXMiOiAzLCAic3Ryb2tlIjogdHJ1ZSwgIndlaWdodCI6IDN9CiAgICAgICAgICAgICkuYWRkVG8obWFwXzNiNTNmZDg4MzcwNDQ0YWM5YmJiZGY2MjJhYWM0ZTJlKTsKICAgICAgICAKICAgIAogICAgICAgIHZhciBwb3B1cF8wNDI3NzU2ZGU2Y2Q0OTM0YjNlMGQwY2UwNzk2YzM1MCA9IEwucG9wdXAoeyJtYXhXaWR0aCI6ICIxMDAlIn0pOwoKICAgICAgICAKICAgICAgICAgICAgdmFyIGh0bWxfNTNkOTBkMTBjMTJlNDdmZTg4ODdjYzFmM2UxNTI1OTQgPSAkKGA8ZGl2IGlkPSJodG1sXzUzZDkwZDEwYzEyZTQ3ZmU4ODg3Y2MxZjNlMTUyNTk0IiBzdHlsZT0id2lkdGg6IDEwMC4wJTsgaGVpZ2h0OiAxMDAuMCU7Ij5PYWsgSG90ZWwgRWRvPC9kaXY+YClbMF07CiAgICAgICAgICAgIHBvcHVwXzA0Mjc3NTZkZTZjZDQ5MzRiM2UwZDBjZTA3OTZjMzUwLnNldENvbnRlbnQoaHRtbF81M2Q5MGQxMGMxMmU0N2ZlODg4N2NjMWYzZTE1MjU5NCk7CiAgICAgICAgCgogICAgICAgIGNpcmNsZV9tYXJrZXJfMDc3YmU1ZmQyOTY1NGFiNWIxMjY4MGM1Y2M3ZWM4ZWYuYmluZFBvcHVwKHBvcHVwXzA0Mjc3NTZkZTZjZDQ5MzRiM2UwZDBjZTA3OTZjMzUwKQogICAgICAgIDsKCiAgICAgICAgCiAgICAKICAgIAogICAgICAgICAgICB2YXIgY2lyY2xlX21hcmtlcl9lZjY5NTI4YjZjNDc0ZmQyYTQ5ODQzNjBhMTI2MWMwNyA9IEwuY2lyY2xlTWFya2VyKAogICAgICAgICAgICAgICAgWzM1LjczMjc4MiwgMTM5Ljc3NzcyM10sCiAgICAgICAgICAgICAgICB7ImJ1YmJsaW5nTW91c2VFdmVudHMiOiB0cnVlLCAiY29sb3IiOiAiI0JDMDAyRCIsICJkYXNoQXJyYXkiOiBudWxsLCAiZGFzaE9mZnNldCI6IG51bGwsICJmaWxsIjogdHJ1ZSwgImZpbGxDb2xvciI6ICIjRkZGIiwgImZpbGxPcGFjaXR5IjogMC43NSwgImZpbGxSdWxlIjogImV2ZW5vZGQiLCAibGluZUNhcCI6ICJyb3VuZCIsICJsaW5lSm9pbiI6ICJyb3VuZCIsICJvcGFjaXR5IjogMS4wLCAicmFkaXVzIjogMywgInN0cm9rZSI6IHRydWUsICJ3ZWlnaHQiOiAzfQogICAgICAgICAgICApLmFkZFRvKG1hcF8zYjUzZmQ4ODM3MDQ0NGFjOWJiYmRmNjIyYWFjNGUyZSk7CiAgICAgICAgCiAgICAKICAgICAgICB2YXIgcG9wdXBfNzg5MTZkZDI4MTAzNDRjM2FkYjU2ODYzMDRhMzQ4YjkgPSBMLnBvcHVwKHsibWF4V2lkdGgiOiAiMTAwJSJ9KTsKCiAgICAgICAgCiAgICAgICAgICAgIHZhciBodG1sX2E1NjQ4YmMwNDRlODRhYTI4MTM0ZmZiZjYxYTBlODdjID0gJChgPGRpdiBpZD0iaHRtbF9hNTY0OGJjMDQ0ZTg0YWEyODEzNGZmYmY2MWEwZTg3YyIgc3R5bGU9IndpZHRoOiAxMDAuMCU7IGhlaWdodDogMTAwLjAlOyI+UllPS0FO77yGSE9TVEVMIFdBU0FCSSBOaXBwb3JpPC9kaXY+YClbMF07CiAgICAgICAgICAgIHBvcHVwXzc4OTE2ZGQyODEwMzQ0YzNhZGI1Njg2MzA0YTM0OGI5LnNldENvbnRlbnQoaHRtbF9hNTY0OGJjMDQ0ZTg0YWEyODEzNGZmYmY2MWEwZTg3Yyk7CiAgICAgICAgCgogICAgICAgIGNpcmNsZV9tYXJrZXJfZWY2OTUyOGI2YzQ3NGZkMmE0OTg0MzYwYTEyNjFjMDcuYmluZFBvcHVwKHBvcHVwXzc4OTE2ZGQyODEwMzQ0YzNhZGI1Njg2MzA0YTM0OGI5KQogICAgICAgIDsKCiAgICAgICAgCiAgICAKICAgIAogICAgICAgICAgICB2YXIgY2lyY2xlX21hcmtlcl82ZmUxZDdhNzM3Y2I0ZjExODdiZDhkMTRmOTg5YzEzNCA9IEwuY2lyY2xlTWFya2VyKAogICAgICAgICAgICAgICAgWzM1LjczMzYxMzg5OTk5OTk5NSwgMTM5LjcwODgwMjU5OTk5OTk4XSwKICAgICAgICAgICAgICAgIHsiYnViYmxpbmdNb3VzZUV2ZW50cyI6IHRydWUsICJjb2xvciI6ICIjQkMwMDJEIiwgImRhc2hBcnJheSI6IG51bGwsICJkYXNoT2Zmc2V0IjogbnVsbCwgImZpbGwiOiB0cnVlLCAiZmlsbENvbG9yIjogIiNGRkYiLCAiZmlsbE9wYWNpdHkiOiAwLjc1LCAiZmlsbFJ1bGUiOiAiZXZlbm9kZCIsICJsaW5lQ2FwIjogInJvdW5kIiwgImxpbmVKb2luIjogInJvdW5kIiwgIm9wYWNpdHkiOiAxLjAsICJyYWRpdXMiOiAzLCAic3Ryb2tlIjogdHJ1ZSwgIndlaWdodCI6IDN9CiAgICAgICAgICAgICkuYWRkVG8obWFwXzNiNTNmZDg4MzcwNDQ0YWM5YmJiZGY2MjJhYWM0ZTJlKTsKICAgICAgICAKICAgIAogICAgICAgIHZhciBwb3B1cF85ZGQwZGM5ZTM5NTg0MGU5ODNhODZjZTlhNWRmYmRmNSA9IEwucG9wdXAoeyJtYXhXaWR0aCI6ICIxMDAlIn0pOwoKICAgICAgICAKICAgICAgICAgICAgdmFyIGh0bWxfM2U2MDg5YTZjZDg5NGM3ZGEyZTgzZDJmY2E2ZWMwOGIgPSAkKGA8ZGl2IGlkPSJodG1sXzNlNjA4OWE2Y2Q4OTRjN2RhMmU4M2QyZmNhNmVjMDhiIiBzdHlsZT0id2lkdGg6IDEwMC4wJTsgaGVpZ2h0OiAxMDAuMCU7Ij5TYWt1cmEgSG90ZWwgSWtlYnVrdXJvPC9kaXY+YClbMF07CiAgICAgICAgICAgIHBvcHVwXzlkZDBkYzllMzk1ODQwZTk4M2E4NmNlOWE1ZGZiZGY1LnNldENvbnRlbnQoaHRtbF8zZTYwODlhNmNkODk0YzdkYTJlODNkMmZjYTZlYzA4Yik7CiAgICAgICAgCgogICAgICAgIGNpcmNsZV9tYXJrZXJfNmZlMWQ3YTczN2NiNGYxMTg3YmQ4ZDE0Zjk4OWMxMzQuYmluZFBvcHVwKHBvcHVwXzlkZDBkYzllMzk1ODQwZTk4M2E4NmNlOWE1ZGZiZGY1KQogICAgICAgIDsKCiAgICAgICAgCiAgICAKICAgIAogICAgICAgICAgICB2YXIgY2lyY2xlX21hcmtlcl8yMzRjOGM1NDg1ODQ0MWQzODNhOGY3MDU0MmY5NjAyOSA9IEwuY2lyY2xlTWFya2VyKAogICAgICAgICAgICAgICAgWzM1LjcyNzM1NTI5OTk5OTk5LCAxMzkuNjkzMDA0NF0sCiAgICAgICAgICAgICAgICB7ImJ1YmJsaW5nTW91c2VFdmVudHMiOiB0cnVlLCAiY29sb3IiOiAiI0JDMDAyRCIsICJkYXNoQXJyYXkiOiBudWxsLCAiZGFzaE9mZnNldCI6IG51bGwsICJmaWxsIjogdHJ1ZSwgImZpbGxDb2xvciI6ICIjRkZGIiwgImZpbGxPcGFjaXR5IjogMC43NSwgImZpbGxSdWxlIjogImV2ZW5vZGQiLCAibGluZUNhcCI6ICJyb3VuZCIsICJsaW5lSm9pbiI6ICJyb3VuZCIsICJvcGFjaXR5IjogMS4wLCAicmFkaXVzIjogMywgInN0cm9rZSI6IHRydWUsICJ3ZWlnaHQiOiAzfQogICAgICAgICAgICApLmFkZFRvKG1hcF8zYjUzZmQ4ODM3MDQ0NGFjOWJiYmRmNjIyYWFjNGUyZSk7CiAgICAgICAgCiAgICAKICAgICAgICB2YXIgcG9wdXBfMGUzOTFkZWI5MjRiNDUzNWFlN2RlODVjNTljYjIzNzcgPSBMLnBvcHVwKHsibWF4V2lkdGgiOiAiMTAwJSJ9KTsKCiAgICAgICAgCiAgICAgICAgICAgIHZhciBodG1sX2YxZTczNjI2MzM5MTQwOTRiYjUyMWFiNjU4ZjNjYTlhID0gJChgPGRpdiBpZD0iaHRtbF9mMWU3MzYyNjMzOTE0MDk0YmI1MjFhYjY1OGYzY2E5YSIgc3R5bGU9IndpZHRoOiAxMDAuMCU7IGhlaWdodDogMTAwLjAlOyI+U2hlZW5hIGFuZCBJcHBlaTwvZGl2PmApWzBdOwogICAgICAgICAgICBwb3B1cF8wZTM5MWRlYjkyNGI0NTM1YWU3ZGU4NWM1OWNiMjM3Ny5zZXRDb250ZW50KGh0bWxfZjFlNzM2MjYzMzkxNDA5NGJiNTIxYWI2NThmM2NhOWEpOwogICAgICAgIAoKICAgICAgICBjaXJjbGVfbWFya2VyXzIzNGM4YzU0ODU4NDQxZDM4M2E4ZjcwNTQyZjk2MDI5LmJpbmRQb3B1cChwb3B1cF8wZTM5MWRlYjkyNGI0NTM1YWU3ZGU4NWM1OWNiMjM3NykKICAgICAgICA7CgogICAgICAgIAogICAgCiAgICAKICAgICAgICAgICAgdmFyIGNpcmNsZV9tYXJrZXJfMmMwYmI3YzM3YWQ5NGVjOGJhNTFmNTlhNzFmYzIzNjIgPSBMLmNpcmNsZU1hcmtlcigKICAgICAgICAgICAgICAgIFszNS42ODk3MjEzLCAxMzkuNzIyOTk3Nl0sCiAgICAgICAgICAgICAgICB7ImJ1YmJsaW5nTW91c2VFdmVudHMiOiB0cnVlLCAiY29sb3IiOiAiI0JDMDAyRCIsICJkYXNoQXJyYXkiOiBudWxsLCAiZGFzaE9mZnNldCI6IG51bGwsICJmaWxsIjogdHJ1ZSwgImZpbGxDb2xvciI6ICIjRkZGIiwgImZpbGxPcGFjaXR5IjogMC43NSwgImZpbGxSdWxlIjogImV2ZW5vZGQiLCAibGluZUNhcCI6ICJyb3VuZCIsICJsaW5lSm9pbiI6ICJyb3VuZCIsICJvcGFjaXR5IjogMS4wLCAicmFkaXVzIjogMywgInN0cm9rZSI6IHRydWUsICJ3ZWlnaHQiOiAzfQogICAgICAgICAgICApLmFkZFRvKG1hcF8zYjUzZmQ4ODM3MDQ0NGFjOWJiYmRmNjIyYWFjNGUyZSk7CiAgICAgICAgCiAgICAKICAgICAgICB2YXIgcG9wdXBfODFjYTMyNWUwZGZhNGIxMzk3YzRhMzdlOTYxZmI5OWYgPSBMLnBvcHVwKHsibWF4V2lkdGgiOiAiMTAwJSJ9KTsKCiAgICAgICAgCiAgICAgICAgICAgIHZhciBodG1sXzNlYmNmZDA2NTZmMDRiMjA4Yjg1YzQ2YzljOTAwY2JkID0gJChgPGRpdiBpZD0iaHRtbF8zZWJjZmQwNjU2ZjA0YjIwOGI4NWM0NmM5YzkwMGNiZCIgc3R5bGU9IndpZHRoOiAxMDAuMCU7IGhlaWdodDogMTAwLjAlOyI+VGFkYWltYSBKYXBhbiBTaGluanVrdSBSeW9rYW48L2Rpdj5gKVswXTsKICAgICAgICAgICAgcG9wdXBfODFjYTMyNWUwZGZhNGIxMzk3YzRhMzdlOTYxZmI5OWYuc2V0Q29udGVudChodG1sXzNlYmNmZDA2NTZmMDRiMjA4Yjg1YzQ2YzljOTAwY2JkKTsKICAgICAgICAKCiAgICAgICAgY2lyY2xlX21hcmtlcl8yYzBiYjdjMzdhZDk0ZWM4YmE1MWY1OWE3MWZjMjM2Mi5iaW5kUG9wdXAocG9wdXBfODFjYTMyNWUwZGZhNGIxMzk3YzRhMzdlOTYxZmI5OWYpCiAgICAgICAgOwoKICAgICAgICAKICAgIAogICAgCiAgICAgICAgICAgIHZhciBjaXJjbGVfbWFya2VyXzdhZjYxMjE1NWMzMzRmNmViNDcyMDA2MTlmMDRiNDkyID0gTC5jaXJjbGVNYXJrZXIoCiAgICAgICAgICAgICAgICBbMzUuNzIyMDM2OSwgMTM5Ljc4MzkyODFdLAogICAgICAgICAgICAgICAgeyJidWJibGluZ01vdXNlRXZlbnRzIjogdHJ1ZSwgImNvbG9yIjogIiNCQzAwMkQiLCAiZGFzaEFycmF5IjogbnVsbCwgImRhc2hPZmZzZXQiOiBudWxsLCAiZmlsbCI6IHRydWUsICJmaWxsQ29sb3IiOiAiI0ZGRiIsICJmaWxsT3BhY2l0eSI6IDAuNzUsICJmaWxsUnVsZSI6ICJldmVub2RkIiwgImxpbmVDYXAiOiAicm91bmQiLCAibGluZUpvaW4iOiAicm91bmQiLCAib3BhY2l0eSI6IDEuMCwgInJhZGl1cyI6IDMsICJzdHJva2UiOiB0cnVlLCAid2VpZ2h0IjogM30KICAgICAgICAgICAgKS5hZGRUbyhtYXBfM2I1M2ZkODgzNzA0NDRhYzliYmJkZjYyMmFhYzRlMmUpOwogICAgICAgIAogICAgCiAgICAgICAgdmFyIHBvcHVwX2JmMzhlYThmOGVkNzQ5NzliM2JkMjYyYmRjNTk1YWJmID0gTC5wb3B1cCh7Im1heFdpZHRoIjogIjEwMCUifSk7CgogICAgICAgIAogICAgICAgICAgICB2YXIgaHRtbF9kYjRlNTNkOWNhNWU0YmZlOGE5MTRhNmRkYTJjNDhiMSA9ICQoYDxkaXYgaWQ9Imh0bWxfZGI0ZTUzZDljYTVlNGJmZThhOTE0YTZkZGEyYzQ4YjEiIHN0eWxlPSJ3aWR0aDogMTAwLjAlOyBoZWlnaHQ6IDEwMC4wJTsiPlRvY28gVG9reW8gSGVyaXRhZ2UgSG9zdGVsPC9kaXY+YClbMF07CiAgICAgICAgICAgIHBvcHVwX2JmMzhlYThmOGVkNzQ5NzliM2JkMjYyYmRjNTk1YWJmLnNldENvbnRlbnQoaHRtbF9kYjRlNTNkOWNhNWU0YmZlOGE5MTRhNmRkYTJjNDhiMSk7CiAgICAgICAgCgogICAgICAgIGNpcmNsZV9tYXJrZXJfN2FmNjEyMTU1YzMzNGY2ZWI0NzIwMDYxOWYwNGI0OTIuYmluZFBvcHVwKHBvcHVwX2JmMzhlYThmOGVkNzQ5NzliM2JkMjYyYmRjNTk1YWJmKQogICAgICAgIDsKCiAgICAgICAgCiAgICAKICAgIAogICAgICAgICAgICB2YXIgY2lyY2xlX21hcmtlcl9mOGQyODliNWEzMDE0ZTVlOTA1NjA1YTYyNTE5Y2UwMCA9IEwuY2lyY2xlTWFya2VyKAogICAgICAgICAgICAgICAgWzM1LjY5OTAwNjIwMDAwMDAxLCAxMzkuNzAzODE4N10sCiAgICAgICAgICAgICAgICB7ImJ1YmJsaW5nTW91c2VFdmVudHMiOiB0cnVlLCAiY29sb3IiOiAiI0JDMDAyRCIsICJkYXNoQXJyYXkiOiBudWxsLCAiZGFzaE9mZnNldCI6IG51bGwsICJmaWxsIjogdHJ1ZSwgImZpbGxDb2xvciI6ICIjRkZGIiwgImZpbGxPcGFjaXR5IjogMC43NSwgImZpbGxSdWxlIjogImV2ZW5vZGQiLCAibGluZUNhcCI6ICJyb3VuZCIsICJsaW5lSm9pbiI6ICJyb3VuZCIsICJvcGFjaXR5IjogMS4wLCAicmFkaXVzIjogMywgInN0cm9rZSI6IHRydWUsICJ3ZWlnaHQiOiAzfQogICAgICAgICAgICApLmFkZFRvKG1hcF8zYjUzZmQ4ODM3MDQ0NGFjOWJiYmRmNjIyYWFjNGUyZSk7CiAgICAgICAgCiAgICAKICAgICAgICB2YXIgcG9wdXBfY2QyZjVhM2FiYTlkNDgyN2E3YTc0ZjlmMTM1MDFiZGEgPSBMLnBvcHVwKHsibWF4V2lkdGgiOiAiMTAwJSJ9KTsKCiAgICAgICAgCiAgICAgICAgICAgIHZhciBodG1sXzkwYWJhNmUwMGZiYjRjZjJhMmFkMDVkMjQwYTY3ZTNmID0gJChgPGRpdiBpZD0iaHRtbF85MGFiYTZlMDBmYmI0Y2YyYTJhZDA1ZDI0MGE2N2UzZiIgc3R5bGU9IndpZHRoOiAxMDAuMCU7IGhlaWdodDogMTAwLjAlOyI+VG9reW8gSG91c2UgSW5uPC9kaXY+YClbMF07CiAgICAgICAgICAgIHBvcHVwX2NkMmY1YTNhYmE5ZDQ4MjdhN2E3NGY5ZjEzNTAxYmRhLnNldENvbnRlbnQoaHRtbF85MGFiYTZlMDBmYmI0Y2YyYTJhZDA1ZDI0MGE2N2UzZik7CiAgICAgICAgCgogICAgICAgIGNpcmNsZV9tYXJrZXJfZjhkMjg5YjVhMzAxNGU1ZTkwNTYwNWE2MjUxOWNlMDAuYmluZFBvcHVwKHBvcHVwX2NkMmY1YTNhYmE5ZDQ4MjdhN2E3NGY5ZjEzNTAxYmRhKQogICAgICAgIDsKCiAgICAgICAgCiAgICAKICAgIAogICAgICAgICAgICB2YXIgY2lyY2xlX21hcmtlcl81MzRkNGI3YTk2NTQ0OThjODFlZTg1YWFjYTc0Njg1OCA9IEwuY2lyY2xlTWFya2VyKAogICAgICAgICAgICAgICAgWzM1LjcwODMxNjEwMDAwMDAwNSwgMTM5Ljc5MjMwODgwMDAwMDAzXSwKICAgICAgICAgICAgICAgIHsiYnViYmxpbmdNb3VzZUV2ZW50cyI6IHRydWUsICJjb2xvciI6ICIjQkMwMDJEIiwgImRhc2hBcnJheSI6IG51bGwsICJkYXNoT2Zmc2V0IjogbnVsbCwgImZpbGwiOiB0cnVlLCAiZmlsbENvbG9yIjogIiNGRkYiLCAiZmlsbE9wYWNpdHkiOiAwLjc1LCAiZmlsbFJ1bGUiOiAiZXZlbm9kZCIsICJsaW5lQ2FwIjogInJvdW5kIiwgImxpbmVKb2luIjogInJvdW5kIiwgIm9wYWNpdHkiOiAxLjAsICJyYWRpdXMiOiAzLCAic3Ryb2tlIjogdHJ1ZSwgIndlaWdodCI6IDN9CiAgICAgICAgICAgICkuYWRkVG8obWFwXzNiNTNmZDg4MzcwNDQ0YWM5YmJiZGY2MjJhYWM0ZTJlKTsKICAgICAgICAKICAgIAogICAgICAgIHZhciBwb3B1cF84ZjA2Nzg4ODM3MWI0OTE3OWU5N2QxODJmNTk2OTU4MCA9IEwucG9wdXAoeyJtYXhXaWR0aCI6ICIxMDAlIn0pOwoKICAgICAgICAKICAgICAgICAgICAgdmFyIGh0bWxfMzE0OTFiODgyMmE1NGMyYTljNzkxYTNmNGRiMWVkZmEgPSAkKGA8ZGl2IGlkPSJodG1sXzMxNDkxYjg4MjJhNTRjMmE5Yzc5MWEzZjRkYjFlZGZhIiBzdHlsZT0id2lkdGg6IDEwMC4wJTsgaGVpZ2h0OiAxMDAuMCU7Ij5UT0tZTy1XLUlOTiBBc2FrdXNhPC9kaXY+YClbMF07CiAgICAgICAgICAgIHBvcHVwXzhmMDY3ODg4MzcxYjQ5MTc5ZTk3ZDE4MmY1OTY5NTgwLnNldENvbnRlbnQoaHRtbF8zMTQ5MWI4ODIyYTU0YzJhOWM3OTFhM2Y0ZGIxZWRmYSk7CiAgICAgICAgCgogICAgICAgIGNpcmNsZV9tYXJrZXJfNTM0ZDRiN2E5NjU0NDk4YzgxZWU4NWFhY2E3NDY4NTguYmluZFBvcHVwKHBvcHVwXzhmMDY3ODg4MzcxYjQ5MTc5ZTk3ZDE4MmY1OTY5NTgwKQogICAgICAgIDsKCiAgICAgICAgCiAgICAKICAgIAogICAgICAgICAgICB2YXIgY2lyY2xlX21hcmtlcl82MmE5ZjIzZDAzNDU0ZGE5YTBhMzM5ZDg2MGRkZDY3OCA9IEwuY2lyY2xlTWFya2VyKAogICAgICAgICAgICAgICAgWzM1LjY5NDA0Nzk5OTk5OTk5NSwgMTM5Ljc4Mjg0MzQwMDAwMDAyXSwKICAgICAgICAgICAgICAgIHsiYnViYmxpbmdNb3VzZUV2ZW50cyI6IHRydWUsICJjb2xvciI6ICIjQkMwMDJEIiwgImRhc2hBcnJheSI6IG51bGwsICJkYXNoT2Zmc2V0IjogbnVsbCwgImZpbGwiOiB0cnVlLCAiZmlsbENvbG9yIjogIiNGRkYiLCAiZmlsbE9wYWNpdHkiOiAwLjc1LCAiZmlsbFJ1bGUiOiAiZXZlbm9kZCIsICJsaW5lQ2FwIjogInJvdW5kIiwgImxpbmVKb2luIjogInJvdW5kIiwgIm9wYWNpdHkiOiAxLjAsICJyYWRpdXMiOiAzLCAic3Ryb2tlIjogdHJ1ZSwgIndlaWdodCI6IDN9CiAgICAgICAgICAgICkuYWRkVG8obWFwXzNiNTNmZDg4MzcwNDQ0YWM5YmJiZGY2MjJhYWM0ZTJlKTsKICAgICAgICAKICAgIAogICAgICAgIHZhciBwb3B1cF9lZjA0YjI3MjJmYzQ0ZmNkYTRmYjQ3YjJmOWExNTVlMSA9IEwucG9wdXAoeyJtYXhXaWR0aCI6ICIxMDAlIn0pOwoKICAgICAgICAKICAgICAgICAgICAgdmFyIGh0bWxfOGQ3Mzg1ZjIzMDAxNDQ5NTg5MzZkNDM2NTYwNjkyYjcgPSAkKGA8ZGl2IGlkPSJodG1sXzhkNzM4NWYyMzAwMTQ0OTU4OTM2ZDQzNjU2MDY5MmI3IiBzdHlsZT0id2lkdGg6IDEwMC4wJTsgaGVpZ2h0OiAxMDAuMCU7Ij5UcmFpbiBIb3N0ZWwgSE9LVVRPU0VJPC9kaXY+YClbMF07CiAgICAgICAgICAgIHBvcHVwX2VmMDRiMjcyMmZjNDRmY2RhNGZiNDdiMmY5YTE1NWUxLnNldENvbnRlbnQoaHRtbF84ZDczODVmMjMwMDE0NDk1ODkzNmQ0MzY1NjA2OTJiNyk7CiAgICAgICAgCgogICAgICAgIGNpcmNsZV9tYXJrZXJfNjJhOWYyM2QwMzQ1NGRhOWEwYTMzOWQ4NjBkZGQ2NzguYmluZFBvcHVwKHBvcHVwX2VmMDRiMjcyMmZjNDRmY2RhNGZiNDdiMmY5YTE1NWUxKQogICAgICAgIDsKCiAgICAgICAgCiAgICAKICAgIAogICAgICAgICAgICB2YXIgY2lyY2xlX21hcmtlcl8zZDliMTM1YjY0Zjc0NDE5YWFlODJjMDAxZjFlYjdjMiA9IEwuY2lyY2xlTWFya2VyKAogICAgICAgICAgICAgICAgWzM1LjcwMjkwODMsIDEzOS42NjgxMjUzXSwKICAgICAgICAgICAgICAgIHsiYnViYmxpbmdNb3VzZUV2ZW50cyI6IHRydWUsICJjb2xvciI6ICIjQkMwMDJEIiwgImRhc2hBcnJheSI6IG51bGwsICJkYXNoT2Zmc2V0IjogbnVsbCwgImZpbGwiOiB0cnVlLCAiZmlsbENvbG9yIjogIiNGRkYiLCAiZmlsbE9wYWNpdHkiOiAwLjc1LCAiZmlsbFJ1bGUiOiAiZXZlbm9kZCIsICJsaW5lQ2FwIjogInJvdW5kIiwgImxpbmVKb2luIjogInJvdW5kIiwgIm9wYWNpdHkiOiAxLjAsICJyYWRpdXMiOiAzLCAic3Ryb2tlIjogdHJ1ZSwgIndlaWdodCI6IDN9CiAgICAgICAgICAgICkuYWRkVG8obWFwXzNiNTNmZDg4MzcwNDQ0YWM5YmJiZGY2MjJhYWM0ZTJlKTsKICAgICAgICAKICAgIAogICAgICAgIHZhciBwb3B1cF81YzhlOTMzNmIxNGY0NTU2OWU2MWU4Y2M3MzNmMTU3NCA9IEwucG9wdXAoeyJtYXhXaWR0aCI6ICIxMDAlIn0pOwoKICAgICAgICAKICAgICAgICAgICAgdmFyIGh0bWxfZWQ4YTczYmUxYWEzNGM1YWJkZTNhOTE0NTE4NzNlOGEgPSAkKGA8ZGl2IGlkPSJodG1sX2VkOGE3M2JlMWFhMzRjNWFiZGUzYTkxNDUxODczZThhIiBzdHlsZT0id2lkdGg6IDEwMC4wJTsgaGVpZ2h0OiAxMDAuMCU7Ij5ZQURPWUEgR3Vlc3Rob3VzZSBHcmVlbjwvZGl2PmApWzBdOwogICAgICAgICAgICBwb3B1cF81YzhlOTMzNmIxNGY0NTU2OWU2MWU4Y2M3MzNmMTU3NC5zZXRDb250ZW50KGh0bWxfZWQ4YTczYmUxYWEzNGM1YWJkZTNhOTE0NTE4NzNlOGEpOwogICAgICAgIAoKICAgICAgICBjaXJjbGVfbWFya2VyXzNkOWIxMzViNjRmNzQ0MTlhYWU4MmMwMDFmMWViN2MyLmJpbmRQb3B1cChwb3B1cF81YzhlOTMzNmIxNGY0NTU2OWU2MWU4Y2M3MzNmMTU3NCkKICAgICAgICA7CgogICAgICAgIAogICAgCiAgICAKICAgICAgICAgICAgdmFyIGNpcmNsZV9tYXJrZXJfNDE5ODk2NzNhZThhNDU5Y2E5OGEyYzExODUxZGQwYjkgPSBMLmNpcmNsZU1hcmtlcigKICAgICAgICAgICAgICAgIFszNS42NTU0NywgMTM5Ljc0MjExNTk5OTk5OTk4XSwKICAgICAgICAgICAgICAgIHsiYnViYmxpbmdNb3VzZUV2ZW50cyI6IHRydWUsICJjb2xvciI6ICIjQkMwMDJEIiwgImRhc2hBcnJheSI6IG51bGwsICJkYXNoT2Zmc2V0IjogbnVsbCwgImZpbGwiOiB0cnVlLCAiZmlsbENvbG9yIjogIiNGRkYiLCAiZmlsbE9wYWNpdHkiOiAwLjc1LCAiZmlsbFJ1bGUiOiAiZXZlbm9kZCIsICJsaW5lQ2FwIjogInJvdW5kIiwgImxpbmVKb2luIjogInJvdW5kIiwgIm9wYWNpdHkiOiAxLjAsICJyYWRpdXMiOiAzLCAic3Ryb2tlIjogdHJ1ZSwgIndlaWdodCI6IDN9CiAgICAgICAgICAgICkuYWRkVG8obWFwXzNiNTNmZDg4MzcwNDQ0YWM5YmJiZGY2MjJhYWM0ZTJlKTsKICAgICAgICAKICAgIAogICAgICAgIHZhciBwb3B1cF84MmIzMTYzODdjZmM0ZDNmODM3MDk5ZDBkYTQ3MGFjNSA9IEwucG9wdXAoeyJtYXhXaWR0aCI6ICIxMDAlIn0pOwoKICAgICAgICAKICAgICAgICAgICAgdmFyIGh0bWxfNTBiODE5MzA1ZTNkNDhmZWI5Mjg5Y2VhZWMwNzEzNGQgPSAkKGA8ZGl2IGlkPSJodG1sXzUwYjgxOTMwNWUzZDQ4ZmViOTI4OWNlYWVjMDcxMzRkIiBzdHlsZT0id2lkdGg6IDEwMC4wJTsgaGVpZ2h0OiAxMDAuMCU7Ij5aYWJ1dHRvbiBIb3N0ZWw8L2Rpdj5gKVswXTsKICAgICAgICAgICAgcG9wdXBfODJiMzE2Mzg3Y2ZjNGQzZjgzNzA5OWQwZGE0NzBhYzUuc2V0Q29udGVudChodG1sXzUwYjgxOTMwNWUzZDQ4ZmViOTI4OWNlYWVjMDcxMzRkKTsKICAgICAgICAKCiAgICAgICAgY2lyY2xlX21hcmtlcl80MTk4OTY3M2FlOGE0NTljYTk4YTJjMTE4NTFkZDBiOS5iaW5kUG9wdXAocG9wdXBfODJiMzE2Mzg3Y2ZjNGQzZjgzNzA5OWQwZGE0NzBhYzUpCiAgICAgICAgOwoKICAgICAgICAKICAgIAo8L3NjcmlwdD4=\" style=\"position:absolute;width:100%;height:100%;left:0;top:0;border:none !important;\" allowfullscreen webkitallowfullscreen mozallowfullscreen></iframe></div></div>"
      ],
      "text/plain": [
       "<folium.folium.Map at 0x1a4602ae10>"
      ]
     },
     "execution_count": 399,
     "metadata": {},
     "output_type": "execute_result"
    }
   ],
   "source": [
    "tokyo_map = folium.Map(location=(35.689487, 139.691711), zoom_start=11)\n",
    "\n",
    "# add markers to map\n",
    "for lat, lng, label in zip(highsec_hostels.Latitude, highsec_hostels.Longitude, highsec_hostels.Name):\n",
    "    label = folium.Popup(label, parse_html=True)\n",
    "    folium.CircleMarker(\n",
    "        [lat, lng],\n",
    "        radius=3,\n",
    "        popup=label,\n",
    "        color='#33cc33',\n",
    "        fill=True,\n",
    "        fill_color='#FFF',\n",
    "        fill_opacity=0.75,\n",
    "        parse_html=False).add_to(tokyo_map)\n",
    "    \n",
    "# add markers to map\n",
    "for lat, lng, label in zip(lowsec_hostels.Latitude, lowsec_hostels.Longitude, lowsec_hostels.Name):\n",
    "    label = folium.Popup(label, parse_html=True)\n",
    "    folium.CircleMarker(\n",
    "        [lat, lng],\n",
    "        radius=3,\n",
    "        popup=label,\n",
    "        color='#BC002D',\n",
    "        fill=True,\n",
    "        fill_color='#FFF',\n",
    "        fill_opacity=0.75,\n",
    "        parse_html=False).add_to(tokyo_map)\n",
    "    \n",
    "tokyo_map"
   ]
  },
  {
   "cell_type": "markdown",
   "metadata": {},
   "source": [
    "FIND OUT THE AREA USING REVERSE GEOCODING. AND COMMENT WHICH AREA HAS MOST SECURE HOSTELS"
   ]
  },
  {
   "cell_type": "markdown",
   "metadata": {},
   "source": [
    "<br>\n",
    "\n",
    "##### Where are the 'value of money' hostels located?"
   ]
  },
  {
   "cell_type": "code",
   "execution_count": 423,
   "metadata": {},
   "outputs": [
    {
     "data": {
      "image/png": "[encoded data removed]",
      "text/plain": [
       "<Figure size 432x288 with 1 Axes>"
      ]
     },
     "metadata": {
      "needs_background": "light"
     },
     "output_type": "display_data"
    }
   ],
   "source": [
    "tokyo_hostels_df.ValueForMoney.plot(kind=\"hist\")\n",
    "plt.title(\"Value for Money Histogram\")\n",
    "plt.show()"
   ]
  },
  {
   "cell_type": "markdown",
   "metadata": {},
   "source": [
    "Let's place hostels with highest 'value for money' rating"
   ]
  },
  {
   "cell_type": "code",
   "execution_count": 411,
   "metadata": {},
   "outputs": [
    {
     "data": {
      "text/html": [
       "<div style=\"width:100%;\"><div style=\"position:relative;width:100%;height:0;padding-bottom:60%;\"><iframe src=\"data:text/html;charset=utf-8;base64,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\" style=\"position:absolute;width:100%;height:100%;left:0;top:0;border:none !important;\" allowfullscreen webkitallowfullscreen mozallowfullscreen></iframe></div></div>"
      ],
      "text/plain": [
       "<folium.folium.Map at 0x1a49bee990>"
      ]
     },
     "execution_count": 411,
     "metadata": {},
     "output_type": "execute_result"
    }
   ],
   "source": [
    "tokyo_map = folium.Map(location=(35.689487, 139.691711), zoom_start=11)\n",
    "high_vfm = tokyo_hostels_df[tokyo_hostels_df.ValueForMoney == 10]\n",
    "\n",
    "# add markers to map\n",
    "for lat, lng, label in zip(high_vfm.Latitude, high_vfm.Longitude, high_vfm.Name):\n",
    "    label = folium.Popup(label, parse_html=True)\n",
    "    folium.CircleMarker(\n",
    "        [lat, lng],\n",
    "        radius=5,\n",
    "        popup=label,\n",
    "        color='#33cc33',\n",
    "        fill=True,\n",
    "        fill_color='#FFF',\n",
    "        fill_opacity=0.75,\n",
    "        parse_html=False).add_to(tokyo_map)\n",
    "    \n",
    "tokyo_map"
   ]
  },
  {
   "cell_type": "code",
   "execution_count": 420,
   "metadata": {},
   "outputs": [
    {
     "data": {
      "text/plain": [
       "3390.909090909091"
      ]
     },
     "execution_count": 420,
     "metadata": {},
     "output_type": "execute_result"
    }
   ],
   "source": [
    "low_vfm.StartPrice.mean()"
   ]
  },
  {
   "cell_type": "code",
   "execution_count": 418,
   "metadata": {},
   "outputs": [
    {
     "data": {
      "text/plain": [
       "2781.818181818182"
      ]
     },
     "execution_count": 418,
     "metadata": {},
     "output_type": "execute_result"
    }
   ],
   "source": [
    "high_vfm.StartPrice.mean()"
   ]
  },
  {
   "cell_type": "code",
   "execution_count": 431,
   "metadata": {},
   "outputs": [
    {
     "name": "stdout",
     "output_type": "stream",
     "text": [
      "Distance from city center:\n",
      "Low Value for money:  7.76\n",
      "High Value for money:  9.9\n"
     ]
    }
   ],
   "source": [
    "print(\"Distance from city center:\")\n",
    "print(\"Low Value for money: \", round(low_vfm.DistanceFromCityCentre.mean(), 2))\n",
    "print(\"High Value for money: \", round(high_vfm.DistanceFromCityCentre.mean(), 2))"
   ]
  },
  {
   "cell_type": "markdown",
   "metadata": {},
   "source": [
    "> **High value for money hostels are comparatively cheaper and are located away from the city center** "
   ]
  },
  {
   "cell_type": "markdown",
   "metadata": {},
   "source": [
    "CHLOROPLETH HOSTELS AND AREA. SHOW AREA WITH MOST HOSTELS"
   ]
  },
  {
   "cell_type": "markdown",
   "metadata": {},
   "source": [
    "\n",
    "\n",
    "##### Cheap hostels near metro stations?"
   ]
  },
  {
   "cell_type": "markdown",
   "metadata": {},
   "source": [
    "We will remove rows with Empty VenueCategory"
   ]
  },
  {
   "cell_type": "code",
   "execution_count": 442,
   "metadata": {},
   "outputs": [
    {
     "data": {
      "text/plain": [
       "(15527, 5)"
      ]
     },
     "execution_count": 442,
     "metadata": {},
     "output_type": "execute_result"
    }
   ],
   "source": [
    "venues_df.Category.replace('', np.nan, inplace=True)\n",
    "venues_df.dropna(inplace=True)\n",
    "venues_df.shape"
   ]
  },
  {
   "cell_type": "markdown",
   "metadata": {},
   "source": [
    "Let's check the frequency of each Venue Category"
   ]
  },
  {
   "cell_type": "code",
   "execution_count": 445,
   "metadata": {},
   "outputs": [
    {
     "data": {
      "text/plain": [
       "Convenience Store      1459\n",
       "Ramen Restaurant        892\n",
       "Japanese Restaurant     765\n",
       "Café                    685\n",
       "Hotel                   585\n",
       "                       ... \n",
       "Bowling Alley             1\n",
       "Garden Center             1\n",
       "Laundromat                1\n",
       "Temple                    1\n",
       "Moving Target             1\n",
       "Name: Category, Length: 323, dtype: int64"
      ]
     },
     "execution_count": 445,
     "metadata": {},
     "output_type": "execute_result"
    }
   ],
   "source": [
    "venues_df.Category.value_counts()"
   ]
  },
  {
   "cell_type": "markdown",
   "metadata": {},
   "source": [
    "<br> Let's check the average number of venues per Hostel"
   ]
  },
  {
   "cell_type": "code",
   "execution_count": 450,
   "metadata": {},
   "outputs": [
    {
     "data": {
      "text/html": [
       "<div>\n",
       "<style scoped>\n",
       "    .dataframe tbody tr th:only-of-type {\n",
       "        vertical-align: middle;\n",
       "    }\n",
       "\n",
       "    .dataframe tbody tr th {\n",
       "        vertical-align: top;\n",
       "    }\n",
       "\n",
       "    .dataframe thead th {\n",
       "        text-align: right;\n",
       "    }\n",
       "</style>\n",
       "<table border=\"1\" class=\"dataframe\">\n",
       "  <thead>\n",
       "    <tr style=\"text-align: right;\">\n",
       "      <th></th>\n",
       "      <th>VenueName</th>\n",
       "      <th>Category</th>\n",
       "      <th>VenueLatitude</th>\n",
       "      <th>VenueLongitude</th>\n",
       "    </tr>\n",
       "    <tr>\n",
       "      <th>HostelName</th>\n",
       "      <th></th>\n",
       "      <th></th>\n",
       "      <th></th>\n",
       "      <th></th>\n",
       "    </tr>\n",
       "  </thead>\n",
       "  <tbody>\n",
       "    <tr>\n",
       "      <th>\"Bike &amp; Bed\" CharinCo Hostel</th>\n",
       "      <td>70</td>\n",
       "      <td>70</td>\n",
       "      <td>70</td>\n",
       "      <td>70</td>\n",
       "    </tr>\n",
       "    <tr>\n",
       "      <th>&amp;And Hostel Akihabara</th>\n",
       "      <td>100</td>\n",
       "      <td>100</td>\n",
       "      <td>100</td>\n",
       "      <td>100</td>\n",
       "    </tr>\n",
       "    <tr>\n",
       "      <th>&amp;And Hostel Ueno</th>\n",
       "      <td>82</td>\n",
       "      <td>82</td>\n",
       "      <td>82</td>\n",
       "      <td>82</td>\n",
       "    </tr>\n",
       "    <tr>\n",
       "      <th>&amp;And Hostel-Asakusa North-</th>\n",
       "      <td>36</td>\n",
       "      <td>36</td>\n",
       "      <td>36</td>\n",
       "      <td>36</td>\n",
       "    </tr>\n",
       "    <tr>\n",
       "      <th>1night1980hostel Tokyo</th>\n",
       "      <td>31</td>\n",
       "      <td>31</td>\n",
       "      <td>31</td>\n",
       "      <td>31</td>\n",
       "    </tr>\n",
       "    <tr>\n",
       "      <th>...</th>\n",
       "      <td>...</td>\n",
       "      <td>...</td>\n",
       "      <td>...</td>\n",
       "      <td>...</td>\n",
       "    </tr>\n",
       "    <tr>\n",
       "      <th>Sakura Hotel Nippori</th>\n",
       "      <td>53</td>\n",
       "      <td>53</td>\n",
       "      <td>53</td>\n",
       "      <td>53</td>\n",
       "    </tr>\n",
       "    <tr>\n",
       "      <th>Sakura La An</th>\n",
       "      <td>52</td>\n",
       "      <td>52</td>\n",
       "      <td>52</td>\n",
       "      <td>52</td>\n",
       "    </tr>\n",
       "    <tr>\n",
       "      <th>hostel DEN</th>\n",
       "      <td>76</td>\n",
       "      <td>76</td>\n",
       "      <td>76</td>\n",
       "      <td>76</td>\n",
       "    </tr>\n",
       "    <tr>\n",
       "      <th>iloha Hostel Namba Shinsaibashi</th>\n",
       "      <td>100</td>\n",
       "      <td>100</td>\n",
       "      <td>100</td>\n",
       "      <td>100</td>\n",
       "    </tr>\n",
       "    <tr>\n",
       "      <th>montan HAKATA</th>\n",
       "      <td>35</td>\n",
       "      <td>35</td>\n",
       "      <td>35</td>\n",
       "      <td>35</td>\n",
       "    </tr>\n",
       "  </tbody>\n",
       "</table>\n",
       "<p>244 rows × 4 columns</p>\n",
       "</div>"
      ],
      "text/plain": [
       "                                 VenueName  Category  VenueLatitude  \\\n",
       "HostelName                                                            \n",
       "\"Bike & Bed\" CharinCo Hostel            70        70             70   \n",
       "&And Hostel Akihabara                  100       100            100   \n",
       "&And Hostel Ueno                        82        82             82   \n",
       "&And Hostel-Asakusa North-              36        36             36   \n",
       "1night1980hostel Tokyo                  31        31             31   \n",
       "...                                    ...       ...            ...   \n",
       "Sakura Hotel Nippori                    53        53             53   \n",
       "Sakura La An                            52        52             52   \n",
       "hostel DEN                              76        76             76   \n",
       "iloha Hostel Namba Shinsaibashi        100       100            100   \n",
       "montan HAKATA                           35        35             35   \n",
       "\n",
       "                                 VenueLongitude  \n",
       "HostelName                                       \n",
       "\"Bike & Bed\" CharinCo Hostel                 70  \n",
       "&And Hostel Akihabara                       100  \n",
       "&And Hostel Ueno                             82  \n",
       "&And Hostel-Asakusa North-                   36  \n",
       "1night1980hostel Tokyo                       31  \n",
       "...                                         ...  \n",
       "Sakura Hotel Nippori                         53  \n",
       "Sakura La An                                 52  \n",
       "hostel DEN                                   76  \n",
       "iloha Hostel Namba Shinsaibashi             100  \n",
       "montan HAKATA                                35  \n",
       "\n",
       "[244 rows x 4 columns]"
      ]
     },
     "execution_count": 450,
     "metadata": {},
     "output_type": "execute_result"
    }
   ],
   "source": [
    "venues_df.groupby('HostelName').count()"
   ]
  },
  {
   "cell_type": "markdown",
   "metadata": {},
   "source": [
    "Let's extract the hostels which are close to Metro Stations."
   ]
  },
  {
   "cell_type": "code",
   "execution_count": 460,
   "metadata": {},
   "outputs": [
    {
     "data": {
      "text/html": [
       "<div>\n",
       "<style scoped>\n",
       "    .dataframe tbody tr th:only-of-type {\n",
       "        vertical-align: middle;\n",
       "    }\n",
       "\n",
       "    .dataframe tbody tr th {\n",
       "        vertical-align: top;\n",
       "    }\n",
       "\n",
       "    .dataframe thead th {\n",
       "        text-align: right;\n",
       "    }\n",
       "</style>\n",
       "<table border=\"1\" class=\"dataframe\">\n",
       "  <thead>\n",
       "    <tr style=\"text-align: right;\">\n",
       "      <th></th>\n",
       "      <th>HostelName</th>\n",
       "      <th>VenueName</th>\n",
       "      <th>Category</th>\n",
       "      <th>VenueLatitude</th>\n",
       "      <th>VenueLongitude</th>\n",
       "    </tr>\n",
       "  </thead>\n",
       "  <tbody>\n",
       "    <tr>\n",
       "      <th>70</th>\n",
       "      <td>&amp;And Hostel Akihabara</td>\n",
       "      <td>Akihabara Station (秋葉原駅)</td>\n",
       "      <td>Train Station</td>\n",
       "      <td>35.698357</td>\n",
       "      <td>139.773120</td>\n",
       "    </tr>\n",
       "    <tr>\n",
       "      <th>73</th>\n",
       "      <td>&amp;And Hostel Akihabara</td>\n",
       "      <td>JR Sōbu Line Akihabara Station (JR 総武線 秋葉原駅)</td>\n",
       "      <td>Train Station</td>\n",
       "      <td>35.698358</td>\n",
       "      <td>139.773288</td>\n",
       "    </tr>\n",
       "    <tr>\n",
       "      <th>74</th>\n",
       "      <td>&amp;And Hostel Akihabara</td>\n",
       "      <td>Akihabara Electric Town Exit (秋葉原駅 電気街口)</td>\n",
       "      <td>Train Station</td>\n",
       "      <td>35.698818</td>\n",
       "      <td>139.772570</td>\n",
       "    </tr>\n",
       "    <tr>\n",
       "      <th>170</th>\n",
       "      <td>&amp;And Hostel Ueno</td>\n",
       "      <td>Iriya Entrance (JR上野駅 入谷口)</td>\n",
       "      <td>Train Station</td>\n",
       "      <td>35.714337</td>\n",
       "      <td>139.778622</td>\n",
       "    </tr>\n",
       "    <tr>\n",
       "      <th>358</th>\n",
       "      <td>328 Hostel &amp; Lounge</td>\n",
       "      <td>ホテル JAL CITY バス乗り場</td>\n",
       "      <td>Bus Station</td>\n",
       "      <td>35.551771</td>\n",
       "      <td>139.748390</td>\n",
       "    </tr>\n",
       "    <tr>\n",
       "      <th>...</th>\n",
       "      <td>...</td>\n",
       "      <td>...</td>\n",
       "      <td>...</td>\n",
       "      <td>...</td>\n",
       "      <td>...</td>\n",
       "    </tr>\n",
       "    <tr>\n",
       "      <th>14542</th>\n",
       "      <td>Piece Hostel Kyoto</td>\n",
       "      <td>九条駅 出入口2</td>\n",
       "      <td>Metro Station</td>\n",
       "      <td>34.979946</td>\n",
       "      <td>135.759636</td>\n",
       "    </tr>\n",
       "    <tr>\n",
       "      <th>14545</th>\n",
       "      <td>Piece Hostel Kyoto</td>\n",
       "      <td>九条河原町 バス停</td>\n",
       "      <td>Bus Station</td>\n",
       "      <td>34.979650</td>\n",
       "      <td>135.764092</td>\n",
       "    </tr>\n",
       "    <tr>\n",
       "      <th>14835</th>\n",
       "      <td>Qoo Ebisucho</td>\n",
       "      <td>Ebisucho Station (恵美須町駅)</td>\n",
       "      <td>Metro Station</td>\n",
       "      <td>34.657006</td>\n",
       "      <td>135.505669</td>\n",
       "    </tr>\n",
       "    <tr>\n",
       "      <th>14863</th>\n",
       "      <td>Qoo Ebisucho</td>\n",
       "      <td>Hankai Tramway Ebisucho Station (阪堺電車 恵美須町駅)</td>\n",
       "      <td>Tram Station</td>\n",
       "      <td>34.654218</td>\n",
       "      <td>135.505250</td>\n",
       "    </tr>\n",
       "    <tr>\n",
       "      <th>14864</th>\n",
       "      <td>Qoo Ebisucho</td>\n",
       "      <td>Imamiyaebisu Station (今宮戎駅)</td>\n",
       "      <td>Train Station</td>\n",
       "      <td>34.654718</td>\n",
       "      <td>135.501592</td>\n",
       "    </tr>\n",
       "  </tbody>\n",
       "</table>\n",
       "<p>185 rows × 5 columns</p>\n",
       "</div>"
      ],
      "text/plain": [
       "                  HostelName                                     VenueName  \\\n",
       "70     &And Hostel Akihabara                      Akihabara Station (秋葉原駅)   \n",
       "73     &And Hostel Akihabara  JR Sōbu Line Akihabara Station (JR 総武線 秋葉原駅)   \n",
       "74     &And Hostel Akihabara      Akihabara Electric Town Exit (秋葉原駅 電気街口)   \n",
       "170         &And Hostel Ueno                    Iriya Entrance (JR上野駅 入谷口)   \n",
       "358      328 Hostel & Lounge                            ホテル JAL CITY バス乗り場   \n",
       "...                      ...                                           ...   \n",
       "14542     Piece Hostel Kyoto                                      九条駅 出入口2   \n",
       "14545     Piece Hostel Kyoto                                     九条河原町 バス停   \n",
       "14835           Qoo Ebisucho                      Ebisucho Station (恵美須町駅)   \n",
       "14863           Qoo Ebisucho  Hankai Tramway Ebisucho Station (阪堺電車 恵美須町駅)   \n",
       "14864           Qoo Ebisucho                   Imamiyaebisu Station (今宮戎駅)   \n",
       "\n",
       "            Category  VenueLatitude  VenueLongitude  \n",
       "70     Train Station      35.698357      139.773120  \n",
       "73     Train Station      35.698358      139.773288  \n",
       "74     Train Station      35.698818      139.772570  \n",
       "170    Train Station      35.714337      139.778622  \n",
       "358      Bus Station      35.551771      139.748390  \n",
       "...              ...            ...             ...  \n",
       "14542  Metro Station      34.979946      135.759636  \n",
       "14545    Bus Station      34.979650      135.764092  \n",
       "14835  Metro Station      34.657006      135.505669  \n",
       "14863   Tram Station      34.654218      135.505250  \n",
       "14864  Train Station      34.654718      135.501592  \n",
       "\n",
       "[185 rows x 5 columns]"
      ]
     },
     "execution_count": 460,
     "metadata": {},
     "output_type": "execute_result"
    }
   ],
   "source": [
    "metro_hostels = venues_df[venues_df.Category.str.contains('Station')]\n",
    "metro_hostels"
   ]
  },
  {
   "cell_type": "code",
   "execution_count": 461,
   "metadata": {},
   "outputs": [
    {
     "data": {
      "text/plain": [
       "(20, 15)"
      ]
     },
     "execution_count": 461,
     "metadata": {},
     "output_type": "execute_result"
    }
   ],
   "source": [
    "metro_hostels = tokyo_hostels_df[tokyo_hostels_df.Name.isin(metro_hostels.HostelName)]\n",
    "metro_hostels.shape"
   ]
  },
  {
   "cell_type": "code",
   "execution_count": 476,
   "metadata": {},
   "outputs": [
    {
     "data": {
      "text/plain": [
       "Fabulous     10\n",
       "Superb        9\n",
       "Very Good     1\n",
       "Name: RatingCategory, dtype: int64"
      ]
     },
     "execution_count": 476,
     "metadata": {},
     "output_type": "execute_result"
    }
   ],
   "source": [
    "metro_hostels.RatingCategory.value_counts()"
   ]
  },
  {
   "cell_type": "code",
   "execution_count": 472,
   "metadata": {},
   "outputs": [
    {
     "data": {
      "text/plain": [
       "Superb       64\n",
       "Fabulous     38\n",
       "Very Good    11\n",
       "Rating        1\n",
       "Good          1\n",
       "Name: RatingCategory, dtype: int64"
      ]
     },
     "execution_count": 472,
     "metadata": {},
     "output_type": "execute_result"
    }
   ],
   "source": [
    "tokyo_hostels_df.RatingCategory.value_counts()"
   ]
  },
  {
   "cell_type": "code",
   "execution_count": 482,
   "metadata": {},
   "outputs": [
    {
     "name": "stdout",
     "output_type": "stream",
     "text": [
      "Hostels located near a metro/train/bus station:\n",
      "50.0% were rated Fabulous\n"
     ]
    }
   ],
   "source": [
    "print(\"Hostels located near a metro/train/bus station:\")\n",
    "print(f\"{metro_hostels.RatingCategory.value_counts()['Fabulous']/metro_hostels.RatingCategory.value_counts().sum()*100}% were rated Fabulous\")"
   ]
  },
  {
   "cell_type": "code",
   "execution_count": 483,
   "metadata": {},
   "outputs": [
    {
     "name": "stdout",
     "output_type": "stream",
     "text": [
      "In general:\n",
      "33.04347826086956% were rated Fabulous\n"
     ]
    }
   ],
   "source": [
    "print(\"In general:\")\n",
    "print(f\"{tokyo_hostels_df.RatingCategory.value_counts()['Fabulous']/tokyo_hostels_df.RatingCategory.value_counts().sum()*100}% were rated Fabulous\")"
   ]
  },
  {
   "cell_type": "markdown",
   "metadata": {},
   "source": [
    "We can observe above that 50% of the hostels near metro/train/bus stations were rated Fabulous compared to only 33% in general."
   ]
  },
  {
   "cell_type": "markdown",
   "metadata": {},
   "source": [
    "This shows that there is some correlation between the proximity to mode of transportation and the overall rating of the hostel"
   ]
  },
  {
   "cell_type": "markdown",
   "metadata": {},
   "source": [
    "> **The proportion of hostels rated fabulous is more near metro/bus/train stations than in general.**"
   ]
  },
  {
   "cell_type": "code",
   "execution_count": 486,
   "metadata": {},
   "outputs": [
    {
     "data": {
      "text/html": [
       "<div>\n",
       "<style scoped>\n",
       "    .dataframe tbody tr th:only-of-type {\n",
       "        vertical-align: middle;\n",
       "    }\n",
       "\n",
       "    .dataframe tbody tr th {\n",
       "        vertical-align: top;\n",
       "    }\n",
       "\n",
       "    .dataframe thead th {\n",
       "        text-align: right;\n",
       "    }\n",
       "</style>\n",
       "<table border=\"1\" class=\"dataframe\">\n",
       "  <thead>\n",
       "    <tr style=\"text-align: right;\">\n",
       "      <th></th>\n",
       "      <th>Name</th>\n",
       "      <th>City</th>\n",
       "      <th>StartPrice</th>\n",
       "      <th>DistanceFromCityCentre</th>\n",
       "      <th>OverallScore</th>\n",
       "      <th>RatingCategory</th>\n",
       "      <th>Atmosphere</th>\n",
       "      <th>Cleanliness</th>\n",
       "      <th>Facilities</th>\n",
       "      <th>Location</th>\n",
       "      <th>Security</th>\n",
       "      <th>Staff</th>\n",
       "      <th>ValueForMoney</th>\n",
       "      <th>Longitude</th>\n",
       "      <th>Latitude</th>\n",
       "    </tr>\n",
       "  </thead>\n",
       "  <tbody>\n",
       "    <tr>\n",
       "      <th>2</th>\n",
       "      <td>&amp;And Hostel Akihabara</td>\n",
       "      <td>Tokyo</td>\n",
       "      <td>3600</td>\n",
       "      <td>7.8</td>\n",
       "      <td>8.7</td>\n",
       "      <td>Fabulous</td>\n",
       "      <td>8.0</td>\n",
       "      <td>7.0</td>\n",
       "      <td>9.0</td>\n",
       "      <td>8.0</td>\n",
       "      <td>10.0</td>\n",
       "      <td>10.0</td>\n",
       "      <td>9.0</td>\n",
       "      <td>139.777472</td>\n",
       "      <td>35.697447</td>\n",
       "    </tr>\n",
       "    <tr>\n",
       "      <th>3</th>\n",
       "      <td>&amp;And Hostel Ueno</td>\n",
       "      <td>Tokyo</td>\n",
       "      <td>2600</td>\n",
       "      <td>8.7</td>\n",
       "      <td>7.4</td>\n",
       "      <td>Very Good</td>\n",
       "      <td>8.0</td>\n",
       "      <td>7.5</td>\n",
       "      <td>7.5</td>\n",
       "      <td>7.5</td>\n",
       "      <td>7.0</td>\n",
       "      <td>8.0</td>\n",
       "      <td>6.5</td>\n",
       "      <td>139.783667</td>\n",
       "      <td>35.712716</td>\n",
       "    </tr>\n",
       "    <tr>\n",
       "      <th>4</th>\n",
       "      <td>&amp;And Hostel-Asakusa North-</td>\n",
       "      <td>Tokyo</td>\n",
       "      <td>1500</td>\n",
       "      <td>10.5</td>\n",
       "      <td>9.4</td>\n",
       "      <td>Superb</td>\n",
       "      <td>9.5</td>\n",
       "      <td>9.5</td>\n",
       "      <td>9.0</td>\n",
       "      <td>9.0</td>\n",
       "      <td>9.5</td>\n",
       "      <td>10.0</td>\n",
       "      <td>9.5</td>\n",
       "      <td>139.798371</td>\n",
       "      <td>35.727898</td>\n",
       "    </tr>\n",
       "    <tr>\n",
       "      <th>5</th>\n",
       "      <td>1night1980hostel Tokyo</td>\n",
       "      <td>Tokyo</td>\n",
       "      <td>2100</td>\n",
       "      <td>9.4</td>\n",
       "      <td>7.0</td>\n",
       "      <td>Very Good</td>\n",
       "      <td>5.5</td>\n",
       "      <td>8.0</td>\n",
       "      <td>6.0</td>\n",
       "      <td>6.0</td>\n",
       "      <td>8.5</td>\n",
       "      <td>8.5</td>\n",
       "      <td>6.5</td>\n",
       "      <td>139.786950</td>\n",
       "      <td>35.724384</td>\n",
       "    </tr>\n",
       "    <tr>\n",
       "      <th>6</th>\n",
       "      <td>328 Hostel &amp; Lounge</td>\n",
       "      <td>Tokyo</td>\n",
       "      <td>3300</td>\n",
       "      <td>16.5</td>\n",
       "      <td>9.3</td>\n",
       "      <td>Superb</td>\n",
       "      <td>8.7</td>\n",
       "      <td>9.7</td>\n",
       "      <td>9.3</td>\n",
       "      <td>9.1</td>\n",
       "      <td>9.3</td>\n",
       "      <td>9.7</td>\n",
       "      <td>8.9</td>\n",
       "      <td>139.745467</td>\n",
       "      <td>35.548044</td>\n",
       "    </tr>\n",
       "    <tr>\n",
       "      <th>...</th>\n",
       "      <td>...</td>\n",
       "      <td>...</td>\n",
       "      <td>...</td>\n",
       "      <td>...</td>\n",
       "      <td>...</td>\n",
       "      <td>...</td>\n",
       "      <td>...</td>\n",
       "      <td>...</td>\n",
       "      <td>...</td>\n",
       "      <td>...</td>\n",
       "      <td>...</td>\n",
       "      <td>...</td>\n",
       "      <td>...</td>\n",
       "      <td>...</td>\n",
       "      <td>...</td>\n",
       "    </tr>\n",
       "    <tr>\n",
       "      <th>275</th>\n",
       "      <td>Retrometro Backpackers</td>\n",
       "      <td>Tokyo</td>\n",
       "      <td>3000</td>\n",
       "      <td>9.2</td>\n",
       "      <td>9.4</td>\n",
       "      <td>Superb</td>\n",
       "      <td>9.4</td>\n",
       "      <td>9.4</td>\n",
       "      <td>9.0</td>\n",
       "      <td>9.4</td>\n",
       "      <td>9.5</td>\n",
       "      <td>9.8</td>\n",
       "      <td>9.6</td>\n",
       "      <td>139.789362</td>\n",
       "      <td>35.713157</td>\n",
       "    </tr>\n",
       "    <tr>\n",
       "      <th>278</th>\n",
       "      <td>RYOKAN＆HOSTEL WASABI Nippori</td>\n",
       "      <td>Tokyo</td>\n",
       "      <td>2000</td>\n",
       "      <td>9.1</td>\n",
       "      <td>8.7</td>\n",
       "      <td>Fabulous</td>\n",
       "      <td>8.2</td>\n",
       "      <td>8.6</td>\n",
       "      <td>8.9</td>\n",
       "      <td>8.5</td>\n",
       "      <td>8.8</td>\n",
       "      <td>8.9</td>\n",
       "      <td>8.9</td>\n",
       "      <td>139.777723</td>\n",
       "      <td>35.732782</td>\n",
       "    </tr>\n",
       "    <tr>\n",
       "      <th>281</th>\n",
       "      <td>Sakura Hostel Asakusa</td>\n",
       "      <td>Tokyo</td>\n",
       "      <td>2400</td>\n",
       "      <td>9.8</td>\n",
       "      <td>8.6</td>\n",
       "      <td>Fabulous</td>\n",
       "      <td>7.7</td>\n",
       "      <td>8.6</td>\n",
       "      <td>8.4</td>\n",
       "      <td>8.9</td>\n",
       "      <td>9.0</td>\n",
       "      <td>9.0</td>\n",
       "      <td>8.7</td>\n",
       "      <td>139.794826</td>\n",
       "      <td>35.716022</td>\n",
       "    </tr>\n",
       "    <tr>\n",
       "      <th>282</th>\n",
       "      <td>Sakura Hotel Ikebukuro</td>\n",
       "      <td>Tokyo</td>\n",
       "      <td>2300</td>\n",
       "      <td>5.1</td>\n",
       "      <td>8.3</td>\n",
       "      <td>Fabulous</td>\n",
       "      <td>7.3</td>\n",
       "      <td>8.2</td>\n",
       "      <td>7.9</td>\n",
       "      <td>9.0</td>\n",
       "      <td>7.8</td>\n",
       "      <td>9.1</td>\n",
       "      <td>8.8</td>\n",
       "      <td>139.708803</td>\n",
       "      <td>35.733614</td>\n",
       "    </tr>\n",
       "    <tr>\n",
       "      <th>283</th>\n",
       "      <td>Sakura Hotel Nippori</td>\n",
       "      <td>Tokyo</td>\n",
       "      <td>1900</td>\n",
       "      <td>7.8</td>\n",
       "      <td>9.1</td>\n",
       "      <td>Superb</td>\n",
       "      <td>8.6</td>\n",
       "      <td>9.4</td>\n",
       "      <td>8.9</td>\n",
       "      <td>9.1</td>\n",
       "      <td>9.7</td>\n",
       "      <td>9.4</td>\n",
       "      <td>8.6</td>\n",
       "      <td>139.764175</td>\n",
       "      <td>35.728169</td>\n",
       "    </tr>\n",
       "  </tbody>\n",
       "</table>\n",
       "<p>89 rows × 15 columns</p>\n",
       "</div>"
      ],
      "text/plain": [
       "                             Name   City  StartPrice  DistanceFromCityCentre  \\\n",
       "2           &And Hostel Akihabara  Tokyo        3600                     7.8   \n",
       "3                &And Hostel Ueno  Tokyo        2600                     8.7   \n",
       "4      &And Hostel-Asakusa North-  Tokyo        1500                    10.5   \n",
       "5          1night1980hostel Tokyo  Tokyo        2100                     9.4   \n",
       "6             328 Hostel & Lounge  Tokyo        3300                    16.5   \n",
       "..                            ...    ...         ...                     ...   \n",
       "275        Retrometro Backpackers  Tokyo        3000                     9.2   \n",
       "278  RYOKAN＆HOSTEL WASABI Nippori  Tokyo        2000                     9.1   \n",
       "281         Sakura Hostel Asakusa  Tokyo        2400                     9.8   \n",
       "282        Sakura Hotel Ikebukuro  Tokyo        2300                     5.1   \n",
       "283          Sakura Hotel Nippori  Tokyo        1900                     7.8   \n",
       "\n",
       "     OverallScore RatingCategory  Atmosphere  Cleanliness  Facilities  \\\n",
       "2             8.7       Fabulous         8.0          7.0         9.0   \n",
       "3             7.4      Very Good         8.0          7.5         7.5   \n",
       "4             9.4         Superb         9.5          9.5         9.0   \n",
       "5             7.0      Very Good         5.5          8.0         6.0   \n",
       "6             9.3         Superb         8.7          9.7         9.3   \n",
       "..            ...            ...         ...          ...         ...   \n",
       "275           9.4         Superb         9.4          9.4         9.0   \n",
       "278           8.7       Fabulous         8.2          8.6         8.9   \n",
       "281           8.6       Fabulous         7.7          8.6         8.4   \n",
       "282           8.3       Fabulous         7.3          8.2         7.9   \n",
       "283           9.1         Superb         8.6          9.4         8.9   \n",
       "\n",
       "     Location  Security  Staff  ValueForMoney   Longitude   Latitude  \n",
       "2         8.0      10.0   10.0            9.0  139.777472  35.697447  \n",
       "3         7.5       7.0    8.0            6.5  139.783667  35.712716  \n",
       "4         9.0       9.5   10.0            9.5  139.798371  35.727898  \n",
       "5         6.0       8.5    8.5            6.5  139.786950  35.724384  \n",
       "6         9.1       9.3    9.7            8.9  139.745467  35.548044  \n",
       "..        ...       ...    ...            ...         ...        ...  \n",
       "275       9.4       9.5    9.8            9.6  139.789362  35.713157  \n",
       "278       8.5       8.8    8.9            8.9  139.777723  35.732782  \n",
       "281       8.9       9.0    9.0            8.7  139.794826  35.716022  \n",
       "282       9.0       7.8    9.1            8.8  139.708803  35.733614  \n",
       "283       9.1       9.7    9.4            8.6  139.764175  35.728169  \n",
       "\n",
       "[89 rows x 15 columns]"
      ]
     },
     "execution_count": 486,
     "metadata": {},
     "output_type": "execute_result"
    }
   ],
   "source": [
    "store_hostels = tokyo_hostels_df[tokyo_hostels_df.Name.isin(venues_df[venues_df.Category.str.contains('Store')]['HostelName'].unique())]\n",
    "store_hostels"
   ]
  },
  {
   "cell_type": "markdown",
   "metadata": {},
   "source": [
    "<br>\n",
    "\n",
    "\n",
    "##### Which neighborhood venues affect a user's rating for location of hostel?\n",
    "Let's do a similar analysis for a few categories and see how it affects the user rating. "
   ]
  },
  {
   "cell_type": "code",
   "execution_count": 620,
   "metadata": {},
   "outputs": [
    {
     "data": {
      "text/plain": [
       "Arts & Crafts Store       39\n",
       "Platform                  39\n",
       "Liquor Store              38\n",
       "Sporting Goods Shop       38\n",
       "Snack Place               37\n",
       "Music Venue               34\n",
       "Nightclub                 34\n",
       "Dim Sum Restaurant        34\n",
       "Shoe Store                33\n",
       "Department Store          33\n",
       "Furniture / Home Store    33\n",
       "Inn                       31\n",
       "Art Museum                31\n",
       "History Museum            31\n",
       "Museum                    30\n",
       "Pastry Shop               30\n",
       "Garden                    30\n",
       "Multiplex                 30\n",
       "Concert Hall              29\n",
       "Art Gallery               29\n",
       "Name: Category, dtype: int64"
      ]
     },
     "execution_count": 620,
     "metadata": {},
     "output_type": "execute_result"
    }
   ],
   "source": [
    "venues_df.Category.value_counts()[70:90]"
   ]
  },
  {
   "cell_type": "markdown",
   "metadata": {},
   "source": [
    "We'll do similar analysis for *Convenience Store*, *Restaurant*, *Bar*, *Shopping Mall* categories"
   ]
  },
  {
   "cell_type": "code",
   "execution_count": 585,
   "metadata": {},
   "outputs": [],
   "source": [
    "hostels_near_store = tokyo_hostels_df[\n",
    "    tokyo_hostels_df.Name.isin(venues_df.HostelName[venues_df.Category.str.contains('store', case=False)])]"
   ]
  },
  {
   "cell_type": "code",
   "execution_count": 586,
   "metadata": {},
   "outputs": [
    {
     "data": {
      "text/plain": [
       "Superb       51\n",
       "Fabulous     29\n",
       "Very Good     9\n",
       "Name: RatingCategory, dtype: int64"
      ]
     },
     "execution_count": 586,
     "metadata": {},
     "output_type": "execute_result"
    }
   ],
   "source": [
    "hostels_near_store.RatingCategory.value_counts()"
   ]
  },
  {
   "cell_type": "code",
   "execution_count": 587,
   "metadata": {},
   "outputs": [
    {
     "name": "stdout",
     "output_type": "stream",
     "text": [
      "Hostels located near a convenience store:\n",
      "32.58426966292135% were rated Fabulous\n"
     ]
    }
   ],
   "source": [
    "print(\"Hostels located near a convenience store:\")\n",
    "print(f\"{hostels_near_store.RatingCategory.value_counts()['Fabulous']/hostels_near_store.RatingCategory.value_counts().sum()*100}% were rated Fabulous\")"
   ]
  },
  {
   "cell_type": "markdown",
   "metadata": {},
   "source": [
    "> **Travellers do not bother much about proximity to a convenience store doesn't since it doesn't seem to affect overall hostel rating.**"
   ]
  },
  {
   "cell_type": "markdown",
   "metadata": {},
   "source": [
    "Next, we can carry the same analysis for restaurants"
   ]
  },
  {
   "cell_type": "code",
   "execution_count": 588,
   "metadata": {},
   "outputs": [],
   "source": [
    "hostels_near_bar = tokyo_hostels_df[\n",
    "    tokyo_hostels_df.Name.isin(venues_df.HostelName[venues_df.Category.str.contains('bar', case=False)])]"
   ]
  },
  {
   "cell_type": "code",
   "execution_count": 589,
   "metadata": {},
   "outputs": [
    {
     "data": {
      "text/plain": [
       "Superb       50\n",
       "Fabulous     27\n",
       "Very Good     8\n",
       "Name: RatingCategory, dtype: int64"
      ]
     },
     "execution_count": 589,
     "metadata": {},
     "output_type": "execute_result"
    }
   ],
   "source": [
    "hostels_near_bar.RatingCategory.value_counts()"
   ]
  },
  {
   "cell_type": "code",
   "execution_count": 590,
   "metadata": {},
   "outputs": [
    {
     "name": "stdout",
     "output_type": "stream",
     "text": [
      "Hostels located near a Bar:\n",
      "31.76470588235294% were rated Fabulous\n"
     ]
    }
   ],
   "source": [
    "print(\"Hostels located near a Bar:\")\n",
    "print(f\"{hostels_near_bar.RatingCategory.value_counts()['Fabulous']/hostels_near_bar.RatingCategory.value_counts().sum()*100}% were rated Fabulous\")"
   ]
  },
  {
   "cell_type": "markdown",
   "metadata": {},
   "source": [
    "> **The proportion of hostels rated fabulous is less near a Bar than in general. Travellers seem to avoid hostels near bars**"
   ]
  },
  {
   "cell_type": "markdown",
   "metadata": {},
   "source": [
    "Let's check for public parks"
   ]
  },
  {
   "cell_type": "code",
   "execution_count": 596,
   "metadata": {},
   "outputs": [],
   "source": [
    "hostels_near_mall = tokyo_hostels_df[\n",
    "    tokyo_hostels_df.Name.isin(venues_df.HostelName[venues_df.Category.str.contains('park', case=False)])]"
   ]
  },
  {
   "cell_type": "code",
   "execution_count": 597,
   "metadata": {},
   "outputs": [
    {
     "data": {
      "text/plain": [
       "Superb       35\n",
       "Fabulous     14\n",
       "Very Good     6\n",
       "Name: RatingCategory, dtype: int64"
      ]
     },
     "execution_count": 597,
     "metadata": {},
     "output_type": "execute_result"
    }
   ],
   "source": [
    "hostels_near_mall.RatingCategory.value_counts()"
   ]
  },
  {
   "cell_type": "code",
   "execution_count": 598,
   "metadata": {},
   "outputs": [
    {
     "name": "stdout",
     "output_type": "stream",
     "text": [
      "Hostels located near a convenience store:\n",
      "25.454545454545453% were rated Fabulous\n"
     ]
    }
   ],
   "source": [
    "print(\"Hostels located near a convenience store:\")\n",
    "print(f\"{hostels_near_mall.RatingCategory.value_counts()['Fabulous']/hostels_near_mall.RatingCategory.value_counts().sum()*100}% were rated Fabulous\")"
   ]
  },
  {
   "cell_type": "markdown",
   "metadata": {},
   "source": [
    "> **Hostels with proximity to a park are quite lowly rated than others. Seems like travellers do not like public parks near hostels.**"
   ]
  },
  {
   "cell_type": "code",
   "execution_count": 626,
   "metadata": {},
   "outputs": [],
   "source": [
    "hostels_near_site = tokyo_hostels_df[\n",
    "    tokyo_hostels_df.Name.isin(venues_df.HostelName[venues_df.Category.str.contains('Historic Site', case=False)])]"
   ]
  },
  {
   "cell_type": "code",
   "execution_count": 627,
   "metadata": {},
   "outputs": [
    {
     "data": {
      "text/plain": [
       "Fabulous     5\n",
       "Superb       5\n",
       "Very Good    2\n",
       "Name: RatingCategory, dtype: int64"
      ]
     },
     "execution_count": 627,
     "metadata": {},
     "output_type": "execute_result"
    }
   ],
   "source": [
    "hostels_near_site.RatingCategory.value_counts()"
   ]
  },
  {
   "cell_type": "code",
   "execution_count": 628,
   "metadata": {},
   "outputs": [
    {
     "name": "stdout",
     "output_type": "stream",
     "text": [
      "Hostels located near a historic site:\n",
      "41.66666666666667% were rated Fabulous\n"
     ]
    }
   ],
   "source": [
    "print(\"Hostels located near a historic site:\")\n",
    "print(f\"{hostels_near_site.RatingCategory.value_counts()['Fabulous']/hostels_near_site.RatingCategory.value_counts().sum()*100}% were rated Fabulous\")"
   ]
  },
  {
   "cell_type": "markdown",
   "metadata": {},
   "source": [
    "> **The proportion of hostels rated fabulous is more near a historic site than in general.**"
   ]
  },
  {
   "cell_type": "code",
   "execution_count": 629,
   "metadata": {},
   "outputs": [],
   "source": [
    "hostels_near_museum = tokyo_hostels_df[\n",
    "    tokyo_hostels_df.Name.isin(venues_df.HostelName[venues_df.Category.str.contains('Museum', case=False)])]"
   ]
  },
  {
   "cell_type": "code",
   "execution_count": 630,
   "metadata": {},
   "outputs": [
    {
     "data": {
      "text/plain": [
       "Superb       12\n",
       "Fabulous      6\n",
       "Very Good     3\n",
       "Name: RatingCategory, dtype: int64"
      ]
     },
     "execution_count": 630,
     "metadata": {},
     "output_type": "execute_result"
    }
   ],
   "source": [
    "hostels_near_museum.RatingCategory.value_counts()"
   ]
  },
  {
   "cell_type": "code",
   "execution_count": 631,
   "metadata": {},
   "outputs": [
    {
     "name": "stdout",
     "output_type": "stream",
     "text": [
      "Hostels located near a historic site:\n",
      "28.57142857142857% were rated Fabulous\n"
     ]
    }
   ],
   "source": [
    "print(\"Hostels located near a historic site:\")\n",
    "print(f\"{hostels_near_museum.RatingCategory.value_counts()['Fabulous']/hostels_near_museum.RatingCategory.value_counts().sum()*100}% were rated Fabulous\")"
   ]
  },
  {
   "cell_type": "markdown",
   "metadata": {},
   "source": [
    "> **Proportion of Hostels with proximity to a museum that are lowly rated is quite high than in general.**"
   ]
  },
  {
   "cell_type": "markdown",
   "metadata": {},
   "source": [
    "<br>"
   ]
  },
  {
   "cell_type": "markdown",
   "metadata": {},
   "source": [
    "### 5.2 Clustering"
   ]
  },
  {
   "cell_type": "markdown",
   "metadata": {},
   "source": [
    "Now, we will cluster the hostels twice. Once depending on the different rating parameters and one based on their neighborhood.\n",
    "\n",
    "Consider the following case, that a traveller has selected a hostel, but he finds that it is full! What options does he have? He/She can either go for a hostel which is similar in rating and price to the one he/she has selected. Or he/she can consider hostels which boast similar neighborhood to the selected one.\n",
    "\n",
    "We will help traveller in both cases"
   ]
  },
  {
   "cell_type": "markdown",
   "metadata": {},
   "source": [
    "#### 5.2.1 Clustering based on rating parameters"
   ]
  },
  {
   "cell_type": "code",
   "execution_count": 636,
   "metadata": {},
   "outputs": [],
   "source": [
    "X = tokyo_hostels_df[['StartPrice', 'DistanceFromCityCentre', 'OverallScore', \n",
    "                      'Atmosphere', 'Cleanliness', 'Facilities', 'Location', \n",
    "                      'Security', 'Staff', 'ValueForMoney']]"
   ]
  },
  {
   "cell_type": "code",
   "execution_count": 644,
   "metadata": {},
   "outputs": [],
   "source": [
    "def get_inertia(n_clusters):\n",
    "    km = KMeans(n_clusters=n_clusters, init='k-means++', max_iter=15, random_state=8)\n",
    "    km.fit(X)\n",
    "    return km.inertia_"
   ]
  },
  {
   "cell_type": "code",
   "execution_count": 645,
   "metadata": {},
   "outputs": [],
   "source": [
    "scores = [get_inertia(x) for x in range(2, 21)]"
   ]
  },
  {
   "cell_type": "code",
   "execution_count": 646,
   "metadata": {},
   "outputs": [
    {
     "data": {
      "text/plain": [
       "Text(0, 0.5, 'Error')"
      ]
     },
     "execution_count": 646,
     "metadata": {},
     "output_type": "execute_result"
    },
    {
     "data": {
      "image/png": "[encoded data removed]",
      "text/plain": [
       "<Figure size 720x576 with 1 Axes>"
      ]
     },
     "metadata": {
      "needs_background": "light"
     },
     "output_type": "display_data"
    }
   ],
   "source": [
    "plt.figure(figsize=[10, 8])\n",
    "sns.lineplot(x=range(2, 21), y=scores)\n",
    "plt.title(\"K vs Error\")\n",
    "plt.xticks(range(2, 21))\n",
    "plt.xlabel(\"K\")\n",
    "plt.ylabel(\"Error\")"
   ]
  },
  {
   "cell_type": "markdown",
   "metadata": {},
   "source": [
    "It is evident from the above plot that we have 7 clusters in our data. Let's retrain the model and plot the hostels on the map."
   ]
  },
  {
   "cell_type": "code",
   "execution_count": 647,
   "metadata": {},
   "outputs": [
    {
     "data": {
      "text/plain": [
       "KMeans(algorithm='auto', copy_x=True, init='k-means++', max_iter=300,\n",
       "       n_clusters=7, n_init=10, n_jobs=None, precompute_distances='auto',\n",
       "       random_state=None, tol=0.0001, verbose=0)"
      ]
     },
     "execution_count": 647,
     "metadata": {},
     "output_type": "execute_result"
    }
   ],
   "source": [
    "# train final model with k=9\n",
    "kmeans = KMeans(n_clusters=7)\n",
    "kmeans.fit(X)"
   ]
  },
  {
   "cell_type": "code",
   "execution_count": 653,
   "metadata": {},
   "outputs": [],
   "source": [
    "tokyo_hostels_df['RatingCluster'] = kmeans.labels_"
   ]
  },
  {
   "cell_type": "code",
   "execution_count": 652,
   "metadata": {},
   "outputs": [
    {
     "data": {
      "text/html": [
       "<div style=\"width:100%;\"><div style=\"position:relative;width:100%;height:0;padding-bottom:60%;\"><iframe src=\"data:text/html;charset=utf-8;base64,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\" style=\"position:absolute;width:100%;height:100%;left:0;top:0;border:none !important;\" allowfullscreen webkitallowfullscreen mozallowfullscreen></iframe></div></div>"
      ],
      "text/plain": [
       "<folium.folium.Map at 0x1a5039b790>"
      ]
     },
     "execution_count": 652,
     "metadata": {},
     "output_type": "execute_result"
    }
   ],
   "source": [
    "tokyo_map = folium.Map(location=(35.689487, 139.691711), zoom_start=11)\n",
    "\n",
    "# set color scheme for the clusters\n",
    "x = np.arange(9)\n",
    "ys = [i + x + (i*x)**2 for i in range(9)]\n",
    "colors_array = cm.rainbow(np.linspace(0, 1, len(ys)))\n",
    "rainbow = [colors.rgb2hex(i) for i in colors_array]\n",
    "\n",
    "# add markers to map\n",
    "markers_colors = []\n",
    "for lat, lng, name, cluster in zip(tokyo_hostels_df.Latitude, tokyo_hostels_df.Longitude, tokyo_hostels_df.Name, kmeans.labels_):\n",
    "    label = folium.Popup(str(name) + ' Cluster ' + str(cluster), parse_html=True)\n",
    "    folium.CircleMarker(\n",
    "        [lat, lng],\n",
    "        radius=4,\n",
    "        popup=label,\n",
    "        color=rainbow[cluster-1],\n",
    "        fill=True,\n",
    "        fill_color='#FFF',\n",
    "        fill_opacity=0.75,\n",
    "        parse_html=False).add_to(tokyo_map)\n",
    "    \n",
    "tokyo_map"
   ]
  },
  {
   "cell_type": "markdown",
   "metadata": {},
   "source": [
    "_**Examining Clusters**_"
   ]
  },
  {
   "cell_type": "markdown",
   "metadata": {},
   "source": [
    "Now, we can examine each cluster and determine the discriminating venue categories that distinguish each cluster. But we won't be doing it for all. We'll compare first two clusters for the sake of brevity"
   ]
  },
  {
   "cell_type": "markdown",
   "metadata": {},
   "source": [
    "##### Cluster 0"
   ]
  },
  {
   "cell_type": "code",
   "execution_count": 657,
   "metadata": {},
   "outputs": [
    {
     "data": {
      "text/html": [
       "<div>\n",
       "<style scoped>\n",
       "    .dataframe tbody tr th:only-of-type {\n",
       "        vertical-align: middle;\n",
       "    }\n",
       "\n",
       "    .dataframe tbody tr th {\n",
       "        vertical-align: top;\n",
       "    }\n",
       "\n",
       "    .dataframe thead th {\n",
       "        text-align: right;\n",
       "    }\n",
       "</style>\n",
       "<table border=\"1\" class=\"dataframe\">\n",
       "  <thead>\n",
       "    <tr style=\"text-align: right;\">\n",
       "      <th></th>\n",
       "      <th>StartPrice</th>\n",
       "      <th>DistanceFromCityCentre</th>\n",
       "      <th>OverallScore</th>\n",
       "      <th>Atmosphere</th>\n",
       "      <th>Cleanliness</th>\n",
       "      <th>Facilities</th>\n",
       "      <th>Location</th>\n",
       "      <th>Security</th>\n",
       "      <th>Staff</th>\n",
       "      <th>ValueForMoney</th>\n",
       "      <th>Longitude</th>\n",
       "      <th>Latitude</th>\n",
       "      <th>RatingCluster</th>\n",
       "    </tr>\n",
       "  </thead>\n",
       "  <tbody>\n",
       "    <tr>\n",
       "      <th>count</th>\n",
       "      <td>14.000000</td>\n",
       "      <td>14.000000</td>\n",
       "      <td>14.000000</td>\n",
       "      <td>14.00000</td>\n",
       "      <td>14.000000</td>\n",
       "      <td>14.00000</td>\n",
       "      <td>14.000000</td>\n",
       "      <td>14.000000</td>\n",
       "      <td>14.000000</td>\n",
       "      <td>14.000000</td>\n",
       "      <td>14.000000</td>\n",
       "      <td>14.000000</td>\n",
       "      <td>14.0</td>\n",
       "    </tr>\n",
       "    <tr>\n",
       "      <th>mean</th>\n",
       "      <td>3785.714286</td>\n",
       "      <td>6.664286</td>\n",
       "      <td>8.671429</td>\n",
       "      <td>8.15000</td>\n",
       "      <td>8.921429</td>\n",
       "      <td>8.20000</td>\n",
       "      <td>8.757143</td>\n",
       "      <td>8.664286</td>\n",
       "      <td>9.185714</td>\n",
       "      <td>8.785714</td>\n",
       "      <td>139.745607</td>\n",
       "      <td>35.692388</td>\n",
       "      <td>0.0</td>\n",
       "    </tr>\n",
       "    <tr>\n",
       "      <th>std</th>\n",
       "      <td>203.269972</td>\n",
       "      <td>3.828156</td>\n",
       "      <td>0.722633</td>\n",
       "      <td>1.11338</td>\n",
       "      <td>1.117813</td>\n",
       "      <td>1.03478</td>\n",
       "      <td>0.672211</td>\n",
       "      <td>1.305378</td>\n",
       "      <td>0.758396</td>\n",
       "      <td>0.995264</td>\n",
       "      <td>0.037821</td>\n",
       "      <td>0.044775</td>\n",
       "      <td>0.0</td>\n",
       "    </tr>\n",
       "    <tr>\n",
       "      <th>min</th>\n",
       "      <td>3500.000000</td>\n",
       "      <td>1.400000</td>\n",
       "      <td>6.800000</td>\n",
       "      <td>6.00000</td>\n",
       "      <td>6.700000</td>\n",
       "      <td>6.00000</td>\n",
       "      <td>8.000000</td>\n",
       "      <td>6.000000</td>\n",
       "      <td>7.300000</td>\n",
       "      <td>6.700000</td>\n",
       "      <td>139.693004</td>\n",
       "      <td>35.550492</td>\n",
       "      <td>0.0</td>\n",
       "    </tr>\n",
       "    <tr>\n",
       "      <th>25%</th>\n",
       "      <td>3600.000000</td>\n",
       "      <td>4.250000</td>\n",
       "      <td>8.475000</td>\n",
       "      <td>7.92500</td>\n",
       "      <td>8.100000</td>\n",
       "      <td>8.00000</td>\n",
       "      <td>8.000000</td>\n",
       "      <td>7.775000</td>\n",
       "      <td>8.700000</td>\n",
       "      <td>8.450000</td>\n",
       "      <td>139.704999</td>\n",
       "      <td>35.689835</td>\n",
       "      <td>0.0</td>\n",
       "    </tr>\n",
       "    <tr>\n",
       "      <th>50%</th>\n",
       "      <td>3750.000000</td>\n",
       "      <td>6.750000</td>\n",
       "      <td>8.950000</td>\n",
       "      <td>8.00000</td>\n",
       "      <td>9.300000</td>\n",
       "      <td>8.50000</td>\n",
       "      <td>8.950000</td>\n",
       "      <td>9.050000</td>\n",
       "      <td>9.300000</td>\n",
       "      <td>8.950000</td>\n",
       "      <td>139.748664</td>\n",
       "      <td>35.704967</td>\n",
       "      <td>0.0</td>\n",
       "    </tr>\n",
       "    <tr>\n",
       "      <th>75%</th>\n",
       "      <td>3975.000000</td>\n",
       "      <td>8.850000</td>\n",
       "      <td>9.100000</td>\n",
       "      <td>8.97500</td>\n",
       "      <td>9.700000</td>\n",
       "      <td>9.00000</td>\n",
       "      <td>9.375000</td>\n",
       "      <td>9.600000</td>\n",
       "      <td>9.875000</td>\n",
       "      <td>9.275000</td>\n",
       "      <td>139.777024</td>\n",
       "      <td>35.713089</td>\n",
       "      <td>0.0</td>\n",
       "    </tr>\n",
       "    <tr>\n",
       "      <th>max</th>\n",
       "      <td>4100.000000</td>\n",
       "      <td>16.100000</td>\n",
       "      <td>9.400000</td>\n",
       "      <td>10.00000</td>\n",
       "      <td>10.000000</td>\n",
       "      <td>9.30000</td>\n",
       "      <td>9.700000</td>\n",
       "      <td>10.000000</td>\n",
       "      <td>10.000000</td>\n",
       "      <td>10.000000</td>\n",
       "      <td>139.794981</td>\n",
       "      <td>35.731081</td>\n",
       "      <td>0.0</td>\n",
       "    </tr>\n",
       "  </tbody>\n",
       "</table>\n",
       "</div>"
      ],
      "text/plain": [
       "        StartPrice  DistanceFromCityCentre  OverallScore  Atmosphere  \\\n",
       "count    14.000000               14.000000     14.000000    14.00000   \n",
       "mean   3785.714286                6.664286      8.671429     8.15000   \n",
       "std     203.269972                3.828156      0.722633     1.11338   \n",
       "min    3500.000000                1.400000      6.800000     6.00000   \n",
       "25%    3600.000000                4.250000      8.475000     7.92500   \n",
       "50%    3750.000000                6.750000      8.950000     8.00000   \n",
       "75%    3975.000000                8.850000      9.100000     8.97500   \n",
       "max    4100.000000               16.100000      9.400000    10.00000   \n",
       "\n",
       "       Cleanliness  Facilities   Location   Security      Staff  \\\n",
       "count    14.000000    14.00000  14.000000  14.000000  14.000000   \n",
       "mean      8.921429     8.20000   8.757143   8.664286   9.185714   \n",
       "std       1.117813     1.03478   0.672211   1.305378   0.758396   \n",
       "min       6.700000     6.00000   8.000000   6.000000   7.300000   \n",
       "25%       8.100000     8.00000   8.000000   7.775000   8.700000   \n",
       "50%       9.300000     8.50000   8.950000   9.050000   9.300000   \n",
       "75%       9.700000     9.00000   9.375000   9.600000   9.875000   \n",
       "max      10.000000     9.30000   9.700000  10.000000  10.000000   \n",
       "\n",
       "       ValueForMoney   Longitude   Latitude  RatingCluster  \n",
       "count      14.000000   14.000000  14.000000           14.0  \n",
       "mean        8.785714  139.745607  35.692388            0.0  \n",
       "std         0.995264    0.037821   0.044775            0.0  \n",
       "min         6.700000  139.693004  35.550492            0.0  \n",
       "25%         8.450000  139.704999  35.689835            0.0  \n",
       "50%         8.950000  139.748664  35.704967            0.0  \n",
       "75%         9.275000  139.777024  35.713089            0.0  \n",
       "max        10.000000  139.794981  35.731081            0.0  "
      ]
     },
     "execution_count": 657,
     "metadata": {},
     "output_type": "execute_result"
    }
   ],
   "source": [
    "tokyo_hostels_df[tokyo_hostels_df.RatingCluster == 0].describe()"
   ]
  },
  {
   "cell_type": "markdown",
   "metadata": {},
   "source": [
    "**Traits: High Cost, Within 6km of City center, Slightly low facilities rating**"
   ]
  },
  {
   "cell_type": "markdown",
   "metadata": {},
   "source": [
    "##### Cluster 1"
   ]
  },
  {
   "cell_type": "code",
   "execution_count": 658,
   "metadata": {},
   "outputs": [
    {
     "data": {
      "text/html": [
       "<div>\n",
       "<style scoped>\n",
       "    .dataframe tbody tr th:only-of-type {\n",
       "        vertical-align: middle;\n",
       "    }\n",
       "\n",
       "    .dataframe tbody tr th {\n",
       "        vertical-align: top;\n",
       "    }\n",
       "\n",
       "    .dataframe thead th {\n",
       "        text-align: right;\n",
       "    }\n",
       "</style>\n",
       "<table border=\"1\" class=\"dataframe\">\n",
       "  <thead>\n",
       "    <tr style=\"text-align: right;\">\n",
       "      <th></th>\n",
       "      <th>StartPrice</th>\n",
       "      <th>DistanceFromCityCentre</th>\n",
       "      <th>OverallScore</th>\n",
       "      <th>Atmosphere</th>\n",
       "      <th>Cleanliness</th>\n",
       "      <th>Facilities</th>\n",
       "      <th>Location</th>\n",
       "      <th>Security</th>\n",
       "      <th>Staff</th>\n",
       "      <th>ValueForMoney</th>\n",
       "      <th>Longitude</th>\n",
       "      <th>Latitude</th>\n",
       "      <th>RatingCluster</th>\n",
       "    </tr>\n",
       "  </thead>\n",
       "  <tbody>\n",
       "    <tr>\n",
       "      <th>count</th>\n",
       "      <td>31.000000</td>\n",
       "      <td>31.000000</td>\n",
       "      <td>31.000000</td>\n",
       "      <td>31.000000</td>\n",
       "      <td>31.000000</td>\n",
       "      <td>31.000000</td>\n",
       "      <td>31.000000</td>\n",
       "      <td>31.000000</td>\n",
       "      <td>31.000000</td>\n",
       "      <td>31.000000</td>\n",
       "      <td>31.000000</td>\n",
       "      <td>31.000000</td>\n",
       "      <td>31.0</td>\n",
       "    </tr>\n",
       "    <tr>\n",
       "      <th>mean</th>\n",
       "      <td>2070.967742</td>\n",
       "      <td>8.670968</td>\n",
       "      <td>8.867742</td>\n",
       "      <td>8.235484</td>\n",
       "      <td>9.141935</td>\n",
       "      <td>8.767742</td>\n",
       "      <td>8.538710</td>\n",
       "      <td>9.151613</td>\n",
       "      <td>9.254839</td>\n",
       "      <td>8.961290</td>\n",
       "      <td>139.772538</td>\n",
       "      <td>35.702886</td>\n",
       "      <td>1.0</td>\n",
       "    </tr>\n",
       "    <tr>\n",
       "      <th>std</th>\n",
       "      <td>103.902353</td>\n",
       "      <td>2.939183</td>\n",
       "      <td>0.637384</td>\n",
       "      <td>1.205141</td>\n",
       "      <td>0.841734</td>\n",
       "      <td>0.884830</td>\n",
       "      <td>1.164954</td>\n",
       "      <td>0.622292</td>\n",
       "      <td>0.551264</td>\n",
       "      <td>0.735607</td>\n",
       "      <td>0.034510</td>\n",
       "      <td>0.039464</td>\n",
       "      <td>0.0</td>\n",
       "    </tr>\n",
       "    <tr>\n",
       "      <th>min</th>\n",
       "      <td>1900.000000</td>\n",
       "      <td>1.600000</td>\n",
       "      <td>7.000000</td>\n",
       "      <td>4.000000</td>\n",
       "      <td>6.000000</td>\n",
       "      <td>6.000000</td>\n",
       "      <td>4.000000</td>\n",
       "      <td>7.700000</td>\n",
       "      <td>8.000000</td>\n",
       "      <td>6.500000</td>\n",
       "      <td>139.667695</td>\n",
       "      <td>35.526993</td>\n",
       "      <td>1.0</td>\n",
       "    </tr>\n",
       "    <tr>\n",
       "      <th>25%</th>\n",
       "      <td>2000.000000</td>\n",
       "      <td>8.050000</td>\n",
       "      <td>8.700000</td>\n",
       "      <td>8.000000</td>\n",
       "      <td>8.950000</td>\n",
       "      <td>8.550000</td>\n",
       "      <td>8.500000</td>\n",
       "      <td>8.950000</td>\n",
       "      <td>9.100000</td>\n",
       "      <td>8.800000</td>\n",
       "      <td>139.776794</td>\n",
       "      <td>35.692738</td>\n",
       "      <td>1.0</td>\n",
       "    </tr>\n",
       "    <tr>\n",
       "      <th>50%</th>\n",
       "      <td>2000.000000</td>\n",
       "      <td>8.700000</td>\n",
       "      <td>9.000000</td>\n",
       "      <td>8.400000</td>\n",
       "      <td>9.300000</td>\n",
       "      <td>9.000000</td>\n",
       "      <td>8.900000</td>\n",
       "      <td>9.200000</td>\n",
       "      <td>9.400000</td>\n",
       "      <td>9.100000</td>\n",
       "      <td>139.782843</td>\n",
       "      <td>35.698945</td>\n",
       "      <td>1.0</td>\n",
       "    </tr>\n",
       "    <tr>\n",
       "      <th>75%</th>\n",
       "      <td>2200.000000</td>\n",
       "      <td>9.600000</td>\n",
       "      <td>9.200000</td>\n",
       "      <td>8.800000</td>\n",
       "      <td>9.600000</td>\n",
       "      <td>9.100000</td>\n",
       "      <td>9.100000</td>\n",
       "      <td>9.500000</td>\n",
       "      <td>9.600000</td>\n",
       "      <td>9.250000</td>\n",
       "      <td>139.791735</td>\n",
       "      <td>35.721996</td>\n",
       "      <td>1.0</td>\n",
       "    </tr>\n",
       "    <tr>\n",
       "      <th>max</th>\n",
       "      <td>2200.000000</td>\n",
       "      <td>18.100000</td>\n",
       "      <td>10.000000</td>\n",
       "      <td>10.000000</td>\n",
       "      <td>10.000000</td>\n",
       "      <td>10.000000</td>\n",
       "      <td>10.000000</td>\n",
       "      <td>10.000000</td>\n",
       "      <td>10.000000</td>\n",
       "      <td>10.000000</td>\n",
       "      <td>139.800993</td>\n",
       "      <td>35.778200</td>\n",
       "      <td>1.0</td>\n",
       "    </tr>\n",
       "  </tbody>\n",
       "</table>\n",
       "</div>"
      ],
      "text/plain": [
       "        StartPrice  DistanceFromCityCentre  OverallScore  Atmosphere  \\\n",
       "count    31.000000               31.000000     31.000000   31.000000   \n",
       "mean   2070.967742                8.670968      8.867742    8.235484   \n",
       "std     103.902353                2.939183      0.637384    1.205141   \n",
       "min    1900.000000                1.600000      7.000000    4.000000   \n",
       "25%    2000.000000                8.050000      8.700000    8.000000   \n",
       "50%    2000.000000                8.700000      9.000000    8.400000   \n",
       "75%    2200.000000                9.600000      9.200000    8.800000   \n",
       "max    2200.000000               18.100000     10.000000   10.000000   \n",
       "\n",
       "       Cleanliness  Facilities   Location   Security      Staff  \\\n",
       "count    31.000000   31.000000  31.000000  31.000000  31.000000   \n",
       "mean      9.141935    8.767742   8.538710   9.151613   9.254839   \n",
       "std       0.841734    0.884830   1.164954   0.622292   0.551264   \n",
       "min       6.000000    6.000000   4.000000   7.700000   8.000000   \n",
       "25%       8.950000    8.550000   8.500000   8.950000   9.100000   \n",
       "50%       9.300000    9.000000   8.900000   9.200000   9.400000   \n",
       "75%       9.600000    9.100000   9.100000   9.500000   9.600000   \n",
       "max      10.000000   10.000000  10.000000  10.000000  10.000000   \n",
       "\n",
       "       ValueForMoney   Longitude   Latitude  RatingCluster  \n",
       "count      31.000000   31.000000  31.000000           31.0  \n",
       "mean        8.961290  139.772538  35.702886            1.0  \n",
       "std         0.735607    0.034510   0.039464            0.0  \n",
       "min         6.500000  139.667695  35.526993            1.0  \n",
       "25%         8.800000  139.776794  35.692738            1.0  \n",
       "50%         9.100000  139.782843  35.698945            1.0  \n",
       "75%         9.250000  139.791735  35.721996            1.0  \n",
       "max        10.000000  139.800993  35.778200            1.0  "
      ]
     },
     "execution_count": 658,
     "metadata": {},
     "output_type": "execute_result"
    }
   ],
   "source": [
    "tokyo_hostels_df[tokyo_hostels_df.RatingCluster == 1].describe()"
   ]
  },
  {
   "cell_type": "markdown",
   "metadata": {},
   "source": [
    "**Traits: Low Cost, Within 9km of City center, High staff and cleanliness ratings. Low atmospehere rating**"
   ]
  },
  {
   "cell_type": "markdown",
   "metadata": {},
   "source": [
    "We can do the same for the other 5 clusters as well, but we are not doing that now."
   ]
  },
  {
   "cell_type": "markdown",
   "metadata": {},
   "source": [
    "NEIGHBORHOOD CLUSTER"
   ]
  },
  {
   "cell_type": "markdown",
   "metadata": {},
   "source": [
    "EXAMINE ABOVE CLUSTER"
   ]
  },
  {
   "cell_type": "markdown",
   "metadata": {},
   "source": [
    "PREDICT START PRICE BASED ON CLUSTER AND NEIGHBORHOOD"
   ]
  },
  {
   "cell_type": "markdown",
   "metadata": {},
   "source": [
    "## 6. Conclusion"
   ]
  },
  {
   "cell_type": "code",
   "execution_count": null,
   "metadata": {},
   "outputs": [],
   "source": []
  },
  {
   "cell_type": "code",
   "execution_count": null,
   "metadata": {},
   "outputs": [],
   "source": []
  }
 ],
 "metadata": {
  "kernelspec": {
   "display_name": "Python 3",
   "language": "python",
   "name": "python3"
  },
  "language_info": {
   "codemirror_mode": {
    "name": "ipython",
    "version": 3
   },
   "file_extension": ".py",
   "mimetype": "text/x-python",
   "name": "python",
   "nbconvert_exporter": "python",
   "pygments_lexer": "ipython3",
   "version": "3.7.4"
  }
 },
 "nbformat": 4,
 "nbformat_minor": 4
}
